{
 "cells": [
  {
   "cell_type": "markdown",
   "id": "fb6a6862-9ab9-47c7-b5da-0bc772897129",
   "metadata": {
    "id": "fb6a6862-9ab9-47c7-b5da-0bc772897129"
   },
   "source": [
    "# Training a ML model using CICIoT2023\n",
    "\n",
    "This notebook shows how a LogisticRegression model can be trained using the CICIoT2023 csv files."
   ]
  },
  {
   "cell_type": "code",
   "execution_count": 1,
   "id": "40f7c50d-b0ae-4f19-9398-1435ba7a851d",
   "metadata": {
    "id": "40f7c50d-b0ae-4f19-9398-1435ba7a851d"
   },
   "outputs": [],
   "source": [
    "#Regular EDA and plotting libraries\n",
    "import os\n",
    "import numpy as np\n",
    "import pandas as pd\n",
    "import matplotlib.pyplot as plt\n",
    "import seaborn as sns\n",
    "import warnings\n",
    "warnings.filterwarnings('ignore')\n",
    "# We want our plots to appear in the notebook\n",
    "%matplotlib inline\n",
    "\n",
    "## Models\n",
    "from tqdm import tqdm, trange\n",
    "from sklearn.linear_model import LogisticRegression, Perceptron\n",
    "from sklearn.ensemble import AdaBoostClassifier, RandomForestClassifier\n",
    "from sklearn.neighbors import KNeighborsClassifier\n",
    "from sklearn.tree import DecisionTreeClassifier\n",
    "\n",
    "## Model evaluators\n",
    "from sklearn.model_selection import train_test_split, cross_val_score\n",
    "from sklearn.model_selection import RandomizedSearchCV, GridSearchCV\n",
    "from sklearn.metrics import confusion_matrix, classification_report\n",
    "from sklearn.metrics import accuracy_score, recall_score, precision_score, f1_score\n",
    "\n",
    "from sklearn.metrics import RocCurveDisplay\n",
    "\n",
    "import joblib\n"
   ]
  },
  {
   "cell_type": "code",
   "execution_count": 2,
   "id": "5c40b5d2-727b-4f37-a480-9d46304eb541",
   "metadata": {
    "id": "5c40b5d2-727b-4f37-a480-9d46304eb541"
   },
   "outputs": [],
   "source": [
    "DATASET_DIRECTORY = 'CICIoT2023/'"
   ]
  },
  {
   "cell_type": "markdown",
   "id": "3ec1f2b2-92b3-4622-895b-6ac5126f30b4",
   "metadata": {
    "id": "3ec1f2b2-92b3-4622-895b-6ac5126f30b4"
   },
   "source": [
    "### Importing Dataset"
   ]
  },
  {
   "cell_type": "code",
   "execution_count": 3,
   "id": "6854f877-5524-46ba-b7ca-5d6040015f44",
   "metadata": {
    "id": "6854f877-5524-46ba-b7ca-5d6040015f44"
   },
   "outputs": [],
   "source": [
    "df_sets = [k for k in os.listdir(DATASET_DIRECTORY) if k.endswith('.csv')]\n",
    "df_sets.sort()\n",
    "training_sets = df_sets[:int(len(df_sets)*.8)]\n",
    "test_sets = df_sets[int(len(df_sets)*.8):]"
   ]
  },
  {
   "cell_type": "code",
   "execution_count": 4,
   "id": "0433838d-ca57-4dd8-b41c-ad2ee3df61c4",
   "metadata": {
    "id": "0433838d-ca57-4dd8-b41c-ad2ee3df61c4"
   },
   "outputs": [],
   "source": [
    "X_columns = [\n",
    "    'flow_duration', 'Header_Length', 'Protocol Type', 'Duration',\n",
    "       'Rate', 'Srate', 'Drate', 'fin_flag_number', 'syn_flag_number',\n",
    "       'rst_flag_number', 'psh_flag_number', 'ack_flag_number',\n",
    "       'ece_flag_number', 'cwr_flag_number', 'ack_count',\n",
    "       'syn_count', 'fin_count', 'urg_count', 'rst_count',\n",
    "    'HTTP', 'HTTPS', 'DNS', 'Telnet', 'SMTP', 'SSH', 'IRC', 'TCP',\n",
    "       'UDP', 'DHCP', 'ARP', 'ICMP', 'IPv', 'LLC', 'Tot sum', 'Min',\n",
    "       'Max', 'AVG', 'Std', 'Tot size', 'IAT', 'Number', 'Magnitue',\n",
    "       'Radius', 'Covariance', 'Variance', 'Weight',\n",
    "]\n",
    "y_column = 'label'"
   ]
  },
  {
   "cell_type": "markdown",
   "id": "249673a6-4826-4b80-b9aa-dfa4c3d549c4",
   "metadata": {
    "id": "249673a6-4826-4b80-b9aa-dfa4c3d549c4"
   },
   "source": [
    "### Scaling"
   ]
  },
  {
   "cell_type": "code",
   "execution_count": 5,
   "id": "cba40f31",
   "metadata": {
    "id": "cba40f31"
   },
   "outputs": [],
   "source": [
    "from sklearn.preprocessing import MinMaxScaler, StandardScaler\n",
    "scaler = StandardScaler()"
   ]
  },
  {
   "cell_type": "code",
   "execution_count": 6,
   "id": "3682559f-9eb3-4d35-b1b2-d7d501ab85bc",
   "metadata": {
    "colab": {
     "base_uri": "https://localhost:8080/"
    },
    "id": "3682559f-9eb3-4d35-b1b2-d7d501ab85bc",
    "outputId": "4ea5b7d9-1f1c-4182-bec9-e7cdd146ab5c"
   },
   "outputs": [
    {
     "name": "stderr",
     "output_type": "stream",
     "text": [
      "100%|███████████████████████████████████████████████████████████████████████████████████████████████████████████████████████████████████████| 135/135 [03:45<00:00,  1.67s/it]\n"
     ]
    }
   ],
   "source": [
    "for train_set in tqdm(training_sets):\n",
    "    scaler.fit(pd.read_csv(DATASET_DIRECTORY + train_set)[X_columns])"
   ]
  },
  {
   "cell_type": "markdown",
   "id": "60abc3f0-e32d-40be-abc5-fd5972cf9856",
   "metadata": {
    "id": "60abc3f0-e32d-40be-abc5-fd5972cf9856"
   },
   "source": [
    "### Classification: 34 (33+1) classes"
   ]
  },
  {
   "cell_type": "code",
   "execution_count": 7,
   "id": "d208cf46-8ba9-480f-ab99-d4ee81c083b4",
   "metadata": {
    "colab": {
     "base_uri": "https://localhost:8080/",
     "height": 420
    },
    "id": "d208cf46-8ba9-480f-ab99-d4ee81c083b4",
    "outputId": "04ff467a-9804-46e1-88c9-fd87b648cdc9",
    "tags": []
   },
   "outputs": [
    {
     "name": "stderr",
     "output_type": "stream",
     "text": [
      "Training on datasets:   0%|                                                                                                                           | 0/135 [00:00<?, ?it/s]/home/sc/0.DCU/00.Project/ML_based_IDS_for_IoT/project/env/lib/python3.10/site-packages/sklearn/linear_model/_logistic.py:460: ConvergenceWarning: lbfgs failed to converge (status=1):\n",
      "STOP: TOTAL NO. of ITERATIONS REACHED LIMIT.\n",
      "\n",
      "Increase the number of iterations (max_iter) or scale the data as shown in:\n",
      "    https://scikit-learn.org/stable/modules/preprocessing.html\n",
      "Please also refer to the documentation for alternative solver options:\n",
      "    https://scikit-learn.org/stable/modules/linear_model.html#logistic-regression\n",
      "  n_iter_i = _check_optimize_result(\n"
     ]
    },
    {
     "name": "stdout",
     "output_type": "stream",
     "text": [
      "LogisticRegression has been trained on part-00000-363d1ba3-8ab5-4f96-bc25-4d5862db7cb9-c000.csv\n",
      "Perceptron has been trained on part-00000-363d1ba3-8ab5-4f96-bc25-4d5862db7cb9-c000.csv\n",
      "AdaBoost has been trained on part-00000-363d1ba3-8ab5-4f96-bc25-4d5862db7cb9-c000.csv\n",
      "RandomForest has been trained on part-00000-363d1ba3-8ab5-4f96-bc25-4d5862db7cb9-c000.csv\n",
      "KNN has been trained on part-00000-363d1ba3-8ab5-4f96-bc25-4d5862db7cb9-c000.csv\n"
     ]
    },
    {
     "name": "stderr",
     "output_type": "stream",
     "text": [
      "\r",
      "Training on datasets:   1%|▊                                                                                                               | 1/135 [02:10<4:50:28, 130.06s/it]"
     ]
    },
    {
     "name": "stdout",
     "output_type": "stream",
     "text": [
      "DecisionTree has been trained on part-00000-363d1ba3-8ab5-4f96-bc25-4d5862db7cb9-c000.csv\n"
     ]
    },
    {
     "name": "stderr",
     "output_type": "stream",
     "text": [
      "/home/sc/0.DCU/00.Project/ML_based_IDS_for_IoT/project/env/lib/python3.10/site-packages/sklearn/linear_model/_logistic.py:460: ConvergenceWarning: lbfgs failed to converge (status=1):\n",
      "STOP: TOTAL NO. of ITERATIONS REACHED LIMIT.\n",
      "\n",
      "Increase the number of iterations (max_iter) or scale the data as shown in:\n",
      "    https://scikit-learn.org/stable/modules/preprocessing.html\n",
      "Please also refer to the documentation for alternative solver options:\n",
      "    https://scikit-learn.org/stable/modules/linear_model.html#logistic-regression\n",
      "  n_iter_i = _check_optimize_result(\n"
     ]
    },
    {
     "name": "stdout",
     "output_type": "stream",
     "text": [
      "LogisticRegression has been trained on part-00001-363d1ba3-8ab5-4f96-bc25-4d5862db7cb9-c000.csv\n",
      "Perceptron has been trained on part-00001-363d1ba3-8ab5-4f96-bc25-4d5862db7cb9-c000.csv\n",
      "AdaBoost has been trained on part-00001-363d1ba3-8ab5-4f96-bc25-4d5862db7cb9-c000.csv\n",
      "RandomForest has been trained on part-00001-363d1ba3-8ab5-4f96-bc25-4d5862db7cb9-c000.csv\n",
      "KNN has been trained on part-00001-363d1ba3-8ab5-4f96-bc25-4d5862db7cb9-c000.csv\n"
     ]
    },
    {
     "name": "stderr",
     "output_type": "stream",
     "text": [
      "\r",
      "Training on datasets:   1%|█▋                                                                                                              | 2/135 [04:07<4:32:29, 122.93s/it]"
     ]
    },
    {
     "name": "stdout",
     "output_type": "stream",
     "text": [
      "DecisionTree has been trained on part-00001-363d1ba3-8ab5-4f96-bc25-4d5862db7cb9-c000.csv\n"
     ]
    },
    {
     "name": "stderr",
     "output_type": "stream",
     "text": [
      "/home/sc/0.DCU/00.Project/ML_based_IDS_for_IoT/project/env/lib/python3.10/site-packages/sklearn/linear_model/_logistic.py:460: ConvergenceWarning: lbfgs failed to converge (status=1):\n",
      "STOP: TOTAL NO. of ITERATIONS REACHED LIMIT.\n",
      "\n",
      "Increase the number of iterations (max_iter) or scale the data as shown in:\n",
      "    https://scikit-learn.org/stable/modules/preprocessing.html\n",
      "Please also refer to the documentation for alternative solver options:\n",
      "    https://scikit-learn.org/stable/modules/linear_model.html#logistic-regression\n",
      "  n_iter_i = _check_optimize_result(\n"
     ]
    },
    {
     "name": "stdout",
     "output_type": "stream",
     "text": [
      "LogisticRegression has been trained on part-00002-363d1ba3-8ab5-4f96-bc25-4d5862db7cb9-c000.csv\n",
      "Perceptron has been trained on part-00002-363d1ba3-8ab5-4f96-bc25-4d5862db7cb9-c000.csv\n",
      "AdaBoost has been trained on part-00002-363d1ba3-8ab5-4f96-bc25-4d5862db7cb9-c000.csv\n",
      "RandomForest has been trained on part-00002-363d1ba3-8ab5-4f96-bc25-4d5862db7cb9-c000.csv\n",
      "KNN has been trained on part-00002-363d1ba3-8ab5-4f96-bc25-4d5862db7cb9-c000.csv\n"
     ]
    },
    {
     "name": "stderr",
     "output_type": "stream",
     "text": [
      "\r",
      "Training on datasets:   2%|██▍                                                                                                             | 3/135 [06:33<4:53:32, 133.43s/it]"
     ]
    },
    {
     "name": "stdout",
     "output_type": "stream",
     "text": [
      "DecisionTree has been trained on part-00002-363d1ba3-8ab5-4f96-bc25-4d5862db7cb9-c000.csv\n"
     ]
    },
    {
     "name": "stderr",
     "output_type": "stream",
     "text": [
      "/home/sc/0.DCU/00.Project/ML_based_IDS_for_IoT/project/env/lib/python3.10/site-packages/sklearn/linear_model/_logistic.py:460: ConvergenceWarning: lbfgs failed to converge (status=1):\n",
      "STOP: TOTAL NO. of ITERATIONS REACHED LIMIT.\n",
      "\n",
      "Increase the number of iterations (max_iter) or scale the data as shown in:\n",
      "    https://scikit-learn.org/stable/modules/preprocessing.html\n",
      "Please also refer to the documentation for alternative solver options:\n",
      "    https://scikit-learn.org/stable/modules/linear_model.html#logistic-regression\n",
      "  n_iter_i = _check_optimize_result(\n"
     ]
    },
    {
     "name": "stdout",
     "output_type": "stream",
     "text": [
      "LogisticRegression has been trained on part-00003-363d1ba3-8ab5-4f96-bc25-4d5862db7cb9-c000.csv\n",
      "Perceptron has been trained on part-00003-363d1ba3-8ab5-4f96-bc25-4d5862db7cb9-c000.csv\n",
      "AdaBoost has been trained on part-00003-363d1ba3-8ab5-4f96-bc25-4d5862db7cb9-c000.csv\n",
      "RandomForest has been trained on part-00003-363d1ba3-8ab5-4f96-bc25-4d5862db7cb9-c000.csv\n",
      "KNN has been trained on part-00003-363d1ba3-8ab5-4f96-bc25-4d5862db7cb9-c000.csv\n"
     ]
    },
    {
     "name": "stderr",
     "output_type": "stream",
     "text": [
      "\r",
      "Training on datasets:   3%|███▎                                                                                                            | 4/135 [08:35<4:41:13, 128.81s/it]"
     ]
    },
    {
     "name": "stdout",
     "output_type": "stream",
     "text": [
      "DecisionTree has been trained on part-00003-363d1ba3-8ab5-4f96-bc25-4d5862db7cb9-c000.csv\n"
     ]
    },
    {
     "name": "stderr",
     "output_type": "stream",
     "text": [
      "/home/sc/0.DCU/00.Project/ML_based_IDS_for_IoT/project/env/lib/python3.10/site-packages/sklearn/linear_model/_logistic.py:460: ConvergenceWarning: lbfgs failed to converge (status=1):\n",
      "STOP: TOTAL NO. of ITERATIONS REACHED LIMIT.\n",
      "\n",
      "Increase the number of iterations (max_iter) or scale the data as shown in:\n",
      "    https://scikit-learn.org/stable/modules/preprocessing.html\n",
      "Please also refer to the documentation for alternative solver options:\n",
      "    https://scikit-learn.org/stable/modules/linear_model.html#logistic-regression\n",
      "  n_iter_i = _check_optimize_result(\n"
     ]
    },
    {
     "name": "stdout",
     "output_type": "stream",
     "text": [
      "LogisticRegression has been trained on part-00004-363d1ba3-8ab5-4f96-bc25-4d5862db7cb9-c000.csv\n",
      "Perceptron has been trained on part-00004-363d1ba3-8ab5-4f96-bc25-4d5862db7cb9-c000.csv\n",
      "AdaBoost has been trained on part-00004-363d1ba3-8ab5-4f96-bc25-4d5862db7cb9-c000.csv\n",
      "RandomForest has been trained on part-00004-363d1ba3-8ab5-4f96-bc25-4d5862db7cb9-c000.csv\n",
      "KNN has been trained on part-00004-363d1ba3-8ab5-4f96-bc25-4d5862db7cb9-c000.csv\n"
     ]
    },
    {
     "name": "stderr",
     "output_type": "stream",
     "text": [
      "\r",
      "Training on datasets:   4%|████▏                                                                                                           | 5/135 [10:42<4:37:31, 128.09s/it]"
     ]
    },
    {
     "name": "stdout",
     "output_type": "stream",
     "text": [
      "DecisionTree has been trained on part-00004-363d1ba3-8ab5-4f96-bc25-4d5862db7cb9-c000.csv\n"
     ]
    },
    {
     "name": "stderr",
     "output_type": "stream",
     "text": [
      "/home/sc/0.DCU/00.Project/ML_based_IDS_for_IoT/project/env/lib/python3.10/site-packages/sklearn/linear_model/_logistic.py:460: ConvergenceWarning: lbfgs failed to converge (status=1):\n",
      "STOP: TOTAL NO. of ITERATIONS REACHED LIMIT.\n",
      "\n",
      "Increase the number of iterations (max_iter) or scale the data as shown in:\n",
      "    https://scikit-learn.org/stable/modules/preprocessing.html\n",
      "Please also refer to the documentation for alternative solver options:\n",
      "    https://scikit-learn.org/stable/modules/linear_model.html#logistic-regression\n",
      "  n_iter_i = _check_optimize_result(\n"
     ]
    },
    {
     "name": "stdout",
     "output_type": "stream",
     "text": [
      "LogisticRegression has been trained on part-00005-363d1ba3-8ab5-4f96-bc25-4d5862db7cb9-c000.csv\n",
      "Perceptron has been trained on part-00005-363d1ba3-8ab5-4f96-bc25-4d5862db7cb9-c000.csv\n",
      "AdaBoost has been trained on part-00005-363d1ba3-8ab5-4f96-bc25-4d5862db7cb9-c000.csv\n",
      "RandomForest has been trained on part-00005-363d1ba3-8ab5-4f96-bc25-4d5862db7cb9-c000.csv\n",
      "KNN has been trained on part-00005-363d1ba3-8ab5-4f96-bc25-4d5862db7cb9-c000.csv\n"
     ]
    },
    {
     "name": "stderr",
     "output_type": "stream",
     "text": [
      "\r",
      "Training on datasets:   4%|████▉                                                                                                           | 6/135 [13:00<4:42:32, 131.41s/it]"
     ]
    },
    {
     "name": "stdout",
     "output_type": "stream",
     "text": [
      "DecisionTree has been trained on part-00005-363d1ba3-8ab5-4f96-bc25-4d5862db7cb9-c000.csv\n"
     ]
    },
    {
     "name": "stderr",
     "output_type": "stream",
     "text": [
      "/home/sc/0.DCU/00.Project/ML_based_IDS_for_IoT/project/env/lib/python3.10/site-packages/sklearn/linear_model/_logistic.py:460: ConvergenceWarning: lbfgs failed to converge (status=1):\n",
      "STOP: TOTAL NO. of ITERATIONS REACHED LIMIT.\n",
      "\n",
      "Increase the number of iterations (max_iter) or scale the data as shown in:\n",
      "    https://scikit-learn.org/stable/modules/preprocessing.html\n",
      "Please also refer to the documentation for alternative solver options:\n",
      "    https://scikit-learn.org/stable/modules/linear_model.html#logistic-regression\n",
      "  n_iter_i = _check_optimize_result(\n"
     ]
    },
    {
     "name": "stdout",
     "output_type": "stream",
     "text": [
      "LogisticRegression has been trained on part-00006-363d1ba3-8ab5-4f96-bc25-4d5862db7cb9-c000.csv\n",
      "Perceptron has been trained on part-00006-363d1ba3-8ab5-4f96-bc25-4d5862db7cb9-c000.csv\n",
      "AdaBoost has been trained on part-00006-363d1ba3-8ab5-4f96-bc25-4d5862db7cb9-c000.csv\n",
      "RandomForest has been trained on part-00006-363d1ba3-8ab5-4f96-bc25-4d5862db7cb9-c000.csv\n",
      "KNN has been trained on part-00006-363d1ba3-8ab5-4f96-bc25-4d5862db7cb9-c000.csv\n"
     ]
    },
    {
     "name": "stderr",
     "output_type": "stream",
     "text": [
      "\r",
      "Training on datasets:   5%|█████▊                                                                                                          | 7/135 [15:17<4:44:28, 133.35s/it]"
     ]
    },
    {
     "name": "stdout",
     "output_type": "stream",
     "text": [
      "DecisionTree has been trained on part-00006-363d1ba3-8ab5-4f96-bc25-4d5862db7cb9-c000.csv\n"
     ]
    },
    {
     "name": "stderr",
     "output_type": "stream",
     "text": [
      "/home/sc/0.DCU/00.Project/ML_based_IDS_for_IoT/project/env/lib/python3.10/site-packages/sklearn/linear_model/_logistic.py:460: ConvergenceWarning: lbfgs failed to converge (status=1):\n",
      "STOP: TOTAL NO. of ITERATIONS REACHED LIMIT.\n",
      "\n",
      "Increase the number of iterations (max_iter) or scale the data as shown in:\n",
      "    https://scikit-learn.org/stable/modules/preprocessing.html\n",
      "Please also refer to the documentation for alternative solver options:\n",
      "    https://scikit-learn.org/stable/modules/linear_model.html#logistic-regression\n",
      "  n_iter_i = _check_optimize_result(\n"
     ]
    },
    {
     "name": "stdout",
     "output_type": "stream",
     "text": [
      "LogisticRegression has been trained on part-00007-363d1ba3-8ab5-4f96-bc25-4d5862db7cb9-c000.csv\n",
      "Perceptron has been trained on part-00007-363d1ba3-8ab5-4f96-bc25-4d5862db7cb9-c000.csv\n",
      "AdaBoost has been trained on part-00007-363d1ba3-8ab5-4f96-bc25-4d5862db7cb9-c000.csv\n",
      "RandomForest has been trained on part-00007-363d1ba3-8ab5-4f96-bc25-4d5862db7cb9-c000.csv\n",
      "KNN has been trained on part-00007-363d1ba3-8ab5-4f96-bc25-4d5862db7cb9-c000.csv\n"
     ]
    },
    {
     "name": "stderr",
     "output_type": "stream",
     "text": [
      "\r",
      "Training on datasets:   6%|██████▋                                                                                                         | 8/135 [17:28<4:40:34, 132.56s/it]"
     ]
    },
    {
     "name": "stdout",
     "output_type": "stream",
     "text": [
      "DecisionTree has been trained on part-00007-363d1ba3-8ab5-4f96-bc25-4d5862db7cb9-c000.csv\n"
     ]
    },
    {
     "name": "stderr",
     "output_type": "stream",
     "text": [
      "/home/sc/0.DCU/00.Project/ML_based_IDS_for_IoT/project/env/lib/python3.10/site-packages/sklearn/linear_model/_logistic.py:460: ConvergenceWarning: lbfgs failed to converge (status=1):\n",
      "STOP: TOTAL NO. of ITERATIONS REACHED LIMIT.\n",
      "\n",
      "Increase the number of iterations (max_iter) or scale the data as shown in:\n",
      "    https://scikit-learn.org/stable/modules/preprocessing.html\n",
      "Please also refer to the documentation for alternative solver options:\n",
      "    https://scikit-learn.org/stable/modules/linear_model.html#logistic-regression\n",
      "  n_iter_i = _check_optimize_result(\n"
     ]
    },
    {
     "name": "stdout",
     "output_type": "stream",
     "text": [
      "LogisticRegression has been trained on part-00008-363d1ba3-8ab5-4f96-bc25-4d5862db7cb9-c000.csv\n",
      "Perceptron has been trained on part-00008-363d1ba3-8ab5-4f96-bc25-4d5862db7cb9-c000.csv\n",
      "AdaBoost has been trained on part-00008-363d1ba3-8ab5-4f96-bc25-4d5862db7cb9-c000.csv\n",
      "RandomForest has been trained on part-00008-363d1ba3-8ab5-4f96-bc25-4d5862db7cb9-c000.csv\n",
      "KNN has been trained on part-00008-363d1ba3-8ab5-4f96-bc25-4d5862db7cb9-c000.csv\n"
     ]
    },
    {
     "name": "stderr",
     "output_type": "stream",
     "text": [
      "\r",
      "Training on datasets:   7%|███████▍                                                                                                        | 9/135 [19:49<4:44:02, 135.25s/it]"
     ]
    },
    {
     "name": "stdout",
     "output_type": "stream",
     "text": [
      "DecisionTree has been trained on part-00008-363d1ba3-8ab5-4f96-bc25-4d5862db7cb9-c000.csv\n"
     ]
    },
    {
     "name": "stderr",
     "output_type": "stream",
     "text": [
      "/home/sc/0.DCU/00.Project/ML_based_IDS_for_IoT/project/env/lib/python3.10/site-packages/sklearn/linear_model/_logistic.py:460: ConvergenceWarning: lbfgs failed to converge (status=1):\n",
      "STOP: TOTAL NO. of ITERATIONS REACHED LIMIT.\n",
      "\n",
      "Increase the number of iterations (max_iter) or scale the data as shown in:\n",
      "    https://scikit-learn.org/stable/modules/preprocessing.html\n",
      "Please also refer to the documentation for alternative solver options:\n",
      "    https://scikit-learn.org/stable/modules/linear_model.html#logistic-regression\n",
      "  n_iter_i = _check_optimize_result(\n"
     ]
    },
    {
     "name": "stdout",
     "output_type": "stream",
     "text": [
      "LogisticRegression has been trained on part-00009-363d1ba3-8ab5-4f96-bc25-4d5862db7cb9-c000.csv\n",
      "Perceptron has been trained on part-00009-363d1ba3-8ab5-4f96-bc25-4d5862db7cb9-c000.csv\n",
      "AdaBoost has been trained on part-00009-363d1ba3-8ab5-4f96-bc25-4d5862db7cb9-c000.csv\n",
      "RandomForest has been trained on part-00009-363d1ba3-8ab5-4f96-bc25-4d5862db7cb9-c000.csv\n",
      "KNN has been trained on part-00009-363d1ba3-8ab5-4f96-bc25-4d5862db7cb9-c000.csv\n"
     ]
    },
    {
     "name": "stderr",
     "output_type": "stream",
     "text": [
      "\r",
      "Training on datasets:   7%|████████▏                                                                                                      | 10/135 [22:02<4:40:20, 134.56s/it]"
     ]
    },
    {
     "name": "stdout",
     "output_type": "stream",
     "text": [
      "DecisionTree has been trained on part-00009-363d1ba3-8ab5-4f96-bc25-4d5862db7cb9-c000.csv\n"
     ]
    },
    {
     "name": "stderr",
     "output_type": "stream",
     "text": [
      "/home/sc/0.DCU/00.Project/ML_based_IDS_for_IoT/project/env/lib/python3.10/site-packages/sklearn/linear_model/_logistic.py:460: ConvergenceWarning: lbfgs failed to converge (status=1):\n",
      "STOP: TOTAL NO. of ITERATIONS REACHED LIMIT.\n",
      "\n",
      "Increase the number of iterations (max_iter) or scale the data as shown in:\n",
      "    https://scikit-learn.org/stable/modules/preprocessing.html\n",
      "Please also refer to the documentation for alternative solver options:\n",
      "    https://scikit-learn.org/stable/modules/linear_model.html#logistic-regression\n",
      "  n_iter_i = _check_optimize_result(\n"
     ]
    },
    {
     "name": "stdout",
     "output_type": "stream",
     "text": [
      "LogisticRegression has been trained on part-00010-363d1ba3-8ab5-4f96-bc25-4d5862db7cb9-c000.csv\n",
      "Perceptron has been trained on part-00010-363d1ba3-8ab5-4f96-bc25-4d5862db7cb9-c000.csv\n",
      "AdaBoost has been trained on part-00010-363d1ba3-8ab5-4f96-bc25-4d5862db7cb9-c000.csv\n",
      "RandomForest has been trained on part-00010-363d1ba3-8ab5-4f96-bc25-4d5862db7cb9-c000.csv\n",
      "KNN has been trained on part-00010-363d1ba3-8ab5-4f96-bc25-4d5862db7cb9-c000.csv\n"
     ]
    },
    {
     "name": "stderr",
     "output_type": "stream",
     "text": [
      "\r",
      "Training on datasets:   8%|█████████                                                                                                      | 11/135 [24:24<4:42:51, 136.87s/it]"
     ]
    },
    {
     "name": "stdout",
     "output_type": "stream",
     "text": [
      "DecisionTree has been trained on part-00010-363d1ba3-8ab5-4f96-bc25-4d5862db7cb9-c000.csv\n"
     ]
    },
    {
     "name": "stderr",
     "output_type": "stream",
     "text": [
      "/home/sc/0.DCU/00.Project/ML_based_IDS_for_IoT/project/env/lib/python3.10/site-packages/sklearn/linear_model/_logistic.py:460: ConvergenceWarning: lbfgs failed to converge (status=1):\n",
      "STOP: TOTAL NO. of ITERATIONS REACHED LIMIT.\n",
      "\n",
      "Increase the number of iterations (max_iter) or scale the data as shown in:\n",
      "    https://scikit-learn.org/stable/modules/preprocessing.html\n",
      "Please also refer to the documentation for alternative solver options:\n",
      "    https://scikit-learn.org/stable/modules/linear_model.html#logistic-regression\n",
      "  n_iter_i = _check_optimize_result(\n"
     ]
    },
    {
     "name": "stdout",
     "output_type": "stream",
     "text": [
      "LogisticRegression has been trained on part-00011-363d1ba3-8ab5-4f96-bc25-4d5862db7cb9-c000.csv\n",
      "Perceptron has been trained on part-00011-363d1ba3-8ab5-4f96-bc25-4d5862db7cb9-c000.csv\n",
      "AdaBoost has been trained on part-00011-363d1ba3-8ab5-4f96-bc25-4d5862db7cb9-c000.csv\n",
      "RandomForest has been trained on part-00011-363d1ba3-8ab5-4f96-bc25-4d5862db7cb9-c000.csv\n",
      "KNN has been trained on part-00011-363d1ba3-8ab5-4f96-bc25-4d5862db7cb9-c000.csv\n"
     ]
    },
    {
     "name": "stderr",
     "output_type": "stream",
     "text": [
      "\r",
      "Training on datasets:   9%|█████████▊                                                                                                     | 12/135 [26:29<4:32:40, 133.01s/it]"
     ]
    },
    {
     "name": "stdout",
     "output_type": "stream",
     "text": [
      "DecisionTree has been trained on part-00011-363d1ba3-8ab5-4f96-bc25-4d5862db7cb9-c000.csv\n"
     ]
    },
    {
     "name": "stderr",
     "output_type": "stream",
     "text": [
      "/home/sc/0.DCU/00.Project/ML_based_IDS_for_IoT/project/env/lib/python3.10/site-packages/sklearn/linear_model/_logistic.py:460: ConvergenceWarning: lbfgs failed to converge (status=1):\n",
      "STOP: TOTAL NO. of ITERATIONS REACHED LIMIT.\n",
      "\n",
      "Increase the number of iterations (max_iter) or scale the data as shown in:\n",
      "    https://scikit-learn.org/stable/modules/preprocessing.html\n",
      "Please also refer to the documentation for alternative solver options:\n",
      "    https://scikit-learn.org/stable/modules/linear_model.html#logistic-regression\n",
      "  n_iter_i = _check_optimize_result(\n"
     ]
    },
    {
     "name": "stdout",
     "output_type": "stream",
     "text": [
      "LogisticRegression has been trained on part-00012-363d1ba3-8ab5-4f96-bc25-4d5862db7cb9-c000.csv\n",
      "Perceptron has been trained on part-00012-363d1ba3-8ab5-4f96-bc25-4d5862db7cb9-c000.csv\n",
      "AdaBoost has been trained on part-00012-363d1ba3-8ab5-4f96-bc25-4d5862db7cb9-c000.csv\n",
      "RandomForest has been trained on part-00012-363d1ba3-8ab5-4f96-bc25-4d5862db7cb9-c000.csv\n",
      "KNN has been trained on part-00012-363d1ba3-8ab5-4f96-bc25-4d5862db7cb9-c000.csv\n"
     ]
    },
    {
     "name": "stderr",
     "output_type": "stream",
     "text": [
      "\r",
      "Training on datasets:  10%|██████████▋                                                                                                    | 13/135 [28:25<4:20:03, 127.90s/it]"
     ]
    },
    {
     "name": "stdout",
     "output_type": "stream",
     "text": [
      "DecisionTree has been trained on part-00012-363d1ba3-8ab5-4f96-bc25-4d5862db7cb9-c000.csv\n"
     ]
    },
    {
     "name": "stderr",
     "output_type": "stream",
     "text": [
      "/home/sc/0.DCU/00.Project/ML_based_IDS_for_IoT/project/env/lib/python3.10/site-packages/sklearn/linear_model/_logistic.py:460: ConvergenceWarning: lbfgs failed to converge (status=1):\n",
      "STOP: TOTAL NO. of ITERATIONS REACHED LIMIT.\n",
      "\n",
      "Increase the number of iterations (max_iter) or scale the data as shown in:\n",
      "    https://scikit-learn.org/stable/modules/preprocessing.html\n",
      "Please also refer to the documentation for alternative solver options:\n",
      "    https://scikit-learn.org/stable/modules/linear_model.html#logistic-regression\n",
      "  n_iter_i = _check_optimize_result(\n"
     ]
    },
    {
     "name": "stdout",
     "output_type": "stream",
     "text": [
      "LogisticRegression has been trained on part-00013-363d1ba3-8ab5-4f96-bc25-4d5862db7cb9-c000.csv\n",
      "Perceptron has been trained on part-00013-363d1ba3-8ab5-4f96-bc25-4d5862db7cb9-c000.csv\n",
      "AdaBoost has been trained on part-00013-363d1ba3-8ab5-4f96-bc25-4d5862db7cb9-c000.csv\n",
      "RandomForest has been trained on part-00013-363d1ba3-8ab5-4f96-bc25-4d5862db7cb9-c000.csv\n",
      "KNN has been trained on part-00013-363d1ba3-8ab5-4f96-bc25-4d5862db7cb9-c000.csv\n"
     ]
    },
    {
     "name": "stderr",
     "output_type": "stream",
     "text": [
      "\r",
      "Training on datasets:  10%|███████████▌                                                                                                   | 14/135 [30:25<4:13:11, 125.55s/it]"
     ]
    },
    {
     "name": "stdout",
     "output_type": "stream",
     "text": [
      "DecisionTree has been trained on part-00013-363d1ba3-8ab5-4f96-bc25-4d5862db7cb9-c000.csv\n"
     ]
    },
    {
     "name": "stderr",
     "output_type": "stream",
     "text": [
      "/home/sc/0.DCU/00.Project/ML_based_IDS_for_IoT/project/env/lib/python3.10/site-packages/sklearn/linear_model/_logistic.py:460: ConvergenceWarning: lbfgs failed to converge (status=1):\n",
      "STOP: TOTAL NO. of ITERATIONS REACHED LIMIT.\n",
      "\n",
      "Increase the number of iterations (max_iter) or scale the data as shown in:\n",
      "    https://scikit-learn.org/stable/modules/preprocessing.html\n",
      "Please also refer to the documentation for alternative solver options:\n",
      "    https://scikit-learn.org/stable/modules/linear_model.html#logistic-regression\n",
      "  n_iter_i = _check_optimize_result(\n"
     ]
    },
    {
     "name": "stdout",
     "output_type": "stream",
     "text": [
      "LogisticRegression has been trained on part-00014-363d1ba3-8ab5-4f96-bc25-4d5862db7cb9-c000.csv\n",
      "Perceptron has been trained on part-00014-363d1ba3-8ab5-4f96-bc25-4d5862db7cb9-c000.csv\n",
      "AdaBoost has been trained on part-00014-363d1ba3-8ab5-4f96-bc25-4d5862db7cb9-c000.csv\n",
      "RandomForest has been trained on part-00014-363d1ba3-8ab5-4f96-bc25-4d5862db7cb9-c000.csv\n",
      "KNN has been trained on part-00014-363d1ba3-8ab5-4f96-bc25-4d5862db7cb9-c000.csv\n"
     ]
    },
    {
     "name": "stderr",
     "output_type": "stream",
     "text": [
      "\r",
      "Training on datasets:  11%|████████████▎                                                                                                  | 15/135 [32:18<4:03:31, 121.77s/it]"
     ]
    },
    {
     "name": "stdout",
     "output_type": "stream",
     "text": [
      "DecisionTree has been trained on part-00014-363d1ba3-8ab5-4f96-bc25-4d5862db7cb9-c000.csv\n"
     ]
    },
    {
     "name": "stderr",
     "output_type": "stream",
     "text": [
      "/home/sc/0.DCU/00.Project/ML_based_IDS_for_IoT/project/env/lib/python3.10/site-packages/sklearn/linear_model/_logistic.py:460: ConvergenceWarning: lbfgs failed to converge (status=1):\n",
      "STOP: TOTAL NO. of ITERATIONS REACHED LIMIT.\n",
      "\n",
      "Increase the number of iterations (max_iter) or scale the data as shown in:\n",
      "    https://scikit-learn.org/stable/modules/preprocessing.html\n",
      "Please also refer to the documentation for alternative solver options:\n",
      "    https://scikit-learn.org/stable/modules/linear_model.html#logistic-regression\n",
      "  n_iter_i = _check_optimize_result(\n"
     ]
    },
    {
     "name": "stdout",
     "output_type": "stream",
     "text": [
      "LogisticRegression has been trained on part-00015-363d1ba3-8ab5-4f96-bc25-4d5862db7cb9-c000.csv\n",
      "Perceptron has been trained on part-00015-363d1ba3-8ab5-4f96-bc25-4d5862db7cb9-c000.csv\n",
      "AdaBoost has been trained on part-00015-363d1ba3-8ab5-4f96-bc25-4d5862db7cb9-c000.csv\n",
      "RandomForest has been trained on part-00015-363d1ba3-8ab5-4f96-bc25-4d5862db7cb9-c000.csv\n",
      "KNN has been trained on part-00015-363d1ba3-8ab5-4f96-bc25-4d5862db7cb9-c000.csv\n"
     ]
    },
    {
     "name": "stderr",
     "output_type": "stream",
     "text": [
      "\r",
      "Training on datasets:  12%|█████████████▏                                                                                                 | 16/135 [35:07<4:29:54, 136.08s/it]"
     ]
    },
    {
     "name": "stdout",
     "output_type": "stream",
     "text": [
      "DecisionTree has been trained on part-00015-363d1ba3-8ab5-4f96-bc25-4d5862db7cb9-c000.csv\n"
     ]
    },
    {
     "name": "stderr",
     "output_type": "stream",
     "text": [
      "/home/sc/0.DCU/00.Project/ML_based_IDS_for_IoT/project/env/lib/python3.10/site-packages/sklearn/linear_model/_logistic.py:460: ConvergenceWarning: lbfgs failed to converge (status=1):\n",
      "STOP: TOTAL NO. of ITERATIONS REACHED LIMIT.\n",
      "\n",
      "Increase the number of iterations (max_iter) or scale the data as shown in:\n",
      "    https://scikit-learn.org/stable/modules/preprocessing.html\n",
      "Please also refer to the documentation for alternative solver options:\n",
      "    https://scikit-learn.org/stable/modules/linear_model.html#logistic-regression\n",
      "  n_iter_i = _check_optimize_result(\n"
     ]
    },
    {
     "name": "stdout",
     "output_type": "stream",
     "text": [
      "LogisticRegression has been trained on part-00016-363d1ba3-8ab5-4f96-bc25-4d5862db7cb9-c000.csv\n",
      "Perceptron has been trained on part-00016-363d1ba3-8ab5-4f96-bc25-4d5862db7cb9-c000.csv\n",
      "AdaBoost has been trained on part-00016-363d1ba3-8ab5-4f96-bc25-4d5862db7cb9-c000.csv\n",
      "RandomForest has been trained on part-00016-363d1ba3-8ab5-4f96-bc25-4d5862db7cb9-c000.csv\n",
      "KNN has been trained on part-00016-363d1ba3-8ab5-4f96-bc25-4d5862db7cb9-c000.csv\n"
     ]
    },
    {
     "name": "stderr",
     "output_type": "stream",
     "text": [
      "\r",
      "Training on datasets:  13%|█████████████▉                                                                                                 | 17/135 [37:16<4:23:38, 134.05s/it]"
     ]
    },
    {
     "name": "stdout",
     "output_type": "stream",
     "text": [
      "DecisionTree has been trained on part-00016-363d1ba3-8ab5-4f96-bc25-4d5862db7cb9-c000.csv\n"
     ]
    },
    {
     "name": "stderr",
     "output_type": "stream",
     "text": [
      "/home/sc/0.DCU/00.Project/ML_based_IDS_for_IoT/project/env/lib/python3.10/site-packages/sklearn/linear_model/_logistic.py:460: ConvergenceWarning: lbfgs failed to converge (status=1):\n",
      "STOP: TOTAL NO. of ITERATIONS REACHED LIMIT.\n",
      "\n",
      "Increase the number of iterations (max_iter) or scale the data as shown in:\n",
      "    https://scikit-learn.org/stable/modules/preprocessing.html\n",
      "Please also refer to the documentation for alternative solver options:\n",
      "    https://scikit-learn.org/stable/modules/linear_model.html#logistic-regression\n",
      "  n_iter_i = _check_optimize_result(\n"
     ]
    },
    {
     "name": "stdout",
     "output_type": "stream",
     "text": [
      "LogisticRegression has been trained on part-00017-363d1ba3-8ab5-4f96-bc25-4d5862db7cb9-c000.csv\n",
      "Perceptron has been trained on part-00017-363d1ba3-8ab5-4f96-bc25-4d5862db7cb9-c000.csv\n",
      "AdaBoost has been trained on part-00017-363d1ba3-8ab5-4f96-bc25-4d5862db7cb9-c000.csv\n",
      "RandomForest has been trained on part-00017-363d1ba3-8ab5-4f96-bc25-4d5862db7cb9-c000.csv\n",
      "KNN has been trained on part-00017-363d1ba3-8ab5-4f96-bc25-4d5862db7cb9-c000.csv\n"
     ]
    },
    {
     "name": "stderr",
     "output_type": "stream",
     "text": [
      "\r",
      "Training on datasets:  13%|██████████████▊                                                                                                | 18/135 [39:31<4:21:53, 134.30s/it]"
     ]
    },
    {
     "name": "stdout",
     "output_type": "stream",
     "text": [
      "DecisionTree has been trained on part-00017-363d1ba3-8ab5-4f96-bc25-4d5862db7cb9-c000.csv\n"
     ]
    },
    {
     "name": "stderr",
     "output_type": "stream",
     "text": [
      "/home/sc/0.DCU/00.Project/ML_based_IDS_for_IoT/project/env/lib/python3.10/site-packages/sklearn/linear_model/_logistic.py:460: ConvergenceWarning: lbfgs failed to converge (status=1):\n",
      "STOP: TOTAL NO. of ITERATIONS REACHED LIMIT.\n",
      "\n",
      "Increase the number of iterations (max_iter) or scale the data as shown in:\n",
      "    https://scikit-learn.org/stable/modules/preprocessing.html\n",
      "Please also refer to the documentation for alternative solver options:\n",
      "    https://scikit-learn.org/stable/modules/linear_model.html#logistic-regression\n",
      "  n_iter_i = _check_optimize_result(\n"
     ]
    },
    {
     "name": "stdout",
     "output_type": "stream",
     "text": [
      "LogisticRegression has been trained on part-00018-363d1ba3-8ab5-4f96-bc25-4d5862db7cb9-c000.csv\n",
      "Perceptron has been trained on part-00018-363d1ba3-8ab5-4f96-bc25-4d5862db7cb9-c000.csv\n",
      "AdaBoost has been trained on part-00018-363d1ba3-8ab5-4f96-bc25-4d5862db7cb9-c000.csv\n",
      "RandomForest has been trained on part-00018-363d1ba3-8ab5-4f96-bc25-4d5862db7cb9-c000.csv\n",
      "KNN has been trained on part-00018-363d1ba3-8ab5-4f96-bc25-4d5862db7cb9-c000.csv\n"
     ]
    },
    {
     "name": "stderr",
     "output_type": "stream",
     "text": [
      "\r",
      "Training on datasets:  14%|███████████████▌                                                                                               | 19/135 [41:38<4:15:12, 132.01s/it]"
     ]
    },
    {
     "name": "stdout",
     "output_type": "stream",
     "text": [
      "DecisionTree has been trained on part-00018-363d1ba3-8ab5-4f96-bc25-4d5862db7cb9-c000.csv\n"
     ]
    },
    {
     "name": "stderr",
     "output_type": "stream",
     "text": [
      "/home/sc/0.DCU/00.Project/ML_based_IDS_for_IoT/project/env/lib/python3.10/site-packages/sklearn/linear_model/_logistic.py:460: ConvergenceWarning: lbfgs failed to converge (status=1):\n",
      "STOP: TOTAL NO. of ITERATIONS REACHED LIMIT.\n",
      "\n",
      "Increase the number of iterations (max_iter) or scale the data as shown in:\n",
      "    https://scikit-learn.org/stable/modules/preprocessing.html\n",
      "Please also refer to the documentation for alternative solver options:\n",
      "    https://scikit-learn.org/stable/modules/linear_model.html#logistic-regression\n",
      "  n_iter_i = _check_optimize_result(\n"
     ]
    },
    {
     "name": "stdout",
     "output_type": "stream",
     "text": [
      "LogisticRegression has been trained on part-00019-363d1ba3-8ab5-4f96-bc25-4d5862db7cb9-c000.csv\n",
      "Perceptron has been trained on part-00019-363d1ba3-8ab5-4f96-bc25-4d5862db7cb9-c000.csv\n",
      "AdaBoost has been trained on part-00019-363d1ba3-8ab5-4f96-bc25-4d5862db7cb9-c000.csv\n",
      "RandomForest has been trained on part-00019-363d1ba3-8ab5-4f96-bc25-4d5862db7cb9-c000.csv\n",
      "KNN has been trained on part-00019-363d1ba3-8ab5-4f96-bc25-4d5862db7cb9-c000.csv\n"
     ]
    },
    {
     "name": "stderr",
     "output_type": "stream",
     "text": [
      "\r",
      "Training on datasets:  15%|████████████████▍                                                                                              | 20/135 [43:49<4:12:15, 131.62s/it]"
     ]
    },
    {
     "name": "stdout",
     "output_type": "stream",
     "text": [
      "DecisionTree has been trained on part-00019-363d1ba3-8ab5-4f96-bc25-4d5862db7cb9-c000.csv\n"
     ]
    },
    {
     "name": "stderr",
     "output_type": "stream",
     "text": [
      "/home/sc/0.DCU/00.Project/ML_based_IDS_for_IoT/project/env/lib/python3.10/site-packages/sklearn/linear_model/_logistic.py:460: ConvergenceWarning: lbfgs failed to converge (status=1):\n",
      "STOP: TOTAL NO. of ITERATIONS REACHED LIMIT.\n",
      "\n",
      "Increase the number of iterations (max_iter) or scale the data as shown in:\n",
      "    https://scikit-learn.org/stable/modules/preprocessing.html\n",
      "Please also refer to the documentation for alternative solver options:\n",
      "    https://scikit-learn.org/stable/modules/linear_model.html#logistic-regression\n",
      "  n_iter_i = _check_optimize_result(\n"
     ]
    },
    {
     "name": "stdout",
     "output_type": "stream",
     "text": [
      "LogisticRegression has been trained on part-00020-363d1ba3-8ab5-4f96-bc25-4d5862db7cb9-c000.csv\n",
      "Perceptron has been trained on part-00020-363d1ba3-8ab5-4f96-bc25-4d5862db7cb9-c000.csv\n",
      "AdaBoost has been trained on part-00020-363d1ba3-8ab5-4f96-bc25-4d5862db7cb9-c000.csv\n",
      "RandomForest has been trained on part-00020-363d1ba3-8ab5-4f96-bc25-4d5862db7cb9-c000.csv\n",
      "KNN has been trained on part-00020-363d1ba3-8ab5-4f96-bc25-4d5862db7cb9-c000.csv\n"
     ]
    },
    {
     "name": "stderr",
     "output_type": "stream",
     "text": [
      "\r",
      "Training on datasets:  16%|█████████████████▎                                                                                             | 21/135 [45:58<4:08:58, 131.04s/it]"
     ]
    },
    {
     "name": "stdout",
     "output_type": "stream",
     "text": [
      "DecisionTree has been trained on part-00020-363d1ba3-8ab5-4f96-bc25-4d5862db7cb9-c000.csv\n"
     ]
    },
    {
     "name": "stderr",
     "output_type": "stream",
     "text": [
      "/home/sc/0.DCU/00.Project/ML_based_IDS_for_IoT/project/env/lib/python3.10/site-packages/sklearn/linear_model/_logistic.py:460: ConvergenceWarning: lbfgs failed to converge (status=1):\n",
      "STOP: TOTAL NO. of ITERATIONS REACHED LIMIT.\n",
      "\n",
      "Increase the number of iterations (max_iter) or scale the data as shown in:\n",
      "    https://scikit-learn.org/stable/modules/preprocessing.html\n",
      "Please also refer to the documentation for alternative solver options:\n",
      "    https://scikit-learn.org/stable/modules/linear_model.html#logistic-regression\n",
      "  n_iter_i = _check_optimize_result(\n"
     ]
    },
    {
     "name": "stdout",
     "output_type": "stream",
     "text": [
      "LogisticRegression has been trained on part-00021-363d1ba3-8ab5-4f96-bc25-4d5862db7cb9-c000.csv\n",
      "Perceptron has been trained on part-00021-363d1ba3-8ab5-4f96-bc25-4d5862db7cb9-c000.csv\n",
      "AdaBoost has been trained on part-00021-363d1ba3-8ab5-4f96-bc25-4d5862db7cb9-c000.csv\n",
      "RandomForest has been trained on part-00021-363d1ba3-8ab5-4f96-bc25-4d5862db7cb9-c000.csv\n",
      "KNN has been trained on part-00021-363d1ba3-8ab5-4f96-bc25-4d5862db7cb9-c000.csv\n"
     ]
    },
    {
     "name": "stderr",
     "output_type": "stream",
     "text": [
      "\r",
      "Training on datasets:  16%|██████████████████                                                                                             | 22/135 [48:02<4:02:43, 128.88s/it]"
     ]
    },
    {
     "name": "stdout",
     "output_type": "stream",
     "text": [
      "DecisionTree has been trained on part-00021-363d1ba3-8ab5-4f96-bc25-4d5862db7cb9-c000.csv\n"
     ]
    },
    {
     "name": "stderr",
     "output_type": "stream",
     "text": [
      "/home/sc/0.DCU/00.Project/ML_based_IDS_for_IoT/project/env/lib/python3.10/site-packages/sklearn/linear_model/_logistic.py:460: ConvergenceWarning: lbfgs failed to converge (status=1):\n",
      "STOP: TOTAL NO. of ITERATIONS REACHED LIMIT.\n",
      "\n",
      "Increase the number of iterations (max_iter) or scale the data as shown in:\n",
      "    https://scikit-learn.org/stable/modules/preprocessing.html\n",
      "Please also refer to the documentation for alternative solver options:\n",
      "    https://scikit-learn.org/stable/modules/linear_model.html#logistic-regression\n",
      "  n_iter_i = _check_optimize_result(\n"
     ]
    },
    {
     "name": "stdout",
     "output_type": "stream",
     "text": [
      "LogisticRegression has been trained on part-00022-363d1ba3-8ab5-4f96-bc25-4d5862db7cb9-c000.csv\n",
      "Perceptron has been trained on part-00022-363d1ba3-8ab5-4f96-bc25-4d5862db7cb9-c000.csv\n",
      "AdaBoost has been trained on part-00022-363d1ba3-8ab5-4f96-bc25-4d5862db7cb9-c000.csv\n",
      "RandomForest has been trained on part-00022-363d1ba3-8ab5-4f96-bc25-4d5862db7cb9-c000.csv\n",
      "KNN has been trained on part-00022-363d1ba3-8ab5-4f96-bc25-4d5862db7cb9-c000.csv\n"
     ]
    },
    {
     "name": "stderr",
     "output_type": "stream",
     "text": [
      "\r",
      "Training on datasets:  17%|██████████████████▉                                                                                            | 23/135 [50:12<4:01:11, 129.21s/it]"
     ]
    },
    {
     "name": "stdout",
     "output_type": "stream",
     "text": [
      "DecisionTree has been trained on part-00022-363d1ba3-8ab5-4f96-bc25-4d5862db7cb9-c000.csv\n"
     ]
    },
    {
     "name": "stderr",
     "output_type": "stream",
     "text": [
      "/home/sc/0.DCU/00.Project/ML_based_IDS_for_IoT/project/env/lib/python3.10/site-packages/sklearn/linear_model/_logistic.py:460: ConvergenceWarning: lbfgs failed to converge (status=1):\n",
      "STOP: TOTAL NO. of ITERATIONS REACHED LIMIT.\n",
      "\n",
      "Increase the number of iterations (max_iter) or scale the data as shown in:\n",
      "    https://scikit-learn.org/stable/modules/preprocessing.html\n",
      "Please also refer to the documentation for alternative solver options:\n",
      "    https://scikit-learn.org/stable/modules/linear_model.html#logistic-regression\n",
      "  n_iter_i = _check_optimize_result(\n"
     ]
    },
    {
     "name": "stdout",
     "output_type": "stream",
     "text": [
      "LogisticRegression has been trained on part-00023-363d1ba3-8ab5-4f96-bc25-4d5862db7cb9-c000.csv\n",
      "Perceptron has been trained on part-00023-363d1ba3-8ab5-4f96-bc25-4d5862db7cb9-c000.csv\n",
      "AdaBoost has been trained on part-00023-363d1ba3-8ab5-4f96-bc25-4d5862db7cb9-c000.csv\n",
      "RandomForest has been trained on part-00023-363d1ba3-8ab5-4f96-bc25-4d5862db7cb9-c000.csv\n",
      "KNN has been trained on part-00023-363d1ba3-8ab5-4f96-bc25-4d5862db7cb9-c000.csv\n"
     ]
    },
    {
     "name": "stderr",
     "output_type": "stream",
     "text": [
      "\r",
      "Training on datasets:  18%|███████████████████▋                                                                                           | 24/135 [52:28<4:02:53, 131.29s/it]"
     ]
    },
    {
     "name": "stdout",
     "output_type": "stream",
     "text": [
      "DecisionTree has been trained on part-00023-363d1ba3-8ab5-4f96-bc25-4d5862db7cb9-c000.csv\n"
     ]
    },
    {
     "name": "stderr",
     "output_type": "stream",
     "text": [
      "/home/sc/0.DCU/00.Project/ML_based_IDS_for_IoT/project/env/lib/python3.10/site-packages/sklearn/linear_model/_logistic.py:460: ConvergenceWarning: lbfgs failed to converge (status=1):\n",
      "STOP: TOTAL NO. of ITERATIONS REACHED LIMIT.\n",
      "\n",
      "Increase the number of iterations (max_iter) or scale the data as shown in:\n",
      "    https://scikit-learn.org/stable/modules/preprocessing.html\n",
      "Please also refer to the documentation for alternative solver options:\n",
      "    https://scikit-learn.org/stable/modules/linear_model.html#logistic-regression\n",
      "  n_iter_i = _check_optimize_result(\n"
     ]
    },
    {
     "name": "stdout",
     "output_type": "stream",
     "text": [
      "LogisticRegression has been trained on part-00024-363d1ba3-8ab5-4f96-bc25-4d5862db7cb9-c000.csv\n",
      "Perceptron has been trained on part-00024-363d1ba3-8ab5-4f96-bc25-4d5862db7cb9-c000.csv\n",
      "AdaBoost has been trained on part-00024-363d1ba3-8ab5-4f96-bc25-4d5862db7cb9-c000.csv\n",
      "RandomForest has been trained on part-00024-363d1ba3-8ab5-4f96-bc25-4d5862db7cb9-c000.csv\n",
      "KNN has been trained on part-00024-363d1ba3-8ab5-4f96-bc25-4d5862db7cb9-c000.csv\n"
     ]
    },
    {
     "name": "stderr",
     "output_type": "stream",
     "text": [
      "\r",
      "Training on datasets:  19%|████████████████████▌                                                                                          | 25/135 [54:20<3:49:40, 125.28s/it]"
     ]
    },
    {
     "name": "stdout",
     "output_type": "stream",
     "text": [
      "DecisionTree has been trained on part-00024-363d1ba3-8ab5-4f96-bc25-4d5862db7cb9-c000.csv\n"
     ]
    },
    {
     "name": "stderr",
     "output_type": "stream",
     "text": [
      "/home/sc/0.DCU/00.Project/ML_based_IDS_for_IoT/project/env/lib/python3.10/site-packages/sklearn/linear_model/_logistic.py:460: ConvergenceWarning: lbfgs failed to converge (status=1):\n",
      "STOP: TOTAL NO. of ITERATIONS REACHED LIMIT.\n",
      "\n",
      "Increase the number of iterations (max_iter) or scale the data as shown in:\n",
      "    https://scikit-learn.org/stable/modules/preprocessing.html\n",
      "Please also refer to the documentation for alternative solver options:\n",
      "    https://scikit-learn.org/stable/modules/linear_model.html#logistic-regression\n",
      "  n_iter_i = _check_optimize_result(\n"
     ]
    },
    {
     "name": "stdout",
     "output_type": "stream",
     "text": [
      "LogisticRegression has been trained on part-00025-363d1ba3-8ab5-4f96-bc25-4d5862db7cb9-c000.csv\n",
      "Perceptron has been trained on part-00025-363d1ba3-8ab5-4f96-bc25-4d5862db7cb9-c000.csv\n",
      "AdaBoost has been trained on part-00025-363d1ba3-8ab5-4f96-bc25-4d5862db7cb9-c000.csv\n",
      "RandomForest has been trained on part-00025-363d1ba3-8ab5-4f96-bc25-4d5862db7cb9-c000.csv\n",
      "KNN has been trained on part-00025-363d1ba3-8ab5-4f96-bc25-4d5862db7cb9-c000.csv\n"
     ]
    },
    {
     "name": "stderr",
     "output_type": "stream",
     "text": [
      "\r",
      "Training on datasets:  19%|█████████████████████▍                                                                                         | 26/135 [58:17<4:48:53, 159.02s/it]"
     ]
    },
    {
     "name": "stdout",
     "output_type": "stream",
     "text": [
      "DecisionTree has been trained on part-00025-363d1ba3-8ab5-4f96-bc25-4d5862db7cb9-c000.csv\n"
     ]
    },
    {
     "name": "stderr",
     "output_type": "stream",
     "text": [
      "/home/sc/0.DCU/00.Project/ML_based_IDS_for_IoT/project/env/lib/python3.10/site-packages/sklearn/linear_model/_logistic.py:460: ConvergenceWarning: lbfgs failed to converge (status=1):\n",
      "STOP: TOTAL NO. of ITERATIONS REACHED LIMIT.\n",
      "\n",
      "Increase the number of iterations (max_iter) or scale the data as shown in:\n",
      "    https://scikit-learn.org/stable/modules/preprocessing.html\n",
      "Please also refer to the documentation for alternative solver options:\n",
      "    https://scikit-learn.org/stable/modules/linear_model.html#logistic-regression\n",
      "  n_iter_i = _check_optimize_result(\n"
     ]
    },
    {
     "name": "stdout",
     "output_type": "stream",
     "text": [
      "LogisticRegression has been trained on part-00026-363d1ba3-8ab5-4f96-bc25-4d5862db7cb9-c000.csv\n",
      "Perceptron has been trained on part-00026-363d1ba3-8ab5-4f96-bc25-4d5862db7cb9-c000.csv\n",
      "AdaBoost has been trained on part-00026-363d1ba3-8ab5-4f96-bc25-4d5862db7cb9-c000.csv\n",
      "RandomForest has been trained on part-00026-363d1ba3-8ab5-4f96-bc25-4d5862db7cb9-c000.csv\n",
      "KNN has been trained on part-00026-363d1ba3-8ab5-4f96-bc25-4d5862db7cb9-c000.csv\n"
     ]
    },
    {
     "name": "stderr",
     "output_type": "stream",
     "text": [
      "\r",
      "Training on datasets:  20%|█████████████████████▊                                                                                       | 27/135 [1:00:27<4:30:26, 150.25s/it]"
     ]
    },
    {
     "name": "stdout",
     "output_type": "stream",
     "text": [
      "DecisionTree has been trained on part-00026-363d1ba3-8ab5-4f96-bc25-4d5862db7cb9-c000.csv\n"
     ]
    },
    {
     "name": "stderr",
     "output_type": "stream",
     "text": [
      "/home/sc/0.DCU/00.Project/ML_based_IDS_for_IoT/project/env/lib/python3.10/site-packages/sklearn/linear_model/_logistic.py:460: ConvergenceWarning: lbfgs failed to converge (status=1):\n",
      "STOP: TOTAL NO. of ITERATIONS REACHED LIMIT.\n",
      "\n",
      "Increase the number of iterations (max_iter) or scale the data as shown in:\n",
      "    https://scikit-learn.org/stable/modules/preprocessing.html\n",
      "Please also refer to the documentation for alternative solver options:\n",
      "    https://scikit-learn.org/stable/modules/linear_model.html#logistic-regression\n",
      "  n_iter_i = _check_optimize_result(\n"
     ]
    },
    {
     "name": "stdout",
     "output_type": "stream",
     "text": [
      "LogisticRegression has been trained on part-00027-363d1ba3-8ab5-4f96-bc25-4d5862db7cb9-c000.csv\n",
      "Perceptron has been trained on part-00027-363d1ba3-8ab5-4f96-bc25-4d5862db7cb9-c000.csv\n",
      "AdaBoost has been trained on part-00027-363d1ba3-8ab5-4f96-bc25-4d5862db7cb9-c000.csv\n",
      "RandomForest has been trained on part-00027-363d1ba3-8ab5-4f96-bc25-4d5862db7cb9-c000.csv\n",
      "KNN has been trained on part-00027-363d1ba3-8ab5-4f96-bc25-4d5862db7cb9-c000.csv\n"
     ]
    },
    {
     "name": "stderr",
     "output_type": "stream",
     "text": [
      "\r",
      "Training on datasets:  21%|██████████████████████▌                                                                                      | 28/135 [1:02:22<4:09:07, 139.69s/it]"
     ]
    },
    {
     "name": "stdout",
     "output_type": "stream",
     "text": [
      "DecisionTree has been trained on part-00027-363d1ba3-8ab5-4f96-bc25-4d5862db7cb9-c000.csv\n"
     ]
    },
    {
     "name": "stderr",
     "output_type": "stream",
     "text": [
      "/home/sc/0.DCU/00.Project/ML_based_IDS_for_IoT/project/env/lib/python3.10/site-packages/sklearn/linear_model/_logistic.py:460: ConvergenceWarning: lbfgs failed to converge (status=1):\n",
      "STOP: TOTAL NO. of ITERATIONS REACHED LIMIT.\n",
      "\n",
      "Increase the number of iterations (max_iter) or scale the data as shown in:\n",
      "    https://scikit-learn.org/stable/modules/preprocessing.html\n",
      "Please also refer to the documentation for alternative solver options:\n",
      "    https://scikit-learn.org/stable/modules/linear_model.html#logistic-regression\n",
      "  n_iter_i = _check_optimize_result(\n"
     ]
    },
    {
     "name": "stdout",
     "output_type": "stream",
     "text": [
      "LogisticRegression has been trained on part-00028-363d1ba3-8ab5-4f96-bc25-4d5862db7cb9-c000.csv\n",
      "Perceptron has been trained on part-00028-363d1ba3-8ab5-4f96-bc25-4d5862db7cb9-c000.csv\n",
      "AdaBoost has been trained on part-00028-363d1ba3-8ab5-4f96-bc25-4d5862db7cb9-c000.csv\n",
      "RandomForest has been trained on part-00028-363d1ba3-8ab5-4f96-bc25-4d5862db7cb9-c000.csv\n",
      "KNN has been trained on part-00028-363d1ba3-8ab5-4f96-bc25-4d5862db7cb9-c000.csv\n"
     ]
    },
    {
     "name": "stderr",
     "output_type": "stream",
     "text": [
      "\r",
      "Training on datasets:  21%|███████████████████████▍                                                                                     | 29/135 [1:04:27<3:59:06, 135.35s/it]"
     ]
    },
    {
     "name": "stdout",
     "output_type": "stream",
     "text": [
      "DecisionTree has been trained on part-00028-363d1ba3-8ab5-4f96-bc25-4d5862db7cb9-c000.csv\n"
     ]
    },
    {
     "name": "stderr",
     "output_type": "stream",
     "text": [
      "/home/sc/0.DCU/00.Project/ML_based_IDS_for_IoT/project/env/lib/python3.10/site-packages/sklearn/linear_model/_logistic.py:460: ConvergenceWarning: lbfgs failed to converge (status=1):\n",
      "STOP: TOTAL NO. of ITERATIONS REACHED LIMIT.\n",
      "\n",
      "Increase the number of iterations (max_iter) or scale the data as shown in:\n",
      "    https://scikit-learn.org/stable/modules/preprocessing.html\n",
      "Please also refer to the documentation for alternative solver options:\n",
      "    https://scikit-learn.org/stable/modules/linear_model.html#logistic-regression\n",
      "  n_iter_i = _check_optimize_result(\n"
     ]
    },
    {
     "name": "stdout",
     "output_type": "stream",
     "text": [
      "LogisticRegression has been trained on part-00029-363d1ba3-8ab5-4f96-bc25-4d5862db7cb9-c000.csv\n",
      "Perceptron has been trained on part-00029-363d1ba3-8ab5-4f96-bc25-4d5862db7cb9-c000.csv\n",
      "AdaBoost has been trained on part-00029-363d1ba3-8ab5-4f96-bc25-4d5862db7cb9-c000.csv\n",
      "RandomForest has been trained on part-00029-363d1ba3-8ab5-4f96-bc25-4d5862db7cb9-c000.csv\n",
      "KNN has been trained on part-00029-363d1ba3-8ab5-4f96-bc25-4d5862db7cb9-c000.csv\n"
     ]
    },
    {
     "name": "stderr",
     "output_type": "stream",
     "text": [
      "\r",
      "Training on datasets:  22%|████████████████████████▏                                                                                    | 30/135 [1:06:32<3:51:24, 132.23s/it]"
     ]
    },
    {
     "name": "stdout",
     "output_type": "stream",
     "text": [
      "DecisionTree has been trained on part-00029-363d1ba3-8ab5-4f96-bc25-4d5862db7cb9-c000.csv\n"
     ]
    },
    {
     "name": "stderr",
     "output_type": "stream",
     "text": [
      "/home/sc/0.DCU/00.Project/ML_based_IDS_for_IoT/project/env/lib/python3.10/site-packages/sklearn/linear_model/_logistic.py:460: ConvergenceWarning: lbfgs failed to converge (status=1):\n",
      "STOP: TOTAL NO. of ITERATIONS REACHED LIMIT.\n",
      "\n",
      "Increase the number of iterations (max_iter) or scale the data as shown in:\n",
      "    https://scikit-learn.org/stable/modules/preprocessing.html\n",
      "Please also refer to the documentation for alternative solver options:\n",
      "    https://scikit-learn.org/stable/modules/linear_model.html#logistic-regression\n",
      "  n_iter_i = _check_optimize_result(\n"
     ]
    },
    {
     "name": "stdout",
     "output_type": "stream",
     "text": [
      "LogisticRegression has been trained on part-00030-363d1ba3-8ab5-4f96-bc25-4d5862db7cb9-c000.csv\n",
      "Perceptron has been trained on part-00030-363d1ba3-8ab5-4f96-bc25-4d5862db7cb9-c000.csv\n",
      "AdaBoost has been trained on part-00030-363d1ba3-8ab5-4f96-bc25-4d5862db7cb9-c000.csv\n",
      "RandomForest has been trained on part-00030-363d1ba3-8ab5-4f96-bc25-4d5862db7cb9-c000.csv\n",
      "KNN has been trained on part-00030-363d1ba3-8ab5-4f96-bc25-4d5862db7cb9-c000.csv\n"
     ]
    },
    {
     "name": "stderr",
     "output_type": "stream",
     "text": [
      "\r",
      "Training on datasets:  23%|█████████████████████████                                                                                    | 31/135 [1:08:47<3:50:16, 132.85s/it]"
     ]
    },
    {
     "name": "stdout",
     "output_type": "stream",
     "text": [
      "DecisionTree has been trained on part-00030-363d1ba3-8ab5-4f96-bc25-4d5862db7cb9-c000.csv\n"
     ]
    },
    {
     "name": "stderr",
     "output_type": "stream",
     "text": [
      "/home/sc/0.DCU/00.Project/ML_based_IDS_for_IoT/project/env/lib/python3.10/site-packages/sklearn/linear_model/_logistic.py:460: ConvergenceWarning: lbfgs failed to converge (status=1):\n",
      "STOP: TOTAL NO. of ITERATIONS REACHED LIMIT.\n",
      "\n",
      "Increase the number of iterations (max_iter) or scale the data as shown in:\n",
      "    https://scikit-learn.org/stable/modules/preprocessing.html\n",
      "Please also refer to the documentation for alternative solver options:\n",
      "    https://scikit-learn.org/stable/modules/linear_model.html#logistic-regression\n",
      "  n_iter_i = _check_optimize_result(\n"
     ]
    },
    {
     "name": "stdout",
     "output_type": "stream",
     "text": [
      "LogisticRegression has been trained on part-00031-363d1ba3-8ab5-4f96-bc25-4d5862db7cb9-c000.csv\n",
      "Perceptron has been trained on part-00031-363d1ba3-8ab5-4f96-bc25-4d5862db7cb9-c000.csv\n",
      "AdaBoost has been trained on part-00031-363d1ba3-8ab5-4f96-bc25-4d5862db7cb9-c000.csv\n",
      "RandomForest has been trained on part-00031-363d1ba3-8ab5-4f96-bc25-4d5862db7cb9-c000.csv\n",
      "KNN has been trained on part-00031-363d1ba3-8ab5-4f96-bc25-4d5862db7cb9-c000.csv\n"
     ]
    },
    {
     "name": "stderr",
     "output_type": "stream",
     "text": [
      "\r",
      "Training on datasets:  24%|█████████████████████████▊                                                                                   | 32/135 [1:10:56<3:46:13, 131.78s/it]"
     ]
    },
    {
     "name": "stdout",
     "output_type": "stream",
     "text": [
      "DecisionTree has been trained on part-00031-363d1ba3-8ab5-4f96-bc25-4d5862db7cb9-c000.csv\n"
     ]
    },
    {
     "name": "stderr",
     "output_type": "stream",
     "text": [
      "/home/sc/0.DCU/00.Project/ML_based_IDS_for_IoT/project/env/lib/python3.10/site-packages/sklearn/linear_model/_logistic.py:460: ConvergenceWarning: lbfgs failed to converge (status=1):\n",
      "STOP: TOTAL NO. of ITERATIONS REACHED LIMIT.\n",
      "\n",
      "Increase the number of iterations (max_iter) or scale the data as shown in:\n",
      "    https://scikit-learn.org/stable/modules/preprocessing.html\n",
      "Please also refer to the documentation for alternative solver options:\n",
      "    https://scikit-learn.org/stable/modules/linear_model.html#logistic-regression\n",
      "  n_iter_i = _check_optimize_result(\n"
     ]
    },
    {
     "name": "stdout",
     "output_type": "stream",
     "text": [
      "LogisticRegression has been trained on part-00032-363d1ba3-8ab5-4f96-bc25-4d5862db7cb9-c000.csv\n",
      "Perceptron has been trained on part-00032-363d1ba3-8ab5-4f96-bc25-4d5862db7cb9-c000.csv\n",
      "AdaBoost has been trained on part-00032-363d1ba3-8ab5-4f96-bc25-4d5862db7cb9-c000.csv\n",
      "RandomForest has been trained on part-00032-363d1ba3-8ab5-4f96-bc25-4d5862db7cb9-c000.csv\n",
      "KNN has been trained on part-00032-363d1ba3-8ab5-4f96-bc25-4d5862db7cb9-c000.csv\n"
     ]
    },
    {
     "name": "stderr",
     "output_type": "stream",
     "text": [
      "\r",
      "Training on datasets:  24%|██████████████████████████▋                                                                                  | 33/135 [1:12:56<3:37:56, 128.20s/it]"
     ]
    },
    {
     "name": "stdout",
     "output_type": "stream",
     "text": [
      "DecisionTree has been trained on part-00032-363d1ba3-8ab5-4f96-bc25-4d5862db7cb9-c000.csv\n"
     ]
    },
    {
     "name": "stderr",
     "output_type": "stream",
     "text": [
      "/home/sc/0.DCU/00.Project/ML_based_IDS_for_IoT/project/env/lib/python3.10/site-packages/sklearn/linear_model/_logistic.py:460: ConvergenceWarning: lbfgs failed to converge (status=1):\n",
      "STOP: TOTAL NO. of ITERATIONS REACHED LIMIT.\n",
      "\n",
      "Increase the number of iterations (max_iter) or scale the data as shown in:\n",
      "    https://scikit-learn.org/stable/modules/preprocessing.html\n",
      "Please also refer to the documentation for alternative solver options:\n",
      "    https://scikit-learn.org/stable/modules/linear_model.html#logistic-regression\n",
      "  n_iter_i = _check_optimize_result(\n"
     ]
    },
    {
     "name": "stdout",
     "output_type": "stream",
     "text": [
      "LogisticRegression has been trained on part-00033-363d1ba3-8ab5-4f96-bc25-4d5862db7cb9-c000.csv\n",
      "Perceptron has been trained on part-00033-363d1ba3-8ab5-4f96-bc25-4d5862db7cb9-c000.csv\n",
      "AdaBoost has been trained on part-00033-363d1ba3-8ab5-4f96-bc25-4d5862db7cb9-c000.csv\n",
      "RandomForest has been trained on part-00033-363d1ba3-8ab5-4f96-bc25-4d5862db7cb9-c000.csv\n",
      "KNN has been trained on part-00033-363d1ba3-8ab5-4f96-bc25-4d5862db7cb9-c000.csv\n"
     ]
    },
    {
     "name": "stderr",
     "output_type": "stream",
     "text": [
      "\r",
      "Training on datasets:  25%|███████████████████████████▍                                                                                 | 34/135 [1:16:53<4:30:51, 160.91s/it]"
     ]
    },
    {
     "name": "stdout",
     "output_type": "stream",
     "text": [
      "DecisionTree has been trained on part-00033-363d1ba3-8ab5-4f96-bc25-4d5862db7cb9-c000.csv\n"
     ]
    },
    {
     "name": "stderr",
     "output_type": "stream",
     "text": [
      "/home/sc/0.DCU/00.Project/ML_based_IDS_for_IoT/project/env/lib/python3.10/site-packages/sklearn/linear_model/_logistic.py:460: ConvergenceWarning: lbfgs failed to converge (status=1):\n",
      "STOP: TOTAL NO. of ITERATIONS REACHED LIMIT.\n",
      "\n",
      "Increase the number of iterations (max_iter) or scale the data as shown in:\n",
      "    https://scikit-learn.org/stable/modules/preprocessing.html\n",
      "Please also refer to the documentation for alternative solver options:\n",
      "    https://scikit-learn.org/stable/modules/linear_model.html#logistic-regression\n",
      "  n_iter_i = _check_optimize_result(\n"
     ]
    },
    {
     "name": "stdout",
     "output_type": "stream",
     "text": [
      "LogisticRegression has been trained on part-00034-363d1ba3-8ab5-4f96-bc25-4d5862db7cb9-c000.csv\n",
      "Perceptron has been trained on part-00034-363d1ba3-8ab5-4f96-bc25-4d5862db7cb9-c000.csv\n",
      "AdaBoost has been trained on part-00034-363d1ba3-8ab5-4f96-bc25-4d5862db7cb9-c000.csv\n",
      "RandomForest has been trained on part-00034-363d1ba3-8ab5-4f96-bc25-4d5862db7cb9-c000.csv\n",
      "KNN has been trained on part-00034-363d1ba3-8ab5-4f96-bc25-4d5862db7cb9-c000.csv\n"
     ]
    },
    {
     "name": "stderr",
     "output_type": "stream",
     "text": [
      "\r",
      "Training on datasets:  26%|████████████████████████████▎                                                                                | 35/135 [1:18:52<4:07:04, 148.24s/it]"
     ]
    },
    {
     "name": "stdout",
     "output_type": "stream",
     "text": [
      "DecisionTree has been trained on part-00034-363d1ba3-8ab5-4f96-bc25-4d5862db7cb9-c000.csv\n"
     ]
    },
    {
     "name": "stderr",
     "output_type": "stream",
     "text": [
      "/home/sc/0.DCU/00.Project/ML_based_IDS_for_IoT/project/env/lib/python3.10/site-packages/sklearn/linear_model/_logistic.py:460: ConvergenceWarning: lbfgs failed to converge (status=1):\n",
      "STOP: TOTAL NO. of ITERATIONS REACHED LIMIT.\n",
      "\n",
      "Increase the number of iterations (max_iter) or scale the data as shown in:\n",
      "    https://scikit-learn.org/stable/modules/preprocessing.html\n",
      "Please also refer to the documentation for alternative solver options:\n",
      "    https://scikit-learn.org/stable/modules/linear_model.html#logistic-regression\n",
      "  n_iter_i = _check_optimize_result(\n"
     ]
    },
    {
     "name": "stdout",
     "output_type": "stream",
     "text": [
      "LogisticRegression has been trained on part-00035-363d1ba3-8ab5-4f96-bc25-4d5862db7cb9-c000.csv\n",
      "Perceptron has been trained on part-00035-363d1ba3-8ab5-4f96-bc25-4d5862db7cb9-c000.csv\n",
      "AdaBoost has been trained on part-00035-363d1ba3-8ab5-4f96-bc25-4d5862db7cb9-c000.csv\n",
      "RandomForest has been trained on part-00035-363d1ba3-8ab5-4f96-bc25-4d5862db7cb9-c000.csv\n",
      "KNN has been trained on part-00035-363d1ba3-8ab5-4f96-bc25-4d5862db7cb9-c000.csv\n"
     ]
    },
    {
     "name": "stderr",
     "output_type": "stream",
     "text": [
      "\r",
      "Training on datasets:  27%|█████████████████████████████                                                                                | 36/135 [1:21:09<3:59:05, 144.91s/it]"
     ]
    },
    {
     "name": "stdout",
     "output_type": "stream",
     "text": [
      "DecisionTree has been trained on part-00035-363d1ba3-8ab5-4f96-bc25-4d5862db7cb9-c000.csv\n"
     ]
    },
    {
     "name": "stderr",
     "output_type": "stream",
     "text": [
      "/home/sc/0.DCU/00.Project/ML_based_IDS_for_IoT/project/env/lib/python3.10/site-packages/sklearn/linear_model/_logistic.py:460: ConvergenceWarning: lbfgs failed to converge (status=1):\n",
      "STOP: TOTAL NO. of ITERATIONS REACHED LIMIT.\n",
      "\n",
      "Increase the number of iterations (max_iter) or scale the data as shown in:\n",
      "    https://scikit-learn.org/stable/modules/preprocessing.html\n",
      "Please also refer to the documentation for alternative solver options:\n",
      "    https://scikit-learn.org/stable/modules/linear_model.html#logistic-regression\n",
      "  n_iter_i = _check_optimize_result(\n"
     ]
    },
    {
     "name": "stdout",
     "output_type": "stream",
     "text": [
      "LogisticRegression has been trained on part-00036-363d1ba3-8ab5-4f96-bc25-4d5862db7cb9-c000.csv\n",
      "Perceptron has been trained on part-00036-363d1ba3-8ab5-4f96-bc25-4d5862db7cb9-c000.csv\n",
      "AdaBoost has been trained on part-00036-363d1ba3-8ab5-4f96-bc25-4d5862db7cb9-c000.csv\n",
      "RandomForest has been trained on part-00036-363d1ba3-8ab5-4f96-bc25-4d5862db7cb9-c000.csv\n",
      "KNN has been trained on part-00036-363d1ba3-8ab5-4f96-bc25-4d5862db7cb9-c000.csv\n"
     ]
    },
    {
     "name": "stderr",
     "output_type": "stream",
     "text": [
      "\r",
      "Training on datasets:  27%|█████████████████████████████▊                                                                               | 37/135 [1:25:09<4:43:20, 173.47s/it]"
     ]
    },
    {
     "name": "stdout",
     "output_type": "stream",
     "text": [
      "DecisionTree has been trained on part-00036-363d1ba3-8ab5-4f96-bc25-4d5862db7cb9-c000.csv\n"
     ]
    },
    {
     "name": "stderr",
     "output_type": "stream",
     "text": [
      "/home/sc/0.DCU/00.Project/ML_based_IDS_for_IoT/project/env/lib/python3.10/site-packages/sklearn/linear_model/_logistic.py:460: ConvergenceWarning: lbfgs failed to converge (status=1):\n",
      "STOP: TOTAL NO. of ITERATIONS REACHED LIMIT.\n",
      "\n",
      "Increase the number of iterations (max_iter) or scale the data as shown in:\n",
      "    https://scikit-learn.org/stable/modules/preprocessing.html\n",
      "Please also refer to the documentation for alternative solver options:\n",
      "    https://scikit-learn.org/stable/modules/linear_model.html#logistic-regression\n",
      "  n_iter_i = _check_optimize_result(\n"
     ]
    },
    {
     "name": "stdout",
     "output_type": "stream",
     "text": [
      "LogisticRegression has been trained on part-00037-363d1ba3-8ab5-4f96-bc25-4d5862db7cb9-c000.csv\n",
      "Perceptron has been trained on part-00037-363d1ba3-8ab5-4f96-bc25-4d5862db7cb9-c000.csv\n",
      "AdaBoost has been trained on part-00037-363d1ba3-8ab5-4f96-bc25-4d5862db7cb9-c000.csv\n",
      "RandomForest has been trained on part-00037-363d1ba3-8ab5-4f96-bc25-4d5862db7cb9-c000.csv\n",
      "KNN has been trained on part-00037-363d1ba3-8ab5-4f96-bc25-4d5862db7cb9-c000.csv\n"
     ]
    },
    {
     "name": "stderr",
     "output_type": "stream",
     "text": [
      "\r",
      "Training on datasets:  28%|██████████████████████████████▋                                                                              | 38/135 [1:27:09<4:14:28, 157.40s/it]"
     ]
    },
    {
     "name": "stdout",
     "output_type": "stream",
     "text": [
      "DecisionTree has been trained on part-00037-363d1ba3-8ab5-4f96-bc25-4d5862db7cb9-c000.csv\n"
     ]
    },
    {
     "name": "stderr",
     "output_type": "stream",
     "text": [
      "/home/sc/0.DCU/00.Project/ML_based_IDS_for_IoT/project/env/lib/python3.10/site-packages/sklearn/linear_model/_logistic.py:460: ConvergenceWarning: lbfgs failed to converge (status=1):\n",
      "STOP: TOTAL NO. of ITERATIONS REACHED LIMIT.\n",
      "\n",
      "Increase the number of iterations (max_iter) or scale the data as shown in:\n",
      "    https://scikit-learn.org/stable/modules/preprocessing.html\n",
      "Please also refer to the documentation for alternative solver options:\n",
      "    https://scikit-learn.org/stable/modules/linear_model.html#logistic-regression\n",
      "  n_iter_i = _check_optimize_result(\n"
     ]
    },
    {
     "name": "stdout",
     "output_type": "stream",
     "text": [
      "LogisticRegression has been trained on part-00038-363d1ba3-8ab5-4f96-bc25-4d5862db7cb9-c000.csv\n",
      "Perceptron has been trained on part-00038-363d1ba3-8ab5-4f96-bc25-4d5862db7cb9-c000.csv\n",
      "AdaBoost has been trained on part-00038-363d1ba3-8ab5-4f96-bc25-4d5862db7cb9-c000.csv\n",
      "RandomForest has been trained on part-00038-363d1ba3-8ab5-4f96-bc25-4d5862db7cb9-c000.csv\n",
      "KNN has been trained on part-00038-363d1ba3-8ab5-4f96-bc25-4d5862db7cb9-c000.csv\n"
     ]
    },
    {
     "name": "stderr",
     "output_type": "stream",
     "text": [
      "\r",
      "Training on datasets:  29%|███████████████████████████████▍                                                                             | 39/135 [1:29:21<3:59:50, 149.90s/it]"
     ]
    },
    {
     "name": "stdout",
     "output_type": "stream",
     "text": [
      "DecisionTree has been trained on part-00038-363d1ba3-8ab5-4f96-bc25-4d5862db7cb9-c000.csv\n"
     ]
    },
    {
     "name": "stderr",
     "output_type": "stream",
     "text": [
      "/home/sc/0.DCU/00.Project/ML_based_IDS_for_IoT/project/env/lib/python3.10/site-packages/sklearn/linear_model/_logistic.py:460: ConvergenceWarning: lbfgs failed to converge (status=1):\n",
      "STOP: TOTAL NO. of ITERATIONS REACHED LIMIT.\n",
      "\n",
      "Increase the number of iterations (max_iter) or scale the data as shown in:\n",
      "    https://scikit-learn.org/stable/modules/preprocessing.html\n",
      "Please also refer to the documentation for alternative solver options:\n",
      "    https://scikit-learn.org/stable/modules/linear_model.html#logistic-regression\n",
      "  n_iter_i = _check_optimize_result(\n"
     ]
    },
    {
     "name": "stdout",
     "output_type": "stream",
     "text": [
      "LogisticRegression has been trained on part-00039-363d1ba3-8ab5-4f96-bc25-4d5862db7cb9-c000.csv\n",
      "Perceptron has been trained on part-00039-363d1ba3-8ab5-4f96-bc25-4d5862db7cb9-c000.csv\n",
      "AdaBoost has been trained on part-00039-363d1ba3-8ab5-4f96-bc25-4d5862db7cb9-c000.csv\n",
      "RandomForest has been trained on part-00039-363d1ba3-8ab5-4f96-bc25-4d5862db7cb9-c000.csv\n",
      "KNN has been trained on part-00039-363d1ba3-8ab5-4f96-bc25-4d5862db7cb9-c000.csv\n"
     ]
    },
    {
     "name": "stderr",
     "output_type": "stream",
     "text": [
      "\r",
      "Training on datasets:  30%|████████████████████████████████▎                                                                            | 40/135 [1:33:27<4:42:38, 178.51s/it]"
     ]
    },
    {
     "name": "stdout",
     "output_type": "stream",
     "text": [
      "DecisionTree has been trained on part-00039-363d1ba3-8ab5-4f96-bc25-4d5862db7cb9-c000.csv\n"
     ]
    },
    {
     "name": "stderr",
     "output_type": "stream",
     "text": [
      "/home/sc/0.DCU/00.Project/ML_based_IDS_for_IoT/project/env/lib/python3.10/site-packages/sklearn/linear_model/_logistic.py:460: ConvergenceWarning: lbfgs failed to converge (status=1):\n",
      "STOP: TOTAL NO. of ITERATIONS REACHED LIMIT.\n",
      "\n",
      "Increase the number of iterations (max_iter) or scale the data as shown in:\n",
      "    https://scikit-learn.org/stable/modules/preprocessing.html\n",
      "Please also refer to the documentation for alternative solver options:\n",
      "    https://scikit-learn.org/stable/modules/linear_model.html#logistic-regression\n",
      "  n_iter_i = _check_optimize_result(\n"
     ]
    },
    {
     "name": "stdout",
     "output_type": "stream",
     "text": [
      "LogisticRegression has been trained on part-00040-363d1ba3-8ab5-4f96-bc25-4d5862db7cb9-c000.csv\n",
      "Perceptron has been trained on part-00040-363d1ba3-8ab5-4f96-bc25-4d5862db7cb9-c000.csv\n",
      "AdaBoost has been trained on part-00040-363d1ba3-8ab5-4f96-bc25-4d5862db7cb9-c000.csv\n",
      "RandomForest has been trained on part-00040-363d1ba3-8ab5-4f96-bc25-4d5862db7cb9-c000.csv\n",
      "KNN has been trained on part-00040-363d1ba3-8ab5-4f96-bc25-4d5862db7cb9-c000.csv\n"
     ]
    },
    {
     "name": "stderr",
     "output_type": "stream",
     "text": [
      "\r",
      "Training on datasets:  30%|█████████████████████████████████                                                                            | 41/135 [1:35:57<4:26:35, 170.16s/it]"
     ]
    },
    {
     "name": "stdout",
     "output_type": "stream",
     "text": [
      "DecisionTree has been trained on part-00040-363d1ba3-8ab5-4f96-bc25-4d5862db7cb9-c000.csv\n"
     ]
    },
    {
     "name": "stderr",
     "output_type": "stream",
     "text": [
      "/home/sc/0.DCU/00.Project/ML_based_IDS_for_IoT/project/env/lib/python3.10/site-packages/sklearn/linear_model/_logistic.py:460: ConvergenceWarning: lbfgs failed to converge (status=1):\n",
      "STOP: TOTAL NO. of ITERATIONS REACHED LIMIT.\n",
      "\n",
      "Increase the number of iterations (max_iter) or scale the data as shown in:\n",
      "    https://scikit-learn.org/stable/modules/preprocessing.html\n",
      "Please also refer to the documentation for alternative solver options:\n",
      "    https://scikit-learn.org/stable/modules/linear_model.html#logistic-regression\n",
      "  n_iter_i = _check_optimize_result(\n"
     ]
    },
    {
     "name": "stdout",
     "output_type": "stream",
     "text": [
      "LogisticRegression has been trained on part-00041-363d1ba3-8ab5-4f96-bc25-4d5862db7cb9-c000.csv\n",
      "Perceptron has been trained on part-00041-363d1ba3-8ab5-4f96-bc25-4d5862db7cb9-c000.csv\n",
      "AdaBoost has been trained on part-00041-363d1ba3-8ab5-4f96-bc25-4d5862db7cb9-c000.csv\n",
      "RandomForest has been trained on part-00041-363d1ba3-8ab5-4f96-bc25-4d5862db7cb9-c000.csv\n",
      "KNN has been trained on part-00041-363d1ba3-8ab5-4f96-bc25-4d5862db7cb9-c000.csv\n"
     ]
    },
    {
     "name": "stderr",
     "output_type": "stream",
     "text": [
      "\r",
      "Training on datasets:  31%|█████████████████████████████████▉                                                                           | 42/135 [1:39:48<4:51:51, 188.29s/it]"
     ]
    },
    {
     "name": "stdout",
     "output_type": "stream",
     "text": [
      "DecisionTree has been trained on part-00041-363d1ba3-8ab5-4f96-bc25-4d5862db7cb9-c000.csv\n"
     ]
    },
    {
     "name": "stderr",
     "output_type": "stream",
     "text": [
      "/home/sc/0.DCU/00.Project/ML_based_IDS_for_IoT/project/env/lib/python3.10/site-packages/sklearn/linear_model/_logistic.py:460: ConvergenceWarning: lbfgs failed to converge (status=1):\n",
      "STOP: TOTAL NO. of ITERATIONS REACHED LIMIT.\n",
      "\n",
      "Increase the number of iterations (max_iter) or scale the data as shown in:\n",
      "    https://scikit-learn.org/stable/modules/preprocessing.html\n",
      "Please also refer to the documentation for alternative solver options:\n",
      "    https://scikit-learn.org/stable/modules/linear_model.html#logistic-regression\n",
      "  n_iter_i = _check_optimize_result(\n"
     ]
    },
    {
     "name": "stdout",
     "output_type": "stream",
     "text": [
      "LogisticRegression has been trained on part-00042-363d1ba3-8ab5-4f96-bc25-4d5862db7cb9-c000.csv\n",
      "Perceptron has been trained on part-00042-363d1ba3-8ab5-4f96-bc25-4d5862db7cb9-c000.csv\n",
      "AdaBoost has been trained on part-00042-363d1ba3-8ab5-4f96-bc25-4d5862db7cb9-c000.csv\n",
      "RandomForest has been trained on part-00042-363d1ba3-8ab5-4f96-bc25-4d5862db7cb9-c000.csv\n",
      "KNN has been trained on part-00042-363d1ba3-8ab5-4f96-bc25-4d5862db7cb9-c000.csv\n"
     ]
    },
    {
     "name": "stderr",
     "output_type": "stream",
     "text": [
      "\r",
      "Training on datasets:  32%|██████████████████████████████████▋                                                                          | 43/135 [1:41:40<4:13:48, 165.52s/it]"
     ]
    },
    {
     "name": "stdout",
     "output_type": "stream",
     "text": [
      "DecisionTree has been trained on part-00042-363d1ba3-8ab5-4f96-bc25-4d5862db7cb9-c000.csv\n"
     ]
    },
    {
     "name": "stderr",
     "output_type": "stream",
     "text": [
      "/home/sc/0.DCU/00.Project/ML_based_IDS_for_IoT/project/env/lib/python3.10/site-packages/sklearn/linear_model/_logistic.py:460: ConvergenceWarning: lbfgs failed to converge (status=1):\n",
      "STOP: TOTAL NO. of ITERATIONS REACHED LIMIT.\n",
      "\n",
      "Increase the number of iterations (max_iter) or scale the data as shown in:\n",
      "    https://scikit-learn.org/stable/modules/preprocessing.html\n",
      "Please also refer to the documentation for alternative solver options:\n",
      "    https://scikit-learn.org/stable/modules/linear_model.html#logistic-regression\n",
      "  n_iter_i = _check_optimize_result(\n"
     ]
    },
    {
     "name": "stdout",
     "output_type": "stream",
     "text": [
      "LogisticRegression has been trained on part-00043-363d1ba3-8ab5-4f96-bc25-4d5862db7cb9-c000.csv\n",
      "Perceptron has been trained on part-00043-363d1ba3-8ab5-4f96-bc25-4d5862db7cb9-c000.csv\n",
      "AdaBoost has been trained on part-00043-363d1ba3-8ab5-4f96-bc25-4d5862db7cb9-c000.csv\n",
      "RandomForest has been trained on part-00043-363d1ba3-8ab5-4f96-bc25-4d5862db7cb9-c000.csv\n",
      "KNN has been trained on part-00043-363d1ba3-8ab5-4f96-bc25-4d5862db7cb9-c000.csv\n"
     ]
    },
    {
     "name": "stderr",
     "output_type": "stream",
     "text": [
      "\r",
      "Training on datasets:  33%|███████████████████████████████████▌                                                                         | 44/135 [1:43:44<3:52:00, 152.97s/it]"
     ]
    },
    {
     "name": "stdout",
     "output_type": "stream",
     "text": [
      "DecisionTree has been trained on part-00043-363d1ba3-8ab5-4f96-bc25-4d5862db7cb9-c000.csv\n"
     ]
    },
    {
     "name": "stderr",
     "output_type": "stream",
     "text": [
      "/home/sc/0.DCU/00.Project/ML_based_IDS_for_IoT/project/env/lib/python3.10/site-packages/sklearn/linear_model/_logistic.py:460: ConvergenceWarning: lbfgs failed to converge (status=1):\n",
      "STOP: TOTAL NO. of ITERATIONS REACHED LIMIT.\n",
      "\n",
      "Increase the number of iterations (max_iter) or scale the data as shown in:\n",
      "    https://scikit-learn.org/stable/modules/preprocessing.html\n",
      "Please also refer to the documentation for alternative solver options:\n",
      "    https://scikit-learn.org/stable/modules/linear_model.html#logistic-regression\n",
      "  n_iter_i = _check_optimize_result(\n"
     ]
    },
    {
     "name": "stdout",
     "output_type": "stream",
     "text": [
      "LogisticRegression has been trained on part-00044-363d1ba3-8ab5-4f96-bc25-4d5862db7cb9-c000.csv\n",
      "Perceptron has been trained on part-00044-363d1ba3-8ab5-4f96-bc25-4d5862db7cb9-c000.csv\n",
      "AdaBoost has been trained on part-00044-363d1ba3-8ab5-4f96-bc25-4d5862db7cb9-c000.csv\n",
      "RandomForest has been trained on part-00044-363d1ba3-8ab5-4f96-bc25-4d5862db7cb9-c000.csv\n",
      "KNN has been trained on part-00044-363d1ba3-8ab5-4f96-bc25-4d5862db7cb9-c000.csv\n"
     ]
    },
    {
     "name": "stderr",
     "output_type": "stream",
     "text": [
      "\r",
      "Training on datasets:  33%|████████████████████████████████████▎                                                                        | 45/135 [1:45:39<3:32:12, 141.48s/it]"
     ]
    },
    {
     "name": "stdout",
     "output_type": "stream",
     "text": [
      "DecisionTree has been trained on part-00044-363d1ba3-8ab5-4f96-bc25-4d5862db7cb9-c000.csv\n"
     ]
    },
    {
     "name": "stderr",
     "output_type": "stream",
     "text": [
      "/home/sc/0.DCU/00.Project/ML_based_IDS_for_IoT/project/env/lib/python3.10/site-packages/sklearn/linear_model/_logistic.py:460: ConvergenceWarning: lbfgs failed to converge (status=1):\n",
      "STOP: TOTAL NO. of ITERATIONS REACHED LIMIT.\n",
      "\n",
      "Increase the number of iterations (max_iter) or scale the data as shown in:\n",
      "    https://scikit-learn.org/stable/modules/preprocessing.html\n",
      "Please also refer to the documentation for alternative solver options:\n",
      "    https://scikit-learn.org/stable/modules/linear_model.html#logistic-regression\n",
      "  n_iter_i = _check_optimize_result(\n"
     ]
    },
    {
     "name": "stdout",
     "output_type": "stream",
     "text": [
      "LogisticRegression has been trained on part-00045-363d1ba3-8ab5-4f96-bc25-4d5862db7cb9-c000.csv\n",
      "Perceptron has been trained on part-00045-363d1ba3-8ab5-4f96-bc25-4d5862db7cb9-c000.csv\n",
      "AdaBoost has been trained on part-00045-363d1ba3-8ab5-4f96-bc25-4d5862db7cb9-c000.csv\n",
      "RandomForest has been trained on part-00045-363d1ba3-8ab5-4f96-bc25-4d5862db7cb9-c000.csv\n",
      "KNN has been trained on part-00045-363d1ba3-8ab5-4f96-bc25-4d5862db7cb9-c000.csv\n"
     ]
    },
    {
     "name": "stderr",
     "output_type": "stream",
     "text": [
      "\r",
      "Training on datasets:  34%|█████████████████████████████████████▏                                                                       | 46/135 [1:47:43<3:22:23, 136.44s/it]"
     ]
    },
    {
     "name": "stdout",
     "output_type": "stream",
     "text": [
      "DecisionTree has been trained on part-00045-363d1ba3-8ab5-4f96-bc25-4d5862db7cb9-c000.csv\n"
     ]
    },
    {
     "name": "stderr",
     "output_type": "stream",
     "text": [
      "/home/sc/0.DCU/00.Project/ML_based_IDS_for_IoT/project/env/lib/python3.10/site-packages/sklearn/linear_model/_logistic.py:460: ConvergenceWarning: lbfgs failed to converge (status=1):\n",
      "STOP: TOTAL NO. of ITERATIONS REACHED LIMIT.\n",
      "\n",
      "Increase the number of iterations (max_iter) or scale the data as shown in:\n",
      "    https://scikit-learn.org/stable/modules/preprocessing.html\n",
      "Please also refer to the documentation for alternative solver options:\n",
      "    https://scikit-learn.org/stable/modules/linear_model.html#logistic-regression\n",
      "  n_iter_i = _check_optimize_result(\n"
     ]
    },
    {
     "name": "stdout",
     "output_type": "stream",
     "text": [
      "LogisticRegression has been trained on part-00046-363d1ba3-8ab5-4f96-bc25-4d5862db7cb9-c000.csv\n",
      "Perceptron has been trained on part-00046-363d1ba3-8ab5-4f96-bc25-4d5862db7cb9-c000.csv\n",
      "AdaBoost has been trained on part-00046-363d1ba3-8ab5-4f96-bc25-4d5862db7cb9-c000.csv\n",
      "RandomForest has been trained on part-00046-363d1ba3-8ab5-4f96-bc25-4d5862db7cb9-c000.csv\n",
      "KNN has been trained on part-00046-363d1ba3-8ab5-4f96-bc25-4d5862db7cb9-c000.csv\n"
     ]
    },
    {
     "name": "stderr",
     "output_type": "stream",
     "text": [
      "\r",
      "Training on datasets:  35%|█████████████████████████████████████▉                                                                       | 47/135 [1:49:39<3:11:05, 130.29s/it]"
     ]
    },
    {
     "name": "stdout",
     "output_type": "stream",
     "text": [
      "DecisionTree has been trained on part-00046-363d1ba3-8ab5-4f96-bc25-4d5862db7cb9-c000.csv\n"
     ]
    },
    {
     "name": "stderr",
     "output_type": "stream",
     "text": [
      "/home/sc/0.DCU/00.Project/ML_based_IDS_for_IoT/project/env/lib/python3.10/site-packages/sklearn/linear_model/_logistic.py:460: ConvergenceWarning: lbfgs failed to converge (status=1):\n",
      "STOP: TOTAL NO. of ITERATIONS REACHED LIMIT.\n",
      "\n",
      "Increase the number of iterations (max_iter) or scale the data as shown in:\n",
      "    https://scikit-learn.org/stable/modules/preprocessing.html\n",
      "Please also refer to the documentation for alternative solver options:\n",
      "    https://scikit-learn.org/stable/modules/linear_model.html#logistic-regression\n",
      "  n_iter_i = _check_optimize_result(\n"
     ]
    },
    {
     "name": "stdout",
     "output_type": "stream",
     "text": [
      "LogisticRegression has been trained on part-00047-363d1ba3-8ab5-4f96-bc25-4d5862db7cb9-c000.csv\n",
      "Perceptron has been trained on part-00047-363d1ba3-8ab5-4f96-bc25-4d5862db7cb9-c000.csv\n",
      "AdaBoost has been trained on part-00047-363d1ba3-8ab5-4f96-bc25-4d5862db7cb9-c000.csv\n",
      "RandomForest has been trained on part-00047-363d1ba3-8ab5-4f96-bc25-4d5862db7cb9-c000.csv\n",
      "KNN has been trained on part-00047-363d1ba3-8ab5-4f96-bc25-4d5862db7cb9-c000.csv\n"
     ]
    },
    {
     "name": "stderr",
     "output_type": "stream",
     "text": [
      "\r",
      "Training on datasets:  36%|██████████████████████████████████████▊                                                                      | 48/135 [1:51:37<3:03:40, 126.67s/it]"
     ]
    },
    {
     "name": "stdout",
     "output_type": "stream",
     "text": [
      "DecisionTree has been trained on part-00047-363d1ba3-8ab5-4f96-bc25-4d5862db7cb9-c000.csv\n"
     ]
    },
    {
     "name": "stderr",
     "output_type": "stream",
     "text": [
      "/home/sc/0.DCU/00.Project/ML_based_IDS_for_IoT/project/env/lib/python3.10/site-packages/sklearn/linear_model/_logistic.py:460: ConvergenceWarning: lbfgs failed to converge (status=1):\n",
      "STOP: TOTAL NO. of ITERATIONS REACHED LIMIT.\n",
      "\n",
      "Increase the number of iterations (max_iter) or scale the data as shown in:\n",
      "    https://scikit-learn.org/stable/modules/preprocessing.html\n",
      "Please also refer to the documentation for alternative solver options:\n",
      "    https://scikit-learn.org/stable/modules/linear_model.html#logistic-regression\n",
      "  n_iter_i = _check_optimize_result(\n"
     ]
    },
    {
     "name": "stdout",
     "output_type": "stream",
     "text": [
      "LogisticRegression has been trained on part-00048-363d1ba3-8ab5-4f96-bc25-4d5862db7cb9-c000.csv\n",
      "Perceptron has been trained on part-00048-363d1ba3-8ab5-4f96-bc25-4d5862db7cb9-c000.csv\n",
      "AdaBoost has been trained on part-00048-363d1ba3-8ab5-4f96-bc25-4d5862db7cb9-c000.csv\n",
      "RandomForest has been trained on part-00048-363d1ba3-8ab5-4f96-bc25-4d5862db7cb9-c000.csv\n",
      "KNN has been trained on part-00048-363d1ba3-8ab5-4f96-bc25-4d5862db7cb9-c000.csv\n"
     ]
    },
    {
     "name": "stderr",
     "output_type": "stream",
     "text": [
      "\r",
      "Training on datasets:  36%|███████████████████████████████████████▌                                                                     | 49/135 [1:53:25<2:53:30, 121.06s/it]"
     ]
    },
    {
     "name": "stdout",
     "output_type": "stream",
     "text": [
      "DecisionTree has been trained on part-00048-363d1ba3-8ab5-4f96-bc25-4d5862db7cb9-c000.csv\n"
     ]
    },
    {
     "name": "stderr",
     "output_type": "stream",
     "text": [
      "/home/sc/0.DCU/00.Project/ML_based_IDS_for_IoT/project/env/lib/python3.10/site-packages/sklearn/linear_model/_logistic.py:460: ConvergenceWarning: lbfgs failed to converge (status=1):\n",
      "STOP: TOTAL NO. of ITERATIONS REACHED LIMIT.\n",
      "\n",
      "Increase the number of iterations (max_iter) or scale the data as shown in:\n",
      "    https://scikit-learn.org/stable/modules/preprocessing.html\n",
      "Please also refer to the documentation for alternative solver options:\n",
      "    https://scikit-learn.org/stable/modules/linear_model.html#logistic-regression\n",
      "  n_iter_i = _check_optimize_result(\n"
     ]
    },
    {
     "name": "stdout",
     "output_type": "stream",
     "text": [
      "LogisticRegression has been trained on part-00049-363d1ba3-8ab5-4f96-bc25-4d5862db7cb9-c000.csv\n",
      "Perceptron has been trained on part-00049-363d1ba3-8ab5-4f96-bc25-4d5862db7cb9-c000.csv\n",
      "AdaBoost has been trained on part-00049-363d1ba3-8ab5-4f96-bc25-4d5862db7cb9-c000.csv\n",
      "RandomForest has been trained on part-00049-363d1ba3-8ab5-4f96-bc25-4d5862db7cb9-c000.csv\n",
      "KNN has been trained on part-00049-363d1ba3-8ab5-4f96-bc25-4d5862db7cb9-c000.csv\n"
     ]
    },
    {
     "name": "stderr",
     "output_type": "stream",
     "text": [
      "\r",
      "Training on datasets:  37%|████████████████████████████████████████▎                                                                    | 50/135 [1:55:30<2:53:12, 122.26s/it]"
     ]
    },
    {
     "name": "stdout",
     "output_type": "stream",
     "text": [
      "DecisionTree has been trained on part-00049-363d1ba3-8ab5-4f96-bc25-4d5862db7cb9-c000.csv\n"
     ]
    },
    {
     "name": "stderr",
     "output_type": "stream",
     "text": [
      "/home/sc/0.DCU/00.Project/ML_based_IDS_for_IoT/project/env/lib/python3.10/site-packages/sklearn/linear_model/_logistic.py:460: ConvergenceWarning: lbfgs failed to converge (status=1):\n",
      "STOP: TOTAL NO. of ITERATIONS REACHED LIMIT.\n",
      "\n",
      "Increase the number of iterations (max_iter) or scale the data as shown in:\n",
      "    https://scikit-learn.org/stable/modules/preprocessing.html\n",
      "Please also refer to the documentation for alternative solver options:\n",
      "    https://scikit-learn.org/stable/modules/linear_model.html#logistic-regression\n",
      "  n_iter_i = _check_optimize_result(\n"
     ]
    },
    {
     "name": "stdout",
     "output_type": "stream",
     "text": [
      "LogisticRegression has been trained on part-00050-363d1ba3-8ab5-4f96-bc25-4d5862db7cb9-c000.csv\n",
      "Perceptron has been trained on part-00050-363d1ba3-8ab5-4f96-bc25-4d5862db7cb9-c000.csv\n",
      "AdaBoost has been trained on part-00050-363d1ba3-8ab5-4f96-bc25-4d5862db7cb9-c000.csv\n",
      "RandomForest has been trained on part-00050-363d1ba3-8ab5-4f96-bc25-4d5862db7cb9-c000.csv\n",
      "KNN has been trained on part-00050-363d1ba3-8ab5-4f96-bc25-4d5862db7cb9-c000.csv\n"
     ]
    },
    {
     "name": "stderr",
     "output_type": "stream",
     "text": [
      "\r",
      "Training on datasets:  38%|█████████████████████████████████████████▏                                                                   | 51/135 [1:57:25<2:47:57, 119.97s/it]"
     ]
    },
    {
     "name": "stdout",
     "output_type": "stream",
     "text": [
      "DecisionTree has been trained on part-00050-363d1ba3-8ab5-4f96-bc25-4d5862db7cb9-c000.csv\n"
     ]
    },
    {
     "name": "stderr",
     "output_type": "stream",
     "text": [
      "/home/sc/0.DCU/00.Project/ML_based_IDS_for_IoT/project/env/lib/python3.10/site-packages/sklearn/linear_model/_logistic.py:460: ConvergenceWarning: lbfgs failed to converge (status=1):\n",
      "STOP: TOTAL NO. of ITERATIONS REACHED LIMIT.\n",
      "\n",
      "Increase the number of iterations (max_iter) or scale the data as shown in:\n",
      "    https://scikit-learn.org/stable/modules/preprocessing.html\n",
      "Please also refer to the documentation for alternative solver options:\n",
      "    https://scikit-learn.org/stable/modules/linear_model.html#logistic-regression\n",
      "  n_iter_i = _check_optimize_result(\n"
     ]
    },
    {
     "name": "stdout",
     "output_type": "stream",
     "text": [
      "LogisticRegression has been trained on part-00051-363d1ba3-8ab5-4f96-bc25-4d5862db7cb9-c000.csv\n",
      "Perceptron has been trained on part-00051-363d1ba3-8ab5-4f96-bc25-4d5862db7cb9-c000.csv\n",
      "AdaBoost has been trained on part-00051-363d1ba3-8ab5-4f96-bc25-4d5862db7cb9-c000.csv\n",
      "RandomForest has been trained on part-00051-363d1ba3-8ab5-4f96-bc25-4d5862db7cb9-c000.csv\n",
      "KNN has been trained on part-00051-363d1ba3-8ab5-4f96-bc25-4d5862db7cb9-c000.csv\n"
     ]
    },
    {
     "name": "stderr",
     "output_type": "stream",
     "text": [
      "\r",
      "Training on datasets:  39%|█████████████████████████████████████████▉                                                                   | 52/135 [1:59:31<2:48:33, 121.85s/it]"
     ]
    },
    {
     "name": "stdout",
     "output_type": "stream",
     "text": [
      "DecisionTree has been trained on part-00051-363d1ba3-8ab5-4f96-bc25-4d5862db7cb9-c000.csv\n"
     ]
    },
    {
     "name": "stderr",
     "output_type": "stream",
     "text": [
      "/home/sc/0.DCU/00.Project/ML_based_IDS_for_IoT/project/env/lib/python3.10/site-packages/sklearn/linear_model/_logistic.py:460: ConvergenceWarning: lbfgs failed to converge (status=1):\n",
      "STOP: TOTAL NO. of ITERATIONS REACHED LIMIT.\n",
      "\n",
      "Increase the number of iterations (max_iter) or scale the data as shown in:\n",
      "    https://scikit-learn.org/stable/modules/preprocessing.html\n",
      "Please also refer to the documentation for alternative solver options:\n",
      "    https://scikit-learn.org/stable/modules/linear_model.html#logistic-regression\n",
      "  n_iter_i = _check_optimize_result(\n"
     ]
    },
    {
     "name": "stdout",
     "output_type": "stream",
     "text": [
      "LogisticRegression has been trained on part-00052-363d1ba3-8ab5-4f96-bc25-4d5862db7cb9-c000.csv\n",
      "Perceptron has been trained on part-00052-363d1ba3-8ab5-4f96-bc25-4d5862db7cb9-c000.csv\n",
      "AdaBoost has been trained on part-00052-363d1ba3-8ab5-4f96-bc25-4d5862db7cb9-c000.csv\n",
      "RandomForest has been trained on part-00052-363d1ba3-8ab5-4f96-bc25-4d5862db7cb9-c000.csv\n",
      "KNN has been trained on part-00052-363d1ba3-8ab5-4f96-bc25-4d5862db7cb9-c000.csv\n"
     ]
    },
    {
     "name": "stderr",
     "output_type": "stream",
     "text": [
      "\r",
      "Training on datasets:  39%|██████████████████████████████████████████▊                                                                  | 53/135 [2:03:21<3:30:55, 154.34s/it]"
     ]
    },
    {
     "name": "stdout",
     "output_type": "stream",
     "text": [
      "DecisionTree has been trained on part-00052-363d1ba3-8ab5-4f96-bc25-4d5862db7cb9-c000.csv\n"
     ]
    },
    {
     "name": "stderr",
     "output_type": "stream",
     "text": [
      "/home/sc/0.DCU/00.Project/ML_based_IDS_for_IoT/project/env/lib/python3.10/site-packages/sklearn/linear_model/_logistic.py:460: ConvergenceWarning: lbfgs failed to converge (status=1):\n",
      "STOP: TOTAL NO. of ITERATIONS REACHED LIMIT.\n",
      "\n",
      "Increase the number of iterations (max_iter) or scale the data as shown in:\n",
      "    https://scikit-learn.org/stable/modules/preprocessing.html\n",
      "Please also refer to the documentation for alternative solver options:\n",
      "    https://scikit-learn.org/stable/modules/linear_model.html#logistic-regression\n",
      "  n_iter_i = _check_optimize_result(\n"
     ]
    },
    {
     "name": "stdout",
     "output_type": "stream",
     "text": [
      "LogisticRegression has been trained on part-00053-363d1ba3-8ab5-4f96-bc25-4d5862db7cb9-c000.csv\n",
      "Perceptron has been trained on part-00053-363d1ba3-8ab5-4f96-bc25-4d5862db7cb9-c000.csv\n",
      "AdaBoost has been trained on part-00053-363d1ba3-8ab5-4f96-bc25-4d5862db7cb9-c000.csv\n",
      "RandomForest has been trained on part-00053-363d1ba3-8ab5-4f96-bc25-4d5862db7cb9-c000.csv\n",
      "KNN has been trained on part-00053-363d1ba3-8ab5-4f96-bc25-4d5862db7cb9-c000.csv\n"
     ]
    },
    {
     "name": "stderr",
     "output_type": "stream",
     "text": [
      "\r",
      "Training on datasets:  40%|███████████████████████████████████████████▌                                                                 | 54/135 [2:05:23<3:15:03, 144.49s/it]"
     ]
    },
    {
     "name": "stdout",
     "output_type": "stream",
     "text": [
      "DecisionTree has been trained on part-00053-363d1ba3-8ab5-4f96-bc25-4d5862db7cb9-c000.csv\n"
     ]
    },
    {
     "name": "stderr",
     "output_type": "stream",
     "text": [
      "/home/sc/0.DCU/00.Project/ML_based_IDS_for_IoT/project/env/lib/python3.10/site-packages/sklearn/linear_model/_logistic.py:460: ConvergenceWarning: lbfgs failed to converge (status=1):\n",
      "STOP: TOTAL NO. of ITERATIONS REACHED LIMIT.\n",
      "\n",
      "Increase the number of iterations (max_iter) or scale the data as shown in:\n",
      "    https://scikit-learn.org/stable/modules/preprocessing.html\n",
      "Please also refer to the documentation for alternative solver options:\n",
      "    https://scikit-learn.org/stable/modules/linear_model.html#logistic-regression\n",
      "  n_iter_i = _check_optimize_result(\n"
     ]
    },
    {
     "name": "stdout",
     "output_type": "stream",
     "text": [
      "LogisticRegression has been trained on part-00054-363d1ba3-8ab5-4f96-bc25-4d5862db7cb9-c000.csv\n",
      "Perceptron has been trained on part-00054-363d1ba3-8ab5-4f96-bc25-4d5862db7cb9-c000.csv\n",
      "AdaBoost has been trained on part-00054-363d1ba3-8ab5-4f96-bc25-4d5862db7cb9-c000.csv\n",
      "RandomForest has been trained on part-00054-363d1ba3-8ab5-4f96-bc25-4d5862db7cb9-c000.csv\n",
      "KNN has been trained on part-00054-363d1ba3-8ab5-4f96-bc25-4d5862db7cb9-c000.csv\n"
     ]
    },
    {
     "name": "stderr",
     "output_type": "stream",
     "text": [
      "\r",
      "Training on datasets:  41%|████████████████████████████████████████████▍                                                                | 55/135 [2:07:20<3:01:33, 136.16s/it]"
     ]
    },
    {
     "name": "stdout",
     "output_type": "stream",
     "text": [
      "DecisionTree has been trained on part-00054-363d1ba3-8ab5-4f96-bc25-4d5862db7cb9-c000.csv\n"
     ]
    },
    {
     "name": "stderr",
     "output_type": "stream",
     "text": [
      "/home/sc/0.DCU/00.Project/ML_based_IDS_for_IoT/project/env/lib/python3.10/site-packages/sklearn/linear_model/_logistic.py:460: ConvergenceWarning: lbfgs failed to converge (status=1):\n",
      "STOP: TOTAL NO. of ITERATIONS REACHED LIMIT.\n",
      "\n",
      "Increase the number of iterations (max_iter) or scale the data as shown in:\n",
      "    https://scikit-learn.org/stable/modules/preprocessing.html\n",
      "Please also refer to the documentation for alternative solver options:\n",
      "    https://scikit-learn.org/stable/modules/linear_model.html#logistic-regression\n",
      "  n_iter_i = _check_optimize_result(\n"
     ]
    },
    {
     "name": "stdout",
     "output_type": "stream",
     "text": [
      "LogisticRegression has been trained on part-00055-363d1ba3-8ab5-4f96-bc25-4d5862db7cb9-c000.csv\n",
      "Perceptron has been trained on part-00055-363d1ba3-8ab5-4f96-bc25-4d5862db7cb9-c000.csv\n",
      "AdaBoost has been trained on part-00055-363d1ba3-8ab5-4f96-bc25-4d5862db7cb9-c000.csv\n",
      "RandomForest has been trained on part-00055-363d1ba3-8ab5-4f96-bc25-4d5862db7cb9-c000.csv\n",
      "KNN has been trained on part-00055-363d1ba3-8ab5-4f96-bc25-4d5862db7cb9-c000.csv\n"
     ]
    },
    {
     "name": "stderr",
     "output_type": "stream",
     "text": [
      "\r",
      "Training on datasets:  41%|█████████████████████████████████████████████▏                                                               | 56/135 [2:09:09<2:48:38, 128.08s/it]"
     ]
    },
    {
     "name": "stdout",
     "output_type": "stream",
     "text": [
      "DecisionTree has been trained on part-00055-363d1ba3-8ab5-4f96-bc25-4d5862db7cb9-c000.csv\n"
     ]
    },
    {
     "name": "stderr",
     "output_type": "stream",
     "text": [
      "/home/sc/0.DCU/00.Project/ML_based_IDS_for_IoT/project/env/lib/python3.10/site-packages/sklearn/linear_model/_logistic.py:460: ConvergenceWarning: lbfgs failed to converge (status=1):\n",
      "STOP: TOTAL NO. of ITERATIONS REACHED LIMIT.\n",
      "\n",
      "Increase the number of iterations (max_iter) or scale the data as shown in:\n",
      "    https://scikit-learn.org/stable/modules/preprocessing.html\n",
      "Please also refer to the documentation for alternative solver options:\n",
      "    https://scikit-learn.org/stable/modules/linear_model.html#logistic-regression\n",
      "  n_iter_i = _check_optimize_result(\n"
     ]
    },
    {
     "name": "stdout",
     "output_type": "stream",
     "text": [
      "LogisticRegression has been trained on part-00056-363d1ba3-8ab5-4f96-bc25-4d5862db7cb9-c000.csv\n",
      "Perceptron has been trained on part-00056-363d1ba3-8ab5-4f96-bc25-4d5862db7cb9-c000.csv\n",
      "AdaBoost has been trained on part-00056-363d1ba3-8ab5-4f96-bc25-4d5862db7cb9-c000.csv\n",
      "RandomForest has been trained on part-00056-363d1ba3-8ab5-4f96-bc25-4d5862db7cb9-c000.csv\n",
      "KNN has been trained on part-00056-363d1ba3-8ab5-4f96-bc25-4d5862db7cb9-c000.csv\n"
     ]
    },
    {
     "name": "stderr",
     "output_type": "stream",
     "text": [
      "\r",
      "Training on datasets:  42%|██████████████████████████████████████████████                                                               | 57/135 [2:11:04<2:41:34, 124.28s/it]"
     ]
    },
    {
     "name": "stdout",
     "output_type": "stream",
     "text": [
      "DecisionTree has been trained on part-00056-363d1ba3-8ab5-4f96-bc25-4d5862db7cb9-c000.csv\n"
     ]
    },
    {
     "name": "stderr",
     "output_type": "stream",
     "text": [
      "/home/sc/0.DCU/00.Project/ML_based_IDS_for_IoT/project/env/lib/python3.10/site-packages/sklearn/linear_model/_logistic.py:460: ConvergenceWarning: lbfgs failed to converge (status=1):\n",
      "STOP: TOTAL NO. of ITERATIONS REACHED LIMIT.\n",
      "\n",
      "Increase the number of iterations (max_iter) or scale the data as shown in:\n",
      "    https://scikit-learn.org/stable/modules/preprocessing.html\n",
      "Please also refer to the documentation for alternative solver options:\n",
      "    https://scikit-learn.org/stable/modules/linear_model.html#logistic-regression\n",
      "  n_iter_i = _check_optimize_result(\n"
     ]
    },
    {
     "name": "stdout",
     "output_type": "stream",
     "text": [
      "LogisticRegression has been trained on part-00057-363d1ba3-8ab5-4f96-bc25-4d5862db7cb9-c000.csv\n",
      "Perceptron has been trained on part-00057-363d1ba3-8ab5-4f96-bc25-4d5862db7cb9-c000.csv\n",
      "AdaBoost has been trained on part-00057-363d1ba3-8ab5-4f96-bc25-4d5862db7cb9-c000.csv\n",
      "RandomForest has been trained on part-00057-363d1ba3-8ab5-4f96-bc25-4d5862db7cb9-c000.csv\n",
      "KNN has been trained on part-00057-363d1ba3-8ab5-4f96-bc25-4d5862db7cb9-c000.csv\n"
     ]
    },
    {
     "name": "stderr",
     "output_type": "stream",
     "text": [
      "\r",
      "Training on datasets:  43%|██████████████████████████████████████████████▊                                                              | 58/135 [2:14:38<3:14:05, 151.23s/it]"
     ]
    },
    {
     "name": "stdout",
     "output_type": "stream",
     "text": [
      "DecisionTree has been trained on part-00057-363d1ba3-8ab5-4f96-bc25-4d5862db7cb9-c000.csv\n"
     ]
    },
    {
     "name": "stderr",
     "output_type": "stream",
     "text": [
      "/home/sc/0.DCU/00.Project/ML_based_IDS_for_IoT/project/env/lib/python3.10/site-packages/sklearn/linear_model/_logistic.py:460: ConvergenceWarning: lbfgs failed to converge (status=1):\n",
      "STOP: TOTAL NO. of ITERATIONS REACHED LIMIT.\n",
      "\n",
      "Increase the number of iterations (max_iter) or scale the data as shown in:\n",
      "    https://scikit-learn.org/stable/modules/preprocessing.html\n",
      "Please also refer to the documentation for alternative solver options:\n",
      "    https://scikit-learn.org/stable/modules/linear_model.html#logistic-regression\n",
      "  n_iter_i = _check_optimize_result(\n"
     ]
    },
    {
     "name": "stdout",
     "output_type": "stream",
     "text": [
      "LogisticRegression has been trained on part-00058-363d1ba3-8ab5-4f96-bc25-4d5862db7cb9-c000.csv\n",
      "Perceptron has been trained on part-00058-363d1ba3-8ab5-4f96-bc25-4d5862db7cb9-c000.csv\n",
      "AdaBoost has been trained on part-00058-363d1ba3-8ab5-4f96-bc25-4d5862db7cb9-c000.csv\n",
      "RandomForest has been trained on part-00058-363d1ba3-8ab5-4f96-bc25-4d5862db7cb9-c000.csv\n",
      "KNN has been trained on part-00058-363d1ba3-8ab5-4f96-bc25-4d5862db7cb9-c000.csv\n"
     ]
    },
    {
     "name": "stderr",
     "output_type": "stream",
     "text": [
      "\r",
      "Training on datasets:  44%|███████████████████████████████████████████████▋                                                             | 59/135 [2:16:34<2:58:07, 140.62s/it]"
     ]
    },
    {
     "name": "stdout",
     "output_type": "stream",
     "text": [
      "DecisionTree has been trained on part-00058-363d1ba3-8ab5-4f96-bc25-4d5862db7cb9-c000.csv\n"
     ]
    },
    {
     "name": "stderr",
     "output_type": "stream",
     "text": [
      "/home/sc/0.DCU/00.Project/ML_based_IDS_for_IoT/project/env/lib/python3.10/site-packages/sklearn/linear_model/_logistic.py:460: ConvergenceWarning: lbfgs failed to converge (status=1):\n",
      "STOP: TOTAL NO. of ITERATIONS REACHED LIMIT.\n",
      "\n",
      "Increase the number of iterations (max_iter) or scale the data as shown in:\n",
      "    https://scikit-learn.org/stable/modules/preprocessing.html\n",
      "Please also refer to the documentation for alternative solver options:\n",
      "    https://scikit-learn.org/stable/modules/linear_model.html#logistic-regression\n",
      "  n_iter_i = _check_optimize_result(\n"
     ]
    },
    {
     "name": "stdout",
     "output_type": "stream",
     "text": [
      "LogisticRegression has been trained on part-00059-363d1ba3-8ab5-4f96-bc25-4d5862db7cb9-c000.csv\n",
      "Perceptron has been trained on part-00059-363d1ba3-8ab5-4f96-bc25-4d5862db7cb9-c000.csv\n",
      "AdaBoost has been trained on part-00059-363d1ba3-8ab5-4f96-bc25-4d5862db7cb9-c000.csv\n",
      "RandomForest has been trained on part-00059-363d1ba3-8ab5-4f96-bc25-4d5862db7cb9-c000.csv\n",
      "KNN has been trained on part-00059-363d1ba3-8ab5-4f96-bc25-4d5862db7cb9-c000.csv\n"
     ]
    },
    {
     "name": "stderr",
     "output_type": "stream",
     "text": [
      "\r",
      "Training on datasets:  44%|████████████████████████████████████████████████▍                                                            | 60/135 [2:18:34<2:47:57, 134.37s/it]"
     ]
    },
    {
     "name": "stdout",
     "output_type": "stream",
     "text": [
      "DecisionTree has been trained on part-00059-363d1ba3-8ab5-4f96-bc25-4d5862db7cb9-c000.csv\n"
     ]
    },
    {
     "name": "stderr",
     "output_type": "stream",
     "text": [
      "/home/sc/0.DCU/00.Project/ML_based_IDS_for_IoT/project/env/lib/python3.10/site-packages/sklearn/linear_model/_logistic.py:460: ConvergenceWarning: lbfgs failed to converge (status=1):\n",
      "STOP: TOTAL NO. of ITERATIONS REACHED LIMIT.\n",
      "\n",
      "Increase the number of iterations (max_iter) or scale the data as shown in:\n",
      "    https://scikit-learn.org/stable/modules/preprocessing.html\n",
      "Please also refer to the documentation for alternative solver options:\n",
      "    https://scikit-learn.org/stable/modules/linear_model.html#logistic-regression\n",
      "  n_iter_i = _check_optimize_result(\n"
     ]
    },
    {
     "name": "stdout",
     "output_type": "stream",
     "text": [
      "LogisticRegression has been trained on part-00060-363d1ba3-8ab5-4f96-bc25-4d5862db7cb9-c000.csv\n",
      "Perceptron has been trained on part-00060-363d1ba3-8ab5-4f96-bc25-4d5862db7cb9-c000.csv\n",
      "AdaBoost has been trained on part-00060-363d1ba3-8ab5-4f96-bc25-4d5862db7cb9-c000.csv\n",
      "RandomForest has been trained on part-00060-363d1ba3-8ab5-4f96-bc25-4d5862db7cb9-c000.csv\n",
      "KNN has been trained on part-00060-363d1ba3-8ab5-4f96-bc25-4d5862db7cb9-c000.csv\n"
     ]
    },
    {
     "name": "stderr",
     "output_type": "stream",
     "text": [
      "\r",
      "Training on datasets:  45%|█████████████████████████████████████████████████▎                                                           | 61/135 [2:20:44<2:43:54, 132.90s/it]"
     ]
    },
    {
     "name": "stdout",
     "output_type": "stream",
     "text": [
      "DecisionTree has been trained on part-00060-363d1ba3-8ab5-4f96-bc25-4d5862db7cb9-c000.csv\n"
     ]
    },
    {
     "name": "stderr",
     "output_type": "stream",
     "text": [
      "/home/sc/0.DCU/00.Project/ML_based_IDS_for_IoT/project/env/lib/python3.10/site-packages/sklearn/linear_model/_logistic.py:460: ConvergenceWarning: lbfgs failed to converge (status=1):\n",
      "STOP: TOTAL NO. of ITERATIONS REACHED LIMIT.\n",
      "\n",
      "Increase the number of iterations (max_iter) or scale the data as shown in:\n",
      "    https://scikit-learn.org/stable/modules/preprocessing.html\n",
      "Please also refer to the documentation for alternative solver options:\n",
      "    https://scikit-learn.org/stable/modules/linear_model.html#logistic-regression\n",
      "  n_iter_i = _check_optimize_result(\n"
     ]
    },
    {
     "name": "stdout",
     "output_type": "stream",
     "text": [
      "LogisticRegression has been trained on part-00061-363d1ba3-8ab5-4f96-bc25-4d5862db7cb9-c000.csv\n",
      "Perceptron has been trained on part-00061-363d1ba3-8ab5-4f96-bc25-4d5862db7cb9-c000.csv\n",
      "AdaBoost has been trained on part-00061-363d1ba3-8ab5-4f96-bc25-4d5862db7cb9-c000.csv\n",
      "RandomForest has been trained on part-00061-363d1ba3-8ab5-4f96-bc25-4d5862db7cb9-c000.csv\n",
      "KNN has been trained on part-00061-363d1ba3-8ab5-4f96-bc25-4d5862db7cb9-c000.csv\n"
     ]
    },
    {
     "name": "stderr",
     "output_type": "stream",
     "text": [
      "\r",
      "Training on datasets:  46%|██████████████████████████████████████████████████                                                           | 62/135 [2:22:41<2:36:09, 128.36s/it]"
     ]
    },
    {
     "name": "stdout",
     "output_type": "stream",
     "text": [
      "DecisionTree has been trained on part-00061-363d1ba3-8ab5-4f96-bc25-4d5862db7cb9-c000.csv\n"
     ]
    },
    {
     "name": "stderr",
     "output_type": "stream",
     "text": [
      "/home/sc/0.DCU/00.Project/ML_based_IDS_for_IoT/project/env/lib/python3.10/site-packages/sklearn/linear_model/_logistic.py:460: ConvergenceWarning: lbfgs failed to converge (status=1):\n",
      "STOP: TOTAL NO. of ITERATIONS REACHED LIMIT.\n",
      "\n",
      "Increase the number of iterations (max_iter) or scale the data as shown in:\n",
      "    https://scikit-learn.org/stable/modules/preprocessing.html\n",
      "Please also refer to the documentation for alternative solver options:\n",
      "    https://scikit-learn.org/stable/modules/linear_model.html#logistic-regression\n",
      "  n_iter_i = _check_optimize_result(\n"
     ]
    },
    {
     "name": "stdout",
     "output_type": "stream",
     "text": [
      "LogisticRegression has been trained on part-00062-363d1ba3-8ab5-4f96-bc25-4d5862db7cb9-c000.csv\n",
      "Perceptron has been trained on part-00062-363d1ba3-8ab5-4f96-bc25-4d5862db7cb9-c000.csv\n",
      "AdaBoost has been trained on part-00062-363d1ba3-8ab5-4f96-bc25-4d5862db7cb9-c000.csv\n",
      "RandomForest has been trained on part-00062-363d1ba3-8ab5-4f96-bc25-4d5862db7cb9-c000.csv\n",
      "KNN has been trained on part-00062-363d1ba3-8ab5-4f96-bc25-4d5862db7cb9-c000.csv\n"
     ]
    },
    {
     "name": "stderr",
     "output_type": "stream",
     "text": [
      "\r",
      "Training on datasets:  47%|██████████████████████████████████████████████████▊                                                          | 63/135 [2:26:24<3:08:02, 156.70s/it]"
     ]
    },
    {
     "name": "stdout",
     "output_type": "stream",
     "text": [
      "DecisionTree has been trained on part-00062-363d1ba3-8ab5-4f96-bc25-4d5862db7cb9-c000.csv\n"
     ]
    },
    {
     "name": "stderr",
     "output_type": "stream",
     "text": [
      "/home/sc/0.DCU/00.Project/ML_based_IDS_for_IoT/project/env/lib/python3.10/site-packages/sklearn/linear_model/_logistic.py:460: ConvergenceWarning: lbfgs failed to converge (status=1):\n",
      "STOP: TOTAL NO. of ITERATIONS REACHED LIMIT.\n",
      "\n",
      "Increase the number of iterations (max_iter) or scale the data as shown in:\n",
      "    https://scikit-learn.org/stable/modules/preprocessing.html\n",
      "Please also refer to the documentation for alternative solver options:\n",
      "    https://scikit-learn.org/stable/modules/linear_model.html#logistic-regression\n",
      "  n_iter_i = _check_optimize_result(\n"
     ]
    },
    {
     "name": "stdout",
     "output_type": "stream",
     "text": [
      "LogisticRegression has been trained on part-00063-363d1ba3-8ab5-4f96-bc25-4d5862db7cb9-c000.csv\n",
      "Perceptron has been trained on part-00063-363d1ba3-8ab5-4f96-bc25-4d5862db7cb9-c000.csv\n",
      "AdaBoost has been trained on part-00063-363d1ba3-8ab5-4f96-bc25-4d5862db7cb9-c000.csv\n",
      "RandomForest has been trained on part-00063-363d1ba3-8ab5-4f96-bc25-4d5862db7cb9-c000.csv\n",
      "KNN has been trained on part-00063-363d1ba3-8ab5-4f96-bc25-4d5862db7cb9-c000.csv\n"
     ]
    },
    {
     "name": "stderr",
     "output_type": "stream",
     "text": [
      "\r",
      "Training on datasets:  47%|███████████████████████████████████████████████████▋                                                         | 64/135 [2:28:23<2:51:51, 145.24s/it]"
     ]
    },
    {
     "name": "stdout",
     "output_type": "stream",
     "text": [
      "DecisionTree has been trained on part-00063-363d1ba3-8ab5-4f96-bc25-4d5862db7cb9-c000.csv\n"
     ]
    },
    {
     "name": "stderr",
     "output_type": "stream",
     "text": [
      "/home/sc/0.DCU/00.Project/ML_based_IDS_for_IoT/project/env/lib/python3.10/site-packages/sklearn/linear_model/_logistic.py:460: ConvergenceWarning: lbfgs failed to converge (status=1):\n",
      "STOP: TOTAL NO. of ITERATIONS REACHED LIMIT.\n",
      "\n",
      "Increase the number of iterations (max_iter) or scale the data as shown in:\n",
      "    https://scikit-learn.org/stable/modules/preprocessing.html\n",
      "Please also refer to the documentation for alternative solver options:\n",
      "    https://scikit-learn.org/stable/modules/linear_model.html#logistic-regression\n",
      "  n_iter_i = _check_optimize_result(\n"
     ]
    },
    {
     "name": "stdout",
     "output_type": "stream",
     "text": [
      "LogisticRegression has been trained on part-00064-363d1ba3-8ab5-4f96-bc25-4d5862db7cb9-c000.csv\n",
      "Perceptron has been trained on part-00064-363d1ba3-8ab5-4f96-bc25-4d5862db7cb9-c000.csv\n",
      "AdaBoost has been trained on part-00064-363d1ba3-8ab5-4f96-bc25-4d5862db7cb9-c000.csv\n",
      "RandomForest has been trained on part-00064-363d1ba3-8ab5-4f96-bc25-4d5862db7cb9-c000.csv\n",
      "KNN has been trained on part-00064-363d1ba3-8ab5-4f96-bc25-4d5862db7cb9-c000.csv\n"
     ]
    },
    {
     "name": "stderr",
     "output_type": "stream",
     "text": [
      "\r",
      "Training on datasets:  48%|████████████████████████████████████████████████████▍                                                        | 65/135 [2:30:34<2:44:41, 141.16s/it]"
     ]
    },
    {
     "name": "stdout",
     "output_type": "stream",
     "text": [
      "DecisionTree has been trained on part-00064-363d1ba3-8ab5-4f96-bc25-4d5862db7cb9-c000.csv\n"
     ]
    },
    {
     "name": "stderr",
     "output_type": "stream",
     "text": [
      "/home/sc/0.DCU/00.Project/ML_based_IDS_for_IoT/project/env/lib/python3.10/site-packages/sklearn/linear_model/_logistic.py:460: ConvergenceWarning: lbfgs failed to converge (status=1):\n",
      "STOP: TOTAL NO. of ITERATIONS REACHED LIMIT.\n",
      "\n",
      "Increase the number of iterations (max_iter) or scale the data as shown in:\n",
      "    https://scikit-learn.org/stable/modules/preprocessing.html\n",
      "Please also refer to the documentation for alternative solver options:\n",
      "    https://scikit-learn.org/stable/modules/linear_model.html#logistic-regression\n",
      "  n_iter_i = _check_optimize_result(\n"
     ]
    },
    {
     "name": "stdout",
     "output_type": "stream",
     "text": [
      "LogisticRegression has been trained on part-00065-363d1ba3-8ab5-4f96-bc25-4d5862db7cb9-c000.csv\n",
      "Perceptron has been trained on part-00065-363d1ba3-8ab5-4f96-bc25-4d5862db7cb9-c000.csv\n",
      "AdaBoost has been trained on part-00065-363d1ba3-8ab5-4f96-bc25-4d5862db7cb9-c000.csv\n",
      "RandomForest has been trained on part-00065-363d1ba3-8ab5-4f96-bc25-4d5862db7cb9-c000.csv\n",
      "KNN has been trained on part-00065-363d1ba3-8ab5-4f96-bc25-4d5862db7cb9-c000.csv\n"
     ]
    },
    {
     "name": "stderr",
     "output_type": "stream",
     "text": [
      "\r",
      "Training on datasets:  49%|█████████████████████████████████████████████████████▎                                                       | 66/135 [2:32:35<2:35:21, 135.09s/it]"
     ]
    },
    {
     "name": "stdout",
     "output_type": "stream",
     "text": [
      "DecisionTree has been trained on part-00065-363d1ba3-8ab5-4f96-bc25-4d5862db7cb9-c000.csv\n"
     ]
    },
    {
     "name": "stderr",
     "output_type": "stream",
     "text": [
      "/home/sc/0.DCU/00.Project/ML_based_IDS_for_IoT/project/env/lib/python3.10/site-packages/sklearn/linear_model/_logistic.py:460: ConvergenceWarning: lbfgs failed to converge (status=1):\n",
      "STOP: TOTAL NO. of ITERATIONS REACHED LIMIT.\n",
      "\n",
      "Increase the number of iterations (max_iter) or scale the data as shown in:\n",
      "    https://scikit-learn.org/stable/modules/preprocessing.html\n",
      "Please also refer to the documentation for alternative solver options:\n",
      "    https://scikit-learn.org/stable/modules/linear_model.html#logistic-regression\n",
      "  n_iter_i = _check_optimize_result(\n"
     ]
    },
    {
     "name": "stdout",
     "output_type": "stream",
     "text": [
      "LogisticRegression has been trained on part-00066-363d1ba3-8ab5-4f96-bc25-4d5862db7cb9-c000.csv\n",
      "Perceptron has been trained on part-00066-363d1ba3-8ab5-4f96-bc25-4d5862db7cb9-c000.csv\n",
      "AdaBoost has been trained on part-00066-363d1ba3-8ab5-4f96-bc25-4d5862db7cb9-c000.csv\n",
      "RandomForest has been trained on part-00066-363d1ba3-8ab5-4f96-bc25-4d5862db7cb9-c000.csv\n",
      "KNN has been trained on part-00066-363d1ba3-8ab5-4f96-bc25-4d5862db7cb9-c000.csv\n"
     ]
    },
    {
     "name": "stderr",
     "output_type": "stream",
     "text": [
      "\r",
      "Training on datasets:  50%|██████████████████████████████████████████████████████                                                       | 67/135 [2:34:24<2:24:10, 127.21s/it]"
     ]
    },
    {
     "name": "stdout",
     "output_type": "stream",
     "text": [
      "DecisionTree has been trained on part-00066-363d1ba3-8ab5-4f96-bc25-4d5862db7cb9-c000.csv\n"
     ]
    },
    {
     "name": "stderr",
     "output_type": "stream",
     "text": [
      "/home/sc/0.DCU/00.Project/ML_based_IDS_for_IoT/project/env/lib/python3.10/site-packages/sklearn/linear_model/_logistic.py:460: ConvergenceWarning: lbfgs failed to converge (status=1):\n",
      "STOP: TOTAL NO. of ITERATIONS REACHED LIMIT.\n",
      "\n",
      "Increase the number of iterations (max_iter) or scale the data as shown in:\n",
      "    https://scikit-learn.org/stable/modules/preprocessing.html\n",
      "Please also refer to the documentation for alternative solver options:\n",
      "    https://scikit-learn.org/stable/modules/linear_model.html#logistic-regression\n",
      "  n_iter_i = _check_optimize_result(\n"
     ]
    },
    {
     "name": "stdout",
     "output_type": "stream",
     "text": [
      "LogisticRegression has been trained on part-00067-363d1ba3-8ab5-4f96-bc25-4d5862db7cb9-c000.csv\n",
      "Perceptron has been trained on part-00067-363d1ba3-8ab5-4f96-bc25-4d5862db7cb9-c000.csv\n",
      "AdaBoost has been trained on part-00067-363d1ba3-8ab5-4f96-bc25-4d5862db7cb9-c000.csv\n",
      "RandomForest has been trained on part-00067-363d1ba3-8ab5-4f96-bc25-4d5862db7cb9-c000.csv\n",
      "KNN has been trained on part-00067-363d1ba3-8ab5-4f96-bc25-4d5862db7cb9-c000.csv\n"
     ]
    },
    {
     "name": "stderr",
     "output_type": "stream",
     "text": [
      "\r",
      "Training on datasets:  50%|██████████████████████████████████████████████████████▉                                                      | 68/135 [2:36:38<2:24:20, 129.26s/it]"
     ]
    },
    {
     "name": "stdout",
     "output_type": "stream",
     "text": [
      "DecisionTree has been trained on part-00067-363d1ba3-8ab5-4f96-bc25-4d5862db7cb9-c000.csv\n"
     ]
    },
    {
     "name": "stderr",
     "output_type": "stream",
     "text": [
      "/home/sc/0.DCU/00.Project/ML_based_IDS_for_IoT/project/env/lib/python3.10/site-packages/sklearn/linear_model/_logistic.py:460: ConvergenceWarning: lbfgs failed to converge (status=1):\n",
      "STOP: TOTAL NO. of ITERATIONS REACHED LIMIT.\n",
      "\n",
      "Increase the number of iterations (max_iter) or scale the data as shown in:\n",
      "    https://scikit-learn.org/stable/modules/preprocessing.html\n",
      "Please also refer to the documentation for alternative solver options:\n",
      "    https://scikit-learn.org/stable/modules/linear_model.html#logistic-regression\n",
      "  n_iter_i = _check_optimize_result(\n"
     ]
    },
    {
     "name": "stdout",
     "output_type": "stream",
     "text": [
      "LogisticRegression has been trained on part-00068-363d1ba3-8ab5-4f96-bc25-4d5862db7cb9-c000.csv\n",
      "Perceptron has been trained on part-00068-363d1ba3-8ab5-4f96-bc25-4d5862db7cb9-c000.csv\n",
      "AdaBoost has been trained on part-00068-363d1ba3-8ab5-4f96-bc25-4d5862db7cb9-c000.csv\n",
      "RandomForest has been trained on part-00068-363d1ba3-8ab5-4f96-bc25-4d5862db7cb9-c000.csv\n",
      "KNN has been trained on part-00068-363d1ba3-8ab5-4f96-bc25-4d5862db7cb9-c000.csv\n"
     ]
    },
    {
     "name": "stderr",
     "output_type": "stream",
     "text": [
      "\r",
      "Training on datasets:  51%|███████████████████████████████████████████████████████▋                                                     | 69/135 [2:38:28<2:15:41, 123.35s/it]"
     ]
    },
    {
     "name": "stdout",
     "output_type": "stream",
     "text": [
      "DecisionTree has been trained on part-00068-363d1ba3-8ab5-4f96-bc25-4d5862db7cb9-c000.csv\n"
     ]
    },
    {
     "name": "stderr",
     "output_type": "stream",
     "text": [
      "/home/sc/0.DCU/00.Project/ML_based_IDS_for_IoT/project/env/lib/python3.10/site-packages/sklearn/linear_model/_logistic.py:460: ConvergenceWarning: lbfgs failed to converge (status=1):\n",
      "STOP: TOTAL NO. of ITERATIONS REACHED LIMIT.\n",
      "\n",
      "Increase the number of iterations (max_iter) or scale the data as shown in:\n",
      "    https://scikit-learn.org/stable/modules/preprocessing.html\n",
      "Please also refer to the documentation for alternative solver options:\n",
      "    https://scikit-learn.org/stable/modules/linear_model.html#logistic-regression\n",
      "  n_iter_i = _check_optimize_result(\n"
     ]
    },
    {
     "name": "stdout",
     "output_type": "stream",
     "text": [
      "LogisticRegression has been trained on part-00069-363d1ba3-8ab5-4f96-bc25-4d5862db7cb9-c000.csv\n",
      "Perceptron has been trained on part-00069-363d1ba3-8ab5-4f96-bc25-4d5862db7cb9-c000.csv\n",
      "AdaBoost has been trained on part-00069-363d1ba3-8ab5-4f96-bc25-4d5862db7cb9-c000.csv\n",
      "RandomForest has been trained on part-00069-363d1ba3-8ab5-4f96-bc25-4d5862db7cb9-c000.csv\n",
      "KNN has been trained on part-00069-363d1ba3-8ab5-4f96-bc25-4d5862db7cb9-c000.csv\n"
     ]
    },
    {
     "name": "stderr",
     "output_type": "stream",
     "text": [
      "\r",
      "Training on datasets:  52%|████████████████████████████████████████████████████████▌                                                    | 70/135 [2:40:29<2:12:51, 122.63s/it]"
     ]
    },
    {
     "name": "stdout",
     "output_type": "stream",
     "text": [
      "DecisionTree has been trained on part-00069-363d1ba3-8ab5-4f96-bc25-4d5862db7cb9-c000.csv\n"
     ]
    },
    {
     "name": "stderr",
     "output_type": "stream",
     "text": [
      "/home/sc/0.DCU/00.Project/ML_based_IDS_for_IoT/project/env/lib/python3.10/site-packages/sklearn/linear_model/_logistic.py:460: ConvergenceWarning: lbfgs failed to converge (status=1):\n",
      "STOP: TOTAL NO. of ITERATIONS REACHED LIMIT.\n",
      "\n",
      "Increase the number of iterations (max_iter) or scale the data as shown in:\n",
      "    https://scikit-learn.org/stable/modules/preprocessing.html\n",
      "Please also refer to the documentation for alternative solver options:\n",
      "    https://scikit-learn.org/stable/modules/linear_model.html#logistic-regression\n",
      "  n_iter_i = _check_optimize_result(\n"
     ]
    },
    {
     "name": "stdout",
     "output_type": "stream",
     "text": [
      "LogisticRegression has been trained on part-00070-363d1ba3-8ab5-4f96-bc25-4d5862db7cb9-c000.csv\n",
      "Perceptron has been trained on part-00070-363d1ba3-8ab5-4f96-bc25-4d5862db7cb9-c000.csv\n",
      "AdaBoost has been trained on part-00070-363d1ba3-8ab5-4f96-bc25-4d5862db7cb9-c000.csv\n",
      "RandomForest has been trained on part-00070-363d1ba3-8ab5-4f96-bc25-4d5862db7cb9-c000.csv\n",
      "KNN has been trained on part-00070-363d1ba3-8ab5-4f96-bc25-4d5862db7cb9-c000.csv\n"
     ]
    },
    {
     "name": "stderr",
     "output_type": "stream",
     "text": [
      "\r",
      "Training on datasets:  53%|█████████████████████████████████████████████████████████▎                                                   | 71/135 [2:42:21<2:07:24, 119.44s/it]"
     ]
    },
    {
     "name": "stdout",
     "output_type": "stream",
     "text": [
      "DecisionTree has been trained on part-00070-363d1ba3-8ab5-4f96-bc25-4d5862db7cb9-c000.csv\n"
     ]
    },
    {
     "name": "stderr",
     "output_type": "stream",
     "text": [
      "/home/sc/0.DCU/00.Project/ML_based_IDS_for_IoT/project/env/lib/python3.10/site-packages/sklearn/linear_model/_logistic.py:460: ConvergenceWarning: lbfgs failed to converge (status=1):\n",
      "STOP: TOTAL NO. of ITERATIONS REACHED LIMIT.\n",
      "\n",
      "Increase the number of iterations (max_iter) or scale the data as shown in:\n",
      "    https://scikit-learn.org/stable/modules/preprocessing.html\n",
      "Please also refer to the documentation for alternative solver options:\n",
      "    https://scikit-learn.org/stable/modules/linear_model.html#logistic-regression\n",
      "  n_iter_i = _check_optimize_result(\n"
     ]
    },
    {
     "name": "stdout",
     "output_type": "stream",
     "text": [
      "LogisticRegression has been trained on part-00071-363d1ba3-8ab5-4f96-bc25-4d5862db7cb9-c000.csv\n",
      "Perceptron has been trained on part-00071-363d1ba3-8ab5-4f96-bc25-4d5862db7cb9-c000.csv\n",
      "AdaBoost has been trained on part-00071-363d1ba3-8ab5-4f96-bc25-4d5862db7cb9-c000.csv\n",
      "RandomForest has been trained on part-00071-363d1ba3-8ab5-4f96-bc25-4d5862db7cb9-c000.csv\n",
      "KNN has been trained on part-00071-363d1ba3-8ab5-4f96-bc25-4d5862db7cb9-c000.csv\n"
     ]
    },
    {
     "name": "stderr",
     "output_type": "stream",
     "text": [
      "\r",
      "Training on datasets:  53%|██████████████████████████████████████████████████████████▏                                                  | 72/135 [2:44:35<2:10:13, 124.02s/it]"
     ]
    },
    {
     "name": "stdout",
     "output_type": "stream",
     "text": [
      "DecisionTree has been trained on part-00071-363d1ba3-8ab5-4f96-bc25-4d5862db7cb9-c000.csv\n"
     ]
    },
    {
     "name": "stderr",
     "output_type": "stream",
     "text": [
      "/home/sc/0.DCU/00.Project/ML_based_IDS_for_IoT/project/env/lib/python3.10/site-packages/sklearn/linear_model/_logistic.py:460: ConvergenceWarning: lbfgs failed to converge (status=1):\n",
      "STOP: TOTAL NO. of ITERATIONS REACHED LIMIT.\n",
      "\n",
      "Increase the number of iterations (max_iter) or scale the data as shown in:\n",
      "    https://scikit-learn.org/stable/modules/preprocessing.html\n",
      "Please also refer to the documentation for alternative solver options:\n",
      "    https://scikit-learn.org/stable/modules/linear_model.html#logistic-regression\n",
      "  n_iter_i = _check_optimize_result(\n"
     ]
    },
    {
     "name": "stdout",
     "output_type": "stream",
     "text": [
      "LogisticRegression has been trained on part-00072-363d1ba3-8ab5-4f96-bc25-4d5862db7cb9-c000.csv\n",
      "Perceptron has been trained on part-00072-363d1ba3-8ab5-4f96-bc25-4d5862db7cb9-c000.csv\n",
      "AdaBoost has been trained on part-00072-363d1ba3-8ab5-4f96-bc25-4d5862db7cb9-c000.csv\n",
      "RandomForest has been trained on part-00072-363d1ba3-8ab5-4f96-bc25-4d5862db7cb9-c000.csv\n",
      "KNN has been trained on part-00072-363d1ba3-8ab5-4f96-bc25-4d5862db7cb9-c000.csv\n"
     ]
    },
    {
     "name": "stderr",
     "output_type": "stream",
     "text": [
      "\r",
      "Training on datasets:  54%|██████████████████████████████████████████████████████████▉                                                  | 73/135 [2:46:45<2:09:59, 125.80s/it]"
     ]
    },
    {
     "name": "stdout",
     "output_type": "stream",
     "text": [
      "DecisionTree has been trained on part-00072-363d1ba3-8ab5-4f96-bc25-4d5862db7cb9-c000.csv\n"
     ]
    },
    {
     "name": "stderr",
     "output_type": "stream",
     "text": [
      "/home/sc/0.DCU/00.Project/ML_based_IDS_for_IoT/project/env/lib/python3.10/site-packages/sklearn/linear_model/_logistic.py:460: ConvergenceWarning: lbfgs failed to converge (status=1):\n",
      "STOP: TOTAL NO. of ITERATIONS REACHED LIMIT.\n",
      "\n",
      "Increase the number of iterations (max_iter) or scale the data as shown in:\n",
      "    https://scikit-learn.org/stable/modules/preprocessing.html\n",
      "Please also refer to the documentation for alternative solver options:\n",
      "    https://scikit-learn.org/stable/modules/linear_model.html#logistic-regression\n",
      "  n_iter_i = _check_optimize_result(\n"
     ]
    },
    {
     "name": "stdout",
     "output_type": "stream",
     "text": [
      "LogisticRegression has been trained on part-00073-363d1ba3-8ab5-4f96-bc25-4d5862db7cb9-c000.csv\n",
      "Perceptron has been trained on part-00073-363d1ba3-8ab5-4f96-bc25-4d5862db7cb9-c000.csv\n",
      "AdaBoost has been trained on part-00073-363d1ba3-8ab5-4f96-bc25-4d5862db7cb9-c000.csv\n",
      "RandomForest has been trained on part-00073-363d1ba3-8ab5-4f96-bc25-4d5862db7cb9-c000.csv\n",
      "KNN has been trained on part-00073-363d1ba3-8ab5-4f96-bc25-4d5862db7cb9-c000.csv\n"
     ]
    },
    {
     "name": "stderr",
     "output_type": "stream",
     "text": [
      "\r",
      "Training on datasets:  55%|███████████████████████████████████████████████████████████▋                                                 | 74/135 [2:48:39<2:04:15, 122.21s/it]"
     ]
    },
    {
     "name": "stdout",
     "output_type": "stream",
     "text": [
      "DecisionTree has been trained on part-00073-363d1ba3-8ab5-4f96-bc25-4d5862db7cb9-c000.csv\n"
     ]
    },
    {
     "name": "stderr",
     "output_type": "stream",
     "text": [
      "/home/sc/0.DCU/00.Project/ML_based_IDS_for_IoT/project/env/lib/python3.10/site-packages/sklearn/linear_model/_logistic.py:460: ConvergenceWarning: lbfgs failed to converge (status=1):\n",
      "STOP: TOTAL NO. of ITERATIONS REACHED LIMIT.\n",
      "\n",
      "Increase the number of iterations (max_iter) or scale the data as shown in:\n",
      "    https://scikit-learn.org/stable/modules/preprocessing.html\n",
      "Please also refer to the documentation for alternative solver options:\n",
      "    https://scikit-learn.org/stable/modules/linear_model.html#logistic-regression\n",
      "  n_iter_i = _check_optimize_result(\n"
     ]
    },
    {
     "name": "stdout",
     "output_type": "stream",
     "text": [
      "LogisticRegression has been trained on part-00074-363d1ba3-8ab5-4f96-bc25-4d5862db7cb9-c000.csv\n",
      "Perceptron has been trained on part-00074-363d1ba3-8ab5-4f96-bc25-4d5862db7cb9-c000.csv\n",
      "AdaBoost has been trained on part-00074-363d1ba3-8ab5-4f96-bc25-4d5862db7cb9-c000.csv\n",
      "RandomForest has been trained on part-00074-363d1ba3-8ab5-4f96-bc25-4d5862db7cb9-c000.csv\n",
      "KNN has been trained on part-00074-363d1ba3-8ab5-4f96-bc25-4d5862db7cb9-c000.csv\n"
     ]
    },
    {
     "name": "stderr",
     "output_type": "stream",
     "text": [
      "\r",
      "Training on datasets:  56%|████████████████████████████████████████████████████████████▌                                                | 75/135 [2:50:42<2:02:29, 122.49s/it]"
     ]
    },
    {
     "name": "stdout",
     "output_type": "stream",
     "text": [
      "DecisionTree has been trained on part-00074-363d1ba3-8ab5-4f96-bc25-4d5862db7cb9-c000.csv\n"
     ]
    },
    {
     "name": "stderr",
     "output_type": "stream",
     "text": [
      "/home/sc/0.DCU/00.Project/ML_based_IDS_for_IoT/project/env/lib/python3.10/site-packages/sklearn/linear_model/_logistic.py:460: ConvergenceWarning: lbfgs failed to converge (status=1):\n",
      "STOP: TOTAL NO. of ITERATIONS REACHED LIMIT.\n",
      "\n",
      "Increase the number of iterations (max_iter) or scale the data as shown in:\n",
      "    https://scikit-learn.org/stable/modules/preprocessing.html\n",
      "Please also refer to the documentation for alternative solver options:\n",
      "    https://scikit-learn.org/stable/modules/linear_model.html#logistic-regression\n",
      "  n_iter_i = _check_optimize_result(\n"
     ]
    },
    {
     "name": "stdout",
     "output_type": "stream",
     "text": [
      "LogisticRegression has been trained on part-00075-363d1ba3-8ab5-4f96-bc25-4d5862db7cb9-c000.csv\n",
      "Perceptron has been trained on part-00075-363d1ba3-8ab5-4f96-bc25-4d5862db7cb9-c000.csv\n",
      "AdaBoost has been trained on part-00075-363d1ba3-8ab5-4f96-bc25-4d5862db7cb9-c000.csv\n",
      "RandomForest has been trained on part-00075-363d1ba3-8ab5-4f96-bc25-4d5862db7cb9-c000.csv\n",
      "KNN has been trained on part-00075-363d1ba3-8ab5-4f96-bc25-4d5862db7cb9-c000.csv\n"
     ]
    },
    {
     "name": "stderr",
     "output_type": "stream",
     "text": [
      "\r",
      "Training on datasets:  56%|█████████████████████████████████████████████████████████████▎                                               | 76/135 [2:54:23<2:29:34, 152.11s/it]"
     ]
    },
    {
     "name": "stdout",
     "output_type": "stream",
     "text": [
      "DecisionTree has been trained on part-00075-363d1ba3-8ab5-4f96-bc25-4d5862db7cb9-c000.csv\n"
     ]
    },
    {
     "name": "stderr",
     "output_type": "stream",
     "text": [
      "/home/sc/0.DCU/00.Project/ML_based_IDS_for_IoT/project/env/lib/python3.10/site-packages/sklearn/linear_model/_logistic.py:460: ConvergenceWarning: lbfgs failed to converge (status=1):\n",
      "STOP: TOTAL NO. of ITERATIONS REACHED LIMIT.\n",
      "\n",
      "Increase the number of iterations (max_iter) or scale the data as shown in:\n",
      "    https://scikit-learn.org/stable/modules/preprocessing.html\n",
      "Please also refer to the documentation for alternative solver options:\n",
      "    https://scikit-learn.org/stable/modules/linear_model.html#logistic-regression\n",
      "  n_iter_i = _check_optimize_result(\n"
     ]
    },
    {
     "name": "stdout",
     "output_type": "stream",
     "text": [
      "LogisticRegression has been trained on part-00076-363d1ba3-8ab5-4f96-bc25-4d5862db7cb9-c000.csv\n",
      "Perceptron has been trained on part-00076-363d1ba3-8ab5-4f96-bc25-4d5862db7cb9-c000.csv\n",
      "AdaBoost has been trained on part-00076-363d1ba3-8ab5-4f96-bc25-4d5862db7cb9-c000.csv\n",
      "RandomForest has been trained on part-00076-363d1ba3-8ab5-4f96-bc25-4d5862db7cb9-c000.csv\n",
      "KNN has been trained on part-00076-363d1ba3-8ab5-4f96-bc25-4d5862db7cb9-c000.csv\n"
     ]
    },
    {
     "name": "stderr",
     "output_type": "stream",
     "text": [
      "\r",
      "Training on datasets:  57%|██████████████████████████████████████████████████████████████▏                                              | 77/135 [2:58:07<2:47:44, 173.53s/it]"
     ]
    },
    {
     "name": "stdout",
     "output_type": "stream",
     "text": [
      "DecisionTree has been trained on part-00076-363d1ba3-8ab5-4f96-bc25-4d5862db7cb9-c000.csv\n"
     ]
    },
    {
     "name": "stderr",
     "output_type": "stream",
     "text": [
      "/home/sc/0.DCU/00.Project/ML_based_IDS_for_IoT/project/env/lib/python3.10/site-packages/sklearn/linear_model/_logistic.py:460: ConvergenceWarning: lbfgs failed to converge (status=1):\n",
      "STOP: TOTAL NO. of ITERATIONS REACHED LIMIT.\n",
      "\n",
      "Increase the number of iterations (max_iter) or scale the data as shown in:\n",
      "    https://scikit-learn.org/stable/modules/preprocessing.html\n",
      "Please also refer to the documentation for alternative solver options:\n",
      "    https://scikit-learn.org/stable/modules/linear_model.html#logistic-regression\n",
      "  n_iter_i = _check_optimize_result(\n"
     ]
    },
    {
     "name": "stdout",
     "output_type": "stream",
     "text": [
      "LogisticRegression has been trained on part-00077-363d1ba3-8ab5-4f96-bc25-4d5862db7cb9-c000.csv\n",
      "Perceptron has been trained on part-00077-363d1ba3-8ab5-4f96-bc25-4d5862db7cb9-c000.csv\n",
      "AdaBoost has been trained on part-00077-363d1ba3-8ab5-4f96-bc25-4d5862db7cb9-c000.csv\n",
      "RandomForest has been trained on part-00077-363d1ba3-8ab5-4f96-bc25-4d5862db7cb9-c000.csv\n",
      "KNN has been trained on part-00077-363d1ba3-8ab5-4f96-bc25-4d5862db7cb9-c000.csv\n"
     ]
    },
    {
     "name": "stderr",
     "output_type": "stream",
     "text": [
      "\r",
      "Training on datasets:  58%|██████████████████████████████████████████████████████████████▉                                              | 78/135 [3:01:50<2:58:57, 188.38s/it]"
     ]
    },
    {
     "name": "stdout",
     "output_type": "stream",
     "text": [
      "DecisionTree has been trained on part-00077-363d1ba3-8ab5-4f96-bc25-4d5862db7cb9-c000.csv\n"
     ]
    },
    {
     "name": "stderr",
     "output_type": "stream",
     "text": [
      "/home/sc/0.DCU/00.Project/ML_based_IDS_for_IoT/project/env/lib/python3.10/site-packages/sklearn/linear_model/_logistic.py:460: ConvergenceWarning: lbfgs failed to converge (status=1):\n",
      "STOP: TOTAL NO. of ITERATIONS REACHED LIMIT.\n",
      "\n",
      "Increase the number of iterations (max_iter) or scale the data as shown in:\n",
      "    https://scikit-learn.org/stable/modules/preprocessing.html\n",
      "Please also refer to the documentation for alternative solver options:\n",
      "    https://scikit-learn.org/stable/modules/linear_model.html#logistic-regression\n",
      "  n_iter_i = _check_optimize_result(\n"
     ]
    },
    {
     "name": "stdout",
     "output_type": "stream",
     "text": [
      "LogisticRegression has been trained on part-00078-363d1ba3-8ab5-4f96-bc25-4d5862db7cb9-c000.csv\n",
      "Perceptron has been trained on part-00078-363d1ba3-8ab5-4f96-bc25-4d5862db7cb9-c000.csv\n",
      "AdaBoost has been trained on part-00078-363d1ba3-8ab5-4f96-bc25-4d5862db7cb9-c000.csv\n",
      "RandomForest has been trained on part-00078-363d1ba3-8ab5-4f96-bc25-4d5862db7cb9-c000.csv\n",
      "KNN has been trained on part-00078-363d1ba3-8ab5-4f96-bc25-4d5862db7cb9-c000.csv\n"
     ]
    },
    {
     "name": "stderr",
     "output_type": "stream",
     "text": [
      "\r",
      "Training on datasets:  59%|███████████████████████████████████████████████████████████████▊                                             | 79/135 [3:05:26<3:03:32, 196.66s/it]"
     ]
    },
    {
     "name": "stdout",
     "output_type": "stream",
     "text": [
      "DecisionTree has been trained on part-00078-363d1ba3-8ab5-4f96-bc25-4d5862db7cb9-c000.csv\n"
     ]
    },
    {
     "name": "stderr",
     "output_type": "stream",
     "text": [
      "/home/sc/0.DCU/00.Project/ML_based_IDS_for_IoT/project/env/lib/python3.10/site-packages/sklearn/linear_model/_logistic.py:460: ConvergenceWarning: lbfgs failed to converge (status=1):\n",
      "STOP: TOTAL NO. of ITERATIONS REACHED LIMIT.\n",
      "\n",
      "Increase the number of iterations (max_iter) or scale the data as shown in:\n",
      "    https://scikit-learn.org/stable/modules/preprocessing.html\n",
      "Please also refer to the documentation for alternative solver options:\n",
      "    https://scikit-learn.org/stable/modules/linear_model.html#logistic-regression\n",
      "  n_iter_i = _check_optimize_result(\n"
     ]
    },
    {
     "name": "stdout",
     "output_type": "stream",
     "text": [
      "LogisticRegression has been trained on part-00079-363d1ba3-8ab5-4f96-bc25-4d5862db7cb9-c000.csv\n",
      "Perceptron has been trained on part-00079-363d1ba3-8ab5-4f96-bc25-4d5862db7cb9-c000.csv\n",
      "AdaBoost has been trained on part-00079-363d1ba3-8ab5-4f96-bc25-4d5862db7cb9-c000.csv\n",
      "RandomForest has been trained on part-00079-363d1ba3-8ab5-4f96-bc25-4d5862db7cb9-c000.csv\n",
      "KNN has been trained on part-00079-363d1ba3-8ab5-4f96-bc25-4d5862db7cb9-c000.csv\n"
     ]
    },
    {
     "name": "stderr",
     "output_type": "stream",
     "text": [
      "\r",
      "Training on datasets:  59%|████████████████████████████████████████████████████████████████▌                                            | 80/135 [3:09:13<3:08:41, 205.84s/it]"
     ]
    },
    {
     "name": "stdout",
     "output_type": "stream",
     "text": [
      "DecisionTree has been trained on part-00079-363d1ba3-8ab5-4f96-bc25-4d5862db7cb9-c000.csv\n"
     ]
    },
    {
     "name": "stderr",
     "output_type": "stream",
     "text": [
      "/home/sc/0.DCU/00.Project/ML_based_IDS_for_IoT/project/env/lib/python3.10/site-packages/sklearn/linear_model/_logistic.py:460: ConvergenceWarning: lbfgs failed to converge (status=1):\n",
      "STOP: TOTAL NO. of ITERATIONS REACHED LIMIT.\n",
      "\n",
      "Increase the number of iterations (max_iter) or scale the data as shown in:\n",
      "    https://scikit-learn.org/stable/modules/preprocessing.html\n",
      "Please also refer to the documentation for alternative solver options:\n",
      "    https://scikit-learn.org/stable/modules/linear_model.html#logistic-regression\n",
      "  n_iter_i = _check_optimize_result(\n"
     ]
    },
    {
     "name": "stdout",
     "output_type": "stream",
     "text": [
      "LogisticRegression has been trained on part-00080-363d1ba3-8ab5-4f96-bc25-4d5862db7cb9-c000.csv\n",
      "Perceptron has been trained on part-00080-363d1ba3-8ab5-4f96-bc25-4d5862db7cb9-c000.csv\n",
      "AdaBoost has been trained on part-00080-363d1ba3-8ab5-4f96-bc25-4d5862db7cb9-c000.csv\n",
      "RandomForest has been trained on part-00080-363d1ba3-8ab5-4f96-bc25-4d5862db7cb9-c000.csv\n",
      "KNN has been trained on part-00080-363d1ba3-8ab5-4f96-bc25-4d5862db7cb9-c000.csv\n"
     ]
    },
    {
     "name": "stderr",
     "output_type": "stream",
     "text": [
      "\r",
      "Training on datasets:  60%|█████████████████████████████████████████████████████████████████▍                                           | 81/135 [3:11:09<2:41:01, 178.92s/it]"
     ]
    },
    {
     "name": "stdout",
     "output_type": "stream",
     "text": [
      "DecisionTree has been trained on part-00080-363d1ba3-8ab5-4f96-bc25-4d5862db7cb9-c000.csv\n"
     ]
    },
    {
     "name": "stderr",
     "output_type": "stream",
     "text": [
      "/home/sc/0.DCU/00.Project/ML_based_IDS_for_IoT/project/env/lib/python3.10/site-packages/sklearn/linear_model/_logistic.py:460: ConvergenceWarning: lbfgs failed to converge (status=1):\n",
      "STOP: TOTAL NO. of ITERATIONS REACHED LIMIT.\n",
      "\n",
      "Increase the number of iterations (max_iter) or scale the data as shown in:\n",
      "    https://scikit-learn.org/stable/modules/preprocessing.html\n",
      "Please also refer to the documentation for alternative solver options:\n",
      "    https://scikit-learn.org/stable/modules/linear_model.html#logistic-regression\n",
      "  n_iter_i = _check_optimize_result(\n"
     ]
    },
    {
     "name": "stdout",
     "output_type": "stream",
     "text": [
      "LogisticRegression has been trained on part-00081-363d1ba3-8ab5-4f96-bc25-4d5862db7cb9-c000.csv\n",
      "Perceptron has been trained on part-00081-363d1ba3-8ab5-4f96-bc25-4d5862db7cb9-c000.csv\n",
      "AdaBoost has been trained on part-00081-363d1ba3-8ab5-4f96-bc25-4d5862db7cb9-c000.csv\n",
      "RandomForest has been trained on part-00081-363d1ba3-8ab5-4f96-bc25-4d5862db7cb9-c000.csv\n",
      "KNN has been trained on part-00081-363d1ba3-8ab5-4f96-bc25-4d5862db7cb9-c000.csv\n"
     ]
    },
    {
     "name": "stderr",
     "output_type": "stream",
     "text": [
      "\r",
      "Training on datasets:  61%|██████████████████████████████████████████████████████████████████▏                                          | 82/135 [3:13:03<2:20:47, 159.39s/it]"
     ]
    },
    {
     "name": "stdout",
     "output_type": "stream",
     "text": [
      "DecisionTree has been trained on part-00081-363d1ba3-8ab5-4f96-bc25-4d5862db7cb9-c000.csv\n"
     ]
    },
    {
     "name": "stderr",
     "output_type": "stream",
     "text": [
      "/home/sc/0.DCU/00.Project/ML_based_IDS_for_IoT/project/env/lib/python3.10/site-packages/sklearn/linear_model/_logistic.py:460: ConvergenceWarning: lbfgs failed to converge (status=1):\n",
      "STOP: TOTAL NO. of ITERATIONS REACHED LIMIT.\n",
      "\n",
      "Increase the number of iterations (max_iter) or scale the data as shown in:\n",
      "    https://scikit-learn.org/stable/modules/preprocessing.html\n",
      "Please also refer to the documentation for alternative solver options:\n",
      "    https://scikit-learn.org/stable/modules/linear_model.html#logistic-regression\n",
      "  n_iter_i = _check_optimize_result(\n"
     ]
    },
    {
     "name": "stdout",
     "output_type": "stream",
     "text": [
      "LogisticRegression has been trained on part-00082-363d1ba3-8ab5-4f96-bc25-4d5862db7cb9-c000.csv\n",
      "Perceptron has been trained on part-00082-363d1ba3-8ab5-4f96-bc25-4d5862db7cb9-c000.csv\n",
      "AdaBoost has been trained on part-00082-363d1ba3-8ab5-4f96-bc25-4d5862db7cb9-c000.csv\n",
      "RandomForest has been trained on part-00082-363d1ba3-8ab5-4f96-bc25-4d5862db7cb9-c000.csv\n",
      "KNN has been trained on part-00082-363d1ba3-8ab5-4f96-bc25-4d5862db7cb9-c000.csv\n"
     ]
    },
    {
     "name": "stderr",
     "output_type": "stream",
     "text": [
      "\r",
      "Training on datasets:  61%|███████████████████████████████████████████████████████████████████                                          | 83/135 [3:14:56<2:06:03, 145.45s/it]"
     ]
    },
    {
     "name": "stdout",
     "output_type": "stream",
     "text": [
      "DecisionTree has been trained on part-00082-363d1ba3-8ab5-4f96-bc25-4d5862db7cb9-c000.csv\n"
     ]
    },
    {
     "name": "stderr",
     "output_type": "stream",
     "text": [
      "/home/sc/0.DCU/00.Project/ML_based_IDS_for_IoT/project/env/lib/python3.10/site-packages/sklearn/linear_model/_logistic.py:460: ConvergenceWarning: lbfgs failed to converge (status=1):\n",
      "STOP: TOTAL NO. of ITERATIONS REACHED LIMIT.\n",
      "\n",
      "Increase the number of iterations (max_iter) or scale the data as shown in:\n",
      "    https://scikit-learn.org/stable/modules/preprocessing.html\n",
      "Please also refer to the documentation for alternative solver options:\n",
      "    https://scikit-learn.org/stable/modules/linear_model.html#logistic-regression\n",
      "  n_iter_i = _check_optimize_result(\n"
     ]
    },
    {
     "name": "stdout",
     "output_type": "stream",
     "text": [
      "LogisticRegression has been trained on part-00083-363d1ba3-8ab5-4f96-bc25-4d5862db7cb9-c000.csv\n",
      "Perceptron has been trained on part-00083-363d1ba3-8ab5-4f96-bc25-4d5862db7cb9-c000.csv\n",
      "AdaBoost has been trained on part-00083-363d1ba3-8ab5-4f96-bc25-4d5862db7cb9-c000.csv\n",
      "RandomForest has been trained on part-00083-363d1ba3-8ab5-4f96-bc25-4d5862db7cb9-c000.csv\n",
      "KNN has been trained on part-00083-363d1ba3-8ab5-4f96-bc25-4d5862db7cb9-c000.csv\n"
     ]
    },
    {
     "name": "stderr",
     "output_type": "stream",
     "text": [
      "\r",
      "Training on datasets:  62%|███████████████████████████████████████████████████████████████████▊                                         | 84/135 [3:16:48<1:55:08, 135.46s/it]"
     ]
    },
    {
     "name": "stdout",
     "output_type": "stream",
     "text": [
      "DecisionTree has been trained on part-00083-363d1ba3-8ab5-4f96-bc25-4d5862db7cb9-c000.csv\n"
     ]
    },
    {
     "name": "stderr",
     "output_type": "stream",
     "text": [
      "/home/sc/0.DCU/00.Project/ML_based_IDS_for_IoT/project/env/lib/python3.10/site-packages/sklearn/linear_model/_logistic.py:460: ConvergenceWarning: lbfgs failed to converge (status=1):\n",
      "STOP: TOTAL NO. of ITERATIONS REACHED LIMIT.\n",
      "\n",
      "Increase the number of iterations (max_iter) or scale the data as shown in:\n",
      "    https://scikit-learn.org/stable/modules/preprocessing.html\n",
      "Please also refer to the documentation for alternative solver options:\n",
      "    https://scikit-learn.org/stable/modules/linear_model.html#logistic-regression\n",
      "  n_iter_i = _check_optimize_result(\n"
     ]
    },
    {
     "name": "stdout",
     "output_type": "stream",
     "text": [
      "LogisticRegression has been trained on part-00084-363d1ba3-8ab5-4f96-bc25-4d5862db7cb9-c000.csv\n",
      "Perceptron has been trained on part-00084-363d1ba3-8ab5-4f96-bc25-4d5862db7cb9-c000.csv\n",
      "AdaBoost has been trained on part-00084-363d1ba3-8ab5-4f96-bc25-4d5862db7cb9-c000.csv\n",
      "RandomForest has been trained on part-00084-363d1ba3-8ab5-4f96-bc25-4d5862db7cb9-c000.csv\n",
      "KNN has been trained on part-00084-363d1ba3-8ab5-4f96-bc25-4d5862db7cb9-c000.csv\n"
     ]
    },
    {
     "name": "stderr",
     "output_type": "stream",
     "text": [
      "\r",
      "Training on datasets:  63%|████████████████████████████████████████████████████████████████████▋                                        | 85/135 [3:18:38<1:46:35, 127.90s/it]"
     ]
    },
    {
     "name": "stdout",
     "output_type": "stream",
     "text": [
      "DecisionTree has been trained on part-00084-363d1ba3-8ab5-4f96-bc25-4d5862db7cb9-c000.csv\n"
     ]
    },
    {
     "name": "stderr",
     "output_type": "stream",
     "text": [
      "/home/sc/0.DCU/00.Project/ML_based_IDS_for_IoT/project/env/lib/python3.10/site-packages/sklearn/linear_model/_logistic.py:460: ConvergenceWarning: lbfgs failed to converge (status=1):\n",
      "STOP: TOTAL NO. of ITERATIONS REACHED LIMIT.\n",
      "\n",
      "Increase the number of iterations (max_iter) or scale the data as shown in:\n",
      "    https://scikit-learn.org/stable/modules/preprocessing.html\n",
      "Please also refer to the documentation for alternative solver options:\n",
      "    https://scikit-learn.org/stable/modules/linear_model.html#logistic-regression\n",
      "  n_iter_i = _check_optimize_result(\n"
     ]
    },
    {
     "name": "stdout",
     "output_type": "stream",
     "text": [
      "LogisticRegression has been trained on part-00085-363d1ba3-8ab5-4f96-bc25-4d5862db7cb9-c000.csv\n",
      "Perceptron has been trained on part-00085-363d1ba3-8ab5-4f96-bc25-4d5862db7cb9-c000.csv\n",
      "AdaBoost has been trained on part-00085-363d1ba3-8ab5-4f96-bc25-4d5862db7cb9-c000.csv\n",
      "RandomForest has been trained on part-00085-363d1ba3-8ab5-4f96-bc25-4d5862db7cb9-c000.csv\n",
      "KNN has been trained on part-00085-363d1ba3-8ab5-4f96-bc25-4d5862db7cb9-c000.csv\n"
     ]
    },
    {
     "name": "stderr",
     "output_type": "stream",
     "text": [
      "\r",
      "Training on datasets:  64%|█████████████████████████████████████████████████████████████████████▍                                       | 86/135 [3:20:37<1:42:07, 125.05s/it]"
     ]
    },
    {
     "name": "stdout",
     "output_type": "stream",
     "text": [
      "DecisionTree has been trained on part-00085-363d1ba3-8ab5-4f96-bc25-4d5862db7cb9-c000.csv\n"
     ]
    },
    {
     "name": "stderr",
     "output_type": "stream",
     "text": [
      "/home/sc/0.DCU/00.Project/ML_based_IDS_for_IoT/project/env/lib/python3.10/site-packages/sklearn/linear_model/_logistic.py:460: ConvergenceWarning: lbfgs failed to converge (status=1):\n",
      "STOP: TOTAL NO. of ITERATIONS REACHED LIMIT.\n",
      "\n",
      "Increase the number of iterations (max_iter) or scale the data as shown in:\n",
      "    https://scikit-learn.org/stable/modules/preprocessing.html\n",
      "Please also refer to the documentation for alternative solver options:\n",
      "    https://scikit-learn.org/stable/modules/linear_model.html#logistic-regression\n",
      "  n_iter_i = _check_optimize_result(\n"
     ]
    },
    {
     "name": "stdout",
     "output_type": "stream",
     "text": [
      "LogisticRegression has been trained on part-00086-363d1ba3-8ab5-4f96-bc25-4d5862db7cb9-c000.csv\n",
      "Perceptron has been trained on part-00086-363d1ba3-8ab5-4f96-bc25-4d5862db7cb9-c000.csv\n",
      "AdaBoost has been trained on part-00086-363d1ba3-8ab5-4f96-bc25-4d5862db7cb9-c000.csv\n",
      "RandomForest has been trained on part-00086-363d1ba3-8ab5-4f96-bc25-4d5862db7cb9-c000.csv\n",
      "KNN has been trained on part-00086-363d1ba3-8ab5-4f96-bc25-4d5862db7cb9-c000.csv\n"
     ]
    },
    {
     "name": "stderr",
     "output_type": "stream",
     "text": [
      "\r",
      "Training on datasets:  64%|██████████████████████████████████████████████████████████████████████▏                                      | 87/135 [3:22:37<1:38:54, 123.64s/it]"
     ]
    },
    {
     "name": "stdout",
     "output_type": "stream",
     "text": [
      "DecisionTree has been trained on part-00086-363d1ba3-8ab5-4f96-bc25-4d5862db7cb9-c000.csv\n"
     ]
    },
    {
     "name": "stderr",
     "output_type": "stream",
     "text": [
      "/home/sc/0.DCU/00.Project/ML_based_IDS_for_IoT/project/env/lib/python3.10/site-packages/sklearn/linear_model/_logistic.py:460: ConvergenceWarning: lbfgs failed to converge (status=1):\n",
      "STOP: TOTAL NO. of ITERATIONS REACHED LIMIT.\n",
      "\n",
      "Increase the number of iterations (max_iter) or scale the data as shown in:\n",
      "    https://scikit-learn.org/stable/modules/preprocessing.html\n",
      "Please also refer to the documentation for alternative solver options:\n",
      "    https://scikit-learn.org/stable/modules/linear_model.html#logistic-regression\n",
      "  n_iter_i = _check_optimize_result(\n"
     ]
    },
    {
     "name": "stdout",
     "output_type": "stream",
     "text": [
      "LogisticRegression has been trained on part-00087-363d1ba3-8ab5-4f96-bc25-4d5862db7cb9-c000.csv\n",
      "Perceptron has been trained on part-00087-363d1ba3-8ab5-4f96-bc25-4d5862db7cb9-c000.csv\n",
      "AdaBoost has been trained on part-00087-363d1ba3-8ab5-4f96-bc25-4d5862db7cb9-c000.csv\n",
      "RandomForest has been trained on part-00087-363d1ba3-8ab5-4f96-bc25-4d5862db7cb9-c000.csv\n",
      "KNN has been trained on part-00087-363d1ba3-8ab5-4f96-bc25-4d5862db7cb9-c000.csv\n"
     ]
    },
    {
     "name": "stderr",
     "output_type": "stream",
     "text": [
      "\r",
      "Training on datasets:  65%|███████████████████████████████████████████████████████████████████████                                      | 88/135 [3:24:32<1:34:52, 121.12s/it]"
     ]
    },
    {
     "name": "stdout",
     "output_type": "stream",
     "text": [
      "DecisionTree has been trained on part-00087-363d1ba3-8ab5-4f96-bc25-4d5862db7cb9-c000.csv\n"
     ]
    },
    {
     "name": "stderr",
     "output_type": "stream",
     "text": [
      "/home/sc/0.DCU/00.Project/ML_based_IDS_for_IoT/project/env/lib/python3.10/site-packages/sklearn/linear_model/_logistic.py:460: ConvergenceWarning: lbfgs failed to converge (status=1):\n",
      "STOP: TOTAL NO. of ITERATIONS REACHED LIMIT.\n",
      "\n",
      "Increase the number of iterations (max_iter) or scale the data as shown in:\n",
      "    https://scikit-learn.org/stable/modules/preprocessing.html\n",
      "Please also refer to the documentation for alternative solver options:\n",
      "    https://scikit-learn.org/stable/modules/linear_model.html#logistic-regression\n",
      "  n_iter_i = _check_optimize_result(\n"
     ]
    },
    {
     "name": "stdout",
     "output_type": "stream",
     "text": [
      "LogisticRegression has been trained on part-00088-363d1ba3-8ab5-4f96-bc25-4d5862db7cb9-c000.csv\n",
      "Perceptron has been trained on part-00088-363d1ba3-8ab5-4f96-bc25-4d5862db7cb9-c000.csv\n",
      "AdaBoost has been trained on part-00088-363d1ba3-8ab5-4f96-bc25-4d5862db7cb9-c000.csv\n",
      "RandomForest has been trained on part-00088-363d1ba3-8ab5-4f96-bc25-4d5862db7cb9-c000.csv\n",
      "KNN has been trained on part-00088-363d1ba3-8ab5-4f96-bc25-4d5862db7cb9-c000.csv\n"
     ]
    },
    {
     "name": "stderr",
     "output_type": "stream",
     "text": [
      "\r",
      "Training on datasets:  66%|███████████████████████████████████████████████████████████████████████▊                                     | 89/135 [3:26:23<1:30:28, 118.01s/it]"
     ]
    },
    {
     "name": "stdout",
     "output_type": "stream",
     "text": [
      "DecisionTree has been trained on part-00088-363d1ba3-8ab5-4f96-bc25-4d5862db7cb9-c000.csv\n"
     ]
    },
    {
     "name": "stderr",
     "output_type": "stream",
     "text": [
      "/home/sc/0.DCU/00.Project/ML_based_IDS_for_IoT/project/env/lib/python3.10/site-packages/sklearn/linear_model/_logistic.py:460: ConvergenceWarning: lbfgs failed to converge (status=1):\n",
      "STOP: TOTAL NO. of ITERATIONS REACHED LIMIT.\n",
      "\n",
      "Increase the number of iterations (max_iter) or scale the data as shown in:\n",
      "    https://scikit-learn.org/stable/modules/preprocessing.html\n",
      "Please also refer to the documentation for alternative solver options:\n",
      "    https://scikit-learn.org/stable/modules/linear_model.html#logistic-regression\n",
      "  n_iter_i = _check_optimize_result(\n"
     ]
    },
    {
     "name": "stdout",
     "output_type": "stream",
     "text": [
      "LogisticRegression has been trained on part-00089-363d1ba3-8ab5-4f96-bc25-4d5862db7cb9-c000.csv\n",
      "Perceptron has been trained on part-00089-363d1ba3-8ab5-4f96-bc25-4d5862db7cb9-c000.csv\n",
      "AdaBoost has been trained on part-00089-363d1ba3-8ab5-4f96-bc25-4d5862db7cb9-c000.csv\n",
      "RandomForest has been trained on part-00089-363d1ba3-8ab5-4f96-bc25-4d5862db7cb9-c000.csv\n",
      "KNN has been trained on part-00089-363d1ba3-8ab5-4f96-bc25-4d5862db7cb9-c000.csv\n"
     ]
    },
    {
     "name": "stderr",
     "output_type": "stream",
     "text": [
      "\r",
      "Training on datasets:  67%|████████████████████████████████████████████████████████████████████████▋                                    | 90/135 [3:28:25<1:29:19, 119.10s/it]"
     ]
    },
    {
     "name": "stdout",
     "output_type": "stream",
     "text": [
      "DecisionTree has been trained on part-00089-363d1ba3-8ab5-4f96-bc25-4d5862db7cb9-c000.csv\n"
     ]
    },
    {
     "name": "stderr",
     "output_type": "stream",
     "text": [
      "/home/sc/0.DCU/00.Project/ML_based_IDS_for_IoT/project/env/lib/python3.10/site-packages/sklearn/linear_model/_logistic.py:460: ConvergenceWarning: lbfgs failed to converge (status=1):\n",
      "STOP: TOTAL NO. of ITERATIONS REACHED LIMIT.\n",
      "\n",
      "Increase the number of iterations (max_iter) or scale the data as shown in:\n",
      "    https://scikit-learn.org/stable/modules/preprocessing.html\n",
      "Please also refer to the documentation for alternative solver options:\n",
      "    https://scikit-learn.org/stable/modules/linear_model.html#logistic-regression\n",
      "  n_iter_i = _check_optimize_result(\n"
     ]
    },
    {
     "name": "stdout",
     "output_type": "stream",
     "text": [
      "LogisticRegression has been trained on part-00090-363d1ba3-8ab5-4f96-bc25-4d5862db7cb9-c000.csv\n",
      "Perceptron has been trained on part-00090-363d1ba3-8ab5-4f96-bc25-4d5862db7cb9-c000.csv\n",
      "AdaBoost has been trained on part-00090-363d1ba3-8ab5-4f96-bc25-4d5862db7cb9-c000.csv\n",
      "RandomForest has been trained on part-00090-363d1ba3-8ab5-4f96-bc25-4d5862db7cb9-c000.csv\n",
      "KNN has been trained on part-00090-363d1ba3-8ab5-4f96-bc25-4d5862db7cb9-c000.csv\n"
     ]
    },
    {
     "name": "stderr",
     "output_type": "stream",
     "text": [
      "\r",
      "Training on datasets:  67%|█████████████████████████████████████████████████████████████████████████▍                                   | 91/135 [3:30:24<1:27:20, 119.11s/it]"
     ]
    },
    {
     "name": "stdout",
     "output_type": "stream",
     "text": [
      "DecisionTree has been trained on part-00090-363d1ba3-8ab5-4f96-bc25-4d5862db7cb9-c000.csv\n"
     ]
    },
    {
     "name": "stderr",
     "output_type": "stream",
     "text": [
      "/home/sc/0.DCU/00.Project/ML_based_IDS_for_IoT/project/env/lib/python3.10/site-packages/sklearn/linear_model/_logistic.py:460: ConvergenceWarning: lbfgs failed to converge (status=1):\n",
      "STOP: TOTAL NO. of ITERATIONS REACHED LIMIT.\n",
      "\n",
      "Increase the number of iterations (max_iter) or scale the data as shown in:\n",
      "    https://scikit-learn.org/stable/modules/preprocessing.html\n",
      "Please also refer to the documentation for alternative solver options:\n",
      "    https://scikit-learn.org/stable/modules/linear_model.html#logistic-regression\n",
      "  n_iter_i = _check_optimize_result(\n"
     ]
    },
    {
     "name": "stdout",
     "output_type": "stream",
     "text": [
      "LogisticRegression has been trained on part-00091-363d1ba3-8ab5-4f96-bc25-4d5862db7cb9-c000.csv\n",
      "Perceptron has been trained on part-00091-363d1ba3-8ab5-4f96-bc25-4d5862db7cb9-c000.csv\n",
      "AdaBoost has been trained on part-00091-363d1ba3-8ab5-4f96-bc25-4d5862db7cb9-c000.csv\n",
      "RandomForest has been trained on part-00091-363d1ba3-8ab5-4f96-bc25-4d5862db7cb9-c000.csv\n",
      "KNN has been trained on part-00091-363d1ba3-8ab5-4f96-bc25-4d5862db7cb9-c000.csv\n"
     ]
    },
    {
     "name": "stderr",
     "output_type": "stream",
     "text": [
      "\r",
      "Training on datasets:  68%|██████████████████████████████████████████████████████████████████████████▎                                  | 92/135 [3:32:33<1:27:22, 121.92s/it]"
     ]
    },
    {
     "name": "stdout",
     "output_type": "stream",
     "text": [
      "DecisionTree has been trained on part-00091-363d1ba3-8ab5-4f96-bc25-4d5862db7cb9-c000.csv\n"
     ]
    },
    {
     "name": "stderr",
     "output_type": "stream",
     "text": [
      "/home/sc/0.DCU/00.Project/ML_based_IDS_for_IoT/project/env/lib/python3.10/site-packages/sklearn/linear_model/_logistic.py:460: ConvergenceWarning: lbfgs failed to converge (status=1):\n",
      "STOP: TOTAL NO. of ITERATIONS REACHED LIMIT.\n",
      "\n",
      "Increase the number of iterations (max_iter) or scale the data as shown in:\n",
      "    https://scikit-learn.org/stable/modules/preprocessing.html\n",
      "Please also refer to the documentation for alternative solver options:\n",
      "    https://scikit-learn.org/stable/modules/linear_model.html#logistic-regression\n",
      "  n_iter_i = _check_optimize_result(\n"
     ]
    },
    {
     "name": "stdout",
     "output_type": "stream",
     "text": [
      "LogisticRegression has been trained on part-00092-363d1ba3-8ab5-4f96-bc25-4d5862db7cb9-c000.csv\n",
      "Perceptron has been trained on part-00092-363d1ba3-8ab5-4f96-bc25-4d5862db7cb9-c000.csv\n",
      "AdaBoost has been trained on part-00092-363d1ba3-8ab5-4f96-bc25-4d5862db7cb9-c000.csv\n",
      "RandomForest has been trained on part-00092-363d1ba3-8ab5-4f96-bc25-4d5862db7cb9-c000.csv\n",
      "KNN has been trained on part-00092-363d1ba3-8ab5-4f96-bc25-4d5862db7cb9-c000.csv\n"
     ]
    },
    {
     "name": "stderr",
     "output_type": "stream",
     "text": [
      "\r",
      "Training on datasets:  69%|███████████████████████████████████████████████████████████████████████████                                  | 93/135 [3:34:16<1:21:23, 116.28s/it]"
     ]
    },
    {
     "name": "stdout",
     "output_type": "stream",
     "text": [
      "DecisionTree has been trained on part-00092-363d1ba3-8ab5-4f96-bc25-4d5862db7cb9-c000.csv\n"
     ]
    },
    {
     "name": "stderr",
     "output_type": "stream",
     "text": [
      "/home/sc/0.DCU/00.Project/ML_based_IDS_for_IoT/project/env/lib/python3.10/site-packages/sklearn/linear_model/_logistic.py:460: ConvergenceWarning: lbfgs failed to converge (status=1):\n",
      "STOP: TOTAL NO. of ITERATIONS REACHED LIMIT.\n",
      "\n",
      "Increase the number of iterations (max_iter) or scale the data as shown in:\n",
      "    https://scikit-learn.org/stable/modules/preprocessing.html\n",
      "Please also refer to the documentation for alternative solver options:\n",
      "    https://scikit-learn.org/stable/modules/linear_model.html#logistic-regression\n",
      "  n_iter_i = _check_optimize_result(\n"
     ]
    },
    {
     "name": "stdout",
     "output_type": "stream",
     "text": [
      "LogisticRegression has been trained on part-00093-363d1ba3-8ab5-4f96-bc25-4d5862db7cb9-c000.csv\n",
      "Perceptron has been trained on part-00093-363d1ba3-8ab5-4f96-bc25-4d5862db7cb9-c000.csv\n",
      "AdaBoost has been trained on part-00093-363d1ba3-8ab5-4f96-bc25-4d5862db7cb9-c000.csv\n",
      "RandomForest has been trained on part-00093-363d1ba3-8ab5-4f96-bc25-4d5862db7cb9-c000.csv\n",
      "KNN has been trained on part-00093-363d1ba3-8ab5-4f96-bc25-4d5862db7cb9-c000.csv\n"
     ]
    },
    {
     "name": "stderr",
     "output_type": "stream",
     "text": [
      "\r",
      "Training on datasets:  70%|███████████████████████████████████████████████████████████████████████████▉                                 | 94/135 [3:36:22<1:21:30, 119.27s/it]"
     ]
    },
    {
     "name": "stdout",
     "output_type": "stream",
     "text": [
      "DecisionTree has been trained on part-00093-363d1ba3-8ab5-4f96-bc25-4d5862db7cb9-c000.csv\n"
     ]
    },
    {
     "name": "stderr",
     "output_type": "stream",
     "text": [
      "/home/sc/0.DCU/00.Project/ML_based_IDS_for_IoT/project/env/lib/python3.10/site-packages/sklearn/linear_model/_logistic.py:460: ConvergenceWarning: lbfgs failed to converge (status=1):\n",
      "STOP: TOTAL NO. of ITERATIONS REACHED LIMIT.\n",
      "\n",
      "Increase the number of iterations (max_iter) or scale the data as shown in:\n",
      "    https://scikit-learn.org/stable/modules/preprocessing.html\n",
      "Please also refer to the documentation for alternative solver options:\n",
      "    https://scikit-learn.org/stable/modules/linear_model.html#logistic-regression\n",
      "  n_iter_i = _check_optimize_result(\n"
     ]
    },
    {
     "name": "stdout",
     "output_type": "stream",
     "text": [
      "LogisticRegression has been trained on part-00094-363d1ba3-8ab5-4f96-bc25-4d5862db7cb9-c000.csv\n",
      "Perceptron has been trained on part-00094-363d1ba3-8ab5-4f96-bc25-4d5862db7cb9-c000.csv\n",
      "AdaBoost has been trained on part-00094-363d1ba3-8ab5-4f96-bc25-4d5862db7cb9-c000.csv\n",
      "RandomForest has been trained on part-00094-363d1ba3-8ab5-4f96-bc25-4d5862db7cb9-c000.csv\n",
      "KNN has been trained on part-00094-363d1ba3-8ab5-4f96-bc25-4d5862db7cb9-c000.csv\n"
     ]
    },
    {
     "name": "stderr",
     "output_type": "stream",
     "text": [
      "\r",
      "Training on datasets:  70%|████████████████████████████████████████████████████████████████████████████▋                                | 95/135 [3:40:00<1:39:14, 148.86s/it]"
     ]
    },
    {
     "name": "stdout",
     "output_type": "stream",
     "text": [
      "DecisionTree has been trained on part-00094-363d1ba3-8ab5-4f96-bc25-4d5862db7cb9-c000.csv\n"
     ]
    },
    {
     "name": "stderr",
     "output_type": "stream",
     "text": [
      "/home/sc/0.DCU/00.Project/ML_based_IDS_for_IoT/project/env/lib/python3.10/site-packages/sklearn/linear_model/_logistic.py:460: ConvergenceWarning: lbfgs failed to converge (status=1):\n",
      "STOP: TOTAL NO. of ITERATIONS REACHED LIMIT.\n",
      "\n",
      "Increase the number of iterations (max_iter) or scale the data as shown in:\n",
      "    https://scikit-learn.org/stable/modules/preprocessing.html\n",
      "Please also refer to the documentation for alternative solver options:\n",
      "    https://scikit-learn.org/stable/modules/linear_model.html#logistic-regression\n",
      "  n_iter_i = _check_optimize_result(\n"
     ]
    },
    {
     "name": "stdout",
     "output_type": "stream",
     "text": [
      "LogisticRegression has been trained on part-00095-363d1ba3-8ab5-4f96-bc25-4d5862db7cb9-c000.csv\n",
      "Perceptron has been trained on part-00095-363d1ba3-8ab5-4f96-bc25-4d5862db7cb9-c000.csv\n",
      "AdaBoost has been trained on part-00095-363d1ba3-8ab5-4f96-bc25-4d5862db7cb9-c000.csv\n",
      "RandomForest has been trained on part-00095-363d1ba3-8ab5-4f96-bc25-4d5862db7cb9-c000.csv\n",
      "KNN has been trained on part-00095-363d1ba3-8ab5-4f96-bc25-4d5862db7cb9-c000.csv\n"
     ]
    },
    {
     "name": "stderr",
     "output_type": "stream",
     "text": [
      "\r",
      "Training on datasets:  71%|█████████████████████████████████████████████████████████████████████████████▌                               | 96/135 [3:43:41<1:50:50, 170.52s/it]"
     ]
    },
    {
     "name": "stdout",
     "output_type": "stream",
     "text": [
      "DecisionTree has been trained on part-00095-363d1ba3-8ab5-4f96-bc25-4d5862db7cb9-c000.csv\n"
     ]
    },
    {
     "name": "stderr",
     "output_type": "stream",
     "text": [
      "/home/sc/0.DCU/00.Project/ML_based_IDS_for_IoT/project/env/lib/python3.10/site-packages/sklearn/linear_model/_logistic.py:460: ConvergenceWarning: lbfgs failed to converge (status=1):\n",
      "STOP: TOTAL NO. of ITERATIONS REACHED LIMIT.\n",
      "\n",
      "Increase the number of iterations (max_iter) or scale the data as shown in:\n",
      "    https://scikit-learn.org/stable/modules/preprocessing.html\n",
      "Please also refer to the documentation for alternative solver options:\n",
      "    https://scikit-learn.org/stable/modules/linear_model.html#logistic-regression\n",
      "  n_iter_i = _check_optimize_result(\n"
     ]
    },
    {
     "name": "stdout",
     "output_type": "stream",
     "text": [
      "LogisticRegression has been trained on part-00096-363d1ba3-8ab5-4f96-bc25-4d5862db7cb9-c000.csv\n",
      "Perceptron has been trained on part-00096-363d1ba3-8ab5-4f96-bc25-4d5862db7cb9-c000.csv\n",
      "AdaBoost has been trained on part-00096-363d1ba3-8ab5-4f96-bc25-4d5862db7cb9-c000.csv\n",
      "RandomForest has been trained on part-00096-363d1ba3-8ab5-4f96-bc25-4d5862db7cb9-c000.csv\n",
      "KNN has been trained on part-00096-363d1ba3-8ab5-4f96-bc25-4d5862db7cb9-c000.csv\n"
     ]
    },
    {
     "name": "stderr",
     "output_type": "stream",
     "text": [
      "\r",
      "Training on datasets:  72%|██████████████████████████████████████████████████████████████████████████████▎                              | 97/135 [3:45:46<1:39:27, 157.03s/it]"
     ]
    },
    {
     "name": "stdout",
     "output_type": "stream",
     "text": [
      "DecisionTree has been trained on part-00096-363d1ba3-8ab5-4f96-bc25-4d5862db7cb9-c000.csv\n"
     ]
    },
    {
     "name": "stderr",
     "output_type": "stream",
     "text": [
      "/home/sc/0.DCU/00.Project/ML_based_IDS_for_IoT/project/env/lib/python3.10/site-packages/sklearn/linear_model/_logistic.py:460: ConvergenceWarning: lbfgs failed to converge (status=1):\n",
      "STOP: TOTAL NO. of ITERATIONS REACHED LIMIT.\n",
      "\n",
      "Increase the number of iterations (max_iter) or scale the data as shown in:\n",
      "    https://scikit-learn.org/stable/modules/preprocessing.html\n",
      "Please also refer to the documentation for alternative solver options:\n",
      "    https://scikit-learn.org/stable/modules/linear_model.html#logistic-regression\n",
      "  n_iter_i = _check_optimize_result(\n"
     ]
    },
    {
     "name": "stdout",
     "output_type": "stream",
     "text": [
      "LogisticRegression has been trained on part-00097-363d1ba3-8ab5-4f96-bc25-4d5862db7cb9-c000.csv\n",
      "Perceptron has been trained on part-00097-363d1ba3-8ab5-4f96-bc25-4d5862db7cb9-c000.csv\n",
      "AdaBoost has been trained on part-00097-363d1ba3-8ab5-4f96-bc25-4d5862db7cb9-c000.csv\n",
      "RandomForest has been trained on part-00097-363d1ba3-8ab5-4f96-bc25-4d5862db7cb9-c000.csv\n",
      "KNN has been trained on part-00097-363d1ba3-8ab5-4f96-bc25-4d5862db7cb9-c000.csv\n"
     ]
    },
    {
     "name": "stderr",
     "output_type": "stream",
     "text": [
      "\r",
      "Training on datasets:  73%|███████████████████████████████████████████████████████████████████████████████▏                             | 98/135 [3:47:48<1:30:11, 146.26s/it]"
     ]
    },
    {
     "name": "stdout",
     "output_type": "stream",
     "text": [
      "DecisionTree has been trained on part-00097-363d1ba3-8ab5-4f96-bc25-4d5862db7cb9-c000.csv\n"
     ]
    },
    {
     "name": "stderr",
     "output_type": "stream",
     "text": [
      "/home/sc/0.DCU/00.Project/ML_based_IDS_for_IoT/project/env/lib/python3.10/site-packages/sklearn/linear_model/_logistic.py:460: ConvergenceWarning: lbfgs failed to converge (status=1):\n",
      "STOP: TOTAL NO. of ITERATIONS REACHED LIMIT.\n",
      "\n",
      "Increase the number of iterations (max_iter) or scale the data as shown in:\n",
      "    https://scikit-learn.org/stable/modules/preprocessing.html\n",
      "Please also refer to the documentation for alternative solver options:\n",
      "    https://scikit-learn.org/stable/modules/linear_model.html#logistic-regression\n",
      "  n_iter_i = _check_optimize_result(\n"
     ]
    },
    {
     "name": "stdout",
     "output_type": "stream",
     "text": [
      "LogisticRegression has been trained on part-00098-363d1ba3-8ab5-4f96-bc25-4d5862db7cb9-c000.csv\n",
      "Perceptron has been trained on part-00098-363d1ba3-8ab5-4f96-bc25-4d5862db7cb9-c000.csv\n",
      "AdaBoost has been trained on part-00098-363d1ba3-8ab5-4f96-bc25-4d5862db7cb9-c000.csv\n",
      "RandomForest has been trained on part-00098-363d1ba3-8ab5-4f96-bc25-4d5862db7cb9-c000.csv\n",
      "KNN has been trained on part-00098-363d1ba3-8ab5-4f96-bc25-4d5862db7cb9-c000.csv\n"
     ]
    },
    {
     "name": "stderr",
     "output_type": "stream",
     "text": [
      "\r",
      "Training on datasets:  73%|███████████████████████████████████████████████████████████████████████████████▉                             | 99/135 [3:51:29<1:41:20, 168.91s/it]"
     ]
    },
    {
     "name": "stdout",
     "output_type": "stream",
     "text": [
      "DecisionTree has been trained on part-00098-363d1ba3-8ab5-4f96-bc25-4d5862db7cb9-c000.csv\n"
     ]
    },
    {
     "name": "stderr",
     "output_type": "stream",
     "text": [
      "/home/sc/0.DCU/00.Project/ML_based_IDS_for_IoT/project/env/lib/python3.10/site-packages/sklearn/linear_model/_logistic.py:460: ConvergenceWarning: lbfgs failed to converge (status=1):\n",
      "STOP: TOTAL NO. of ITERATIONS REACHED LIMIT.\n",
      "\n",
      "Increase the number of iterations (max_iter) or scale the data as shown in:\n",
      "    https://scikit-learn.org/stable/modules/preprocessing.html\n",
      "Please also refer to the documentation for alternative solver options:\n",
      "    https://scikit-learn.org/stable/modules/linear_model.html#logistic-regression\n",
      "  n_iter_i = _check_optimize_result(\n"
     ]
    },
    {
     "name": "stdout",
     "output_type": "stream",
     "text": [
      "LogisticRegression has been trained on part-00099-363d1ba3-8ab5-4f96-bc25-4d5862db7cb9-c000.csv\n",
      "Perceptron has been trained on part-00099-363d1ba3-8ab5-4f96-bc25-4d5862db7cb9-c000.csv\n",
      "AdaBoost has been trained on part-00099-363d1ba3-8ab5-4f96-bc25-4d5862db7cb9-c000.csv\n",
      "RandomForest has been trained on part-00099-363d1ba3-8ab5-4f96-bc25-4d5862db7cb9-c000.csv\n",
      "KNN has been trained on part-00099-363d1ba3-8ab5-4f96-bc25-4d5862db7cb9-c000.csv\n"
     ]
    },
    {
     "name": "stderr",
     "output_type": "stream",
     "text": [
      "\r",
      "Training on datasets:  74%|████████████████████████████████████████████████████████████████████████████████                            | 100/135 [3:53:31<1:30:15, 154.74s/it]"
     ]
    },
    {
     "name": "stdout",
     "output_type": "stream",
     "text": [
      "DecisionTree has been trained on part-00099-363d1ba3-8ab5-4f96-bc25-4d5862db7cb9-c000.csv\n"
     ]
    },
    {
     "name": "stderr",
     "output_type": "stream",
     "text": [
      "/home/sc/0.DCU/00.Project/ML_based_IDS_for_IoT/project/env/lib/python3.10/site-packages/sklearn/linear_model/_logistic.py:460: ConvergenceWarning: lbfgs failed to converge (status=1):\n",
      "STOP: TOTAL NO. of ITERATIONS REACHED LIMIT.\n",
      "\n",
      "Increase the number of iterations (max_iter) or scale the data as shown in:\n",
      "    https://scikit-learn.org/stable/modules/preprocessing.html\n",
      "Please also refer to the documentation for alternative solver options:\n",
      "    https://scikit-learn.org/stable/modules/linear_model.html#logistic-regression\n",
      "  n_iter_i = _check_optimize_result(\n"
     ]
    },
    {
     "name": "stdout",
     "output_type": "stream",
     "text": [
      "LogisticRegression has been trained on part-00100-363d1ba3-8ab5-4f96-bc25-4d5862db7cb9-c000.csv\n",
      "Perceptron has been trained on part-00100-363d1ba3-8ab5-4f96-bc25-4d5862db7cb9-c000.csv\n",
      "AdaBoost has been trained on part-00100-363d1ba3-8ab5-4f96-bc25-4d5862db7cb9-c000.csv\n",
      "RandomForest has been trained on part-00100-363d1ba3-8ab5-4f96-bc25-4d5862db7cb9-c000.csv\n",
      "KNN has been trained on part-00100-363d1ba3-8ab5-4f96-bc25-4d5862db7cb9-c000.csv\n"
     ]
    },
    {
     "name": "stderr",
     "output_type": "stream",
     "text": [
      "\r",
      "Training on datasets:  75%|████████████████████████████████████████████████████████████████████████████████▊                           | 101/135 [3:55:23<1:20:26, 141.95s/it]"
     ]
    },
    {
     "name": "stdout",
     "output_type": "stream",
     "text": [
      "DecisionTree has been trained on part-00100-363d1ba3-8ab5-4f96-bc25-4d5862db7cb9-c000.csv\n"
     ]
    },
    {
     "name": "stderr",
     "output_type": "stream",
     "text": [
      "/home/sc/0.DCU/00.Project/ML_based_IDS_for_IoT/project/env/lib/python3.10/site-packages/sklearn/linear_model/_logistic.py:460: ConvergenceWarning: lbfgs failed to converge (status=1):\n",
      "STOP: TOTAL NO. of ITERATIONS REACHED LIMIT.\n",
      "\n",
      "Increase the number of iterations (max_iter) or scale the data as shown in:\n",
      "    https://scikit-learn.org/stable/modules/preprocessing.html\n",
      "Please also refer to the documentation for alternative solver options:\n",
      "    https://scikit-learn.org/stable/modules/linear_model.html#logistic-regression\n",
      "  n_iter_i = _check_optimize_result(\n"
     ]
    },
    {
     "name": "stdout",
     "output_type": "stream",
     "text": [
      "LogisticRegression has been trained on part-00101-363d1ba3-8ab5-4f96-bc25-4d5862db7cb9-c000.csv\n",
      "Perceptron has been trained on part-00101-363d1ba3-8ab5-4f96-bc25-4d5862db7cb9-c000.csv\n",
      "AdaBoost has been trained on part-00101-363d1ba3-8ab5-4f96-bc25-4d5862db7cb9-c000.csv\n",
      "RandomForest has been trained on part-00101-363d1ba3-8ab5-4f96-bc25-4d5862db7cb9-c000.csv\n",
      "KNN has been trained on part-00101-363d1ba3-8ab5-4f96-bc25-4d5862db7cb9-c000.csv\n"
     ]
    },
    {
     "name": "stderr",
     "output_type": "stream",
     "text": [
      "\r",
      "Training on datasets:  76%|█████████████████████████████████████████████████████████████████████████████████▌                          | 102/135 [3:57:17<1:13:26, 133.53s/it]"
     ]
    },
    {
     "name": "stdout",
     "output_type": "stream",
     "text": [
      "DecisionTree has been trained on part-00101-363d1ba3-8ab5-4f96-bc25-4d5862db7cb9-c000.csv\n"
     ]
    },
    {
     "name": "stderr",
     "output_type": "stream",
     "text": [
      "/home/sc/0.DCU/00.Project/ML_based_IDS_for_IoT/project/env/lib/python3.10/site-packages/sklearn/linear_model/_logistic.py:460: ConvergenceWarning: lbfgs failed to converge (status=1):\n",
      "STOP: TOTAL NO. of ITERATIONS REACHED LIMIT.\n",
      "\n",
      "Increase the number of iterations (max_iter) or scale the data as shown in:\n",
      "    https://scikit-learn.org/stable/modules/preprocessing.html\n",
      "Please also refer to the documentation for alternative solver options:\n",
      "    https://scikit-learn.org/stable/modules/linear_model.html#logistic-regression\n",
      "  n_iter_i = _check_optimize_result(\n"
     ]
    },
    {
     "name": "stdout",
     "output_type": "stream",
     "text": [
      "LogisticRegression has been trained on part-00102-363d1ba3-8ab5-4f96-bc25-4d5862db7cb9-c000.csv\n",
      "Perceptron has been trained on part-00102-363d1ba3-8ab5-4f96-bc25-4d5862db7cb9-c000.csv\n",
      "AdaBoost has been trained on part-00102-363d1ba3-8ab5-4f96-bc25-4d5862db7cb9-c000.csv\n",
      "RandomForest has been trained on part-00102-363d1ba3-8ab5-4f96-bc25-4d5862db7cb9-c000.csv\n",
      "KNN has been trained on part-00102-363d1ba3-8ab5-4f96-bc25-4d5862db7cb9-c000.csv\n"
     ]
    },
    {
     "name": "stderr",
     "output_type": "stream",
     "text": [
      "\r",
      "Training on datasets:  76%|██████████████████████████████████████████████████████████████████████████████████▍                         | 103/135 [3:59:12<1:08:17, 128.05s/it]"
     ]
    },
    {
     "name": "stdout",
     "output_type": "stream",
     "text": [
      "DecisionTree has been trained on part-00102-363d1ba3-8ab5-4f96-bc25-4d5862db7cb9-c000.csv\n"
     ]
    },
    {
     "name": "stderr",
     "output_type": "stream",
     "text": [
      "/home/sc/0.DCU/00.Project/ML_based_IDS_for_IoT/project/env/lib/python3.10/site-packages/sklearn/linear_model/_logistic.py:460: ConvergenceWarning: lbfgs failed to converge (status=1):\n",
      "STOP: TOTAL NO. of ITERATIONS REACHED LIMIT.\n",
      "\n",
      "Increase the number of iterations (max_iter) or scale the data as shown in:\n",
      "    https://scikit-learn.org/stable/modules/preprocessing.html\n",
      "Please also refer to the documentation for alternative solver options:\n",
      "    https://scikit-learn.org/stable/modules/linear_model.html#logistic-regression\n",
      "  n_iter_i = _check_optimize_result(\n"
     ]
    },
    {
     "name": "stdout",
     "output_type": "stream",
     "text": [
      "LogisticRegression has been trained on part-00103-363d1ba3-8ab5-4f96-bc25-4d5862db7cb9-c000.csv\n",
      "Perceptron has been trained on part-00103-363d1ba3-8ab5-4f96-bc25-4d5862db7cb9-c000.csv\n",
      "AdaBoost has been trained on part-00103-363d1ba3-8ab5-4f96-bc25-4d5862db7cb9-c000.csv\n",
      "RandomForest has been trained on part-00103-363d1ba3-8ab5-4f96-bc25-4d5862db7cb9-c000.csv\n",
      "KNN has been trained on part-00103-363d1ba3-8ab5-4f96-bc25-4d5862db7cb9-c000.csv\n"
     ]
    },
    {
     "name": "stderr",
     "output_type": "stream",
     "text": [
      "\r",
      "Training on datasets:  77%|███████████████████████████████████████████████████████████████████████████████████▏                        | 104/135 [4:01:17<1:05:37, 127.03s/it]"
     ]
    },
    {
     "name": "stdout",
     "output_type": "stream",
     "text": [
      "DecisionTree has been trained on part-00103-363d1ba3-8ab5-4f96-bc25-4d5862db7cb9-c000.csv\n"
     ]
    },
    {
     "name": "stderr",
     "output_type": "stream",
     "text": [
      "/home/sc/0.DCU/00.Project/ML_based_IDS_for_IoT/project/env/lib/python3.10/site-packages/sklearn/linear_model/_logistic.py:460: ConvergenceWarning: lbfgs failed to converge (status=1):\n",
      "STOP: TOTAL NO. of ITERATIONS REACHED LIMIT.\n",
      "\n",
      "Increase the number of iterations (max_iter) or scale the data as shown in:\n",
      "    https://scikit-learn.org/stable/modules/preprocessing.html\n",
      "Please also refer to the documentation for alternative solver options:\n",
      "    https://scikit-learn.org/stable/modules/linear_model.html#logistic-regression\n",
      "  n_iter_i = _check_optimize_result(\n"
     ]
    },
    {
     "name": "stdout",
     "output_type": "stream",
     "text": [
      "LogisticRegression has been trained on part-00104-363d1ba3-8ab5-4f96-bc25-4d5862db7cb9-c000.csv\n",
      "Perceptron has been trained on part-00104-363d1ba3-8ab5-4f96-bc25-4d5862db7cb9-c000.csv\n",
      "AdaBoost has been trained on part-00104-363d1ba3-8ab5-4f96-bc25-4d5862db7cb9-c000.csv\n",
      "RandomForest has been trained on part-00104-363d1ba3-8ab5-4f96-bc25-4d5862db7cb9-c000.csv\n",
      "KNN has been trained on part-00104-363d1ba3-8ab5-4f96-bc25-4d5862db7cb9-c000.csv\n"
     ]
    },
    {
     "name": "stderr",
     "output_type": "stream",
     "text": [
      "\r",
      "Training on datasets:  78%|████████████████████████████████████████████████████████████████████████████████████                        | 105/135 [4:03:05<1:00:45, 121.52s/it]"
     ]
    },
    {
     "name": "stdout",
     "output_type": "stream",
     "text": [
      "DecisionTree has been trained on part-00104-363d1ba3-8ab5-4f96-bc25-4d5862db7cb9-c000.csv\n"
     ]
    },
    {
     "name": "stderr",
     "output_type": "stream",
     "text": [
      "/home/sc/0.DCU/00.Project/ML_based_IDS_for_IoT/project/env/lib/python3.10/site-packages/sklearn/linear_model/_logistic.py:460: ConvergenceWarning: lbfgs failed to converge (status=1):\n",
      "STOP: TOTAL NO. of ITERATIONS REACHED LIMIT.\n",
      "\n",
      "Increase the number of iterations (max_iter) or scale the data as shown in:\n",
      "    https://scikit-learn.org/stable/modules/preprocessing.html\n",
      "Please also refer to the documentation for alternative solver options:\n",
      "    https://scikit-learn.org/stable/modules/linear_model.html#logistic-regression\n",
      "  n_iter_i = _check_optimize_result(\n"
     ]
    },
    {
     "name": "stdout",
     "output_type": "stream",
     "text": [
      "LogisticRegression has been trained on part-00105-363d1ba3-8ab5-4f96-bc25-4d5862db7cb9-c000.csv\n",
      "Perceptron has been trained on part-00105-363d1ba3-8ab5-4f96-bc25-4d5862db7cb9-c000.csv\n",
      "AdaBoost has been trained on part-00105-363d1ba3-8ab5-4f96-bc25-4d5862db7cb9-c000.csv\n",
      "RandomForest has been trained on part-00105-363d1ba3-8ab5-4f96-bc25-4d5862db7cb9-c000.csv\n",
      "KNN has been trained on part-00105-363d1ba3-8ab5-4f96-bc25-4d5862db7cb9-c000.csv\n"
     ]
    },
    {
     "name": "stderr",
     "output_type": "stream",
     "text": [
      "\r",
      "Training on datasets:  79%|██████████████████████████████████████████████████████████████████████████████████████▎                       | 106/135 [4:05:01<57:50, 119.69s/it]"
     ]
    },
    {
     "name": "stdout",
     "output_type": "stream",
     "text": [
      "DecisionTree has been trained on part-00105-363d1ba3-8ab5-4f96-bc25-4d5862db7cb9-c000.csv\n"
     ]
    },
    {
     "name": "stderr",
     "output_type": "stream",
     "text": [
      "/home/sc/0.DCU/00.Project/ML_based_IDS_for_IoT/project/env/lib/python3.10/site-packages/sklearn/linear_model/_logistic.py:460: ConvergenceWarning: lbfgs failed to converge (status=1):\n",
      "STOP: TOTAL NO. of ITERATIONS REACHED LIMIT.\n",
      "\n",
      "Increase the number of iterations (max_iter) or scale the data as shown in:\n",
      "    https://scikit-learn.org/stable/modules/preprocessing.html\n",
      "Please also refer to the documentation for alternative solver options:\n",
      "    https://scikit-learn.org/stable/modules/linear_model.html#logistic-regression\n",
      "  n_iter_i = _check_optimize_result(\n"
     ]
    },
    {
     "name": "stdout",
     "output_type": "stream",
     "text": [
      "LogisticRegression has been trained on part-00106-363d1ba3-8ab5-4f96-bc25-4d5862db7cb9-c000.csv\n",
      "Perceptron has been trained on part-00106-363d1ba3-8ab5-4f96-bc25-4d5862db7cb9-c000.csv\n",
      "AdaBoost has been trained on part-00106-363d1ba3-8ab5-4f96-bc25-4d5862db7cb9-c000.csv\n",
      "RandomForest has been trained on part-00106-363d1ba3-8ab5-4f96-bc25-4d5862db7cb9-c000.csv\n",
      "KNN has been trained on part-00106-363d1ba3-8ab5-4f96-bc25-4d5862db7cb9-c000.csv\n"
     ]
    },
    {
     "name": "stderr",
     "output_type": "stream",
     "text": [
      "\r",
      "Training on datasets:  79%|███████████████████████████████████████████████████████████████████████████████████████▏                      | 107/135 [4:07:05<56:24, 120.89s/it]"
     ]
    },
    {
     "name": "stdout",
     "output_type": "stream",
     "text": [
      "DecisionTree has been trained on part-00106-363d1ba3-8ab5-4f96-bc25-4d5862db7cb9-c000.csv\n"
     ]
    },
    {
     "name": "stderr",
     "output_type": "stream",
     "text": [
      "/home/sc/0.DCU/00.Project/ML_based_IDS_for_IoT/project/env/lib/python3.10/site-packages/sklearn/linear_model/_logistic.py:460: ConvergenceWarning: lbfgs failed to converge (status=1):\n",
      "STOP: TOTAL NO. of ITERATIONS REACHED LIMIT.\n",
      "\n",
      "Increase the number of iterations (max_iter) or scale the data as shown in:\n",
      "    https://scikit-learn.org/stable/modules/preprocessing.html\n",
      "Please also refer to the documentation for alternative solver options:\n",
      "    https://scikit-learn.org/stable/modules/linear_model.html#logistic-regression\n",
      "  n_iter_i = _check_optimize_result(\n"
     ]
    },
    {
     "name": "stdout",
     "output_type": "stream",
     "text": [
      "LogisticRegression has been trained on part-00107-363d1ba3-8ab5-4f96-bc25-4d5862db7cb9-c000.csv\n",
      "Perceptron has been trained on part-00107-363d1ba3-8ab5-4f96-bc25-4d5862db7cb9-c000.csv\n",
      "AdaBoost has been trained on part-00107-363d1ba3-8ab5-4f96-bc25-4d5862db7cb9-c000.csv\n",
      "RandomForest has been trained on part-00107-363d1ba3-8ab5-4f96-bc25-4d5862db7cb9-c000.csv\n",
      "KNN has been trained on part-00107-363d1ba3-8ab5-4f96-bc25-4d5862db7cb9-c000.csv\n"
     ]
    },
    {
     "name": "stderr",
     "output_type": "stream",
     "text": [
      "\r",
      "Training on datasets:  80%|████████████████████████████████████████████████████████████████████████████████████████                      | 108/135 [4:08:53<52:41, 117.10s/it]"
     ]
    },
    {
     "name": "stdout",
     "output_type": "stream",
     "text": [
      "DecisionTree has been trained on part-00107-363d1ba3-8ab5-4f96-bc25-4d5862db7cb9-c000.csv\n"
     ]
    },
    {
     "name": "stderr",
     "output_type": "stream",
     "text": [
      "/home/sc/0.DCU/00.Project/ML_based_IDS_for_IoT/project/env/lib/python3.10/site-packages/sklearn/linear_model/_logistic.py:460: ConvergenceWarning: lbfgs failed to converge (status=1):\n",
      "STOP: TOTAL NO. of ITERATIONS REACHED LIMIT.\n",
      "\n",
      "Increase the number of iterations (max_iter) or scale the data as shown in:\n",
      "    https://scikit-learn.org/stable/modules/preprocessing.html\n",
      "Please also refer to the documentation for alternative solver options:\n",
      "    https://scikit-learn.org/stable/modules/linear_model.html#logistic-regression\n",
      "  n_iter_i = _check_optimize_result(\n"
     ]
    },
    {
     "name": "stdout",
     "output_type": "stream",
     "text": [
      "LogisticRegression has been trained on part-00108-363d1ba3-8ab5-4f96-bc25-4d5862db7cb9-c000.csv\n",
      "Perceptron has been trained on part-00108-363d1ba3-8ab5-4f96-bc25-4d5862db7cb9-c000.csv\n",
      "AdaBoost has been trained on part-00108-363d1ba3-8ab5-4f96-bc25-4d5862db7cb9-c000.csv\n",
      "RandomForest has been trained on part-00108-363d1ba3-8ab5-4f96-bc25-4d5862db7cb9-c000.csv\n",
      "KNN has been trained on part-00108-363d1ba3-8ab5-4f96-bc25-4d5862db7cb9-c000.csv\n"
     ]
    },
    {
     "name": "stderr",
     "output_type": "stream",
     "text": [
      "\r",
      "Training on datasets:  81%|████████████████████████████████████████████████████████████████████████████████████████▊                     | 109/135 [4:10:46<50:17, 116.04s/it]"
     ]
    },
    {
     "name": "stdout",
     "output_type": "stream",
     "text": [
      "DecisionTree has been trained on part-00108-363d1ba3-8ab5-4f96-bc25-4d5862db7cb9-c000.csv\n"
     ]
    },
    {
     "name": "stderr",
     "output_type": "stream",
     "text": [
      "/home/sc/0.DCU/00.Project/ML_based_IDS_for_IoT/project/env/lib/python3.10/site-packages/sklearn/linear_model/_logistic.py:460: ConvergenceWarning: lbfgs failed to converge (status=1):\n",
      "STOP: TOTAL NO. of ITERATIONS REACHED LIMIT.\n",
      "\n",
      "Increase the number of iterations (max_iter) or scale the data as shown in:\n",
      "    https://scikit-learn.org/stable/modules/preprocessing.html\n",
      "Please also refer to the documentation for alternative solver options:\n",
      "    https://scikit-learn.org/stable/modules/linear_model.html#logistic-regression\n",
      "  n_iter_i = _check_optimize_result(\n"
     ]
    },
    {
     "name": "stdout",
     "output_type": "stream",
     "text": [
      "LogisticRegression has been trained on part-00109-363d1ba3-8ab5-4f96-bc25-4d5862db7cb9-c000.csv\n",
      "Perceptron has been trained on part-00109-363d1ba3-8ab5-4f96-bc25-4d5862db7cb9-c000.csv\n",
      "AdaBoost has been trained on part-00109-363d1ba3-8ab5-4f96-bc25-4d5862db7cb9-c000.csv\n",
      "RandomForest has been trained on part-00109-363d1ba3-8ab5-4f96-bc25-4d5862db7cb9-c000.csv\n",
      "KNN has been trained on part-00109-363d1ba3-8ab5-4f96-bc25-4d5862db7cb9-c000.csv\n"
     ]
    },
    {
     "name": "stderr",
     "output_type": "stream",
     "text": [
      "\r",
      "Training on datasets:  81%|█████████████████████████████████████████████████████████████████████████████████████████▋                    | 110/135 [4:12:56<50:04, 120.16s/it]"
     ]
    },
    {
     "name": "stdout",
     "output_type": "stream",
     "text": [
      "DecisionTree has been trained on part-00109-363d1ba3-8ab5-4f96-bc25-4d5862db7cb9-c000.csv\n"
     ]
    },
    {
     "name": "stderr",
     "output_type": "stream",
     "text": [
      "/home/sc/0.DCU/00.Project/ML_based_IDS_for_IoT/project/env/lib/python3.10/site-packages/sklearn/linear_model/_logistic.py:460: ConvergenceWarning: lbfgs failed to converge (status=1):\n",
      "STOP: TOTAL NO. of ITERATIONS REACHED LIMIT.\n",
      "\n",
      "Increase the number of iterations (max_iter) or scale the data as shown in:\n",
      "    https://scikit-learn.org/stable/modules/preprocessing.html\n",
      "Please also refer to the documentation for alternative solver options:\n",
      "    https://scikit-learn.org/stable/modules/linear_model.html#logistic-regression\n",
      "  n_iter_i = _check_optimize_result(\n"
     ]
    },
    {
     "name": "stdout",
     "output_type": "stream",
     "text": [
      "LogisticRegression has been trained on part-00110-363d1ba3-8ab5-4f96-bc25-4d5862db7cb9-c000.csv\n",
      "Perceptron has been trained on part-00110-363d1ba3-8ab5-4f96-bc25-4d5862db7cb9-c000.csv\n",
      "AdaBoost has been trained on part-00110-363d1ba3-8ab5-4f96-bc25-4d5862db7cb9-c000.csv\n",
      "RandomForest has been trained on part-00110-363d1ba3-8ab5-4f96-bc25-4d5862db7cb9-c000.csv\n",
      "KNN has been trained on part-00110-363d1ba3-8ab5-4f96-bc25-4d5862db7cb9-c000.csv\n"
     ]
    },
    {
     "name": "stderr",
     "output_type": "stream",
     "text": [
      "\r",
      "Training on datasets:  82%|██████████████████████████████████████████████████████████████████████████████████████████▍                   | 111/135 [4:14:54<47:47, 119.47s/it]"
     ]
    },
    {
     "name": "stdout",
     "output_type": "stream",
     "text": [
      "DecisionTree has been trained on part-00110-363d1ba3-8ab5-4f96-bc25-4d5862db7cb9-c000.csv\n"
     ]
    },
    {
     "name": "stderr",
     "output_type": "stream",
     "text": [
      "/home/sc/0.DCU/00.Project/ML_based_IDS_for_IoT/project/env/lib/python3.10/site-packages/sklearn/linear_model/_logistic.py:460: ConvergenceWarning: lbfgs failed to converge (status=1):\n",
      "STOP: TOTAL NO. of ITERATIONS REACHED LIMIT.\n",
      "\n",
      "Increase the number of iterations (max_iter) or scale the data as shown in:\n",
      "    https://scikit-learn.org/stable/modules/preprocessing.html\n",
      "Please also refer to the documentation for alternative solver options:\n",
      "    https://scikit-learn.org/stable/modules/linear_model.html#logistic-regression\n",
      "  n_iter_i = _check_optimize_result(\n"
     ]
    },
    {
     "name": "stdout",
     "output_type": "stream",
     "text": [
      "LogisticRegression has been trained on part-00111-363d1ba3-8ab5-4f96-bc25-4d5862db7cb9-c000.csv\n",
      "Perceptron has been trained on part-00111-363d1ba3-8ab5-4f96-bc25-4d5862db7cb9-c000.csv\n",
      "AdaBoost has been trained on part-00111-363d1ba3-8ab5-4f96-bc25-4d5862db7cb9-c000.csv\n",
      "RandomForest has been trained on part-00111-363d1ba3-8ab5-4f96-bc25-4d5862db7cb9-c000.csv\n",
      "KNN has been trained on part-00111-363d1ba3-8ab5-4f96-bc25-4d5862db7cb9-c000.csv\n"
     ]
    },
    {
     "name": "stderr",
     "output_type": "stream",
     "text": [
      "\r",
      "Training on datasets:  83%|███████████████████████████████████████████████████████████████████████████████████████████▎                  | 112/135 [4:17:09<47:36, 124.18s/it]"
     ]
    },
    {
     "name": "stdout",
     "output_type": "stream",
     "text": [
      "DecisionTree has been trained on part-00111-363d1ba3-8ab5-4f96-bc25-4d5862db7cb9-c000.csv\n"
     ]
    },
    {
     "name": "stderr",
     "output_type": "stream",
     "text": [
      "/home/sc/0.DCU/00.Project/ML_based_IDS_for_IoT/project/env/lib/python3.10/site-packages/sklearn/linear_model/_logistic.py:460: ConvergenceWarning: lbfgs failed to converge (status=1):\n",
      "STOP: TOTAL NO. of ITERATIONS REACHED LIMIT.\n",
      "\n",
      "Increase the number of iterations (max_iter) or scale the data as shown in:\n",
      "    https://scikit-learn.org/stable/modules/preprocessing.html\n",
      "Please also refer to the documentation for alternative solver options:\n",
      "    https://scikit-learn.org/stable/modules/linear_model.html#logistic-regression\n",
      "  n_iter_i = _check_optimize_result(\n"
     ]
    },
    {
     "name": "stdout",
     "output_type": "stream",
     "text": [
      "LogisticRegression has been trained on part-00112-363d1ba3-8ab5-4f96-bc25-4d5862db7cb9-c000.csv\n",
      "Perceptron has been trained on part-00112-363d1ba3-8ab5-4f96-bc25-4d5862db7cb9-c000.csv\n",
      "AdaBoost has been trained on part-00112-363d1ba3-8ab5-4f96-bc25-4d5862db7cb9-c000.csv\n",
      "RandomForest has been trained on part-00112-363d1ba3-8ab5-4f96-bc25-4d5862db7cb9-c000.csv\n",
      "KNN has been trained on part-00112-363d1ba3-8ab5-4f96-bc25-4d5862db7cb9-c000.csv\n"
     ]
    },
    {
     "name": "stderr",
     "output_type": "stream",
     "text": [
      "\r",
      "Training on datasets:  84%|████████████████████████████████████████████████████████████████████████████████████████████                  | 113/135 [4:19:14<45:32, 124.23s/it]"
     ]
    },
    {
     "name": "stdout",
     "output_type": "stream",
     "text": [
      "DecisionTree has been trained on part-00112-363d1ba3-8ab5-4f96-bc25-4d5862db7cb9-c000.csv\n"
     ]
    },
    {
     "name": "stderr",
     "output_type": "stream",
     "text": [
      "/home/sc/0.DCU/00.Project/ML_based_IDS_for_IoT/project/env/lib/python3.10/site-packages/sklearn/linear_model/_logistic.py:460: ConvergenceWarning: lbfgs failed to converge (status=1):\n",
      "STOP: TOTAL NO. of ITERATIONS REACHED LIMIT.\n",
      "\n",
      "Increase the number of iterations (max_iter) or scale the data as shown in:\n",
      "    https://scikit-learn.org/stable/modules/preprocessing.html\n",
      "Please also refer to the documentation for alternative solver options:\n",
      "    https://scikit-learn.org/stable/modules/linear_model.html#logistic-regression\n",
      "  n_iter_i = _check_optimize_result(\n"
     ]
    },
    {
     "name": "stdout",
     "output_type": "stream",
     "text": [
      "LogisticRegression has been trained on part-00113-363d1ba3-8ab5-4f96-bc25-4d5862db7cb9-c000.csv\n",
      "Perceptron has been trained on part-00113-363d1ba3-8ab5-4f96-bc25-4d5862db7cb9-c000.csv\n",
      "AdaBoost has been trained on part-00113-363d1ba3-8ab5-4f96-bc25-4d5862db7cb9-c000.csv\n",
      "RandomForest has been trained on part-00113-363d1ba3-8ab5-4f96-bc25-4d5862db7cb9-c000.csv\n",
      "KNN has been trained on part-00113-363d1ba3-8ab5-4f96-bc25-4d5862db7cb9-c000.csv\n"
     ]
    },
    {
     "name": "stderr",
     "output_type": "stream",
     "text": [
      "\r",
      "Training on datasets:  84%|████████████████████████████████████████████████████████████████████████████████████████████▉                 | 114/135 [4:23:00<54:12, 154.89s/it]"
     ]
    },
    {
     "name": "stdout",
     "output_type": "stream",
     "text": [
      "DecisionTree has been trained on part-00113-363d1ba3-8ab5-4f96-bc25-4d5862db7cb9-c000.csv\n"
     ]
    },
    {
     "name": "stderr",
     "output_type": "stream",
     "text": [
      "/home/sc/0.DCU/00.Project/ML_based_IDS_for_IoT/project/env/lib/python3.10/site-packages/sklearn/linear_model/_logistic.py:460: ConvergenceWarning: lbfgs failed to converge (status=1):\n",
      "STOP: TOTAL NO. of ITERATIONS REACHED LIMIT.\n",
      "\n",
      "Increase the number of iterations (max_iter) or scale the data as shown in:\n",
      "    https://scikit-learn.org/stable/modules/preprocessing.html\n",
      "Please also refer to the documentation for alternative solver options:\n",
      "    https://scikit-learn.org/stable/modules/linear_model.html#logistic-regression\n",
      "  n_iter_i = _check_optimize_result(\n"
     ]
    },
    {
     "name": "stdout",
     "output_type": "stream",
     "text": [
      "LogisticRegression has been trained on part-00114-363d1ba3-8ab5-4f96-bc25-4d5862db7cb9-c000.csv\n",
      "Perceptron has been trained on part-00114-363d1ba3-8ab5-4f96-bc25-4d5862db7cb9-c000.csv\n",
      "AdaBoost has been trained on part-00114-363d1ba3-8ab5-4f96-bc25-4d5862db7cb9-c000.csv\n",
      "RandomForest has been trained on part-00114-363d1ba3-8ab5-4f96-bc25-4d5862db7cb9-c000.csv\n",
      "KNN has been trained on part-00114-363d1ba3-8ab5-4f96-bc25-4d5862db7cb9-c000.csv\n"
     ]
    },
    {
     "name": "stderr",
     "output_type": "stream",
     "text": [
      "\r",
      "Training on datasets:  85%|█████████████████████████████████████████████████████████████████████████████████████████████▋                | 115/135 [4:24:58<47:59, 143.96s/it]"
     ]
    },
    {
     "name": "stdout",
     "output_type": "stream",
     "text": [
      "DecisionTree has been trained on part-00114-363d1ba3-8ab5-4f96-bc25-4d5862db7cb9-c000.csv\n"
     ]
    },
    {
     "name": "stderr",
     "output_type": "stream",
     "text": [
      "/home/sc/0.DCU/00.Project/ML_based_IDS_for_IoT/project/env/lib/python3.10/site-packages/sklearn/linear_model/_logistic.py:460: ConvergenceWarning: lbfgs failed to converge (status=1):\n",
      "STOP: TOTAL NO. of ITERATIONS REACHED LIMIT.\n",
      "\n",
      "Increase the number of iterations (max_iter) or scale the data as shown in:\n",
      "    https://scikit-learn.org/stable/modules/preprocessing.html\n",
      "Please also refer to the documentation for alternative solver options:\n",
      "    https://scikit-learn.org/stable/modules/linear_model.html#logistic-regression\n",
      "  n_iter_i = _check_optimize_result(\n"
     ]
    },
    {
     "name": "stdout",
     "output_type": "stream",
     "text": [
      "LogisticRegression has been trained on part-00115-363d1ba3-8ab5-4f96-bc25-4d5862db7cb9-c000.csv\n",
      "Perceptron has been trained on part-00115-363d1ba3-8ab5-4f96-bc25-4d5862db7cb9-c000.csv\n",
      "AdaBoost has been trained on part-00115-363d1ba3-8ab5-4f96-bc25-4d5862db7cb9-c000.csv\n",
      "RandomForest has been trained on part-00115-363d1ba3-8ab5-4f96-bc25-4d5862db7cb9-c000.csv\n",
      "KNN has been trained on part-00115-363d1ba3-8ab5-4f96-bc25-4d5862db7cb9-c000.csv\n"
     ]
    },
    {
     "name": "stderr",
     "output_type": "stream",
     "text": [
      "\r",
      "Training on datasets:  86%|██████████████████████████████████████████████████████████████████████████████████████████████▌               | 116/135 [4:26:44<41:54, 132.33s/it]"
     ]
    },
    {
     "name": "stdout",
     "output_type": "stream",
     "text": [
      "DecisionTree has been trained on part-00115-363d1ba3-8ab5-4f96-bc25-4d5862db7cb9-c000.csv\n"
     ]
    },
    {
     "name": "stderr",
     "output_type": "stream",
     "text": [
      "/home/sc/0.DCU/00.Project/ML_based_IDS_for_IoT/project/env/lib/python3.10/site-packages/sklearn/linear_model/_logistic.py:460: ConvergenceWarning: lbfgs failed to converge (status=1):\n",
      "STOP: TOTAL NO. of ITERATIONS REACHED LIMIT.\n",
      "\n",
      "Increase the number of iterations (max_iter) or scale the data as shown in:\n",
      "    https://scikit-learn.org/stable/modules/preprocessing.html\n",
      "Please also refer to the documentation for alternative solver options:\n",
      "    https://scikit-learn.org/stable/modules/linear_model.html#logistic-regression\n",
      "  n_iter_i = _check_optimize_result(\n"
     ]
    },
    {
     "name": "stdout",
     "output_type": "stream",
     "text": [
      "LogisticRegression has been trained on part-00116-363d1ba3-8ab5-4f96-bc25-4d5862db7cb9-c000.csv\n",
      "Perceptron has been trained on part-00116-363d1ba3-8ab5-4f96-bc25-4d5862db7cb9-c000.csv\n",
      "AdaBoost has been trained on part-00116-363d1ba3-8ab5-4f96-bc25-4d5862db7cb9-c000.csv\n",
      "RandomForest has been trained on part-00116-363d1ba3-8ab5-4f96-bc25-4d5862db7cb9-c000.csv\n",
      "KNN has been trained on part-00116-363d1ba3-8ab5-4f96-bc25-4d5862db7cb9-c000.csv\n"
     ]
    },
    {
     "name": "stderr",
     "output_type": "stream",
     "text": [
      "\r",
      "Training on datasets:  87%|███████████████████████████████████████████████████████████████████████████████████████████████▎              | 117/135 [4:28:44<38:37, 128.78s/it]"
     ]
    },
    {
     "name": "stdout",
     "output_type": "stream",
     "text": [
      "DecisionTree has been trained on part-00116-363d1ba3-8ab5-4f96-bc25-4d5862db7cb9-c000.csv\n"
     ]
    },
    {
     "name": "stderr",
     "output_type": "stream",
     "text": [
      "/home/sc/0.DCU/00.Project/ML_based_IDS_for_IoT/project/env/lib/python3.10/site-packages/sklearn/linear_model/_logistic.py:460: ConvergenceWarning: lbfgs failed to converge (status=1):\n",
      "STOP: TOTAL NO. of ITERATIONS REACHED LIMIT.\n",
      "\n",
      "Increase the number of iterations (max_iter) or scale the data as shown in:\n",
      "    https://scikit-learn.org/stable/modules/preprocessing.html\n",
      "Please also refer to the documentation for alternative solver options:\n",
      "    https://scikit-learn.org/stable/modules/linear_model.html#logistic-regression\n",
      "  n_iter_i = _check_optimize_result(\n"
     ]
    },
    {
     "name": "stdout",
     "output_type": "stream",
     "text": [
      "LogisticRegression has been trained on part-00117-363d1ba3-8ab5-4f96-bc25-4d5862db7cb9-c000.csv\n",
      "Perceptron has been trained on part-00117-363d1ba3-8ab5-4f96-bc25-4d5862db7cb9-c000.csv\n",
      "AdaBoost has been trained on part-00117-363d1ba3-8ab5-4f96-bc25-4d5862db7cb9-c000.csv\n",
      "RandomForest has been trained on part-00117-363d1ba3-8ab5-4f96-bc25-4d5862db7cb9-c000.csv\n",
      "KNN has been trained on part-00117-363d1ba3-8ab5-4f96-bc25-4d5862db7cb9-c000.csv\n"
     ]
    },
    {
     "name": "stderr",
     "output_type": "stream",
     "text": [
      "\r",
      "Training on datasets:  87%|████████████████████████████████████████████████████████████████████████████████████████████████▏             | 118/135 [4:30:44<35:43, 126.09s/it]"
     ]
    },
    {
     "name": "stdout",
     "output_type": "stream",
     "text": [
      "DecisionTree has been trained on part-00117-363d1ba3-8ab5-4f96-bc25-4d5862db7cb9-c000.csv\n"
     ]
    },
    {
     "name": "stderr",
     "output_type": "stream",
     "text": [
      "/home/sc/0.DCU/00.Project/ML_based_IDS_for_IoT/project/env/lib/python3.10/site-packages/sklearn/linear_model/_logistic.py:460: ConvergenceWarning: lbfgs failed to converge (status=1):\n",
      "STOP: TOTAL NO. of ITERATIONS REACHED LIMIT.\n",
      "\n",
      "Increase the number of iterations (max_iter) or scale the data as shown in:\n",
      "    https://scikit-learn.org/stable/modules/preprocessing.html\n",
      "Please also refer to the documentation for alternative solver options:\n",
      "    https://scikit-learn.org/stable/modules/linear_model.html#logistic-regression\n",
      "  n_iter_i = _check_optimize_result(\n"
     ]
    },
    {
     "name": "stdout",
     "output_type": "stream",
     "text": [
      "LogisticRegression has been trained on part-00118-363d1ba3-8ab5-4f96-bc25-4d5862db7cb9-c000.csv\n",
      "Perceptron has been trained on part-00118-363d1ba3-8ab5-4f96-bc25-4d5862db7cb9-c000.csv\n",
      "AdaBoost has been trained on part-00118-363d1ba3-8ab5-4f96-bc25-4d5862db7cb9-c000.csv\n",
      "RandomForest has been trained on part-00118-363d1ba3-8ab5-4f96-bc25-4d5862db7cb9-c000.csv\n",
      "KNN has been trained on part-00118-363d1ba3-8ab5-4f96-bc25-4d5862db7cb9-c000.csv\n"
     ]
    },
    {
     "name": "stderr",
     "output_type": "stream",
     "text": [
      "\r",
      "Training on datasets:  88%|████████████████████████████████████████████████████████████████████████████████████████████████▉             | 119/135 [4:32:32<32:11, 120.69s/it]"
     ]
    },
    {
     "name": "stdout",
     "output_type": "stream",
     "text": [
      "DecisionTree has been trained on part-00118-363d1ba3-8ab5-4f96-bc25-4d5862db7cb9-c000.csv\n"
     ]
    },
    {
     "name": "stderr",
     "output_type": "stream",
     "text": [
      "/home/sc/0.DCU/00.Project/ML_based_IDS_for_IoT/project/env/lib/python3.10/site-packages/sklearn/linear_model/_logistic.py:460: ConvergenceWarning: lbfgs failed to converge (status=1):\n",
      "STOP: TOTAL NO. of ITERATIONS REACHED LIMIT.\n",
      "\n",
      "Increase the number of iterations (max_iter) or scale the data as shown in:\n",
      "    https://scikit-learn.org/stable/modules/preprocessing.html\n",
      "Please also refer to the documentation for alternative solver options:\n",
      "    https://scikit-learn.org/stable/modules/linear_model.html#logistic-regression\n",
      "  n_iter_i = _check_optimize_result(\n"
     ]
    },
    {
     "name": "stdout",
     "output_type": "stream",
     "text": [
      "LogisticRegression has been trained on part-00119-363d1ba3-8ab5-4f96-bc25-4d5862db7cb9-c000.csv\n",
      "Perceptron has been trained on part-00119-363d1ba3-8ab5-4f96-bc25-4d5862db7cb9-c000.csv\n",
      "AdaBoost has been trained on part-00119-363d1ba3-8ab5-4f96-bc25-4d5862db7cb9-c000.csv\n",
      "RandomForest has been trained on part-00119-363d1ba3-8ab5-4f96-bc25-4d5862db7cb9-c000.csv\n",
      "KNN has been trained on part-00119-363d1ba3-8ab5-4f96-bc25-4d5862db7cb9-c000.csv\n"
     ]
    },
    {
     "name": "stderr",
     "output_type": "stream",
     "text": [
      "\r",
      "Training on datasets:  89%|█████████████████████████████████████████████████████████████████████████████████████████████████▊            | 120/135 [4:34:31<30:03, 120.25s/it]"
     ]
    },
    {
     "name": "stdout",
     "output_type": "stream",
     "text": [
      "DecisionTree has been trained on part-00119-363d1ba3-8ab5-4f96-bc25-4d5862db7cb9-c000.csv\n"
     ]
    },
    {
     "name": "stderr",
     "output_type": "stream",
     "text": [
      "/home/sc/0.DCU/00.Project/ML_based_IDS_for_IoT/project/env/lib/python3.10/site-packages/sklearn/linear_model/_logistic.py:460: ConvergenceWarning: lbfgs failed to converge (status=1):\n",
      "STOP: TOTAL NO. of ITERATIONS REACHED LIMIT.\n",
      "\n",
      "Increase the number of iterations (max_iter) or scale the data as shown in:\n",
      "    https://scikit-learn.org/stable/modules/preprocessing.html\n",
      "Please also refer to the documentation for alternative solver options:\n",
      "    https://scikit-learn.org/stable/modules/linear_model.html#logistic-regression\n",
      "  n_iter_i = _check_optimize_result(\n"
     ]
    },
    {
     "name": "stdout",
     "output_type": "stream",
     "text": [
      "LogisticRegression has been trained on part-00120-363d1ba3-8ab5-4f96-bc25-4d5862db7cb9-c000.csv\n",
      "Perceptron has been trained on part-00120-363d1ba3-8ab5-4f96-bc25-4d5862db7cb9-c000.csv\n",
      "AdaBoost has been trained on part-00120-363d1ba3-8ab5-4f96-bc25-4d5862db7cb9-c000.csv\n",
      "RandomForest has been trained on part-00120-363d1ba3-8ab5-4f96-bc25-4d5862db7cb9-c000.csv\n",
      "KNN has been trained on part-00120-363d1ba3-8ab5-4f96-bc25-4d5862db7cb9-c000.csv\n"
     ]
    },
    {
     "name": "stderr",
     "output_type": "stream",
     "text": [
      "\r",
      "Training on datasets:  90%|██████████████████████████████████████████████████████████████████████████████████████████████████▌           | 121/135 [4:36:28<27:50, 119.30s/it]"
     ]
    },
    {
     "name": "stdout",
     "output_type": "stream",
     "text": [
      "DecisionTree has been trained on part-00120-363d1ba3-8ab5-4f96-bc25-4d5862db7cb9-c000.csv\n"
     ]
    },
    {
     "name": "stderr",
     "output_type": "stream",
     "text": [
      "/home/sc/0.DCU/00.Project/ML_based_IDS_for_IoT/project/env/lib/python3.10/site-packages/sklearn/linear_model/_logistic.py:460: ConvergenceWarning: lbfgs failed to converge (status=1):\n",
      "STOP: TOTAL NO. of ITERATIONS REACHED LIMIT.\n",
      "\n",
      "Increase the number of iterations (max_iter) or scale the data as shown in:\n",
      "    https://scikit-learn.org/stable/modules/preprocessing.html\n",
      "Please also refer to the documentation for alternative solver options:\n",
      "    https://scikit-learn.org/stable/modules/linear_model.html#logistic-regression\n",
      "  n_iter_i = _check_optimize_result(\n"
     ]
    },
    {
     "name": "stdout",
     "output_type": "stream",
     "text": [
      "LogisticRegression has been trained on part-00121-363d1ba3-8ab5-4f96-bc25-4d5862db7cb9-c000.csv\n",
      "Perceptron has been trained on part-00121-363d1ba3-8ab5-4f96-bc25-4d5862db7cb9-c000.csv\n",
      "AdaBoost has been trained on part-00121-363d1ba3-8ab5-4f96-bc25-4d5862db7cb9-c000.csv\n",
      "RandomForest has been trained on part-00121-363d1ba3-8ab5-4f96-bc25-4d5862db7cb9-c000.csv\n",
      "KNN has been trained on part-00121-363d1ba3-8ab5-4f96-bc25-4d5862db7cb9-c000.csv\n"
     ]
    },
    {
     "name": "stderr",
     "output_type": "stream",
     "text": [
      "\r",
      "Training on datasets:  90%|███████████████████████████████████████████████████████████████████████████████████████████████████▍          | 122/135 [4:38:33<26:11, 120.90s/it]"
     ]
    },
    {
     "name": "stdout",
     "output_type": "stream",
     "text": [
      "DecisionTree has been trained on part-00121-363d1ba3-8ab5-4f96-bc25-4d5862db7cb9-c000.csv\n"
     ]
    },
    {
     "name": "stderr",
     "output_type": "stream",
     "text": [
      "/home/sc/0.DCU/00.Project/ML_based_IDS_for_IoT/project/env/lib/python3.10/site-packages/sklearn/linear_model/_logistic.py:460: ConvergenceWarning: lbfgs failed to converge (status=1):\n",
      "STOP: TOTAL NO. of ITERATIONS REACHED LIMIT.\n",
      "\n",
      "Increase the number of iterations (max_iter) or scale the data as shown in:\n",
      "    https://scikit-learn.org/stable/modules/preprocessing.html\n",
      "Please also refer to the documentation for alternative solver options:\n",
      "    https://scikit-learn.org/stable/modules/linear_model.html#logistic-regression\n",
      "  n_iter_i = _check_optimize_result(\n"
     ]
    },
    {
     "name": "stdout",
     "output_type": "stream",
     "text": [
      "LogisticRegression has been trained on part-00122-363d1ba3-8ab5-4f96-bc25-4d5862db7cb9-c000.csv\n",
      "Perceptron has been trained on part-00122-363d1ba3-8ab5-4f96-bc25-4d5862db7cb9-c000.csv\n",
      "AdaBoost has been trained on part-00122-363d1ba3-8ab5-4f96-bc25-4d5862db7cb9-c000.csv\n",
      "RandomForest has been trained on part-00122-363d1ba3-8ab5-4f96-bc25-4d5862db7cb9-c000.csv\n",
      "KNN has been trained on part-00122-363d1ba3-8ab5-4f96-bc25-4d5862db7cb9-c000.csv\n"
     ]
    },
    {
     "name": "stderr",
     "output_type": "stream",
     "text": [
      "\r",
      "Training on datasets:  91%|████████████████████████████████████████████████████████████████████████████████████████████████████▏         | 123/135 [4:40:34<24:12, 121.03s/it]"
     ]
    },
    {
     "name": "stdout",
     "output_type": "stream",
     "text": [
      "DecisionTree has been trained on part-00122-363d1ba3-8ab5-4f96-bc25-4d5862db7cb9-c000.csv\n"
     ]
    },
    {
     "name": "stderr",
     "output_type": "stream",
     "text": [
      "/home/sc/0.DCU/00.Project/ML_based_IDS_for_IoT/project/env/lib/python3.10/site-packages/sklearn/linear_model/_logistic.py:460: ConvergenceWarning: lbfgs failed to converge (status=1):\n",
      "STOP: TOTAL NO. of ITERATIONS REACHED LIMIT.\n",
      "\n",
      "Increase the number of iterations (max_iter) or scale the data as shown in:\n",
      "    https://scikit-learn.org/stable/modules/preprocessing.html\n",
      "Please also refer to the documentation for alternative solver options:\n",
      "    https://scikit-learn.org/stable/modules/linear_model.html#logistic-regression\n",
      "  n_iter_i = _check_optimize_result(\n"
     ]
    },
    {
     "name": "stdout",
     "output_type": "stream",
     "text": [
      "LogisticRegression has been trained on part-00123-363d1ba3-8ab5-4f96-bc25-4d5862db7cb9-c000.csv\n",
      "Perceptron has been trained on part-00123-363d1ba3-8ab5-4f96-bc25-4d5862db7cb9-c000.csv\n",
      "AdaBoost has been trained on part-00123-363d1ba3-8ab5-4f96-bc25-4d5862db7cb9-c000.csv\n",
      "RandomForest has been trained on part-00123-363d1ba3-8ab5-4f96-bc25-4d5862db7cb9-c000.csv\n",
      "KNN has been trained on part-00123-363d1ba3-8ab5-4f96-bc25-4d5862db7cb9-c000.csv\n"
     ]
    },
    {
     "name": "stderr",
     "output_type": "stream",
     "text": [
      "\r",
      "Training on datasets:  92%|█████████████████████████████████████████████████████████████████████████████████████████████████████         | 124/135 [4:42:43<22:35, 123.26s/it]"
     ]
    },
    {
     "name": "stdout",
     "output_type": "stream",
     "text": [
      "DecisionTree has been trained on part-00123-363d1ba3-8ab5-4f96-bc25-4d5862db7cb9-c000.csv\n"
     ]
    },
    {
     "name": "stderr",
     "output_type": "stream",
     "text": [
      "/home/sc/0.DCU/00.Project/ML_based_IDS_for_IoT/project/env/lib/python3.10/site-packages/sklearn/linear_model/_logistic.py:460: ConvergenceWarning: lbfgs failed to converge (status=1):\n",
      "STOP: TOTAL NO. of ITERATIONS REACHED LIMIT.\n",
      "\n",
      "Increase the number of iterations (max_iter) or scale the data as shown in:\n",
      "    https://scikit-learn.org/stable/modules/preprocessing.html\n",
      "Please also refer to the documentation for alternative solver options:\n",
      "    https://scikit-learn.org/stable/modules/linear_model.html#logistic-regression\n",
      "  n_iter_i = _check_optimize_result(\n"
     ]
    },
    {
     "name": "stdout",
     "output_type": "stream",
     "text": [
      "LogisticRegression has been trained on part-00124-363d1ba3-8ab5-4f96-bc25-4d5862db7cb9-c000.csv\n",
      "Perceptron has been trained on part-00124-363d1ba3-8ab5-4f96-bc25-4d5862db7cb9-c000.csv\n",
      "AdaBoost has been trained on part-00124-363d1ba3-8ab5-4f96-bc25-4d5862db7cb9-c000.csv\n",
      "RandomForest has been trained on part-00124-363d1ba3-8ab5-4f96-bc25-4d5862db7cb9-c000.csv\n",
      "KNN has been trained on part-00124-363d1ba3-8ab5-4f96-bc25-4d5862db7cb9-c000.csv\n"
     ]
    },
    {
     "name": "stderr",
     "output_type": "stream",
     "text": [
      "\r",
      "Training on datasets:  93%|█████████████████████████████████████████████████████████████████████████████████████████████████████▊        | 125/135 [4:44:47<20:34, 123.50s/it]"
     ]
    },
    {
     "name": "stdout",
     "output_type": "stream",
     "text": [
      "DecisionTree has been trained on part-00124-363d1ba3-8ab5-4f96-bc25-4d5862db7cb9-c000.csv\n"
     ]
    },
    {
     "name": "stderr",
     "output_type": "stream",
     "text": [
      "/home/sc/0.DCU/00.Project/ML_based_IDS_for_IoT/project/env/lib/python3.10/site-packages/sklearn/linear_model/_logistic.py:460: ConvergenceWarning: lbfgs failed to converge (status=1):\n",
      "STOP: TOTAL NO. of ITERATIONS REACHED LIMIT.\n",
      "\n",
      "Increase the number of iterations (max_iter) or scale the data as shown in:\n",
      "    https://scikit-learn.org/stable/modules/preprocessing.html\n",
      "Please also refer to the documentation for alternative solver options:\n",
      "    https://scikit-learn.org/stable/modules/linear_model.html#logistic-regression\n",
      "  n_iter_i = _check_optimize_result(\n"
     ]
    },
    {
     "name": "stdout",
     "output_type": "stream",
     "text": [
      "LogisticRegression has been trained on part-00125-363d1ba3-8ab5-4f96-bc25-4d5862db7cb9-c000.csv\n",
      "Perceptron has been trained on part-00125-363d1ba3-8ab5-4f96-bc25-4d5862db7cb9-c000.csv\n",
      "AdaBoost has been trained on part-00125-363d1ba3-8ab5-4f96-bc25-4d5862db7cb9-c000.csv\n",
      "RandomForest has been trained on part-00125-363d1ba3-8ab5-4f96-bc25-4d5862db7cb9-c000.csv\n",
      "KNN has been trained on part-00125-363d1ba3-8ab5-4f96-bc25-4d5862db7cb9-c000.csv\n"
     ]
    },
    {
     "name": "stderr",
     "output_type": "stream",
     "text": [
      "\r",
      "Training on datasets:  93%|██████████████████████████████████████████████████████████████████████████████████████████████████████▋       | 126/135 [4:48:36<23:17, 155.31s/it]"
     ]
    },
    {
     "name": "stdout",
     "output_type": "stream",
     "text": [
      "DecisionTree has been trained on part-00125-363d1ba3-8ab5-4f96-bc25-4d5862db7cb9-c000.csv\n"
     ]
    },
    {
     "name": "stderr",
     "output_type": "stream",
     "text": [
      "/home/sc/0.DCU/00.Project/ML_based_IDS_for_IoT/project/env/lib/python3.10/site-packages/sklearn/linear_model/_logistic.py:460: ConvergenceWarning: lbfgs failed to converge (status=1):\n",
      "STOP: TOTAL NO. of ITERATIONS REACHED LIMIT.\n",
      "\n",
      "Increase the number of iterations (max_iter) or scale the data as shown in:\n",
      "    https://scikit-learn.org/stable/modules/preprocessing.html\n",
      "Please also refer to the documentation for alternative solver options:\n",
      "    https://scikit-learn.org/stable/modules/linear_model.html#logistic-regression\n",
      "  n_iter_i = _check_optimize_result(\n"
     ]
    },
    {
     "name": "stdout",
     "output_type": "stream",
     "text": [
      "LogisticRegression has been trained on part-00126-363d1ba3-8ab5-4f96-bc25-4d5862db7cb9-c000.csv\n",
      "Perceptron has been trained on part-00126-363d1ba3-8ab5-4f96-bc25-4d5862db7cb9-c000.csv\n",
      "AdaBoost has been trained on part-00126-363d1ba3-8ab5-4f96-bc25-4d5862db7cb9-c000.csv\n",
      "RandomForest has been trained on part-00126-363d1ba3-8ab5-4f96-bc25-4d5862db7cb9-c000.csv\n",
      "KNN has been trained on part-00126-363d1ba3-8ab5-4f96-bc25-4d5862db7cb9-c000.csv\n"
     ]
    },
    {
     "name": "stderr",
     "output_type": "stream",
     "text": [
      "\r",
      "Training on datasets:  94%|███████████████████████████████████████████████████████████████████████████████████████████████████████▍      | 127/135 [4:50:30<19:02, 142.86s/it]"
     ]
    },
    {
     "name": "stdout",
     "output_type": "stream",
     "text": [
      "DecisionTree has been trained on part-00126-363d1ba3-8ab5-4f96-bc25-4d5862db7cb9-c000.csv\n"
     ]
    },
    {
     "name": "stderr",
     "output_type": "stream",
     "text": [
      "/home/sc/0.DCU/00.Project/ML_based_IDS_for_IoT/project/env/lib/python3.10/site-packages/sklearn/linear_model/_logistic.py:460: ConvergenceWarning: lbfgs failed to converge (status=1):\n",
      "STOP: TOTAL NO. of ITERATIONS REACHED LIMIT.\n",
      "\n",
      "Increase the number of iterations (max_iter) or scale the data as shown in:\n",
      "    https://scikit-learn.org/stable/modules/preprocessing.html\n",
      "Please also refer to the documentation for alternative solver options:\n",
      "    https://scikit-learn.org/stable/modules/linear_model.html#logistic-regression\n",
      "  n_iter_i = _check_optimize_result(\n"
     ]
    },
    {
     "name": "stdout",
     "output_type": "stream",
     "text": [
      "LogisticRegression has been trained on part-00127-363d1ba3-8ab5-4f96-bc25-4d5862db7cb9-c000.csv\n",
      "Perceptron has been trained on part-00127-363d1ba3-8ab5-4f96-bc25-4d5862db7cb9-c000.csv\n",
      "AdaBoost has been trained on part-00127-363d1ba3-8ab5-4f96-bc25-4d5862db7cb9-c000.csv\n",
      "RandomForest has been trained on part-00127-363d1ba3-8ab5-4f96-bc25-4d5862db7cb9-c000.csv\n",
      "KNN has been trained on part-00127-363d1ba3-8ab5-4f96-bc25-4d5862db7cb9-c000.csv\n"
     ]
    },
    {
     "name": "stderr",
     "output_type": "stream",
     "text": [
      "\r",
      "Training on datasets:  95%|████████████████████████████████████████████████████████████████████████████████████████████████████████▎     | 128/135 [4:54:13<19:27, 166.80s/it]"
     ]
    },
    {
     "name": "stdout",
     "output_type": "stream",
     "text": [
      "DecisionTree has been trained on part-00127-363d1ba3-8ab5-4f96-bc25-4d5862db7cb9-c000.csv\n"
     ]
    },
    {
     "name": "stderr",
     "output_type": "stream",
     "text": [
      "/home/sc/0.DCU/00.Project/ML_based_IDS_for_IoT/project/env/lib/python3.10/site-packages/sklearn/linear_model/_logistic.py:460: ConvergenceWarning: lbfgs failed to converge (status=1):\n",
      "STOP: TOTAL NO. of ITERATIONS REACHED LIMIT.\n",
      "\n",
      "Increase the number of iterations (max_iter) or scale the data as shown in:\n",
      "    https://scikit-learn.org/stable/modules/preprocessing.html\n",
      "Please also refer to the documentation for alternative solver options:\n",
      "    https://scikit-learn.org/stable/modules/linear_model.html#logistic-regression\n",
      "  n_iter_i = _check_optimize_result(\n"
     ]
    },
    {
     "name": "stdout",
     "output_type": "stream",
     "text": [
      "LogisticRegression has been trained on part-00128-363d1ba3-8ab5-4f96-bc25-4d5862db7cb9-c000.csv\n",
      "Perceptron has been trained on part-00128-363d1ba3-8ab5-4f96-bc25-4d5862db7cb9-c000.csv\n",
      "AdaBoost has been trained on part-00128-363d1ba3-8ab5-4f96-bc25-4d5862db7cb9-c000.csv\n",
      "RandomForest has been trained on part-00128-363d1ba3-8ab5-4f96-bc25-4d5862db7cb9-c000.csv\n",
      "KNN has been trained on part-00128-363d1ba3-8ab5-4f96-bc25-4d5862db7cb9-c000.csv\n"
     ]
    },
    {
     "name": "stderr",
     "output_type": "stream",
     "text": [
      "\r",
      "Training on datasets:  96%|█████████████████████████████████████████████████████████████████████████████████████████████████████████     | 129/135 [4:56:13<15:16, 152.80s/it]"
     ]
    },
    {
     "name": "stdout",
     "output_type": "stream",
     "text": [
      "DecisionTree has been trained on part-00128-363d1ba3-8ab5-4f96-bc25-4d5862db7cb9-c000.csv\n"
     ]
    },
    {
     "name": "stderr",
     "output_type": "stream",
     "text": [
      "/home/sc/0.DCU/00.Project/ML_based_IDS_for_IoT/project/env/lib/python3.10/site-packages/sklearn/linear_model/_logistic.py:460: ConvergenceWarning: lbfgs failed to converge (status=1):\n",
      "STOP: TOTAL NO. of ITERATIONS REACHED LIMIT.\n",
      "\n",
      "Increase the number of iterations (max_iter) or scale the data as shown in:\n",
      "    https://scikit-learn.org/stable/modules/preprocessing.html\n",
      "Please also refer to the documentation for alternative solver options:\n",
      "    https://scikit-learn.org/stable/modules/linear_model.html#logistic-regression\n",
      "  n_iter_i = _check_optimize_result(\n"
     ]
    },
    {
     "name": "stdout",
     "output_type": "stream",
     "text": [
      "LogisticRegression has been trained on part-00129-363d1ba3-8ab5-4f96-bc25-4d5862db7cb9-c000.csv\n",
      "Perceptron has been trained on part-00129-363d1ba3-8ab5-4f96-bc25-4d5862db7cb9-c000.csv\n",
      "AdaBoost has been trained on part-00129-363d1ba3-8ab5-4f96-bc25-4d5862db7cb9-c000.csv\n",
      "RandomForest has been trained on part-00129-363d1ba3-8ab5-4f96-bc25-4d5862db7cb9-c000.csv\n",
      "KNN has been trained on part-00129-363d1ba3-8ab5-4f96-bc25-4d5862db7cb9-c000.csv\n"
     ]
    },
    {
     "name": "stderr",
     "output_type": "stream",
     "text": [
      "\r",
      "Training on datasets:  96%|█████████████████████████████████████████████████████████████████████████████████████████████████████████▉    | 130/135 [4:58:06<11:43, 140.74s/it]"
     ]
    },
    {
     "name": "stdout",
     "output_type": "stream",
     "text": [
      "DecisionTree has been trained on part-00129-363d1ba3-8ab5-4f96-bc25-4d5862db7cb9-c000.csv\n"
     ]
    },
    {
     "name": "stderr",
     "output_type": "stream",
     "text": [
      "/home/sc/0.DCU/00.Project/ML_based_IDS_for_IoT/project/env/lib/python3.10/site-packages/sklearn/linear_model/_logistic.py:460: ConvergenceWarning: lbfgs failed to converge (status=1):\n",
      "STOP: TOTAL NO. of ITERATIONS REACHED LIMIT.\n",
      "\n",
      "Increase the number of iterations (max_iter) or scale the data as shown in:\n",
      "    https://scikit-learn.org/stable/modules/preprocessing.html\n",
      "Please also refer to the documentation for alternative solver options:\n",
      "    https://scikit-learn.org/stable/modules/linear_model.html#logistic-regression\n",
      "  n_iter_i = _check_optimize_result(\n"
     ]
    },
    {
     "name": "stdout",
     "output_type": "stream",
     "text": [
      "LogisticRegression has been trained on part-00130-363d1ba3-8ab5-4f96-bc25-4d5862db7cb9-c000.csv\n",
      "Perceptron has been trained on part-00130-363d1ba3-8ab5-4f96-bc25-4d5862db7cb9-c000.csv\n",
      "AdaBoost has been trained on part-00130-363d1ba3-8ab5-4f96-bc25-4d5862db7cb9-c000.csv\n",
      "RandomForest has been trained on part-00130-363d1ba3-8ab5-4f96-bc25-4d5862db7cb9-c000.csv\n",
      "KNN has been trained on part-00130-363d1ba3-8ab5-4f96-bc25-4d5862db7cb9-c000.csv\n"
     ]
    },
    {
     "name": "stderr",
     "output_type": "stream",
     "text": [
      "\r",
      "Training on datasets:  97%|██████████████████████████████████████████████████████████████████████████████████████████████████████████▋   | 131/135 [5:00:11<09:04, 136.08s/it]"
     ]
    },
    {
     "name": "stdout",
     "output_type": "stream",
     "text": [
      "DecisionTree has been trained on part-00130-363d1ba3-8ab5-4f96-bc25-4d5862db7cb9-c000.csv\n"
     ]
    },
    {
     "name": "stderr",
     "output_type": "stream",
     "text": [
      "/home/sc/0.DCU/00.Project/ML_based_IDS_for_IoT/project/env/lib/python3.10/site-packages/sklearn/linear_model/_logistic.py:460: ConvergenceWarning: lbfgs failed to converge (status=1):\n",
      "STOP: TOTAL NO. of ITERATIONS REACHED LIMIT.\n",
      "\n",
      "Increase the number of iterations (max_iter) or scale the data as shown in:\n",
      "    https://scikit-learn.org/stable/modules/preprocessing.html\n",
      "Please also refer to the documentation for alternative solver options:\n",
      "    https://scikit-learn.org/stable/modules/linear_model.html#logistic-regression\n",
      "  n_iter_i = _check_optimize_result(\n"
     ]
    },
    {
     "name": "stdout",
     "output_type": "stream",
     "text": [
      "LogisticRegression has been trained on part-00131-363d1ba3-8ab5-4f96-bc25-4d5862db7cb9-c000.csv\n",
      "Perceptron has been trained on part-00131-363d1ba3-8ab5-4f96-bc25-4d5862db7cb9-c000.csv\n",
      "AdaBoost has been trained on part-00131-363d1ba3-8ab5-4f96-bc25-4d5862db7cb9-c000.csv\n",
      "RandomForest has been trained on part-00131-363d1ba3-8ab5-4f96-bc25-4d5862db7cb9-c000.csv\n",
      "KNN has been trained on part-00131-363d1ba3-8ab5-4f96-bc25-4d5862db7cb9-c000.csv\n"
     ]
    },
    {
     "name": "stderr",
     "output_type": "stream",
     "text": [
      "\r",
      "Training on datasets:  98%|███████████████████████████████████████████████████████████████████████████████████████████████████████████▌  | 132/135 [5:03:50<08:03, 161.09s/it]"
     ]
    },
    {
     "name": "stdout",
     "output_type": "stream",
     "text": [
      "DecisionTree has been trained on part-00131-363d1ba3-8ab5-4f96-bc25-4d5862db7cb9-c000.csv\n"
     ]
    },
    {
     "name": "stderr",
     "output_type": "stream",
     "text": [
      "/home/sc/0.DCU/00.Project/ML_based_IDS_for_IoT/project/env/lib/python3.10/site-packages/sklearn/linear_model/_logistic.py:460: ConvergenceWarning: lbfgs failed to converge (status=1):\n",
      "STOP: TOTAL NO. of ITERATIONS REACHED LIMIT.\n",
      "\n",
      "Increase the number of iterations (max_iter) or scale the data as shown in:\n",
      "    https://scikit-learn.org/stable/modules/preprocessing.html\n",
      "Please also refer to the documentation for alternative solver options:\n",
      "    https://scikit-learn.org/stable/modules/linear_model.html#logistic-regression\n",
      "  n_iter_i = _check_optimize_result(\n"
     ]
    },
    {
     "name": "stdout",
     "output_type": "stream",
     "text": [
      "LogisticRegression has been trained on part-00132-363d1ba3-8ab5-4f96-bc25-4d5862db7cb9-c000.csv\n",
      "Perceptron has been trained on part-00132-363d1ba3-8ab5-4f96-bc25-4d5862db7cb9-c000.csv\n",
      "AdaBoost has been trained on part-00132-363d1ba3-8ab5-4f96-bc25-4d5862db7cb9-c000.csv\n",
      "RandomForest has been trained on part-00132-363d1ba3-8ab5-4f96-bc25-4d5862db7cb9-c000.csv\n",
      "KNN has been trained on part-00132-363d1ba3-8ab5-4f96-bc25-4d5862db7cb9-c000.csv\n"
     ]
    },
    {
     "name": "stderr",
     "output_type": "stream",
     "text": [
      "\r",
      "Training on datasets:  99%|████████████████████████████████████████████████████████████████████████████████████████████████████████████▎ | 133/135 [5:05:48<04:56, 148.12s/it]"
     ]
    },
    {
     "name": "stdout",
     "output_type": "stream",
     "text": [
      "DecisionTree has been trained on part-00132-363d1ba3-8ab5-4f96-bc25-4d5862db7cb9-c000.csv\n"
     ]
    },
    {
     "name": "stderr",
     "output_type": "stream",
     "text": [
      "/home/sc/0.DCU/00.Project/ML_based_IDS_for_IoT/project/env/lib/python3.10/site-packages/sklearn/linear_model/_logistic.py:460: ConvergenceWarning: lbfgs failed to converge (status=1):\n",
      "STOP: TOTAL NO. of ITERATIONS REACHED LIMIT.\n",
      "\n",
      "Increase the number of iterations (max_iter) or scale the data as shown in:\n",
      "    https://scikit-learn.org/stable/modules/preprocessing.html\n",
      "Please also refer to the documentation for alternative solver options:\n",
      "    https://scikit-learn.org/stable/modules/linear_model.html#logistic-regression\n",
      "  n_iter_i = _check_optimize_result(\n"
     ]
    },
    {
     "name": "stdout",
     "output_type": "stream",
     "text": [
      "LogisticRegression has been trained on part-00133-363d1ba3-8ab5-4f96-bc25-4d5862db7cb9-c000.csv\n",
      "Perceptron has been trained on part-00133-363d1ba3-8ab5-4f96-bc25-4d5862db7cb9-c000.csv\n",
      "AdaBoost has been trained on part-00133-363d1ba3-8ab5-4f96-bc25-4d5862db7cb9-c000.csv\n",
      "RandomForest has been trained on part-00133-363d1ba3-8ab5-4f96-bc25-4d5862db7cb9-c000.csv\n",
      "KNN has been trained on part-00133-363d1ba3-8ab5-4f96-bc25-4d5862db7cb9-c000.csv\n"
     ]
    },
    {
     "name": "stderr",
     "output_type": "stream",
     "text": [
      "\r",
      "Training on datasets:  99%|█████████████████████████████████████████████████████████████████████████████████████████████████████████████▏| 134/135 [5:07:46<02:18, 138.99s/it]"
     ]
    },
    {
     "name": "stdout",
     "output_type": "stream",
     "text": [
      "DecisionTree has been trained on part-00133-363d1ba3-8ab5-4f96-bc25-4d5862db7cb9-c000.csv\n"
     ]
    },
    {
     "name": "stderr",
     "output_type": "stream",
     "text": [
      "/home/sc/0.DCU/00.Project/ML_based_IDS_for_IoT/project/env/lib/python3.10/site-packages/sklearn/linear_model/_logistic.py:460: ConvergenceWarning: lbfgs failed to converge (status=1):\n",
      "STOP: TOTAL NO. of ITERATIONS REACHED LIMIT.\n",
      "\n",
      "Increase the number of iterations (max_iter) or scale the data as shown in:\n",
      "    https://scikit-learn.org/stable/modules/preprocessing.html\n",
      "Please also refer to the documentation for alternative solver options:\n",
      "    https://scikit-learn.org/stable/modules/linear_model.html#logistic-regression\n",
      "  n_iter_i = _check_optimize_result(\n"
     ]
    },
    {
     "name": "stdout",
     "output_type": "stream",
     "text": [
      "LogisticRegression has been trained on part-00134-363d1ba3-8ab5-4f96-bc25-4d5862db7cb9-c000.csv\n",
      "Perceptron has been trained on part-00134-363d1ba3-8ab5-4f96-bc25-4d5862db7cb9-c000.csv\n",
      "AdaBoost has been trained on part-00134-363d1ba3-8ab5-4f96-bc25-4d5862db7cb9-c000.csv\n",
      "RandomForest has been trained on part-00134-363d1ba3-8ab5-4f96-bc25-4d5862db7cb9-c000.csv\n",
      "KNN has been trained on part-00134-363d1ba3-8ab5-4f96-bc25-4d5862db7cb9-c000.csv\n"
     ]
    },
    {
     "name": "stderr",
     "output_type": "stream",
     "text": [
      "Training on datasets: 100%|██████████████████████████████████████████████████████████████████████████████████████████████████████████████| 135/135 [5:09:46<00:00, 137.68s/it]"
     ]
    },
    {
     "name": "stdout",
     "output_type": "stream",
     "text": [
      "DecisionTree has been trained on part-00134-363d1ba3-8ab5-4f96-bc25-4d5862db7cb9-c000.csv\n"
     ]
    },
    {
     "name": "stderr",
     "output_type": "stream",
     "text": [
      "\n"
     ]
    }
   ],
   "source": [
    "ML_models = [\n",
    "    LogisticRegression(n_jobs=-1),\n",
    "    Perceptron(),\n",
    "    AdaBoostClassifier(),\n",
    "    RandomForestClassifier(n_jobs=-1),\n",
    "    KNeighborsClassifier(),\n",
    "    DecisionTreeClassifier()\n",
    "]\n",
    "\n",
    "ML_names = [\n",
    "    \"LogisticRegression\",\n",
    "    \"Perceptron\",\n",
    "    \"AdaBoost\",\n",
    "    \"RandomForest\",\n",
    "    \"KNN\",\n",
    "    \"DecisionTree\"\n",
    "]\n",
    "\n",
    "for train_set in tqdm(training_sets, desc=\"Training on datasets\"):\n",
    "    d = pd.read_csv(DATASET_DIRECTORY + train_set)\n",
    "    d[X_columns] = scaler.transform(d[X_columns])\n",
    "    for i, model in enumerate(ML_models):\n",
    "        model.fit(d[X_columns], d[y_column])\n",
    "        print(f\"{ML_names[i]} has been trained on {train_set}\")\n",
    "        # Save the trained model\n",
    "        filename = f\"model_34classes_{ML_names[i]}.sav\"\n",
    "        joblib.dump(model, filename)\n",
    "    del d\n",
    "\n"
   ]
  },
  {
   "cell_type": "code",
   "execution_count": 9,
   "id": "6116132e-02f0-4bac-aefb-2ba0bee924ab",
   "metadata": {
    "id": "6116132e-02f0-4bac-aefb-2ba0bee924ab"
   },
   "outputs": [
    {
     "name": "stderr",
     "output_type": "stream",
     "text": [
      "  0%|                                                                                                                                                  | 0/34 [00:10<?, ?it/s]\n"
     ]
    },
    {
     "ename": "AttributeError",
     "evalue": "'Flags' object has no attribute 'c_contiguous'",
     "output_type": "error",
     "traceback": [
      "\u001b[0;31m---------------------------------------------------------------------------\u001b[0m",
      "\u001b[0;31mAttributeError\u001b[0m                            Traceback (most recent call last)",
      "Cell \u001b[0;32mIn[9], line 11\u001b[0m\n\u001b[1;32m      9\u001b[0m \u001b[38;5;28;01mfor\u001b[39;00m i \u001b[38;5;129;01min\u001b[39;00m \u001b[38;5;28mrange\u001b[39m(\u001b[38;5;28mlen\u001b[39m(ML_models)):\n\u001b[1;32m     10\u001b[0m     model \u001b[38;5;241m=\u001b[39m ML_models[i]\n\u001b[0;32m---> 11\u001b[0m     y_pred \u001b[38;5;241m=\u001b[39m \u001b[38;5;28mlist\u001b[39m(\u001b[43mmodel\u001b[49m\u001b[38;5;241;43m.\u001b[39;49m\u001b[43mpredict\u001b[49m\u001b[43m(\u001b[49m\u001b[43md_test\u001b[49m\u001b[43m[\u001b[49m\u001b[43mX_columns\u001b[49m\u001b[43m]\u001b[49m\u001b[43m)\u001b[49m)\n\u001b[1;32m     12\u001b[0m     preds[i] \u001b[38;5;241m=\u001b[39m preds[i] \u001b[38;5;241m+\u001b[39m y_pred\n",
      "File \u001b[0;32m~/0.DCU/00.Project/ML_based_IDS_for_IoT/project/env/lib/python3.10/site-packages/sklearn/neighbors/_classification.py:246\u001b[0m, in \u001b[0;36mKNeighborsClassifier.predict\u001b[0;34m(self, X)\u001b[0m\n\u001b[1;32m    244\u001b[0m check_is_fitted(\u001b[38;5;28mself\u001b[39m, \u001b[38;5;124m\"\u001b[39m\u001b[38;5;124m_fit_method\u001b[39m\u001b[38;5;124m\"\u001b[39m)\n\u001b[1;32m    245\u001b[0m \u001b[38;5;28;01mif\u001b[39;00m \u001b[38;5;28mself\u001b[39m\u001b[38;5;241m.\u001b[39mweights \u001b[38;5;241m==\u001b[39m \u001b[38;5;124m\"\u001b[39m\u001b[38;5;124muniform\u001b[39m\u001b[38;5;124m\"\u001b[39m:\n\u001b[0;32m--> 246\u001b[0m     \u001b[38;5;28;01mif\u001b[39;00m \u001b[38;5;28mself\u001b[39m\u001b[38;5;241m.\u001b[39m_fit_method \u001b[38;5;241m==\u001b[39m \u001b[38;5;124m\"\u001b[39m\u001b[38;5;124mbrute\u001b[39m\u001b[38;5;124m\"\u001b[39m \u001b[38;5;129;01mand\u001b[39;00m \u001b[43mArgKminClassMode\u001b[49m\u001b[38;5;241;43m.\u001b[39;49m\u001b[43mis_usable_for\u001b[49m\u001b[43m(\u001b[49m\n\u001b[1;32m    247\u001b[0m \u001b[43m        \u001b[49m\u001b[43mX\u001b[49m\u001b[43m,\u001b[49m\u001b[43m \u001b[49m\u001b[38;5;28;43mself\u001b[39;49m\u001b[38;5;241;43m.\u001b[39;49m\u001b[43m_fit_X\u001b[49m\u001b[43m,\u001b[49m\u001b[43m \u001b[49m\u001b[38;5;28;43mself\u001b[39;49m\u001b[38;5;241;43m.\u001b[39;49m\u001b[43mmetric\u001b[49m\n\u001b[1;32m    248\u001b[0m \u001b[43m    \u001b[49m\u001b[43m)\u001b[49m:\n\u001b[1;32m    249\u001b[0m         probabilities \u001b[38;5;241m=\u001b[39m \u001b[38;5;28mself\u001b[39m\u001b[38;5;241m.\u001b[39mpredict_proba(X)\n\u001b[1;32m    250\u001b[0m         \u001b[38;5;28;01mif\u001b[39;00m \u001b[38;5;28mself\u001b[39m\u001b[38;5;241m.\u001b[39moutputs_2d_:\n",
      "File \u001b[0;32m~/0.DCU/00.Project/ML_based_IDS_for_IoT/project/env/lib/python3.10/site-packages/sklearn/metrics/_pairwise_distances_reduction/_dispatcher.py:471\u001b[0m, in \u001b[0;36mArgKminClassMode.is_usable_for\u001b[0;34m(cls, X, Y, metric)\u001b[0m\n\u001b[1;32m    448\u001b[0m \u001b[38;5;129m@classmethod\u001b[39m\n\u001b[1;32m    449\u001b[0m \u001b[38;5;28;01mdef\u001b[39;00m \u001b[38;5;21mis_usable_for\u001b[39m(\u001b[38;5;28mcls\u001b[39m, X, Y, metric) \u001b[38;5;241m-\u001b[39m\u001b[38;5;241m>\u001b[39m \u001b[38;5;28mbool\u001b[39m:\n\u001b[1;32m    450\u001b[0m \u001b[38;5;250m    \u001b[39m\u001b[38;5;124;03m\"\"\"Return True if the dispatcher can be used for the given parameters.\u001b[39;00m\n\u001b[1;32m    451\u001b[0m \n\u001b[1;32m    452\u001b[0m \u001b[38;5;124;03m    Parameters\u001b[39;00m\n\u001b[0;32m   (...)\u001b[0m\n\u001b[1;32m    468\u001b[0m \u001b[38;5;124;03m    True if the PairwiseDistancesReduction can be used, else False.\u001b[39;00m\n\u001b[1;32m    469\u001b[0m \u001b[38;5;124;03m    \"\"\"\u001b[39;00m\n\u001b[1;32m    470\u001b[0m     \u001b[38;5;28;01mreturn\u001b[39;00m (\n\u001b[0;32m--> 471\u001b[0m         \u001b[43mArgKmin\u001b[49m\u001b[38;5;241;43m.\u001b[39;49m\u001b[43mis_usable_for\u001b[49m\u001b[43m(\u001b[49m\u001b[43mX\u001b[49m\u001b[43m,\u001b[49m\u001b[43m \u001b[49m\u001b[43mY\u001b[49m\u001b[43m,\u001b[49m\u001b[43m \u001b[49m\u001b[43mmetric\u001b[49m\u001b[43m)\u001b[49m\n\u001b[1;32m    472\u001b[0m         \u001b[38;5;66;03m# TODO: Support CSR matrices.\u001b[39;00m\n\u001b[1;32m    473\u001b[0m         \u001b[38;5;129;01mand\u001b[39;00m \u001b[38;5;129;01mnot\u001b[39;00m issparse(X)\n\u001b[1;32m    474\u001b[0m         \u001b[38;5;129;01mand\u001b[39;00m \u001b[38;5;129;01mnot\u001b[39;00m issparse(Y)\n\u001b[1;32m    475\u001b[0m         \u001b[38;5;66;03m# TODO: implement Euclidean specialization with GEMM.\u001b[39;00m\n\u001b[1;32m    476\u001b[0m         \u001b[38;5;129;01mand\u001b[39;00m metric \u001b[38;5;129;01mnot\u001b[39;00m \u001b[38;5;129;01min\u001b[39;00m (\u001b[38;5;124m\"\u001b[39m\u001b[38;5;124meuclidean\u001b[39m\u001b[38;5;124m\"\u001b[39m, \u001b[38;5;124m\"\u001b[39m\u001b[38;5;124msqeuclidean\u001b[39m\u001b[38;5;124m\"\u001b[39m)\n\u001b[1;32m    477\u001b[0m     )\n",
      "File \u001b[0;32m~/0.DCU/00.Project/ML_based_IDS_for_IoT/project/env/lib/python3.10/site-packages/sklearn/metrics/_pairwise_distances_reduction/_dispatcher.py:115\u001b[0m, in \u001b[0;36mBaseDistancesReductionDispatcher.is_usable_for\u001b[0;34m(cls, X, Y, metric)\u001b[0m\n\u001b[1;32m    101\u001b[0m \u001b[38;5;28;01mdef\u001b[39;00m \u001b[38;5;21mis_valid_sparse_matrix\u001b[39m(X):\n\u001b[1;32m    102\u001b[0m     \u001b[38;5;28;01mreturn\u001b[39;00m (\n\u001b[1;32m    103\u001b[0m         isspmatrix_csr(X)\n\u001b[1;32m    104\u001b[0m         \u001b[38;5;129;01mand\u001b[39;00m\n\u001b[0;32m   (...)\u001b[0m\n\u001b[1;32m    110\u001b[0m         X\u001b[38;5;241m.\u001b[39mindices\u001b[38;5;241m.\u001b[39mdtype \u001b[38;5;241m==\u001b[39m X\u001b[38;5;241m.\u001b[39mindptr\u001b[38;5;241m.\u001b[39mdtype \u001b[38;5;241m==\u001b[39m np\u001b[38;5;241m.\u001b[39mint32\n\u001b[1;32m    111\u001b[0m     )\n\u001b[1;32m    113\u001b[0m is_usable \u001b[38;5;241m=\u001b[39m (\n\u001b[1;32m    114\u001b[0m     get_config()\u001b[38;5;241m.\u001b[39mget(\u001b[38;5;124m\"\u001b[39m\u001b[38;5;124menable_cython_pairwise_dist\u001b[39m\u001b[38;5;124m\"\u001b[39m, \u001b[38;5;28;01mTrue\u001b[39;00m)\n\u001b[0;32m--> 115\u001b[0m     \u001b[38;5;129;01mand\u001b[39;00m (\u001b[43mis_numpy_c_ordered\u001b[49m\u001b[43m(\u001b[49m\u001b[43mX\u001b[49m\u001b[43m)\u001b[49m \u001b[38;5;129;01mor\u001b[39;00m is_valid_sparse_matrix(X))\n\u001b[1;32m    116\u001b[0m     \u001b[38;5;129;01mand\u001b[39;00m (is_numpy_c_ordered(Y) \u001b[38;5;129;01mor\u001b[39;00m is_valid_sparse_matrix(Y))\n\u001b[1;32m    117\u001b[0m     \u001b[38;5;129;01mand\u001b[39;00m X\u001b[38;5;241m.\u001b[39mdtype \u001b[38;5;241m==\u001b[39m Y\u001b[38;5;241m.\u001b[39mdtype\n\u001b[1;32m    118\u001b[0m     \u001b[38;5;129;01mand\u001b[39;00m X\u001b[38;5;241m.\u001b[39mdtype \u001b[38;5;129;01min\u001b[39;00m (np\u001b[38;5;241m.\u001b[39mfloat32, np\u001b[38;5;241m.\u001b[39mfloat64)\n\u001b[1;32m    119\u001b[0m     \u001b[38;5;129;01mand\u001b[39;00m metric \u001b[38;5;129;01min\u001b[39;00m \u001b[38;5;28mcls\u001b[39m\u001b[38;5;241m.\u001b[39mvalid_metrics()\n\u001b[1;32m    120\u001b[0m )\n\u001b[1;32m    122\u001b[0m \u001b[38;5;28;01mreturn\u001b[39;00m is_usable\n",
      "File \u001b[0;32m~/0.DCU/00.Project/ML_based_IDS_for_IoT/project/env/lib/python3.10/site-packages/sklearn/metrics/_pairwise_distances_reduction/_dispatcher.py:99\u001b[0m, in \u001b[0;36mBaseDistancesReductionDispatcher.is_usable_for.<locals>.is_numpy_c_ordered\u001b[0;34m(X)\u001b[0m\n\u001b[1;32m     98\u001b[0m \u001b[38;5;28;01mdef\u001b[39;00m \u001b[38;5;21mis_numpy_c_ordered\u001b[39m(X):\n\u001b[0;32m---> 99\u001b[0m     \u001b[38;5;28;01mreturn\u001b[39;00m \u001b[38;5;28mhasattr\u001b[39m(X, \u001b[38;5;124m\"\u001b[39m\u001b[38;5;124mflags\u001b[39m\u001b[38;5;124m\"\u001b[39m) \u001b[38;5;129;01mand\u001b[39;00m \u001b[43mX\u001b[49m\u001b[38;5;241;43m.\u001b[39;49m\u001b[43mflags\u001b[49m\u001b[38;5;241;43m.\u001b[39;49m\u001b[43mc_contiguous\u001b[49m\n",
      "\u001b[0;31mAttributeError\u001b[0m: 'Flags' object has no attribute 'c_contiguous'"
     ]
    }
   ],
   "source": [
    "y_test = []\n",
    "preds = {i:[] for i in range(len(ML_models))}\n",
    "for test_set in tqdm(test_sets):\n",
    "    d_test = pd.read_csv(DATASET_DIRECTORY + test_set)\n",
    "    d_test[X_columns] = scaler.transform(d_test[X_columns])\n",
    "\n",
    "    y_test += list(d_test[y_column].values)\n",
    "\n",
    "    for i in range(len(ML_models)):\n",
    "        model = ML_models[i]\n",
    "        y_pred = list(model.predict(d_test[X_columns]))\n",
    "        preds[i] = preds[i] + y_pred\n"
   ]
  },
  {
   "cell_type": "code",
   "execution_count": null,
   "id": "375dcbfb-2b20-4b37-8fbb-c9d68a6ac541",
   "metadata": {
    "colab": {
     "base_uri": "https://localhost:8080/",
     "height": 253
    },
    "id": "375dcbfb-2b20-4b37-8fbb-c9d68a6ac541",
    "outputId": "6b7ef931-6181-462b-a641-d6fe7a5a6e1b"
   },
   "outputs": [],
   "source": [
    "for k, v in preds.items():\n",
    "    y_pred = v\n",
    "    print(f\"##### {ML_names[k]} (34 classes) #####\")\n",
    "    print('accuracy_score: ', accuracy_score(y_test, y_pred))  # Swapped y_test and y_pred for correctness\n",
    "    print('recall_score: ', recall_score(y_test, y_pred, average='macro'))\n",
    "    print('precision_score: ', precision_score(y_test, y_pred, average='macro'))\n",
    "    print('f1_score: ', f1_score(y_test, y_pred, average='macro'))\n",
    "    print()\n",
    "    print()\n",
    "    print()\n"
   ]
  },
  {
   "cell_type": "code",
   "execution_count": null,
   "id": "FC5cBmel5BmW",
   "metadata": {
    "id": "FC5cBmel5BmW"
   },
   "outputs": [],
   "source": [
    "# Store the metrics for each model in lists\n",
    "accuracies = []\n",
    "recalls = []\n",
    "precisions = []\n",
    "f1_scores = []\n",
    "\n",
    "# Calculate metrics for each model and append to the lists\n",
    "for k, v in preds.items():\n",
    "    y_pred = v\n",
    "    accuracies.append(accuracy_score(y_test, y_pred))\n",
    "    recalls.append(recall_score(y_test, y_pred, average='macro'))\n",
    "    precisions.append(precision_score(y_test, y_pred, average='macro'))\n",
    "    f1_scores.append(f1_score(y_test, y_pred, average='macro'))\n",
    "\n",
    "# Set up the matplotlib figure\n",
    "plt.figure(figsize=(15, 10))\n",
    "\n",
    "# Create subplots for each metric\n",
    "metrics = [accuracies, recalls, precisions, f1_scores]\n",
    "metric_names = ['Accuracy', 'Recall', 'Precision', 'F1-Score']\n",
    "\n",
    "for i, (metric, metric_name) in enumerate(zip(metrics, metric_names)):\n",
    "    plt.subplot(2, 2, i+1)\n",
    "\n",
    "    # Create a bar plot for the metric\n",
    "    sns.barplot(x=ML_names, y=metric, palette=\"viridis\")\n",
    "\n",
    "    plt.title(f'Model Comparison: {metric_name}')\n",
    "    plt.ylabel(metric_name)\n",
    "    plt.xticks(rotation=45)\n",
    "    plt.ylim(0, 1)  # Since all metrics are in the range [0, 1]\n",
    "\n",
    "plt.tight_layout()\n",
    "plt.show()"
   ]
  },
  {
   "cell_type": "markdown",
   "id": "3958c6fa-6d05-48fb-a046-55e5843e4711",
   "metadata": {
    "id": "3958c6fa-6d05-48fb-a046-55e5843e4711"
   },
   "source": [
    "# Classification: 8 (7+1) classes"
   ]
  },
  {
   "cell_type": "code",
   "execution_count": null,
   "id": "9208c899-8b57-4a3a-a2e7-94b057123536",
   "metadata": {
    "id": "9208c899-8b57-4a3a-a2e7-94b057123536"
   },
   "outputs": [],
   "source": [
    "dict_7classes = {}\n",
    "dict_7classes['DDoS-RSTFINFlood'] = 'DDoS'\n",
    "dict_7classes['DDoS-PSHACK_Flood'] = 'DDoS'\n",
    "dict_7classes['DDoS-SYN_Flood'] = 'DDoS'\n",
    "dict_7classes['DDoS-UDP_Flood'] = 'DDoS'\n",
    "dict_7classes['DDoS-TCP_Flood'] = 'DDoS'\n",
    "dict_7classes['DDoS-ICMP_Flood'] = 'DDoS'\n",
    "dict_7classes['DDoS-SynonymousIP_Flood'] = 'DDoS'\n",
    "dict_7classes['DDoS-ACK_Fragmentation'] = 'DDoS'\n",
    "dict_7classes['DDoS-UDP_Fragmentation'] = 'DDoS'\n",
    "dict_7classes['DDoS-ICMP_Fragmentation'] = 'DDoS'\n",
    "dict_7classes['DDoS-SlowLoris'] = 'DDoS'\n",
    "dict_7classes['DDoS-HTTP_Flood'] = 'DDoS'\n",
    "\n",
    "dict_7classes['DoS-UDP_Flood'] = 'DoS'\n",
    "dict_7classes['DoS-SYN_Flood'] = 'DoS'\n",
    "dict_7classes['DoS-TCP_Flood'] = 'DoS'\n",
    "dict_7classes['DoS-HTTP_Flood'] = 'DoS'\n",
    "\n",
    "\n",
    "dict_7classes['Mirai-greeth_flood'] = 'Mirai'\n",
    "dict_7classes['Mirai-greip_flood'] = 'Mirai'\n",
    "dict_7classes['Mirai-udpplain'] = 'Mirai'\n",
    "\n",
    "dict_7classes['Recon-PingSweep'] = 'Recon'\n",
    "dict_7classes['Recon-OSScan'] = 'Recon'\n",
    "dict_7classes['Recon-PortScan'] = 'Recon'\n",
    "dict_7classes['VulnerabilityScan'] = 'Recon'\n",
    "dict_7classes['Recon-HostDiscovery'] = 'Recon'\n",
    "\n",
    "dict_7classes['DNS_Spoofing'] = 'Spoofing'\n",
    "dict_7classes['MITM-ArpSpoofing'] = 'Spoofing'\n",
    "\n",
    "dict_7classes['BenignTraffic'] = 'Benign'\n",
    "\n",
    "dict_7classes['BrowserHijacking'] = 'Web'\n",
    "dict_7classes['Backdoor_Malware'] = 'Web'\n",
    "dict_7classes['XSS'] = 'Web'\n",
    "dict_7classes['Uploading_Attack'] = 'Web'\n",
    "dict_7classes['SqlInjection'] = 'Web'\n",
    "dict_7classes['CommandInjection'] = 'Web'\n",
    "\n",
    "\n",
    "dict_7classes['DictionaryBruteForce'] = 'BruteForce'"
   ]
  },
  {
   "cell_type": "code",
   "execution_count": null,
   "id": "4c1f697f-88d8-4ac4-8bc6-f1a8ac3794d5",
   "metadata": {
    "id": "4c1f697f-88d8-4ac4-8bc6-f1a8ac3794d5"
   },
   "outputs": [],
   "source": [
    "# Define the models\n",
    "ML_models = [\n",
    "    LogisticRegression(n_jobs=-1),\n",
    "    Perceptron(),\n",
    "    AdaBoostClassifier(),\n",
    "    RandomForestClassifier(n_jobs=-1),\n",
    "    KNeighborsClassifier(),\n",
    "    DecisionTreeClassifier()\n",
    "]\n",
    "\n",
    "# Define the model names\n",
    "ML_names = [\n",
    "    \"LogisticRegression\",\n",
    "    \"Perceptron\",\n",
    "    \"AdaBoost\",\n",
    "    \"RandomForest\",\n",
    "    \"KNN\",\n",
    "    \"DecisionTree\"\n",
    "]\n",
    "\n",
    "# Train each model on each dataset\n",
    "for train_set in tqdm(training_sets):\n",
    "    d = pd.read_csv(DATASET_DIRECTORY + train_set)\n",
    "    d[X_columns] = scaler.transform(d[X_columns])\n",
    "\n",
    "    # Convert the labels using the dictionary\n",
    "    new_y = [dict_7classes[k] for k in d[y_column]]\n",
    "    d[y_column] = new_y\n",
    "\n",
    "    # Train the models\n",
    "    for i, model in enumerate(ML_models):\n",
    "        model.fit(d[X_columns], d[y_column])\n",
    "        print(f\"{ML_names[i]} has been trained on {train_set}\")\n",
    "        # Save the trained model\n",
    "        filename = f\"model_7classes_{ML_names[i]}.sav\"\n",
    "        joblib.dump(model, filename)\n",
    "    del d\n"
   ]
  },
  {
   "cell_type": "code",
   "execution_count": null,
   "id": "6b69c509-7666-45bd-9e11-52ecec0df8a8",
   "metadata": {
    "id": "6b69c509-7666-45bd-9e11-52ecec0df8a8"
   },
   "outputs": [],
   "source": [
    "y_test = []\n",
    "preds = {i:[] for i in range(len(ML_models))}\n",
    "for test_set in tqdm(test_sets):\n",
    "    d_test = pd.read_csv(DATASET_DIRECTORY + test_set)\n",
    "    d_test[X_columns] = scaler.transform(d_test[X_columns])\n",
    "    new_y = [dict_7classes[k] for k in d_test[y_column]]\n",
    "    d_test[y_column] = new_y\n",
    "\n",
    "    y_test += list(d_test[y_column].values)\n",
    "\n",
    "    for i in range(len(ML_models)):\n",
    "        model = ML_models[i]\n",
    "        y_pred = list(model.predict(d_test[X_columns]))\n",
    "        preds[i] = preds[i] + y_pred\n"
   ]
  },
  {
   "cell_type": "code",
   "execution_count": null,
   "id": "3e0a9702-63f5-4898-a8b0-2bf950fe881d",
   "metadata": {
    "id": "3e0a9702-63f5-4898-a8b0-2bf950fe881d"
   },
   "outputs": [],
   "source": [
    "for k, v in preds.items():\n",
    "    y_pred = v\n",
    "    print(f\"##### {ML_names[k]} (7 classes) #####\")  # Corrected the name and number of classes\n",
    "    print('accuracy_score = ', accuracy_score(y_test, y_pred))  # Swapped y_test and y_pred for consistency\n",
    "    print('recall_score = ', recall_score(y_test, y_pred, average='macro'))\n",
    "    print('precision_score = ', precision_score(y_test, y_pred, average='macro'))\n",
    "    print('f1_score = ', f1_score(y_test, y_pred, average='macro'))\n",
    "    print()\n",
    "    print()\n",
    "    print()\n"
   ]
  },
  {
   "cell_type": "code",
   "execution_count": null,
   "id": "CWPmWdJu80QF",
   "metadata": {
    "id": "CWPmWdJu80QF"
   },
   "outputs": [],
   "source": [
    "# Lists to store the evaluation metrics for each model\n",
    "accuracies = []\n",
    "recalls = []\n",
    "precisions = []\n",
    "f1_scores = []\n",
    "\n",
    "# Calculate and store metrics for each model\n",
    "for k, v in preds.items():\n",
    "    y_pred = v\n",
    "    accuracies.append(accuracy_score(y_test, y_pred))\n",
    "    recalls.append(recall_score(y_test, y_pred, average='macro'))\n",
    "    precisions.append(precision_score(y_test, y_pred, average='macro'))\n",
    "    f1_scores.append(f1_score(y_test, y_pred, average='macro'))\n",
    "\n",
    "# Set up the matplotlib figure\n",
    "plt.figure(figsize=(15, 12))\n",
    "\n",
    "# Define metrics and their names for plotting\n",
    "metrics = [accuracies, recalls, precisions, f1_scores]\n",
    "metric_names = ['Accuracy', 'Recall', 'Precision', 'F1-Score']\n",
    "\n",
    "# Plot each metric\n",
    "for i, (metric, metric_name) in enumerate(zip(metrics, metric_names)):\n",
    "    plt.subplot(2, 2, i+1)\n",
    "    sns.barplot(x=ML_names, y=metric, palette=\"viridis\")\n",
    "    plt.title(f'Model Comparison: {metric_name}')\n",
    "    plt.ylabel(metric_name)\n",
    "    plt.xticks(rotation=45)\n",
    "    plt.ylim(0, 1)  # Since all metrics are in the range [0, 1]\n",
    "\n",
    "plt.tight_layout()\n",
    "plt.show()\n"
   ]
  },
  {
   "cell_type": "markdown",
   "id": "a6ecac59-fc02-4198-9910-daf890da7a0a",
   "metadata": {
    "id": "a6ecac59-fc02-4198-9910-daf890da7a0a"
   },
   "source": [
    "# Classification: 2 (1+1) Classes"
   ]
  },
  {
   "cell_type": "code",
   "execution_count": null,
   "id": "90ee4a99-d160-43bc-b2a0-06fa3f49e222",
   "metadata": {
    "id": "90ee4a99-d160-43bc-b2a0-06fa3f49e222"
   },
   "outputs": [],
   "source": [
    "dict_2classes = {}\n",
    "dict_2classes['DDoS-RSTFINFlood'] = 'Attack'\n",
    "dict_2classes['DDoS-PSHACK_Flood'] = 'Attack'\n",
    "dict_2classes['DDoS-SYN_Flood'] = 'Attack'\n",
    "dict_2classes['DDoS-UDP_Flood'] = 'Attack'\n",
    "dict_2classes['DDoS-TCP_Flood'] = 'Attack'\n",
    "dict_2classes['DDoS-ICMP_Flood'] = 'Attack'\n",
    "dict_2classes['DDoS-SynonymousIP_Flood'] = 'Attack'\n",
    "dict_2classes['DDoS-ACK_Fragmentation'] = 'Attack'\n",
    "dict_2classes['DDoS-UDP_Fragmentation'] = 'Attack'\n",
    "dict_2classes['DDoS-ICMP_Fragmentation'] = 'Attack'\n",
    "dict_2classes['DDoS-SlowLoris'] = 'Attack'\n",
    "dict_2classes['DDoS-HTTP_Flood'] = 'Attack'\n",
    "\n",
    "dict_2classes['DoS-UDP_Flood'] = 'Attack'\n",
    "dict_2classes['DoS-SYN_Flood'] = 'Attack'\n",
    "dict_2classes['DoS-TCP_Flood'] = 'Attack'\n",
    "dict_2classes['DoS-HTTP_Flood'] = 'Attack'\n",
    "\n",
    "\n",
    "dict_2classes['Mirai-greeth_flood'] = 'Attack'\n",
    "dict_2classes['Mirai-greip_flood'] = 'Attack'\n",
    "dict_2classes['Mirai-udpplain'] = 'Attack'\n",
    "\n",
    "dict_2classes['Recon-PingSweep'] = 'Attack'\n",
    "dict_2classes['Recon-OSScan'] = 'Attack'\n",
    "dict_2classes['Recon-PortScan'] = 'Attack'\n",
    "dict_2classes['VulnerabilityScan'] = 'Attack'\n",
    "dict_2classes['Recon-HostDiscovery'] = 'Attack'\n",
    "\n",
    "dict_2classes['DNS_Spoofing'] = 'Attack'\n",
    "dict_2classes['MITM-ArpSpoofing'] = 'Attack'\n",
    "\n",
    "dict_2classes['BenignTraffic'] = 'Benign'\n",
    "\n",
    "dict_2classes['BrowserHijacking'] = 'Attack'\n",
    "dict_2classes['Backdoor_Malware'] = 'Attack'\n",
    "dict_2classes['XSS'] = 'Attack'\n",
    "dict_2classes['Uploading_Attack'] = 'Attack'\n",
    "dict_2classes['SqlInjection'] = 'Attack'\n",
    "dict_2classes['CommandInjection'] = 'Attack'\n",
    "\n",
    "dict_2classes['DictionaryBruteForce'] = 'Attack'"
   ]
  },
  {
   "cell_type": "code",
   "execution_count": null,
   "id": "506eae35-a310-4a34-8bcf-c99282ed3225",
   "metadata": {
    "colab": {
     "base_uri": "https://localhost:8080/",
     "height": 396
    },
    "id": "506eae35-a310-4a34-8bcf-c99282ed3225",
    "outputId": "8c2f92bd-5938-49d0-c8e9-d631759dde58"
   },
   "outputs": [],
   "source": [
    "# Define the models\n",
    "ML_models = [\n",
    "    LogisticRegression(n_jobs=-1),\n",
    "    Perceptron(),\n",
    "    AdaBoostClassifier(),\n",
    "    RandomForestClassifier(n_jobs=-1),\n",
    "    KNeighborsClassifier(),\n",
    "    DecisionTreeClassifier()\n",
    "]\n",
    "\n",
    "# Define the model names\n",
    "ML_names = [\n",
    "    \"LogisticRegression\",\n",
    "    \"Perceptron\",\n",
    "    \"AdaBoost\",\n",
    "    \"RandomForest\",\n",
    "    \"KNN\",\n",
    "    \"DecisionTree\"\n",
    "]\n",
    "\n",
    "# Train each model on each dataset\n",
    "for train_set in tqdm(training_sets):\n",
    "    d = pd.read_csv(DATASET_DIRECTORY + train_set)\n",
    "    d[X_columns] = scaler.transform(d[X_columns])\n",
    "\n",
    "    # Convert the labels using the dictionary\n",
    "    new_y = [dict_2classes[k] for k in d[y_column]]\n",
    "    d[y_column] = new_y\n",
    "\n",
    "    # Train the models\n",
    "    for i, model in enumerate(ML_models):\n",
    "        model.fit(d[X_columns], d[y_column])\n",
    "        print(f\"{ML_names[i]} has been trained on {train_set}\")\n",
    "        # Save the trained model\n",
    "        filename = f\"model_2classes_{ML_names[i]}.sav\"\n",
    "        joblib.dump(model, filename)\n",
    "    del d\n"
   ]
  },
  {
   "cell_type": "code",
   "execution_count": null,
   "id": "b07aa379-ec7e-4651-ab5a-6845ae249132",
   "metadata": {
    "id": "b07aa379-ec7e-4651-ab5a-6845ae249132"
   },
   "outputs": [],
   "source": [
    "y_test = []\n",
    "preds = {i:[] for i in range(len(ML_models))}\n",
    "for test_set in tqdm(test_sets):\n",
    "    d_test = pd.read_csv(DATASET_DIRECTORY + test_set)\n",
    "    d_test[X_columns] = scaler.transform(d_test[X_columns])\n",
    "    new_y = [dict_2classes[k] for k in d_test[y_column]]\n",
    "    d_test[y_column] = new_y\n",
    "\n",
    "    y_test += list(d_test[y_column].values)\n",
    "\n",
    "    for i in range(len(ML_models)):\n",
    "        model = ML_models[i]\n",
    "        y_pred = list(model.predict(d_test[X_columns]))\n",
    "        preds[i] = preds[i] + y_pred\n"
   ]
  },
  {
   "cell_type": "code",
   "execution_count": null,
   "id": "caabf4fd-097d-4db2-847a-0dcd87144d6f",
   "metadata": {
    "id": "caabf4fd-097d-4db2-847a-0dcd87144d6f"
   },
   "outputs": [],
   "source": [
    "for k, v in preds.items():\n",
    "    y_pred = v\n",
    "    print(f\"##### {ML_names[k]} (2 classes) #####\")  # Corrected the name\n",
    "    print('accuracy_score = ', accuracy_score(y_test, y_pred))\n",
    "    print('recall_score = ', recall_score(y_test, y_pred, average='macro'))\n",
    "    print('precision_score = ', precision_score(y_test, y_pred, average='macro'))\n",
    "    print('f1_score = ', f1_score(y_test, y_pred, average='macro'))\n",
    "    print()\n",
    "    print()\n",
    "    print()\n"
   ]
  },
  {
   "cell_type": "code",
   "execution_count": null,
   "id": "RYoVA6P0_3DR",
   "metadata": {
    "id": "RYoVA6P0_3DR"
   },
   "outputs": [],
   "source": [
    "# Lists to store the evaluation metrics for each model\n",
    "accuracies = []\n",
    "recalls = []\n",
    "precisions = []\n",
    "f1_scores = []\n",
    "\n",
    "# Calculate and store metrics for each model\n",
    "for k, v in preds.items():\n",
    "    y_pred = v\n",
    "    accuracies.append(accuracy_score(y_test, y_pred))\n",
    "    recalls.append(recall_score(y_test, y_pred, average='macro'))\n",
    "    precisions.append(precision_score(y_test, y_pred, average='macro'))\n",
    "    f1_scores.append(f1_score(y_test, y_pred, average='macro'))\n",
    "\n",
    "# Set up the matplotlib figure\n",
    "plt.figure(figsize=(15, 12))\n",
    "\n",
    "# Define metrics and their names for plotting\n",
    "metrics = [accuracies, recalls, precisions, f1_scores]\n",
    "metric_names = ['Accuracy', 'Recall', 'Precision', 'F1-Score']\n",
    "\n",
    "# Plot each metric\n",
    "for i, (metric, metric_name) in enumerate(zip(metrics, metric_names)):\n",
    "    plt.subplot(2, 2, i+1)\n",
    "    sns.barplot(x=ML_names, y=metric, palette=\"viridis\")\n",
    "    plt.title(f'Model Comparison: {metric_name}')\n",
    "    plt.ylabel(metric_name)\n",
    "    plt.xticks(rotation=45)\n",
    "    plt.ylim(0, 1)  # Since all metrics are in the range [0, 1]\n",
    "\n",
    "plt.tight_layout()\n",
    "plt.show()\n",
    "\n"
   ]
  }
 ],
 "metadata": {
  "accelerator": "GPU",
  "colab": {
   "gpuType": "T4",
   "provenance": []
  },
  "kernelspec": {
   "display_name": "Python 3 (ipykernel)",
   "language": "python",
   "name": "python3"
  },
  "language_info": {
   "codemirror_mode": {
    "name": "ipython",
    "version": 3
   },
   "file_extension": ".py",
   "mimetype": "text/x-python",
   "name": "python",
   "nbconvert_exporter": "python",
   "pygments_lexer": "ipython3",
   "version": "3.10.12"
  }
 },
 "nbformat": 4,
 "nbformat_minor": 5
}
