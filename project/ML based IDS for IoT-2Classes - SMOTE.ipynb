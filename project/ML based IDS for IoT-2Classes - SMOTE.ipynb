{
 "cells": [
  {
   "cell_type": "markdown",
   "id": "fb6a6862-9ab9-47c7-b5da-0bc772897129",
   "metadata": {
    "id": "fb6a6862-9ab9-47c7-b5da-0bc772897129"
   },
   "source": [
    "# Training a ML model using CICIoT2023\n",
    "\n",
    "This notebook shows how a LogisticRegression model can be trained using the CICIoT2023 csv files."
   ]
  },
  {
   "cell_type": "code",
   "execution_count": 3,
   "id": "40f7c50d-b0ae-4f19-9398-1435ba7a851d",
   "metadata": {
    "id": "40f7c50d-b0ae-4f19-9398-1435ba7a851d"
   },
   "outputs": [],
   "source": [
    "#Regular EDA and plotting libraries\n",
    "import os\n",
    "import numpy as np\n",
    "import pandas as pd\n",
    "import matplotlib.pyplot as plt\n",
    "import seaborn as sns\n",
    "import warnings\n",
    "warnings.filterwarnings('ignore')\n",
    "# We want our plots to appear in the notebook\n",
    "%matplotlib inline\n",
    "\n",
    "## Models\n",
    "from tqdm import tqdm, trange\n",
    "from sklearn.linear_model import LogisticRegression, Perceptron\n",
    "from sklearn.ensemble import AdaBoostClassifier, RandomForestClassifier\n",
    "from sklearn.neighbors import KNeighborsClassifier\n",
    "from sklearn.tree import DecisionTreeClassifier\n",
    "\n",
    "## Model evaluators\n",
    "from sklearn.model_selection import train_test_split, cross_val_score\n",
    "from sklearn.model_selection import RandomizedSearchCV, GridSearchCV\n",
    "from sklearn.metrics import confusion_matrix, classification_report\n",
    "from sklearn.metrics import accuracy_score, recall_score, precision_score, f1_score\n",
    "\n",
    "from sklearn.metrics import RocCurveDisplay\n",
    "from sklearn.preprocessing import MinMaxScaler, StandardScaler\n",
    "\n",
    "from imblearn.over_sampling import SMOTE\n",
    "import joblib\n",
    "import gc"
   ]
  },
  {
   "cell_type": "code",
   "execution_count": 4,
   "id": "5c40b5d2-727b-4f37-a480-9d46304eb541",
   "metadata": {
    "id": "5c40b5d2-727b-4f37-a480-9d46304eb541"
   },
   "outputs": [],
   "source": [
    "DATASET_DIRECTORY = 'CICIoT2023/'"
   ]
  },
  {
   "cell_type": "code",
   "execution_count": 5,
   "id": "8b9fcf73",
   "metadata": {},
   "outputs": [
    {
     "name": "stdout",
     "output_type": "stream",
     "text": [
      "Loaded CICIoT2023/part-00000-363d1ba3-8ab5-4f96-bc25-4d5862db7cb9-c000.csv into DataFrame.\n"
     ]
    }
   ],
   "source": [
    "# List all files in the directory\n",
    "df_sets = [f for f in os.listdir(DATASET_DIRECTORY) if os.path.isfile(os.path.join(DATASET_DIRECTORY, f)) and f.endswith('.csv')]\n",
    "df_sets.sort()\n",
    "# Check if there's at least one CSV file\n",
    "if df_sets:\n",
    "    # Construct the full path of the first CSV file\n",
    "    first_csv_file_path = os.path.join(DATASET_DIRECTORY, df_sets[0])\n",
    "    \n",
    "    # Read the first CSV file into a DataFrame\n",
    "    df = pd.read_csv(first_csv_file_path)\n",
    "    print(f\"Loaded {first_csv_file_path} into DataFrame.\")\n",
    "else:\n",
    "    print(\"No CSV files found in the directory.\")\n"
   ]
  },
  {
   "cell_type": "markdown",
   "id": "3ec1f2b2-92b3-4622-895b-6ac5126f30b4",
   "metadata": {
    "id": "3ec1f2b2-92b3-4622-895b-6ac5126f30b4"
   },
   "source": [
    "### Importing Dataset"
   ]
  },
  {
   "cell_type": "code",
   "execution_count": 6,
   "id": "6854f877-5524-46ba-b7ca-5d6040015f44",
   "metadata": {
    "id": "6854f877-5524-46ba-b7ca-5d6040015f44"
   },
   "outputs": [],
   "source": [
    "# Splitting the data into training and test sets\n",
    "training_sets, test_sets = train_test_split(df, test_size=0.2, random_state=42)"
   ]
  },
  {
   "cell_type": "code",
   "execution_count": 7,
   "id": "0433838d-ca57-4dd8-b41c-ad2ee3df61c4",
   "metadata": {
    "id": "0433838d-ca57-4dd8-b41c-ad2ee3df61c4"
   },
   "outputs": [],
   "source": [
    "X_columns = [\n",
    "    'flow_duration', 'Header_Length', 'Protocol Type', 'Duration',\n",
    "       'Rate', 'Srate', 'Drate', 'fin_flag_number', 'syn_flag_number',\n",
    "       'rst_flag_number', 'psh_flag_number', 'ack_flag_number',\n",
    "       'ece_flag_number', 'cwr_flag_number', 'ack_count',\n",
    "       'syn_count', 'fin_count', 'urg_count', 'rst_count',\n",
    "    'HTTP', 'HTTPS', 'DNS', 'Telnet', 'SMTP', 'SSH', 'IRC', 'TCP',\n",
    "       'UDP', 'DHCP', 'ARP', 'ICMP', 'IPv', 'LLC', 'Tot sum', 'Min',\n",
    "       'Max', 'AVG', 'Std', 'Tot size', 'IAT', 'Number', 'Magnitue',\n",
    "       'Radius', 'Covariance', 'Variance', 'Weight',\n",
    "]\n",
    "y_column = 'label'"
   ]
  },
  {
   "cell_type": "markdown",
   "id": "249673a6-4826-4b80-b9aa-dfa4c3d549c4",
   "metadata": {
    "id": "249673a6-4826-4b80-b9aa-dfa4c3d549c4"
   },
   "source": [
    "### Scaling"
   ]
  },
  {
   "cell_type": "code",
   "execution_count": 8,
   "id": "39958e85",
   "metadata": {},
   "outputs": [],
   "source": [
    "scaler = StandardScaler()"
   ]
  },
  {
   "cell_type": "code",
   "execution_count": 9,
   "id": "e112a0b1",
   "metadata": {},
   "outputs": [],
   "source": [
    "# Fit the scaler to the training data's features\n",
    "scaler.fit(training_sets[X_columns])\n",
    "\n",
    "# Transform the training and test data's features\n",
    "training_sets_scaled = training_sets.copy()\n",
    "test_sets_scaled = test_sets.copy()\n",
    "training_sets_scaled[X_columns] = scaler.transform(training_sets[X_columns])\n",
    "test_sets_scaled[X_columns] = scaler.transform(test_sets[X_columns])"
   ]
  },
  {
   "cell_type": "code",
   "execution_count": 12,
   "id": "cf0d5b2f",
   "metadata": {},
   "outputs": [],
   "source": [
    "# Check the number of samples for each class\n",
    "class_counts = training_sets_scaled[y_column].value_counts()"
   ]
  },
  {
   "cell_type": "code",
   "execution_count": 13,
   "id": "fe695f79",
   "metadata": {},
   "outputs": [],
   "source": [
    "# Find the minimum class count\n",
    "min_class_count = class_counts.min()"
   ]
  },
  {
   "cell_type": "code",
   "execution_count": 14,
   "id": "15fe4494",
   "metadata": {},
   "outputs": [],
   "source": [
    "# Apply SMOTE to the training data\n",
    "smote = SMOTE(random_state=42, k_neighbors=min_class_count-1)\n",
    "X_train_resampled, y_train_resampled = smote.fit_resample(training_sets_scaled[X_columns], training_sets_scaled[y_column])"
   ]
  },
  {
   "cell_type": "markdown",
   "id": "a6ecac59-fc02-4198-9910-daf890da7a0a",
   "metadata": {
    "id": "a6ecac59-fc02-4198-9910-daf890da7a0a"
   },
   "source": [
    "# Classification: 2 (1+1) Classes"
   ]
  },
  {
   "cell_type": "code",
   "execution_count": 15,
   "id": "90ee4a99-d160-43bc-b2a0-06fa3f49e222",
   "metadata": {
    "id": "90ee4a99-d160-43bc-b2a0-06fa3f49e222"
   },
   "outputs": [],
   "source": [
    "dict_2classes = {}\n",
    "dict_2classes['DDoS-RSTFINFlood'] = 'Attack'\n",
    "dict_2classes['DDoS-PSHACK_Flood'] = 'Attack'\n",
    "dict_2classes['DDoS-SYN_Flood'] = 'Attack'\n",
    "dict_2classes['DDoS-UDP_Flood'] = 'Attack'\n",
    "dict_2classes['DDoS-TCP_Flood'] = 'Attack'\n",
    "dict_2classes['DDoS-ICMP_Flood'] = 'Attack'\n",
    "dict_2classes['DDoS-SynonymousIP_Flood'] = 'Attack'\n",
    "dict_2classes['DDoS-ACK_Fragmentation'] = 'Attack'\n",
    "dict_2classes['DDoS-UDP_Fragmentation'] = 'Attack'\n",
    "dict_2classes['DDoS-ICMP_Fragmentation'] = 'Attack'\n",
    "dict_2classes['DDoS-SlowLoris'] = 'Attack'\n",
    "dict_2classes['DDoS-HTTP_Flood'] = 'Attack'\n",
    "\n",
    "dict_2classes['DoS-UDP_Flood'] = 'Attack'\n",
    "dict_2classes['DoS-SYN_Flood'] = 'Attack'\n",
    "dict_2classes['DoS-TCP_Flood'] = 'Attack'\n",
    "dict_2classes['DoS-HTTP_Flood'] = 'Attack'\n",
    "\n",
    "\n",
    "dict_2classes['Mirai-greeth_flood'] = 'Attack'\n",
    "dict_2classes['Mirai-greip_flood'] = 'Attack'\n",
    "dict_2classes['Mirai-udpplain'] = 'Attack'\n",
    "\n",
    "dict_2classes['Recon-PingSweep'] = 'Attack'\n",
    "dict_2classes['Recon-OSScan'] = 'Attack'\n",
    "dict_2classes['Recon-PortScan'] = 'Attack'\n",
    "dict_2classes['VulnerabilityScan'] = 'Attack'\n",
    "dict_2classes['Recon-HostDiscovery'] = 'Attack'\n",
    "\n",
    "dict_2classes['DNS_Spoofing'] = 'Attack'\n",
    "dict_2classes['MITM-ArpSpoofing'] = 'Attack'\n",
    "\n",
    "dict_2classes['BenignTraffic'] = 'Benign'\n",
    "\n",
    "dict_2classes['BrowserHijacking'] = 'Attack'\n",
    "dict_2classes['Backdoor_Malware'] = 'Attack'\n",
    "dict_2classes['XSS'] = 'Attack'\n",
    "dict_2classes['Uploading_Attack'] = 'Attack'\n",
    "dict_2classes['SqlInjection'] = 'Attack'\n",
    "dict_2classes['CommandInjection'] = 'Attack'\n",
    "\n",
    "dict_2classes['DictionaryBruteForce'] = 'Attack'"
   ]
  },
  {
   "cell_type": "code",
   "execution_count": 16,
   "id": "506eae35-a310-4a34-8bcf-c99282ed3225",
   "metadata": {
    "colab": {
     "base_uri": "https://localhost:8080/",
     "height": 396
    },
    "id": "506eae35-a310-4a34-8bcf-c99282ed3225",
    "outputId": "8c2f92bd-5938-49d0-c8e9-d631759dde58"
   },
   "outputs": [
    {
     "name": "stderr",
     "output_type": "stream",
     "text": [
      "/home/sc/0.DCU/00.Project/ML_based_IDS_for_IoT/project/env/lib/python3.10/site-packages/sklearn/linear_model/_logistic.py:460: ConvergenceWarning: lbfgs failed to converge (status=1):\n",
      "STOP: TOTAL NO. of ITERATIONS REACHED LIMIT.\n",
      "\n",
      "Increase the number of iterations (max_iter) or scale the data as shown in:\n",
      "    https://scikit-learn.org/stable/modules/preprocessing.html\n",
      "Please also refer to the documentation for alternative solver options:\n",
      "    https://scikit-learn.org/stable/modules/linear_model.html#logistic-regression\n",
      "  n_iter_i = _check_optimize_result(\n"
     ]
    },
    {
     "name": "stdout",
     "output_type": "stream",
     "text": [
      "LogisticRegression has been trained.\n",
      "Perceptron has been trained.\n",
      "AdaBoost has been trained.\n",
      "RandomForest has been trained.\n",
      "DecisionTree has been trained.\n",
      "##### LogisticRegression #####\n",
      "Accuracy: 0.7818\n",
      "Recall: 0.5219\n",
      "Precision: 0.4885\n",
      "F1-Score: 0.4812\n",
      "\n",
      "\n",
      "##### Perceptron #####\n",
      "Accuracy: 0.7666\n",
      "Recall: 0.5088\n",
      "Precision: 0.4488\n",
      "F1-Score: 0.4236\n",
      "\n",
      "\n",
      "##### AdaBoost #####\n",
      "Accuracy: 0.5715\n",
      "Recall: 0.3677\n",
      "Precision: 0.3983\n",
      "F1-Score: 0.3218\n",
      "\n",
      "\n",
      "##### RandomForest #####\n",
      "Accuracy: 0.9904\n",
      "Recall: 0.7173\n",
      "Precision: 0.7375\n",
      "F1-Score: 0.7225\n",
      "\n",
      "\n",
      "##### DecisionTree #####\n",
      "Accuracy: 0.9900\n",
      "Recall: 0.8207\n",
      "Precision: 0.7679\n",
      "F1-Score: 0.7804\n",
      "\n",
      "\n"
     ]
    }
   ],
   "source": [
    "# Define the models\n",
    "ML_models = [\n",
    "    LogisticRegression(n_jobs=-1),\n",
    "    Perceptron(),\n",
    "    AdaBoostClassifier(),\n",
    "    RandomForestClassifier(n_jobs=-1),\n",
    "    DecisionTreeClassifier()\n",
    "]\n",
    "\n",
    "# Define the model names\n",
    "ML_names = [\n",
    "    \"LogisticRegression\",\n",
    "    \"Perceptron\",\n",
    "    \"AdaBoost\",\n",
    "    \"RandomForest\",\n",
    "    \"DecisionTree\"\n",
    "]\n",
    "\n",
    "# Train each model on the resampled training data\n",
    "for i, model in enumerate(ML_models):\n",
    "    model.fit(X_train_resampled, y_train_resampled)\n",
    "    print(f\"{ML_names[i]} has been trained.\")\n",
    "    \n",
    "    # Save the trained model\n",
    "    filename = f\"smote_model_2classes_{ML_names[i]}.sav\"\n",
    "    joblib.dump(model, filename)\n",
    "\n",
    "# Evaluate models on test data\n",
    "for name, model in zip(ML_names, ML_models):\n",
    "    y_pred = model.predict(test_sets_scaled[X_columns])\n",
    "    accuracy = accuracy_score(test_sets[y_column], y_pred)\n",
    "    recall = recall_score(test_sets[y_column], y_pred, average='macro')\n",
    "    precision = precision_score(test_sets[y_column], y_pred, average='macro')\n",
    "    f1 = f1_score(test_sets[y_column], y_pred, average='macro')\n",
    "    \n",
    "    print(f\"##### {name} #####\")\n",
    "    print(f\"Accuracy: {accuracy:.4f}\")\n",
    "    print(f\"Recall: {recall:.4f}\")\n",
    "    print(f\"Precision: {precision:.4f}\")\n",
    "    print(f\"F1-Score: {f1:.4f}\")\n",
    "    print(\"\\n\")"
   ]
  },
  {
   "cell_type": "code",
   "execution_count": 10,
   "id": "b07aa379-ec7e-4651-ab5a-6845ae249132",
   "metadata": {
    "id": "b07aa379-ec7e-4651-ab5a-6845ae249132"
   },
   "outputs": [
    {
     "name": "stderr",
     "output_type": "stream",
     "text": [
      "Evaluating models:  20%|████████████████████████                                                                                                | 1/5 [00:01<00:04,  1.15s/it]"
     ]
    },
    {
     "name": "stdout",
     "output_type": "stream",
     "text": [
      "##### LogisticRegression (2 classes) #####\n",
      "accuracy_score:  0.8025472370019691\n",
      "recall_score:  0.4776626854836349\n",
      "precision_score:  0.5733194123559405\n",
      "f1_score:  0.4814479146407268\n",
      "\n",
      "\n",
      "\n",
      "\n"
     ]
    },
    {
     "name": "stderr",
     "output_type": "stream",
     "text": [
      "\r",
      "Evaluating models:  40%|████████████████████████████████████████████████                                                                        | 2/5 [00:02<00:03,  1.01s/it]"
     ]
    },
    {
     "name": "stdout",
     "output_type": "stream",
     "text": [
      "##### Perceptron (2 classes) #####\n",
      "accuracy_score:  0.7735556579663999\n",
      "recall_score:  0.4325090929795914\n",
      "precision_score:  0.4565326457270362\n",
      "f1_score:  0.40789040193456083\n",
      "\n",
      "\n",
      "\n",
      "\n"
     ]
    },
    {
     "name": "stderr",
     "output_type": "stream",
     "text": [
      "\r",
      "Evaluating models:  60%|████████████████████████████████████████████████████████████████████████                                                | 3/5 [00:04<00:03,  1.65s/it]"
     ]
    },
    {
     "name": "stdout",
     "output_type": "stream",
     "text": [
      "##### AdaBoost (2 classes) #####\n",
      "accuracy_score:  0.5876241149608279\n",
      "recall_score:  0.428646097362974\n",
      "precision_score:  0.4918114867684781\n",
      "f1_score:  0.41016830206239435\n",
      "\n",
      "\n",
      "\n",
      "\n"
     ]
    },
    {
     "name": "stderr",
     "output_type": "stream",
     "text": [
      "\r",
      "Evaluating models:  80%|████████████████████████████████████████████████████████████████████████████████████████████████                        | 4/5 [00:06<00:01,  1.62s/it]"
     ]
    },
    {
     "name": "stdout",
     "output_type": "stream",
     "text": [
      "##### RandomForest (2 classes) #####\n",
      "accuracy_score:  0.9915371402237212\n",
      "recall_score:  0.7035924797972801\n",
      "precision_score:  0.740916188891061\n",
      "f1_score:  0.7112174563112037\n",
      "\n",
      "\n",
      "\n",
      "\n"
     ]
    },
    {
     "name": "stderr",
     "output_type": "stream",
     "text": [
      "Evaluating models: 100%|████████████████████████████████████████████████████████████████████████████████████████████████████████████████████████| 5/5 [00:07<00:00,  1.43s/it]"
     ]
    },
    {
     "name": "stdout",
     "output_type": "stream",
     "text": [
      "##### DecisionTree (2 classes) #####\n",
      "accuracy_score:  0.9917675646235703\n",
      "recall_score:  0.8764164762047777\n",
      "precision_score:  0.8310793660852848\n",
      "f1_score:  0.8431035901042757\n",
      "\n",
      "\n",
      "\n",
      "\n",
      "Metrics saved to file.\n"
     ]
    },
    {
     "name": "stderr",
     "output_type": "stream",
     "text": [
      "\n"
     ]
    }
   ],
   "source": [
    "# Initialize the metrics_store_2classes dictionary\n",
    "metrics_store_2classes = {}\n",
    "\n",
    "# Loop through each trained model, predict on the test set, and evaluate\n",
    "for model, name in tqdm(zip(trained_models, ML_names), desc=\"Evaluating models\", total=len(ML_names)):\n",
    "    y_pred = model.predict(X_test)\n",
    "    \n",
    "    accuracy = accuracy_score(y_test, y_pred)\n",
    "    recall = recall_score(y_test, y_pred, average='macro')\n",
    "    precision = precision_score(y_test, y_pred, average='macro')\n",
    "    f1 = f1_score(y_test, y_pred, average='macro')\n",
    "    \n",
    "    metrics_store_2classes[name] = {\n",
    "        \"accuracy\": accuracy,\n",
    "        \"recall\": recall,\n",
    "        \"precision\": precision,\n",
    "        \"f1\": f1\n",
    "    }\n",
    "    \n",
    "    print(f\"##### {name} (2 classes) #####\")\n",
    "    print('accuracy_score: ', accuracy)\n",
    "    print('recall_score: ', recall)\n",
    "    print('precision_score: ', precision)\n",
    "    print('f1_score: ', f1)\n",
    "    print(\"\\n\" * 3)\n",
    "    \n",
    "# Save the metrics to a file\n",
    "joblib.dump(metrics_store_2classes, \"models_evaluation_metrics.sav\")\n",
    "print(\"Metrics saved to file.\")\n"
   ]
  },
  {
   "cell_type": "code",
   "execution_count": 17,
   "id": "007efb36",
   "metadata": {
    "scrolled": true
   },
   "outputs": [
    {
     "data": {
      "image/png": "[encoded data removed]",
      "text/plain": [
       "<Figure size 1500x1200 with 4 Axes>"
      ]
     },
     "metadata": {},
     "output_type": "display_data"
    }
   ],
   "source": [
    "# Load the saved metrics from the joblib file\n",
    "metrics_store_2classes = joblib.load(\"models_evaluation_metrics.sav\")\n",
    "\n",
    "# Extract metrics from the loaded data\n",
    "accuracies = [metrics_store_2classes[model]['accuracy'] for model in ML_names]\n",
    "recalls = [metrics_store_2classes[model]['recall'] for model in ML_names]\n",
    "precisions = [metrics_store_2classes[model]['precision'] for model in ML_names]\n",
    "f1_scores = [metrics_store_2classes[model]['f1'] for model in ML_names]\n",
    "\n",
    "# Set up the matplotlib figure\n",
    "plt.figure(figsize=(15, 12))\n",
    "\n",
    "# Define metrics and their names for plotting\n",
    "metrics = [accuracies, recalls, precisions, f1_scores]\n",
    "metric_names = ['Accuracy', 'Recall', 'Precision', 'F1-Score']\n",
    "\n",
    "# Plot each metric\n",
    "for i, (metric, metric_name) in enumerate(zip(metrics, metric_names)):\n",
    "    plt.subplot(2, 2, i+1)\n",
    "    sns.barplot(x=ML_names, y=metric, palette=\"viridis\")\n",
    "    plt.title(f'Model Comparison: {metric_name}')\n",
    "    plt.ylabel(metric_name)\n",
    "    plt.xticks(rotation=45)\n",
    "    plt.ylim(0, 1)  # Since all metrics are in the range [0, 1]\n",
    "\n",
    "plt.tight_layout()\n",
    "plt.show()\n"
   ]
  },
  {
   "cell_type": "code",
   "execution_count": null,
   "id": "980b3fca",
   "metadata": {},
   "outputs": [],
   "source": []
  }
 ],
 "metadata": {
  "accelerator": "GPU",
  "colab": {
   "gpuType": "T4",
   "provenance": []
  },
  "kernelspec": {
   "display_name": "Python 3 (ipykernel)",
   "language": "python",
   "name": "python3"
  },
  "language_info": {
   "codemirror_mode": {
    "name": "ipython",
    "version": 3
   },
   "file_extension": ".py",
   "mimetype": "text/x-python",
   "name": "python",
   "nbconvert_exporter": "python",
   "pygments_lexer": "ipython3",
   "version": "3.10.12"
  }
 },
 "nbformat": 4,
 "nbformat_minor": 5
}
