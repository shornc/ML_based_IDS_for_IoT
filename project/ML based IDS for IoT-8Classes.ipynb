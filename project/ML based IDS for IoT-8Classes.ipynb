{
 "cells": [
  {
   "cell_type": "markdown",
   "id": "fb6a6862-9ab9-47c7-b5da-0bc772897129",
   "metadata": {
    "id": "fb6a6862-9ab9-47c7-b5da-0bc772897129"
   },
   "source": [
    "# Training a ML model using CICIoT2023\n",
    "\n",
    "This notebook shows how a LogisticRegression model can be trained using the CICIoT2023 csv files."
   ]
  },
  {
   "cell_type": "code",
   "execution_count": 1,
   "id": "40f7c50d-b0ae-4f19-9398-1435ba7a851d",
   "metadata": {
    "id": "40f7c50d-b0ae-4f19-9398-1435ba7a851d"
   },
   "outputs": [],
   "source": [
    "#Regular EDA and plotting libraries\n",
    "import os\n",
    "import numpy as np\n",
    "import pandas as pd\n",
    "import matplotlib.pyplot as plt\n",
    "import seaborn as sns\n",
    "import warnings\n",
    "warnings.filterwarnings('ignore')\n",
    "# We want our plots to appear in the notebook\n",
    "%matplotlib inline\n",
    "\n",
    "## Models\n",
    "from tqdm import tqdm, trange\n",
    "from sklearn.linear_model import LogisticRegression, Perceptron\n",
    "from sklearn.ensemble import AdaBoostClassifier, RandomForestClassifier\n",
    "from sklearn.neighbors import KNeighborsClassifier\n",
    "from sklearn.tree import DecisionTreeClassifier\n",
    "\n",
    "## Model evaluators\n",
    "from sklearn.model_selection import train_test_split, cross_val_score\n",
    "from sklearn.model_selection import RandomizedSearchCV, GridSearchCV\n",
    "from sklearn.metrics import confusion_matrix, classification_report\n",
    "from sklearn.metrics import accuracy_score, recall_score, precision_score, f1_score\n",
    "\n",
    "from sklearn.metrics import RocCurveDisplay\n",
    "\n",
    "import joblib\n"
   ]
  },
  {
   "cell_type": "code",
   "execution_count": 2,
   "id": "5c40b5d2-727b-4f37-a480-9d46304eb541",
   "metadata": {
    "id": "5c40b5d2-727b-4f37-a480-9d46304eb541"
   },
   "outputs": [],
   "source": [
    "DATASET_DIRECTORY = 'CICIoT2023/'"
   ]
  },
  {
   "cell_type": "markdown",
   "id": "3ec1f2b2-92b3-4622-895b-6ac5126f30b4",
   "metadata": {
    "id": "3ec1f2b2-92b3-4622-895b-6ac5126f30b4"
   },
   "source": [
    "### Importing Dataset"
   ]
  },
  {
   "cell_type": "code",
   "execution_count": 3,
   "id": "6854f877-5524-46ba-b7ca-5d6040015f44",
   "metadata": {
    "id": "6854f877-5524-46ba-b7ca-5d6040015f44"
   },
   "outputs": [],
   "source": [
    "df_sets = [k for k in os.listdir(DATASET_DIRECTORY) if k.endswith('.csv')]\n",
    "df_sets.sort()\n",
    "training_sets = df_sets[:int(len(df_sets)*.8)]\n",
    "test_sets = df_sets[int(len(df_sets)*.8):]"
   ]
  },
  {
   "cell_type": "code",
   "execution_count": 4,
   "id": "0433838d-ca57-4dd8-b41c-ad2ee3df61c4",
   "metadata": {
    "id": "0433838d-ca57-4dd8-b41c-ad2ee3df61c4"
   },
   "outputs": [],
   "source": [
    "X_columns = [\n",
    "    'flow_duration', 'Header_Length', 'Protocol Type', 'Duration',\n",
    "       'Rate', 'Srate', 'Drate', 'fin_flag_number', 'syn_flag_number',\n",
    "       'rst_flag_number', 'psh_flag_number', 'ack_flag_number',\n",
    "       'ece_flag_number', 'cwr_flag_number', 'ack_count',\n",
    "       'syn_count', 'fin_count', 'urg_count', 'rst_count',\n",
    "    'HTTP', 'HTTPS', 'DNS', 'Telnet', 'SMTP', 'SSH', 'IRC', 'TCP',\n",
    "       'UDP', 'DHCP', 'ARP', 'ICMP', 'IPv', 'LLC', 'Tot sum', 'Min',\n",
    "       'Max', 'AVG', 'Std', 'Tot size', 'IAT', 'Number', 'Magnitue',\n",
    "       'Radius', 'Covariance', 'Variance', 'Weight',\n",
    "]\n",
    "y_column = 'label'"
   ]
  },
  {
   "cell_type": "markdown",
   "id": "249673a6-4826-4b80-b9aa-dfa4c3d549c4",
   "metadata": {
    "id": "249673a6-4826-4b80-b9aa-dfa4c3d549c4"
   },
   "source": [
    "### Scaling"
   ]
  },
  {
   "cell_type": "code",
   "execution_count": 5,
   "id": "cba40f31",
   "metadata": {
    "id": "cba40f31"
   },
   "outputs": [],
   "source": [
    "from sklearn.preprocessing import MinMaxScaler, StandardScaler\n",
    "scaler = StandardScaler()"
   ]
  },
  {
   "cell_type": "code",
   "execution_count": 8,
   "id": "3682559f-9eb3-4d35-b1b2-d7d501ab85bc",
   "metadata": {
    "colab": {
     "base_uri": "https://localhost:8080/"
    },
    "id": "3682559f-9eb3-4d35-b1b2-d7d501ab85bc",
    "outputId": "4ea5b7d9-1f1c-4182-bec9-e7cdd146ab5c"
   },
   "outputs": [
    {
     "name": "stderr",
     "output_type": "stream",
     "text": [
      "100%|███████████████████████████████████████████████████████████████████████████████████████████████████████████████████████████████████████| 135/135 [06:35<00:00,  2.93s/it]\n"
     ]
    }
   ],
   "source": [
    "for train_set in tqdm(training_sets):\n",
    "    scaler.fit(pd.read_csv(DATASET_DIRECTORY + train_set)[X_columns])"
   ]
  },
  {
   "cell_type": "markdown",
   "id": "3958c6fa-6d05-48fb-a046-55e5843e4711",
   "metadata": {
    "id": "3958c6fa-6d05-48fb-a046-55e5843e4711"
   },
   "source": [
    "# Classification: 8 (7+1) classes"
   ]
  },
  {
   "cell_type": "code",
   "execution_count": 9,
   "id": "9208c899-8b57-4a3a-a2e7-94b057123536",
   "metadata": {
    "id": "9208c899-8b57-4a3a-a2e7-94b057123536"
   },
   "outputs": [],
   "source": [
    "dict_7classes = {}\n",
    "dict_7classes['DDoS-RSTFINFlood'] = 'DDoS'\n",
    "dict_7classes['DDoS-PSHACK_Flood'] = 'DDoS'\n",
    "dict_7classes['DDoS-SYN_Flood'] = 'DDoS'\n",
    "dict_7classes['DDoS-UDP_Flood'] = 'DDoS'\n",
    "dict_7classes['DDoS-TCP_Flood'] = 'DDoS'\n",
    "dict_7classes['DDoS-ICMP_Flood'] = 'DDoS'\n",
    "dict_7classes['DDoS-SynonymousIP_Flood'] = 'DDoS'\n",
    "dict_7classes['DDoS-ACK_Fragmentation'] = 'DDoS'\n",
    "dict_7classes['DDoS-UDP_Fragmentation'] = 'DDoS'\n",
    "dict_7classes['DDoS-ICMP_Fragmentation'] = 'DDoS'\n",
    "dict_7classes['DDoS-SlowLoris'] = 'DDoS'\n",
    "dict_7classes['DDoS-HTTP_Flood'] = 'DDoS'\n",
    "\n",
    "dict_7classes['DoS-UDP_Flood'] = 'DoS'\n",
    "dict_7classes['DoS-SYN_Flood'] = 'DoS'\n",
    "dict_7classes['DoS-TCP_Flood'] = 'DoS'\n",
    "dict_7classes['DoS-HTTP_Flood'] = 'DoS'\n",
    "\n",
    "\n",
    "dict_7classes['Mirai-greeth_flood'] = 'Mirai'\n",
    "dict_7classes['Mirai-greip_flood'] = 'Mirai'\n",
    "dict_7classes['Mirai-udpplain'] = 'Mirai'\n",
    "\n",
    "dict_7classes['Recon-PingSweep'] = 'Recon'\n",
    "dict_7classes['Recon-OSScan'] = 'Recon'\n",
    "dict_7classes['Recon-PortScan'] = 'Recon'\n",
    "dict_7classes['VulnerabilityScan'] = 'Recon'\n",
    "dict_7classes['Recon-HostDiscovery'] = 'Recon'\n",
    "\n",
    "dict_7classes['DNS_Spoofing'] = 'Spoofing'\n",
    "dict_7classes['MITM-ArpSpoofing'] = 'Spoofing'\n",
    "\n",
    "dict_7classes['BenignTraffic'] = 'Benign'\n",
    "\n",
    "dict_7classes['BrowserHijacking'] = 'Web'\n",
    "dict_7classes['Backdoor_Malware'] = 'Web'\n",
    "dict_7classes['XSS'] = 'Web'\n",
    "dict_7classes['Uploading_Attack'] = 'Web'\n",
    "dict_7classes['SqlInjection'] = 'Web'\n",
    "dict_7classes['CommandInjection'] = 'Web'\n",
    "\n",
    "\n",
    "dict_7classes['DictionaryBruteForce'] = 'BruteForce'"
   ]
  },
  {
   "cell_type": "code",
   "execution_count": null,
   "id": "4c1f697f-88d8-4ac4-8bc6-f1a8ac3794d5",
   "metadata": {
    "id": "4c1f697f-88d8-4ac4-8bc6-f1a8ac3794d5"
   },
   "outputs": [
    {
     "name": "stderr",
     "output_type": "stream",
     "text": [
      "  0%|                                                                                                                                                 | 0/135 [00:00<?, ?it/s]/home/sc/0.DCU/00.Project/ML_based_IDS_for_IoT/project/env/lib/python3.10/site-packages/sklearn/linear_model/_logistic.py:460: ConvergenceWarning: lbfgs failed to converge (status=1):\n",
      "STOP: TOTAL NO. of ITERATIONS REACHED LIMIT.\n",
      "\n",
      "Increase the number of iterations (max_iter) or scale the data as shown in:\n",
      "    https://scikit-learn.org/stable/modules/preprocessing.html\n",
      "Please also refer to the documentation for alternative solver options:\n",
      "    https://scikit-learn.org/stable/modules/linear_model.html#logistic-regression\n",
      "  n_iter_i = _check_optimize_result(\n"
     ]
    },
    {
     "name": "stdout",
     "output_type": "stream",
     "text": [
      "LogisticRegression has been trained on part-00000-363d1ba3-8ab5-4f96-bc25-4d5862db7cb9-c000.csv\n",
      "Perceptron has been trained on part-00000-363d1ba3-8ab5-4f96-bc25-4d5862db7cb9-c000.csv\n",
      "AdaBoost has been trained on part-00000-363d1ba3-8ab5-4f96-bc25-4d5862db7cb9-c000.csv\n",
      "RandomForest has been trained on part-00000-363d1ba3-8ab5-4f96-bc25-4d5862db7cb9-c000.csv\n"
     ]
    },
    {
     "name": "stderr",
     "output_type": "stream",
     "text": [
      "\r",
      "  1%|▉                                                                                                                                     | 1/135 [01:42<3:49:46, 102.89s/it]"
     ]
    },
    {
     "name": "stdout",
     "output_type": "stream",
     "text": [
      "DecisionTree has been trained on part-00000-363d1ba3-8ab5-4f96-bc25-4d5862db7cb9-c000.csv\n"
     ]
    },
    {
     "name": "stderr",
     "output_type": "stream",
     "text": [
      "/home/sc/0.DCU/00.Project/ML_based_IDS_for_IoT/project/env/lib/python3.10/site-packages/sklearn/linear_model/_logistic.py:460: ConvergenceWarning: lbfgs failed to converge (status=1):\n",
      "STOP: TOTAL NO. of ITERATIONS REACHED LIMIT.\n",
      "\n",
      "Increase the number of iterations (max_iter) or scale the data as shown in:\n",
      "    https://scikit-learn.org/stable/modules/preprocessing.html\n",
      "Please also refer to the documentation for alternative solver options:\n",
      "    https://scikit-learn.org/stable/modules/linear_model.html#logistic-regression\n",
      "  n_iter_i = _check_optimize_result(\n"
     ]
    },
    {
     "name": "stdout",
     "output_type": "stream",
     "text": [
      "LogisticRegression has been trained on part-00001-363d1ba3-8ab5-4f96-bc25-4d5862db7cb9-c000.csv\n",
      "Perceptron has been trained on part-00001-363d1ba3-8ab5-4f96-bc25-4d5862db7cb9-c000.csv\n",
      "AdaBoost has been trained on part-00001-363d1ba3-8ab5-4f96-bc25-4d5862db7cb9-c000.csv\n",
      "RandomForest has been trained on part-00001-363d1ba3-8ab5-4f96-bc25-4d5862db7cb9-c000.csv\n"
     ]
    },
    {
     "name": "stderr",
     "output_type": "stream",
     "text": [
      "\r",
      "  1%|██                                                                                                                                     | 2/135 [03:18<3:38:18, 98.49s/it]"
     ]
    },
    {
     "name": "stdout",
     "output_type": "stream",
     "text": [
      "DecisionTree has been trained on part-00001-363d1ba3-8ab5-4f96-bc25-4d5862db7cb9-c000.csv\n"
     ]
    },
    {
     "name": "stderr",
     "output_type": "stream",
     "text": [
      "/home/sc/0.DCU/00.Project/ML_based_IDS_for_IoT/project/env/lib/python3.10/site-packages/sklearn/linear_model/_logistic.py:460: ConvergenceWarning: lbfgs failed to converge (status=1):\n",
      "STOP: TOTAL NO. of ITERATIONS REACHED LIMIT.\n",
      "\n",
      "Increase the number of iterations (max_iter) or scale the data as shown in:\n",
      "    https://scikit-learn.org/stable/modules/preprocessing.html\n",
      "Please also refer to the documentation for alternative solver options:\n",
      "    https://scikit-learn.org/stable/modules/linear_model.html#logistic-regression\n",
      "  n_iter_i = _check_optimize_result(\n"
     ]
    },
    {
     "name": "stdout",
     "output_type": "stream",
     "text": [
      "LogisticRegression has been trained on part-00002-363d1ba3-8ab5-4f96-bc25-4d5862db7cb9-c000.csv\n",
      "Perceptron has been trained on part-00002-363d1ba3-8ab5-4f96-bc25-4d5862db7cb9-c000.csv\n",
      "AdaBoost has been trained on part-00002-363d1ba3-8ab5-4f96-bc25-4d5862db7cb9-c000.csv\n",
      "RandomForest has been trained on part-00002-363d1ba3-8ab5-4f96-bc25-4d5862db7cb9-c000.csv\n"
     ]
    },
    {
     "name": "stderr",
     "output_type": "stream",
     "text": [
      "\r",
      "  2%|██▉                                                                                                                                   | 3/135 [05:15<3:55:52, 107.21s/it]"
     ]
    },
    {
     "name": "stdout",
     "output_type": "stream",
     "text": [
      "DecisionTree has been trained on part-00002-363d1ba3-8ab5-4f96-bc25-4d5862db7cb9-c000.csv\n"
     ]
    },
    {
     "name": "stderr",
     "output_type": "stream",
     "text": [
      "/home/sc/0.DCU/00.Project/ML_based_IDS_for_IoT/project/env/lib/python3.10/site-packages/sklearn/linear_model/_logistic.py:460: ConvergenceWarning: lbfgs failed to converge (status=1):\n",
      "STOP: TOTAL NO. of ITERATIONS REACHED LIMIT.\n",
      "\n",
      "Increase the number of iterations (max_iter) or scale the data as shown in:\n",
      "    https://scikit-learn.org/stable/modules/preprocessing.html\n",
      "Please also refer to the documentation for alternative solver options:\n",
      "    https://scikit-learn.org/stable/modules/linear_model.html#logistic-regression\n",
      "  n_iter_i = _check_optimize_result(\n"
     ]
    },
    {
     "name": "stdout",
     "output_type": "stream",
     "text": [
      "LogisticRegression has been trained on part-00003-363d1ba3-8ab5-4f96-bc25-4d5862db7cb9-c000.csv\n",
      "Perceptron has been trained on part-00003-363d1ba3-8ab5-4f96-bc25-4d5862db7cb9-c000.csv\n",
      "AdaBoost has been trained on part-00003-363d1ba3-8ab5-4f96-bc25-4d5862db7cb9-c000.csv\n",
      "RandomForest has been trained on part-00003-363d1ba3-8ab5-4f96-bc25-4d5862db7cb9-c000.csv\n"
     ]
    },
    {
     "name": "stderr",
     "output_type": "stream",
     "text": [
      "\r",
      "  3%|███▉                                                                                                                                  | 4/135 [06:56<3:48:47, 104.79s/it]"
     ]
    },
    {
     "name": "stdout",
     "output_type": "stream",
     "text": [
      "DecisionTree has been trained on part-00003-363d1ba3-8ab5-4f96-bc25-4d5862db7cb9-c000.csv\n"
     ]
    },
    {
     "name": "stderr",
     "output_type": "stream",
     "text": [
      "/home/sc/0.DCU/00.Project/ML_based_IDS_for_IoT/project/env/lib/python3.10/site-packages/sklearn/linear_model/_logistic.py:460: ConvergenceWarning: lbfgs failed to converge (status=1):\n",
      "STOP: TOTAL NO. of ITERATIONS REACHED LIMIT.\n",
      "\n",
      "Increase the number of iterations (max_iter) or scale the data as shown in:\n",
      "    https://scikit-learn.org/stable/modules/preprocessing.html\n",
      "Please also refer to the documentation for alternative solver options:\n",
      "    https://scikit-learn.org/stable/modules/linear_model.html#logistic-regression\n",
      "  n_iter_i = _check_optimize_result(\n"
     ]
    },
    {
     "name": "stdout",
     "output_type": "stream",
     "text": [
      "LogisticRegression has been trained on part-00004-363d1ba3-8ab5-4f96-bc25-4d5862db7cb9-c000.csv\n",
      "Perceptron has been trained on part-00004-363d1ba3-8ab5-4f96-bc25-4d5862db7cb9-c000.csv\n",
      "AdaBoost has been trained on part-00004-363d1ba3-8ab5-4f96-bc25-4d5862db7cb9-c000.csv\n",
      "RandomForest has been trained on part-00004-363d1ba3-8ab5-4f96-bc25-4d5862db7cb9-c000.csv\n"
     ]
    },
    {
     "name": "stderr",
     "output_type": "stream",
     "text": [
      "\r",
      "  4%|████▉                                                                                                                                 | 5/135 [08:33<3:40:57, 101.98s/it]"
     ]
    },
    {
     "name": "stdout",
     "output_type": "stream",
     "text": [
      "DecisionTree has been trained on part-00004-363d1ba3-8ab5-4f96-bc25-4d5862db7cb9-c000.csv\n"
     ]
    },
    {
     "name": "stderr",
     "output_type": "stream",
     "text": [
      "/home/sc/0.DCU/00.Project/ML_based_IDS_for_IoT/project/env/lib/python3.10/site-packages/sklearn/linear_model/_logistic.py:460: ConvergenceWarning: lbfgs failed to converge (status=1):\n",
      "STOP: TOTAL NO. of ITERATIONS REACHED LIMIT.\n",
      "\n",
      "Increase the number of iterations (max_iter) or scale the data as shown in:\n",
      "    https://scikit-learn.org/stable/modules/preprocessing.html\n",
      "Please also refer to the documentation for alternative solver options:\n",
      "    https://scikit-learn.org/stable/modules/linear_model.html#logistic-regression\n",
      "  n_iter_i = _check_optimize_result(\n"
     ]
    },
    {
     "name": "stdout",
     "output_type": "stream",
     "text": [
      "LogisticRegression has been trained on part-00005-363d1ba3-8ab5-4f96-bc25-4d5862db7cb9-c000.csv\n",
      "Perceptron has been trained on part-00005-363d1ba3-8ab5-4f96-bc25-4d5862db7cb9-c000.csv\n",
      "AdaBoost has been trained on part-00005-363d1ba3-8ab5-4f96-bc25-4d5862db7cb9-c000.csv\n",
      "RandomForest has been trained on part-00005-363d1ba3-8ab5-4f96-bc25-4d5862db7cb9-c000.csv\n"
     ]
    },
    {
     "name": "stderr",
     "output_type": "stream",
     "text": [
      "\r",
      "  4%|█████▉                                                                                                                                | 6/135 [10:16<3:39:49, 102.24s/it]"
     ]
    },
    {
     "name": "stdout",
     "output_type": "stream",
     "text": [
      "DecisionTree has been trained on part-00005-363d1ba3-8ab5-4f96-bc25-4d5862db7cb9-c000.csv\n"
     ]
    },
    {
     "name": "stderr",
     "output_type": "stream",
     "text": [
      "/home/sc/0.DCU/00.Project/ML_based_IDS_for_IoT/project/env/lib/python3.10/site-packages/sklearn/linear_model/_logistic.py:460: ConvergenceWarning: lbfgs failed to converge (status=1):\n",
      "STOP: TOTAL NO. of ITERATIONS REACHED LIMIT.\n",
      "\n",
      "Increase the number of iterations (max_iter) or scale the data as shown in:\n",
      "    https://scikit-learn.org/stable/modules/preprocessing.html\n",
      "Please also refer to the documentation for alternative solver options:\n",
      "    https://scikit-learn.org/stable/modules/linear_model.html#logistic-regression\n",
      "  n_iter_i = _check_optimize_result(\n"
     ]
    },
    {
     "name": "stdout",
     "output_type": "stream",
     "text": [
      "LogisticRegression has been trained on part-00006-363d1ba3-8ab5-4f96-bc25-4d5862db7cb9-c000.csv\n",
      "Perceptron has been trained on part-00006-363d1ba3-8ab5-4f96-bc25-4d5862db7cb9-c000.csv\n",
      "AdaBoost has been trained on part-00006-363d1ba3-8ab5-4f96-bc25-4d5862db7cb9-c000.csv\n",
      "RandomForest has been trained on part-00006-363d1ba3-8ab5-4f96-bc25-4d5862db7cb9-c000.csv\n"
     ]
    },
    {
     "name": "stderr",
     "output_type": "stream",
     "text": [
      "\r",
      "  5%|██████▉                                                                                                                               | 7/135 [11:57<3:36:46, 101.61s/it]"
     ]
    },
    {
     "name": "stdout",
     "output_type": "stream",
     "text": [
      "DecisionTree has been trained on part-00006-363d1ba3-8ab5-4f96-bc25-4d5862db7cb9-c000.csv\n"
     ]
    },
    {
     "name": "stderr",
     "output_type": "stream",
     "text": [
      "/home/sc/0.DCU/00.Project/ML_based_IDS_for_IoT/project/env/lib/python3.10/site-packages/sklearn/linear_model/_logistic.py:460: ConvergenceWarning: lbfgs failed to converge (status=1):\n",
      "STOP: TOTAL NO. of ITERATIONS REACHED LIMIT.\n",
      "\n",
      "Increase the number of iterations (max_iter) or scale the data as shown in:\n",
      "    https://scikit-learn.org/stable/modules/preprocessing.html\n",
      "Please also refer to the documentation for alternative solver options:\n",
      "    https://scikit-learn.org/stable/modules/linear_model.html#logistic-regression\n",
      "  n_iter_i = _check_optimize_result(\n"
     ]
    },
    {
     "name": "stdout",
     "output_type": "stream",
     "text": [
      "LogisticRegression has been trained on part-00007-363d1ba3-8ab5-4f96-bc25-4d5862db7cb9-c000.csv\n",
      "Perceptron has been trained on part-00007-363d1ba3-8ab5-4f96-bc25-4d5862db7cb9-c000.csv\n",
      "AdaBoost has been trained on part-00007-363d1ba3-8ab5-4f96-bc25-4d5862db7cb9-c000.csv\n",
      "RandomForest has been trained on part-00007-363d1ba3-8ab5-4f96-bc25-4d5862db7cb9-c000.csv\n"
     ]
    },
    {
     "name": "stderr",
     "output_type": "stream",
     "text": [
      "\r",
      "  6%|███████▉                                                                                                                              | 8/135 [13:37<3:34:23, 101.29s/it]"
     ]
    },
    {
     "name": "stdout",
     "output_type": "stream",
     "text": [
      "DecisionTree has been trained on part-00007-363d1ba3-8ab5-4f96-bc25-4d5862db7cb9-c000.csv\n"
     ]
    },
    {
     "name": "stderr",
     "output_type": "stream",
     "text": [
      "/home/sc/0.DCU/00.Project/ML_based_IDS_for_IoT/project/env/lib/python3.10/site-packages/sklearn/linear_model/_logistic.py:460: ConvergenceWarning: lbfgs failed to converge (status=1):\n",
      "STOP: TOTAL NO. of ITERATIONS REACHED LIMIT.\n",
      "\n",
      "Increase the number of iterations (max_iter) or scale the data as shown in:\n",
      "    https://scikit-learn.org/stable/modules/preprocessing.html\n",
      "Please also refer to the documentation for alternative solver options:\n",
      "    https://scikit-learn.org/stable/modules/linear_model.html#logistic-regression\n",
      "  n_iter_i = _check_optimize_result(\n"
     ]
    },
    {
     "name": "stdout",
     "output_type": "stream",
     "text": [
      "LogisticRegression has been trained on part-00008-363d1ba3-8ab5-4f96-bc25-4d5862db7cb9-c000.csv\n",
      "Perceptron has been trained on part-00008-363d1ba3-8ab5-4f96-bc25-4d5862db7cb9-c000.csv\n",
      "AdaBoost has been trained on part-00008-363d1ba3-8ab5-4f96-bc25-4d5862db7cb9-c000.csv\n",
      "RandomForest has been trained on part-00008-363d1ba3-8ab5-4f96-bc25-4d5862db7cb9-c000.csv\n"
     ]
    },
    {
     "name": "stderr",
     "output_type": "stream",
     "text": [
      "\r",
      "  7%|████████▉                                                                                                                             | 9/135 [15:21<3:34:06, 101.96s/it]"
     ]
    },
    {
     "name": "stdout",
     "output_type": "stream",
     "text": [
      "DecisionTree has been trained on part-00008-363d1ba3-8ab5-4f96-bc25-4d5862db7cb9-c000.csv\n"
     ]
    },
    {
     "name": "stderr",
     "output_type": "stream",
     "text": [
      "/home/sc/0.DCU/00.Project/ML_based_IDS_for_IoT/project/env/lib/python3.10/site-packages/sklearn/linear_model/_logistic.py:460: ConvergenceWarning: lbfgs failed to converge (status=1):\n",
      "STOP: TOTAL NO. of ITERATIONS REACHED LIMIT.\n",
      "\n",
      "Increase the number of iterations (max_iter) or scale the data as shown in:\n",
      "    https://scikit-learn.org/stable/modules/preprocessing.html\n",
      "Please also refer to the documentation for alternative solver options:\n",
      "    https://scikit-learn.org/stable/modules/linear_model.html#logistic-regression\n",
      "  n_iter_i = _check_optimize_result(\n"
     ]
    },
    {
     "name": "stdout",
     "output_type": "stream",
     "text": [
      "LogisticRegression has been trained on part-00009-363d1ba3-8ab5-4f96-bc25-4d5862db7cb9-c000.csv\n",
      "Perceptron has been trained on part-00009-363d1ba3-8ab5-4f96-bc25-4d5862db7cb9-c000.csv\n",
      "AdaBoost has been trained on part-00009-363d1ba3-8ab5-4f96-bc25-4d5862db7cb9-c000.csv\n",
      "RandomForest has been trained on part-00009-363d1ba3-8ab5-4f96-bc25-4d5862db7cb9-c000.csv\n"
     ]
    },
    {
     "name": "stderr",
     "output_type": "stream",
     "text": [
      "\r",
      "  7%|█████████▊                                                                                                                           | 10/135 [16:56<3:28:24, 100.03s/it]"
     ]
    },
    {
     "name": "stdout",
     "output_type": "stream",
     "text": [
      "DecisionTree has been trained on part-00009-363d1ba3-8ab5-4f96-bc25-4d5862db7cb9-c000.csv\n"
     ]
    },
    {
     "name": "stderr",
     "output_type": "stream",
     "text": [
      "/home/sc/0.DCU/00.Project/ML_based_IDS_for_IoT/project/env/lib/python3.10/site-packages/sklearn/linear_model/_logistic.py:460: ConvergenceWarning: lbfgs failed to converge (status=1):\n",
      "STOP: TOTAL NO. of ITERATIONS REACHED LIMIT.\n",
      "\n",
      "Increase the number of iterations (max_iter) or scale the data as shown in:\n",
      "    https://scikit-learn.org/stable/modules/preprocessing.html\n",
      "Please also refer to the documentation for alternative solver options:\n",
      "    https://scikit-learn.org/stable/modules/linear_model.html#logistic-regression\n",
      "  n_iter_i = _check_optimize_result(\n"
     ]
    },
    {
     "name": "stdout",
     "output_type": "stream",
     "text": [
      "LogisticRegression has been trained on part-00010-363d1ba3-8ab5-4f96-bc25-4d5862db7cb9-c000.csv\n",
      "Perceptron has been trained on part-00010-363d1ba3-8ab5-4f96-bc25-4d5862db7cb9-c000.csv\n",
      "AdaBoost has been trained on part-00010-363d1ba3-8ab5-4f96-bc25-4d5862db7cb9-c000.csv\n",
      "RandomForest has been trained on part-00010-363d1ba3-8ab5-4f96-bc25-4d5862db7cb9-c000.csv\n"
     ]
    },
    {
     "name": "stderr",
     "output_type": "stream",
     "text": [
      "\r",
      "  8%|██████████▊                                                                                                                          | 11/135 [18:49<3:34:33, 103.82s/it]"
     ]
    },
    {
     "name": "stdout",
     "output_type": "stream",
     "text": [
      "DecisionTree has been trained on part-00010-363d1ba3-8ab5-4f96-bc25-4d5862db7cb9-c000.csv\n"
     ]
    },
    {
     "name": "stderr",
     "output_type": "stream",
     "text": [
      "/home/sc/0.DCU/00.Project/ML_based_IDS_for_IoT/project/env/lib/python3.10/site-packages/sklearn/linear_model/_logistic.py:460: ConvergenceWarning: lbfgs failed to converge (status=1):\n",
      "STOP: TOTAL NO. of ITERATIONS REACHED LIMIT.\n",
      "\n",
      "Increase the number of iterations (max_iter) or scale the data as shown in:\n",
      "    https://scikit-learn.org/stable/modules/preprocessing.html\n",
      "Please also refer to the documentation for alternative solver options:\n",
      "    https://scikit-learn.org/stable/modules/linear_model.html#logistic-regression\n",
      "  n_iter_i = _check_optimize_result(\n"
     ]
    },
    {
     "name": "stdout",
     "output_type": "stream",
     "text": [
      "LogisticRegression has been trained on part-00011-363d1ba3-8ab5-4f96-bc25-4d5862db7cb9-c000.csv\n",
      "Perceptron has been trained on part-00011-363d1ba3-8ab5-4f96-bc25-4d5862db7cb9-c000.csv\n",
      "AdaBoost has been trained on part-00011-363d1ba3-8ab5-4f96-bc25-4d5862db7cb9-c000.csv\n",
      "RandomForest has been trained on part-00011-363d1ba3-8ab5-4f96-bc25-4d5862db7cb9-c000.csv\n"
     ]
    },
    {
     "name": "stderr",
     "output_type": "stream",
     "text": [
      "\r",
      "  9%|███████████▊                                                                                                                         | 12/135 [20:23<3:27:07, 101.04s/it]"
     ]
    },
    {
     "name": "stdout",
     "output_type": "stream",
     "text": [
      "DecisionTree has been trained on part-00011-363d1ba3-8ab5-4f96-bc25-4d5862db7cb9-c000.csv\n"
     ]
    },
    {
     "name": "stderr",
     "output_type": "stream",
     "text": [
      "/home/sc/0.DCU/00.Project/ML_based_IDS_for_IoT/project/env/lib/python3.10/site-packages/sklearn/linear_model/_logistic.py:460: ConvergenceWarning: lbfgs failed to converge (status=1):\n",
      "STOP: TOTAL NO. of ITERATIONS REACHED LIMIT.\n",
      "\n",
      "Increase the number of iterations (max_iter) or scale the data as shown in:\n",
      "    https://scikit-learn.org/stable/modules/preprocessing.html\n",
      "Please also refer to the documentation for alternative solver options:\n",
      "    https://scikit-learn.org/stable/modules/linear_model.html#logistic-regression\n",
      "  n_iter_i = _check_optimize_result(\n"
     ]
    },
    {
     "name": "stdout",
     "output_type": "stream",
     "text": [
      "LogisticRegression has been trained on part-00012-363d1ba3-8ab5-4f96-bc25-4d5862db7cb9-c000.csv\n",
      "Perceptron has been trained on part-00012-363d1ba3-8ab5-4f96-bc25-4d5862db7cb9-c000.csv\n",
      "AdaBoost has been trained on part-00012-363d1ba3-8ab5-4f96-bc25-4d5862db7cb9-c000.csv\n",
      "RandomForest has been trained on part-00012-363d1ba3-8ab5-4f96-bc25-4d5862db7cb9-c000.csv\n"
     ]
    },
    {
     "name": "stderr",
     "output_type": "stream",
     "text": [
      "\r",
      " 10%|████████████▊                                                                                                                        | 13/135 [22:02<3:23:50, 100.25s/it]"
     ]
    },
    {
     "name": "stdout",
     "output_type": "stream",
     "text": [
      "DecisionTree has been trained on part-00012-363d1ba3-8ab5-4f96-bc25-4d5862db7cb9-c000.csv\n"
     ]
    },
    {
     "name": "stderr",
     "output_type": "stream",
     "text": [
      "/home/sc/0.DCU/00.Project/ML_based_IDS_for_IoT/project/env/lib/python3.10/site-packages/sklearn/linear_model/_logistic.py:460: ConvergenceWarning: lbfgs failed to converge (status=1):\n",
      "STOP: TOTAL NO. of ITERATIONS REACHED LIMIT.\n",
      "\n",
      "Increase the number of iterations (max_iter) or scale the data as shown in:\n",
      "    https://scikit-learn.org/stable/modules/preprocessing.html\n",
      "Please also refer to the documentation for alternative solver options:\n",
      "    https://scikit-learn.org/stable/modules/linear_model.html#logistic-regression\n",
      "  n_iter_i = _check_optimize_result(\n"
     ]
    },
    {
     "name": "stdout",
     "output_type": "stream",
     "text": [
      "LogisticRegression has been trained on part-00013-363d1ba3-8ab5-4f96-bc25-4d5862db7cb9-c000.csv\n",
      "Perceptron has been trained on part-00013-363d1ba3-8ab5-4f96-bc25-4d5862db7cb9-c000.csv\n",
      "AdaBoost has been trained on part-00013-363d1ba3-8ab5-4f96-bc25-4d5862db7cb9-c000.csv\n",
      "RandomForest has been trained on part-00013-363d1ba3-8ab5-4f96-bc25-4d5862db7cb9-c000.csv\n"
     ]
    },
    {
     "name": "stderr",
     "output_type": "stream",
     "text": [
      "\r",
      " 10%|█████████████▊                                                                                                                       | 14/135 [23:42<3:22:01, 100.18s/it]"
     ]
    },
    {
     "name": "stdout",
     "output_type": "stream",
     "text": [
      "DecisionTree has been trained on part-00013-363d1ba3-8ab5-4f96-bc25-4d5862db7cb9-c000.csv\n"
     ]
    },
    {
     "name": "stderr",
     "output_type": "stream",
     "text": [
      "/home/sc/0.DCU/00.Project/ML_based_IDS_for_IoT/project/env/lib/python3.10/site-packages/sklearn/linear_model/_logistic.py:460: ConvergenceWarning: lbfgs failed to converge (status=1):\n",
      "STOP: TOTAL NO. of ITERATIONS REACHED LIMIT.\n",
      "\n",
      "Increase the number of iterations (max_iter) or scale the data as shown in:\n",
      "    https://scikit-learn.org/stable/modules/preprocessing.html\n",
      "Please also refer to the documentation for alternative solver options:\n",
      "    https://scikit-learn.org/stable/modules/linear_model.html#logistic-regression\n",
      "  n_iter_i = _check_optimize_result(\n"
     ]
    },
    {
     "name": "stdout",
     "output_type": "stream",
     "text": [
      "LogisticRegression has been trained on part-00014-363d1ba3-8ab5-4f96-bc25-4d5862db7cb9-c000.csv\n",
      "Perceptron has been trained on part-00014-363d1ba3-8ab5-4f96-bc25-4d5862db7cb9-c000.csv\n",
      "AdaBoost has been trained on part-00014-363d1ba3-8ab5-4f96-bc25-4d5862db7cb9-c000.csv\n",
      "RandomForest has been trained on part-00014-363d1ba3-8ab5-4f96-bc25-4d5862db7cb9-c000.csv\n"
     ]
    },
    {
     "name": "stderr",
     "output_type": "stream",
     "text": [
      "\r",
      " 11%|██████████████▉                                                                                                                       | 15/135 [25:17<3:17:31, 98.76s/it]"
     ]
    },
    {
     "name": "stdout",
     "output_type": "stream",
     "text": [
      "DecisionTree has been trained on part-00014-363d1ba3-8ab5-4f96-bc25-4d5862db7cb9-c000.csv\n"
     ]
    },
    {
     "name": "stderr",
     "output_type": "stream",
     "text": [
      "/home/sc/0.DCU/00.Project/ML_based_IDS_for_IoT/project/env/lib/python3.10/site-packages/sklearn/linear_model/_logistic.py:460: ConvergenceWarning: lbfgs failed to converge (status=1):\n",
      "STOP: TOTAL NO. of ITERATIONS REACHED LIMIT.\n",
      "\n",
      "Increase the number of iterations (max_iter) or scale the data as shown in:\n",
      "    https://scikit-learn.org/stable/modules/preprocessing.html\n",
      "Please also refer to the documentation for alternative solver options:\n",
      "    https://scikit-learn.org/stable/modules/linear_model.html#logistic-regression\n",
      "  n_iter_i = _check_optimize_result(\n"
     ]
    },
    {
     "name": "stdout",
     "output_type": "stream",
     "text": [
      "LogisticRegression has been trained on part-00015-363d1ba3-8ab5-4f96-bc25-4d5862db7cb9-c000.csv\n",
      "Perceptron has been trained on part-00015-363d1ba3-8ab5-4f96-bc25-4d5862db7cb9-c000.csv\n",
      "AdaBoost has been trained on part-00015-363d1ba3-8ab5-4f96-bc25-4d5862db7cb9-c000.csv\n",
      "RandomForest has been trained on part-00015-363d1ba3-8ab5-4f96-bc25-4d5862db7cb9-c000.csv\n"
     ]
    },
    {
     "name": "stderr",
     "output_type": "stream",
     "text": [
      "\r",
      " 12%|███████████████▊                                                                                                                     | 16/135 [27:12<3:25:14, 103.49s/it]"
     ]
    },
    {
     "name": "stdout",
     "output_type": "stream",
     "text": [
      "DecisionTree has been trained on part-00015-363d1ba3-8ab5-4f96-bc25-4d5862db7cb9-c000.csv\n"
     ]
    },
    {
     "name": "stderr",
     "output_type": "stream",
     "text": [
      "/home/sc/0.DCU/00.Project/ML_based_IDS_for_IoT/project/env/lib/python3.10/site-packages/sklearn/linear_model/_logistic.py:460: ConvergenceWarning: lbfgs failed to converge (status=1):\n",
      "STOP: TOTAL NO. of ITERATIONS REACHED LIMIT.\n",
      "\n",
      "Increase the number of iterations (max_iter) or scale the data as shown in:\n",
      "    https://scikit-learn.org/stable/modules/preprocessing.html\n",
      "Please also refer to the documentation for alternative solver options:\n",
      "    https://scikit-learn.org/stable/modules/linear_model.html#logistic-regression\n",
      "  n_iter_i = _check_optimize_result(\n"
     ]
    },
    {
     "name": "stdout",
     "output_type": "stream",
     "text": [
      "LogisticRegression has been trained on part-00016-363d1ba3-8ab5-4f96-bc25-4d5862db7cb9-c000.csv\n",
      "Perceptron has been trained on part-00016-363d1ba3-8ab5-4f96-bc25-4d5862db7cb9-c000.csv\n",
      "AdaBoost has been trained on part-00016-363d1ba3-8ab5-4f96-bc25-4d5862db7cb9-c000.csv\n",
      "RandomForest has been trained on part-00016-363d1ba3-8ab5-4f96-bc25-4d5862db7cb9-c000.csv\n"
     ]
    },
    {
     "name": "stderr",
     "output_type": "stream",
     "text": [
      "\r",
      " 13%|████████████████▋                                                                                                                    | 17/135 [28:45<3:17:23, 100.37s/it]"
     ]
    },
    {
     "name": "stdout",
     "output_type": "stream",
     "text": [
      "DecisionTree has been trained on part-00016-363d1ba3-8ab5-4f96-bc25-4d5862db7cb9-c000.csv\n"
     ]
    },
    {
     "name": "stderr",
     "output_type": "stream",
     "text": [
      "/home/sc/0.DCU/00.Project/ML_based_IDS_for_IoT/project/env/lib/python3.10/site-packages/sklearn/linear_model/_logistic.py:460: ConvergenceWarning: lbfgs failed to converge (status=1):\n",
      "STOP: TOTAL NO. of ITERATIONS REACHED LIMIT.\n",
      "\n",
      "Increase the number of iterations (max_iter) or scale the data as shown in:\n",
      "    https://scikit-learn.org/stable/modules/preprocessing.html\n",
      "Please also refer to the documentation for alternative solver options:\n",
      "    https://scikit-learn.org/stable/modules/linear_model.html#logistic-regression\n",
      "  n_iter_i = _check_optimize_result(\n"
     ]
    },
    {
     "name": "stdout",
     "output_type": "stream",
     "text": [
      "LogisticRegression has been trained on part-00017-363d1ba3-8ab5-4f96-bc25-4d5862db7cb9-c000.csv\n",
      "Perceptron has been trained on part-00017-363d1ba3-8ab5-4f96-bc25-4d5862db7cb9-c000.csv\n",
      "AdaBoost has been trained on part-00017-363d1ba3-8ab5-4f96-bc25-4d5862db7cb9-c000.csv\n",
      "RandomForest has been trained on part-00017-363d1ba3-8ab5-4f96-bc25-4d5862db7cb9-c000.csv\n"
     ]
    },
    {
     "name": "stderr",
     "output_type": "stream",
     "text": [
      "\r",
      " 13%|█████████████████▋                                                                                                                   | 18/135 [30:29<3:18:11, 101.64s/it]"
     ]
    },
    {
     "name": "stdout",
     "output_type": "stream",
     "text": [
      "DecisionTree has been trained on part-00017-363d1ba3-8ab5-4f96-bc25-4d5862db7cb9-c000.csv\n"
     ]
    },
    {
     "name": "stderr",
     "output_type": "stream",
     "text": [
      "/home/sc/0.DCU/00.Project/ML_based_IDS_for_IoT/project/env/lib/python3.10/site-packages/sklearn/linear_model/_logistic.py:460: ConvergenceWarning: lbfgs failed to converge (status=1):\n",
      "STOP: TOTAL NO. of ITERATIONS REACHED LIMIT.\n",
      "\n",
      "Increase the number of iterations (max_iter) or scale the data as shown in:\n",
      "    https://scikit-learn.org/stable/modules/preprocessing.html\n",
      "Please also refer to the documentation for alternative solver options:\n",
      "    https://scikit-learn.org/stable/modules/linear_model.html#logistic-regression\n",
      "  n_iter_i = _check_optimize_result(\n"
     ]
    },
    {
     "name": "stdout",
     "output_type": "stream",
     "text": [
      "LogisticRegression has been trained on part-00018-363d1ba3-8ab5-4f96-bc25-4d5862db7cb9-c000.csv\n",
      "Perceptron has been trained on part-00018-363d1ba3-8ab5-4f96-bc25-4d5862db7cb9-c000.csv\n",
      "AdaBoost has been trained on part-00018-363d1ba3-8ab5-4f96-bc25-4d5862db7cb9-c000.csv\n",
      "RandomForest has been trained on part-00018-363d1ba3-8ab5-4f96-bc25-4d5862db7cb9-c000.csv\n"
     ]
    },
    {
     "name": "stderr",
     "output_type": "stream",
     "text": [
      "\r",
      " 14%|██████████████████▋                                                                                                                  | 19/135 [32:08<3:14:26, 100.57s/it]"
     ]
    },
    {
     "name": "stdout",
     "output_type": "stream",
     "text": [
      "DecisionTree has been trained on part-00018-363d1ba3-8ab5-4f96-bc25-4d5862db7cb9-c000.csv\n"
     ]
    },
    {
     "name": "stderr",
     "output_type": "stream",
     "text": [
      "/home/sc/0.DCU/00.Project/ML_based_IDS_for_IoT/project/env/lib/python3.10/site-packages/sklearn/linear_model/_logistic.py:460: ConvergenceWarning: lbfgs failed to converge (status=1):\n",
      "STOP: TOTAL NO. of ITERATIONS REACHED LIMIT.\n",
      "\n",
      "Increase the number of iterations (max_iter) or scale the data as shown in:\n",
      "    https://scikit-learn.org/stable/modules/preprocessing.html\n",
      "Please also refer to the documentation for alternative solver options:\n",
      "    https://scikit-learn.org/stable/modules/linear_model.html#logistic-regression\n",
      "  n_iter_i = _check_optimize_result(\n"
     ]
    },
    {
     "name": "stdout",
     "output_type": "stream",
     "text": [
      "LogisticRegression has been trained on part-00019-363d1ba3-8ab5-4f96-bc25-4d5862db7cb9-c000.csv\n",
      "Perceptron has been trained on part-00019-363d1ba3-8ab5-4f96-bc25-4d5862db7cb9-c000.csv\n",
      "AdaBoost has been trained on part-00019-363d1ba3-8ab5-4f96-bc25-4d5862db7cb9-c000.csv\n",
      "RandomForest has been trained on part-00019-363d1ba3-8ab5-4f96-bc25-4d5862db7cb9-c000.csv\n"
     ]
    },
    {
     "name": "stderr",
     "output_type": "stream",
     "text": [
      "\r",
      " 15%|███████████████████▊                                                                                                                  | 20/135 [33:46<3:11:39, 99.99s/it]"
     ]
    },
    {
     "name": "stdout",
     "output_type": "stream",
     "text": [
      "DecisionTree has been trained on part-00019-363d1ba3-8ab5-4f96-bc25-4d5862db7cb9-c000.csv\n"
     ]
    },
    {
     "name": "stderr",
     "output_type": "stream",
     "text": [
      "/home/sc/0.DCU/00.Project/ML_based_IDS_for_IoT/project/env/lib/python3.10/site-packages/sklearn/linear_model/_logistic.py:460: ConvergenceWarning: lbfgs failed to converge (status=1):\n",
      "STOP: TOTAL NO. of ITERATIONS REACHED LIMIT.\n",
      "\n",
      "Increase the number of iterations (max_iter) or scale the data as shown in:\n",
      "    https://scikit-learn.org/stable/modules/preprocessing.html\n",
      "Please also refer to the documentation for alternative solver options:\n",
      "    https://scikit-learn.org/stable/modules/linear_model.html#logistic-regression\n",
      "  n_iter_i = _check_optimize_result(\n"
     ]
    },
    {
     "name": "stdout",
     "output_type": "stream",
     "text": [
      "LogisticRegression has been trained on part-00020-363d1ba3-8ab5-4f96-bc25-4d5862db7cb9-c000.csv\n",
      "Perceptron has been trained on part-00020-363d1ba3-8ab5-4f96-bc25-4d5862db7cb9-c000.csv\n",
      "AdaBoost has been trained on part-00020-363d1ba3-8ab5-4f96-bc25-4d5862db7cb9-c000.csv\n",
      "RandomForest has been trained on part-00020-363d1ba3-8ab5-4f96-bc25-4d5862db7cb9-c000.csv\n"
     ]
    },
    {
     "name": "stderr",
     "output_type": "stream",
     "text": [
      "\r",
      " 16%|████████████████████▊                                                                                                                 | 21/135 [35:25<3:09:21, 99.66s/it]"
     ]
    },
    {
     "name": "stdout",
     "output_type": "stream",
     "text": [
      "DecisionTree has been trained on part-00020-363d1ba3-8ab5-4f96-bc25-4d5862db7cb9-c000.csv\n"
     ]
    },
    {
     "name": "stderr",
     "output_type": "stream",
     "text": [
      "/home/sc/0.DCU/00.Project/ML_based_IDS_for_IoT/project/env/lib/python3.10/site-packages/sklearn/linear_model/_logistic.py:460: ConvergenceWarning: lbfgs failed to converge (status=1):\n",
      "STOP: TOTAL NO. of ITERATIONS REACHED LIMIT.\n",
      "\n",
      "Increase the number of iterations (max_iter) or scale the data as shown in:\n",
      "    https://scikit-learn.org/stable/modules/preprocessing.html\n",
      "Please also refer to the documentation for alternative solver options:\n",
      "    https://scikit-learn.org/stable/modules/linear_model.html#logistic-regression\n",
      "  n_iter_i = _check_optimize_result(\n"
     ]
    },
    {
     "name": "stdout",
     "output_type": "stream",
     "text": [
      "LogisticRegression has been trained on part-00021-363d1ba3-8ab5-4f96-bc25-4d5862db7cb9-c000.csv\n",
      "Perceptron has been trained on part-00021-363d1ba3-8ab5-4f96-bc25-4d5862db7cb9-c000.csv\n",
      "AdaBoost has been trained on part-00021-363d1ba3-8ab5-4f96-bc25-4d5862db7cb9-c000.csv\n",
      "RandomForest has been trained on part-00021-363d1ba3-8ab5-4f96-bc25-4d5862db7cb9-c000.csv\n"
     ]
    },
    {
     "name": "stderr",
     "output_type": "stream",
     "text": [
      "\r",
      " 16%|█████████████████████▋                                                                                                               | 22/135 [37:07<3:09:11, 100.46s/it]"
     ]
    },
    {
     "name": "stdout",
     "output_type": "stream",
     "text": [
      "DecisionTree has been trained on part-00021-363d1ba3-8ab5-4f96-bc25-4d5862db7cb9-c000.csv\n"
     ]
    },
    {
     "name": "stderr",
     "output_type": "stream",
     "text": [
      "/home/sc/0.DCU/00.Project/ML_based_IDS_for_IoT/project/env/lib/python3.10/site-packages/sklearn/linear_model/_logistic.py:460: ConvergenceWarning: lbfgs failed to converge (status=1):\n",
      "STOP: TOTAL NO. of ITERATIONS REACHED LIMIT.\n",
      "\n",
      "Increase the number of iterations (max_iter) or scale the data as shown in:\n",
      "    https://scikit-learn.org/stable/modules/preprocessing.html\n",
      "Please also refer to the documentation for alternative solver options:\n",
      "    https://scikit-learn.org/stable/modules/linear_model.html#logistic-regression\n",
      "  n_iter_i = _check_optimize_result(\n"
     ]
    },
    {
     "name": "stdout",
     "output_type": "stream",
     "text": [
      "LogisticRegression has been trained on part-00022-363d1ba3-8ab5-4f96-bc25-4d5862db7cb9-c000.csv\n",
      "Perceptron has been trained on part-00022-363d1ba3-8ab5-4f96-bc25-4d5862db7cb9-c000.csv\n",
      "AdaBoost has been trained on part-00022-363d1ba3-8ab5-4f96-bc25-4d5862db7cb9-c000.csv\n",
      "RandomForest has been trained on part-00022-363d1ba3-8ab5-4f96-bc25-4d5862db7cb9-c000.csv\n"
     ]
    },
    {
     "name": "stderr",
     "output_type": "stream",
     "text": [
      "\r",
      " 17%|██████████████████████▋                                                                                                              | 23/135 [38:53<3:10:26, 102.02s/it]"
     ]
    },
    {
     "name": "stdout",
     "output_type": "stream",
     "text": [
      "DecisionTree has been trained on part-00022-363d1ba3-8ab5-4f96-bc25-4d5862db7cb9-c000.csv\n"
     ]
    },
    {
     "name": "stderr",
     "output_type": "stream",
     "text": [
      "/home/sc/0.DCU/00.Project/ML_based_IDS_for_IoT/project/env/lib/python3.10/site-packages/sklearn/linear_model/_logistic.py:460: ConvergenceWarning: lbfgs failed to converge (status=1):\n",
      "STOP: TOTAL NO. of ITERATIONS REACHED LIMIT.\n",
      "\n",
      "Increase the number of iterations (max_iter) or scale the data as shown in:\n",
      "    https://scikit-learn.org/stable/modules/preprocessing.html\n",
      "Please also refer to the documentation for alternative solver options:\n",
      "    https://scikit-learn.org/stable/modules/linear_model.html#logistic-regression\n",
      "  n_iter_i = _check_optimize_result(\n"
     ]
    },
    {
     "name": "stdout",
     "output_type": "stream",
     "text": [
      "LogisticRegression has been trained on part-00023-363d1ba3-8ab5-4f96-bc25-4d5862db7cb9-c000.csv\n",
      "Perceptron has been trained on part-00023-363d1ba3-8ab5-4f96-bc25-4d5862db7cb9-c000.csv\n",
      "AdaBoost has been trained on part-00023-363d1ba3-8ab5-4f96-bc25-4d5862db7cb9-c000.csv\n",
      "RandomForest has been trained on part-00023-363d1ba3-8ab5-4f96-bc25-4d5862db7cb9-c000.csv\n"
     ]
    },
    {
     "name": "stderr",
     "output_type": "stream",
     "text": [
      "\r",
      " 18%|███████████████████████▋                                                                                                             | 24/135 [40:55<3:19:41, 107.94s/it]"
     ]
    },
    {
     "name": "stdout",
     "output_type": "stream",
     "text": [
      "DecisionTree has been trained on part-00023-363d1ba3-8ab5-4f96-bc25-4d5862db7cb9-c000.csv\n"
     ]
    },
    {
     "name": "stderr",
     "output_type": "stream",
     "text": [
      "/home/sc/0.DCU/00.Project/ML_based_IDS_for_IoT/project/env/lib/python3.10/site-packages/sklearn/linear_model/_logistic.py:460: ConvergenceWarning: lbfgs failed to converge (status=1):\n",
      "STOP: TOTAL NO. of ITERATIONS REACHED LIMIT.\n",
      "\n",
      "Increase the number of iterations (max_iter) or scale the data as shown in:\n",
      "    https://scikit-learn.org/stable/modules/preprocessing.html\n",
      "Please also refer to the documentation for alternative solver options:\n",
      "    https://scikit-learn.org/stable/modules/linear_model.html#logistic-regression\n",
      "  n_iter_i = _check_optimize_result(\n"
     ]
    },
    {
     "name": "stdout",
     "output_type": "stream",
     "text": [
      "LogisticRegression has been trained on part-00024-363d1ba3-8ab5-4f96-bc25-4d5862db7cb9-c000.csv\n",
      "Perceptron has been trained on part-00024-363d1ba3-8ab5-4f96-bc25-4d5862db7cb9-c000.csv\n",
      "AdaBoost has been trained on part-00024-363d1ba3-8ab5-4f96-bc25-4d5862db7cb9-c000.csv\n",
      "RandomForest has been trained on part-00024-363d1ba3-8ab5-4f96-bc25-4d5862db7cb9-c000.csv\n"
     ]
    },
    {
     "name": "stderr",
     "output_type": "stream",
     "text": [
      "\r",
      " 19%|████████████████████████▋                                                                                                            | 25/135 [42:37<3:14:50, 106.27s/it]"
     ]
    },
    {
     "name": "stdout",
     "output_type": "stream",
     "text": [
      "DecisionTree has been trained on part-00024-363d1ba3-8ab5-4f96-bc25-4d5862db7cb9-c000.csv\n"
     ]
    },
    {
     "name": "stderr",
     "output_type": "stream",
     "text": [
      "/home/sc/0.DCU/00.Project/ML_based_IDS_for_IoT/project/env/lib/python3.10/site-packages/sklearn/linear_model/_logistic.py:460: ConvergenceWarning: lbfgs failed to converge (status=1):\n",
      "STOP: TOTAL NO. of ITERATIONS REACHED LIMIT.\n",
      "\n",
      "Increase the number of iterations (max_iter) or scale the data as shown in:\n",
      "    https://scikit-learn.org/stable/modules/preprocessing.html\n",
      "Please also refer to the documentation for alternative solver options:\n",
      "    https://scikit-learn.org/stable/modules/linear_model.html#logistic-regression\n",
      "  n_iter_i = _check_optimize_result(\n"
     ]
    },
    {
     "name": "stdout",
     "output_type": "stream",
     "text": [
      "LogisticRegression has been trained on part-00025-363d1ba3-8ab5-4f96-bc25-4d5862db7cb9-c000.csv\n",
      "Perceptron has been trained on part-00025-363d1ba3-8ab5-4f96-bc25-4d5862db7cb9-c000.csv\n",
      "AdaBoost has been trained on part-00025-363d1ba3-8ab5-4f96-bc25-4d5862db7cb9-c000.csv\n",
      "RandomForest has been trained on part-00025-363d1ba3-8ab5-4f96-bc25-4d5862db7cb9-c000.csv\n"
     ]
    },
    {
     "name": "stderr",
     "output_type": "stream",
     "text": [
      "\r",
      " 19%|█████████████████████████▌                                                                                                           | 26/135 [45:56<4:03:46, 134.18s/it]"
     ]
    },
    {
     "name": "stdout",
     "output_type": "stream",
     "text": [
      "DecisionTree has been trained on part-00025-363d1ba3-8ab5-4f96-bc25-4d5862db7cb9-c000.csv\n"
     ]
    },
    {
     "name": "stderr",
     "output_type": "stream",
     "text": [
      "/home/sc/0.DCU/00.Project/ML_based_IDS_for_IoT/project/env/lib/python3.10/site-packages/sklearn/linear_model/_logistic.py:460: ConvergenceWarning: lbfgs failed to converge (status=1):\n",
      "STOP: TOTAL NO. of ITERATIONS REACHED LIMIT.\n",
      "\n",
      "Increase the number of iterations (max_iter) or scale the data as shown in:\n",
      "    https://scikit-learn.org/stable/modules/preprocessing.html\n",
      "Please also refer to the documentation for alternative solver options:\n",
      "    https://scikit-learn.org/stable/modules/linear_model.html#logistic-regression\n",
      "  n_iter_i = _check_optimize_result(\n"
     ]
    },
    {
     "name": "stdout",
     "output_type": "stream",
     "text": [
      "LogisticRegression has been trained on part-00026-363d1ba3-8ab5-4f96-bc25-4d5862db7cb9-c000.csv\n",
      "Perceptron has been trained on part-00026-363d1ba3-8ab5-4f96-bc25-4d5862db7cb9-c000.csv\n",
      "AdaBoost has been trained on part-00026-363d1ba3-8ab5-4f96-bc25-4d5862db7cb9-c000.csv\n",
      "RandomForest has been trained on part-00026-363d1ba3-8ab5-4f96-bc25-4d5862db7cb9-c000.csv\n",
      "DecisionTree has been trained on part-00026-363d1ba3-8ab5-4f96-bc25-4d5862db7cb9-c000.csv\n"
     ]
    },
    {
     "name": "stderr",
     "output_type": "stream",
     "text": [
      " 20%|██████████████████████████▌                                                                                                          | 27/135 [47:43<3:46:30, 125.84s/it]/home/sc/0.DCU/00.Project/ML_based_IDS_for_IoT/project/env/lib/python3.10/site-packages/sklearn/linear_model/_logistic.py:460: ConvergenceWarning: lbfgs failed to converge (status=1):\n",
      "STOP: TOTAL NO. of ITERATIONS REACHED LIMIT.\n",
      "\n",
      "Increase the number of iterations (max_iter) or scale the data as shown in:\n",
      "    https://scikit-learn.org/stable/modules/preprocessing.html\n",
      "Please also refer to the documentation for alternative solver options:\n",
      "    https://scikit-learn.org/stable/modules/linear_model.html#logistic-regression\n",
      "  n_iter_i = _check_optimize_result(\n"
     ]
    },
    {
     "name": "stdout",
     "output_type": "stream",
     "text": [
      "LogisticRegression has been trained on part-00027-363d1ba3-8ab5-4f96-bc25-4d5862db7cb9-c000.csv\n",
      "Perceptron has been trained on part-00027-363d1ba3-8ab5-4f96-bc25-4d5862db7cb9-c000.csv\n",
      "AdaBoost has been trained on part-00027-363d1ba3-8ab5-4f96-bc25-4d5862db7cb9-c000.csv\n",
      "RandomForest has been trained on part-00027-363d1ba3-8ab5-4f96-bc25-4d5862db7cb9-c000.csv\n"
     ]
    },
    {
     "name": "stderr",
     "output_type": "stream",
     "text": [
      "\r",
      " 21%|███████████████████████████▌                                                                                                         | 28/135 [49:16<3:26:40, 115.89s/it]"
     ]
    },
    {
     "name": "stdout",
     "output_type": "stream",
     "text": [
      "DecisionTree has been trained on part-00027-363d1ba3-8ab5-4f96-bc25-4d5862db7cb9-c000.csv\n"
     ]
    },
    {
     "name": "stderr",
     "output_type": "stream",
     "text": [
      "/home/sc/0.DCU/00.Project/ML_based_IDS_for_IoT/project/env/lib/python3.10/site-packages/sklearn/linear_model/_logistic.py:460: ConvergenceWarning: lbfgs failed to converge (status=1):\n",
      "STOP: TOTAL NO. of ITERATIONS REACHED LIMIT.\n",
      "\n",
      "Increase the number of iterations (max_iter) or scale the data as shown in:\n",
      "    https://scikit-learn.org/stable/modules/preprocessing.html\n",
      "Please also refer to the documentation for alternative solver options:\n",
      "    https://scikit-learn.org/stable/modules/linear_model.html#logistic-regression\n",
      "  n_iter_i = _check_optimize_result(\n"
     ]
    },
    {
     "name": "stdout",
     "output_type": "stream",
     "text": [
      "LogisticRegression has been trained on part-00028-363d1ba3-8ab5-4f96-bc25-4d5862db7cb9-c000.csv\n",
      "Perceptron has been trained on part-00028-363d1ba3-8ab5-4f96-bc25-4d5862db7cb9-c000.csv\n",
      "AdaBoost has been trained on part-00028-363d1ba3-8ab5-4f96-bc25-4d5862db7cb9-c000.csv\n",
      "RandomForest has been trained on part-00028-363d1ba3-8ab5-4f96-bc25-4d5862db7cb9-c000.csv\n"
     ]
    },
    {
     "name": "stderr",
     "output_type": "stream",
     "text": [
      "\r",
      " 21%|████████████████████████████▌                                                                                                        | 29/135 [51:07<3:22:16, 114.49s/it]"
     ]
    },
    {
     "name": "stdout",
     "output_type": "stream",
     "text": [
      "DecisionTree has been trained on part-00028-363d1ba3-8ab5-4f96-bc25-4d5862db7cb9-c000.csv\n"
     ]
    },
    {
     "name": "stderr",
     "output_type": "stream",
     "text": [
      "/home/sc/0.DCU/00.Project/ML_based_IDS_for_IoT/project/env/lib/python3.10/site-packages/sklearn/linear_model/_logistic.py:460: ConvergenceWarning: lbfgs failed to converge (status=1):\n",
      "STOP: TOTAL NO. of ITERATIONS REACHED LIMIT.\n",
      "\n",
      "Increase the number of iterations (max_iter) or scale the data as shown in:\n",
      "    https://scikit-learn.org/stable/modules/preprocessing.html\n",
      "Please also refer to the documentation for alternative solver options:\n",
      "    https://scikit-learn.org/stable/modules/linear_model.html#logistic-regression\n",
      "  n_iter_i = _check_optimize_result(\n"
     ]
    },
    {
     "name": "stdout",
     "output_type": "stream",
     "text": [
      "LogisticRegression has been trained on part-00029-363d1ba3-8ab5-4f96-bc25-4d5862db7cb9-c000.csv\n",
      "Perceptron has been trained on part-00029-363d1ba3-8ab5-4f96-bc25-4d5862db7cb9-c000.csv\n",
      "AdaBoost has been trained on part-00029-363d1ba3-8ab5-4f96-bc25-4d5862db7cb9-c000.csv\n",
      "RandomForest has been trained on part-00029-363d1ba3-8ab5-4f96-bc25-4d5862db7cb9-c000.csv\n"
     ]
    },
    {
     "name": "stderr",
     "output_type": "stream",
     "text": [
      "\r",
      " 22%|█████████████████████████████▌                                                                                                       | 30/135 [52:57<3:18:10, 113.24s/it]"
     ]
    },
    {
     "name": "stdout",
     "output_type": "stream",
     "text": [
      "DecisionTree has been trained on part-00029-363d1ba3-8ab5-4f96-bc25-4d5862db7cb9-c000.csv\n"
     ]
    },
    {
     "name": "stderr",
     "output_type": "stream",
     "text": [
      "/home/sc/0.DCU/00.Project/ML_based_IDS_for_IoT/project/env/lib/python3.10/site-packages/sklearn/linear_model/_logistic.py:460: ConvergenceWarning: lbfgs failed to converge (status=1):\n",
      "STOP: TOTAL NO. of ITERATIONS REACHED LIMIT.\n",
      "\n",
      "Increase the number of iterations (max_iter) or scale the data as shown in:\n",
      "    https://scikit-learn.org/stable/modules/preprocessing.html\n",
      "Please also refer to the documentation for alternative solver options:\n",
      "    https://scikit-learn.org/stable/modules/linear_model.html#logistic-regression\n",
      "  n_iter_i = _check_optimize_result(\n"
     ]
    },
    {
     "name": "stdout",
     "output_type": "stream",
     "text": [
      "LogisticRegression has been trained on part-00030-363d1ba3-8ab5-4f96-bc25-4d5862db7cb9-c000.csv\n",
      "Perceptron has been trained on part-00030-363d1ba3-8ab5-4f96-bc25-4d5862db7cb9-c000.csv\n",
      "AdaBoost has been trained on part-00030-363d1ba3-8ab5-4f96-bc25-4d5862db7cb9-c000.csv\n",
      "RandomForest has been trained on part-00030-363d1ba3-8ab5-4f96-bc25-4d5862db7cb9-c000.csv\n"
     ]
    },
    {
     "name": "stderr",
     "output_type": "stream",
     "text": [
      "\r",
      " 23%|██████████████████████████████▌                                                                                                      | 31/135 [54:30<3:05:41, 107.13s/it]"
     ]
    },
    {
     "name": "stdout",
     "output_type": "stream",
     "text": [
      "DecisionTree has been trained on part-00030-363d1ba3-8ab5-4f96-bc25-4d5862db7cb9-c000.csv\n"
     ]
    },
    {
     "name": "stderr",
     "output_type": "stream",
     "text": [
      "/home/sc/0.DCU/00.Project/ML_based_IDS_for_IoT/project/env/lib/python3.10/site-packages/sklearn/linear_model/_logistic.py:460: ConvergenceWarning: lbfgs failed to converge (status=1):\n",
      "STOP: TOTAL NO. of ITERATIONS REACHED LIMIT.\n",
      "\n",
      "Increase the number of iterations (max_iter) or scale the data as shown in:\n",
      "    https://scikit-learn.org/stable/modules/preprocessing.html\n",
      "Please also refer to the documentation for alternative solver options:\n",
      "    https://scikit-learn.org/stable/modules/linear_model.html#logistic-regression\n",
      "  n_iter_i = _check_optimize_result(\n"
     ]
    },
    {
     "name": "stdout",
     "output_type": "stream",
     "text": [
      "LogisticRegression has been trained on part-00031-363d1ba3-8ab5-4f96-bc25-4d5862db7cb9-c000.csv\n",
      "Perceptron has been trained on part-00031-363d1ba3-8ab5-4f96-bc25-4d5862db7cb9-c000.csv\n",
      "AdaBoost has been trained on part-00031-363d1ba3-8ab5-4f96-bc25-4d5862db7cb9-c000.csv\n",
      "RandomForest has been trained on part-00031-363d1ba3-8ab5-4f96-bc25-4d5862db7cb9-c000.csv\n"
     ]
    },
    {
     "name": "stderr",
     "output_type": "stream",
     "text": [
      "\r",
      " 24%|███████████████████████████████▌                                                                                                     | 32/135 [56:08<2:59:27, 104.54s/it]"
     ]
    },
    {
     "name": "stdout",
     "output_type": "stream",
     "text": [
      "DecisionTree has been trained on part-00031-363d1ba3-8ab5-4f96-bc25-4d5862db7cb9-c000.csv\n"
     ]
    },
    {
     "name": "stderr",
     "output_type": "stream",
     "text": [
      "/home/sc/0.DCU/00.Project/ML_based_IDS_for_IoT/project/env/lib/python3.10/site-packages/sklearn/linear_model/_logistic.py:460: ConvergenceWarning: lbfgs failed to converge (status=1):\n",
      "STOP: TOTAL NO. of ITERATIONS REACHED LIMIT.\n",
      "\n",
      "Increase the number of iterations (max_iter) or scale the data as shown in:\n",
      "    https://scikit-learn.org/stable/modules/preprocessing.html\n",
      "Please also refer to the documentation for alternative solver options:\n",
      "    https://scikit-learn.org/stable/modules/linear_model.html#logistic-regression\n",
      "  n_iter_i = _check_optimize_result(\n"
     ]
    },
    {
     "name": "stdout",
     "output_type": "stream",
     "text": [
      "LogisticRegression has been trained on part-00032-363d1ba3-8ab5-4f96-bc25-4d5862db7cb9-c000.csv\n",
      "Perceptron has been trained on part-00032-363d1ba3-8ab5-4f96-bc25-4d5862db7cb9-c000.csv\n",
      "AdaBoost has been trained on part-00032-363d1ba3-8ab5-4f96-bc25-4d5862db7cb9-c000.csv\n",
      "RandomForest has been trained on part-00032-363d1ba3-8ab5-4f96-bc25-4d5862db7cb9-c000.csv\n",
      "DecisionTree has been trained on part-00032-363d1ba3-8ab5-4f96-bc25-4d5862db7cb9-c000.csv\n"
     ]
    },
    {
     "name": "stderr",
     "output_type": "stream",
     "text": [
      " 24%|████████████████████████████████▌                                                                                                    | 33/135 [57:49<2:55:29, 103.23s/it]/home/sc/0.DCU/00.Project/ML_based_IDS_for_IoT/project/env/lib/python3.10/site-packages/sklearn/linear_model/_logistic.py:460: ConvergenceWarning: lbfgs failed to converge (status=1):\n",
      "STOP: TOTAL NO. of ITERATIONS REACHED LIMIT.\n",
      "\n",
      "Increase the number of iterations (max_iter) or scale the data as shown in:\n",
      "    https://scikit-learn.org/stable/modules/preprocessing.html\n",
      "Please also refer to the documentation for alternative solver options:\n",
      "    https://scikit-learn.org/stable/modules/linear_model.html#logistic-regression\n",
      "  n_iter_i = _check_optimize_result(\n"
     ]
    },
    {
     "name": "stdout",
     "output_type": "stream",
     "text": [
      "LogisticRegression has been trained on part-00033-363d1ba3-8ab5-4f96-bc25-4d5862db7cb9-c000.csv\n",
      "Perceptron has been trained on part-00033-363d1ba3-8ab5-4f96-bc25-4d5862db7cb9-c000.csv\n",
      "AdaBoost has been trained on part-00033-363d1ba3-8ab5-4f96-bc25-4d5862db7cb9-c000.csv\n",
      "RandomForest has been trained on part-00033-363d1ba3-8ab5-4f96-bc25-4d5862db7cb9-c000.csv\n"
     ]
    },
    {
     "name": "stderr",
     "output_type": "stream",
     "text": [
      "\r",
      " 25%|████████████████████████████████▉                                                                                                  | 34/135 [1:01:05<3:40:53, 131.23s/it]"
     ]
    },
    {
     "name": "stdout",
     "output_type": "stream",
     "text": [
      "DecisionTree has been trained on part-00033-363d1ba3-8ab5-4f96-bc25-4d5862db7cb9-c000.csv\n"
     ]
    },
    {
     "name": "stderr",
     "output_type": "stream",
     "text": [
      "/home/sc/0.DCU/00.Project/ML_based_IDS_for_IoT/project/env/lib/python3.10/site-packages/sklearn/linear_model/_logistic.py:460: ConvergenceWarning: lbfgs failed to converge (status=1):\n",
      "STOP: TOTAL NO. of ITERATIONS REACHED LIMIT.\n",
      "\n",
      "Increase the number of iterations (max_iter) or scale the data as shown in:\n",
      "    https://scikit-learn.org/stable/modules/preprocessing.html\n",
      "Please also refer to the documentation for alternative solver options:\n",
      "    https://scikit-learn.org/stable/modules/linear_model.html#logistic-regression\n",
      "  n_iter_i = _check_optimize_result(\n"
     ]
    },
    {
     "name": "stdout",
     "output_type": "stream",
     "text": [
      "LogisticRegression has been trained on part-00034-363d1ba3-8ab5-4f96-bc25-4d5862db7cb9-c000.csv\n",
      "Perceptron has been trained on part-00034-363d1ba3-8ab5-4f96-bc25-4d5862db7cb9-c000.csv\n",
      "AdaBoost has been trained on part-00034-363d1ba3-8ab5-4f96-bc25-4d5862db7cb9-c000.csv\n",
      "RandomForest has been trained on part-00034-363d1ba3-8ab5-4f96-bc25-4d5862db7cb9-c000.csv\n"
     ]
    },
    {
     "name": "stderr",
     "output_type": "stream",
     "text": [
      "\r",
      " 26%|█████████████████████████████████▉                                                                                                 | 35/135 [1:02:42<3:21:29, 120.90s/it]"
     ]
    },
    {
     "name": "stdout",
     "output_type": "stream",
     "text": [
      "DecisionTree has been trained on part-00034-363d1ba3-8ab5-4f96-bc25-4d5862db7cb9-c000.csv\n"
     ]
    },
    {
     "name": "stderr",
     "output_type": "stream",
     "text": [
      "/home/sc/0.DCU/00.Project/ML_based_IDS_for_IoT/project/env/lib/python3.10/site-packages/sklearn/linear_model/_logistic.py:460: ConvergenceWarning: lbfgs failed to converge (status=1):\n",
      "STOP: TOTAL NO. of ITERATIONS REACHED LIMIT.\n",
      "\n",
      "Increase the number of iterations (max_iter) or scale the data as shown in:\n",
      "    https://scikit-learn.org/stable/modules/preprocessing.html\n",
      "Please also refer to the documentation for alternative solver options:\n",
      "    https://scikit-learn.org/stable/modules/linear_model.html#logistic-regression\n",
      "  n_iter_i = _check_optimize_result(\n"
     ]
    },
    {
     "name": "stdout",
     "output_type": "stream",
     "text": [
      "LogisticRegression has been trained on part-00035-363d1ba3-8ab5-4f96-bc25-4d5862db7cb9-c000.csv\n",
      "Perceptron has been trained on part-00035-363d1ba3-8ab5-4f96-bc25-4d5862db7cb9-c000.csv\n",
      "AdaBoost has been trained on part-00035-363d1ba3-8ab5-4f96-bc25-4d5862db7cb9-c000.csv\n",
      "RandomForest has been trained on part-00035-363d1ba3-8ab5-4f96-bc25-4d5862db7cb9-c000.csv\n"
     ]
    },
    {
     "name": "stderr",
     "output_type": "stream",
     "text": [
      "\r",
      " 27%|██████████████████████████████████▉                                                                                                | 36/135 [1:04:31<3:13:40, 117.38s/it]"
     ]
    },
    {
     "name": "stdout",
     "output_type": "stream",
     "text": [
      "DecisionTree has been trained on part-00035-363d1ba3-8ab5-4f96-bc25-4d5862db7cb9-c000.csv\n"
     ]
    },
    {
     "name": "stderr",
     "output_type": "stream",
     "text": [
      "/home/sc/0.DCU/00.Project/ML_based_IDS_for_IoT/project/env/lib/python3.10/site-packages/sklearn/linear_model/_logistic.py:460: ConvergenceWarning: lbfgs failed to converge (status=1):\n",
      "STOP: TOTAL NO. of ITERATIONS REACHED LIMIT.\n",
      "\n",
      "Increase the number of iterations (max_iter) or scale the data as shown in:\n",
      "    https://scikit-learn.org/stable/modules/preprocessing.html\n",
      "Please also refer to the documentation for alternative solver options:\n",
      "    https://scikit-learn.org/stable/modules/linear_model.html#logistic-regression\n",
      "  n_iter_i = _check_optimize_result(\n"
     ]
    },
    {
     "name": "stdout",
     "output_type": "stream",
     "text": [
      "LogisticRegression has been trained on part-00036-363d1ba3-8ab5-4f96-bc25-4d5862db7cb9-c000.csv\n",
      "Perceptron has been trained on part-00036-363d1ba3-8ab5-4f96-bc25-4d5862db7cb9-c000.csv\n",
      "AdaBoost has been trained on part-00036-363d1ba3-8ab5-4f96-bc25-4d5862db7cb9-c000.csv\n",
      "RandomForest has been trained on part-00036-363d1ba3-8ab5-4f96-bc25-4d5862db7cb9-c000.csv\n"
     ]
    },
    {
     "name": "stderr",
     "output_type": "stream",
     "text": [
      "\r",
      " 27%|███████████████████████████████████▉                                                                                               | 37/135 [1:07:41<3:47:07, 139.06s/it]"
     ]
    },
    {
     "name": "stdout",
     "output_type": "stream",
     "text": [
      "DecisionTree has been trained on part-00036-363d1ba3-8ab5-4f96-bc25-4d5862db7cb9-c000.csv\n"
     ]
    },
    {
     "name": "stderr",
     "output_type": "stream",
     "text": [
      "/home/sc/0.DCU/00.Project/ML_based_IDS_for_IoT/project/env/lib/python3.10/site-packages/sklearn/linear_model/_logistic.py:460: ConvergenceWarning: lbfgs failed to converge (status=1):\n",
      "STOP: TOTAL NO. of ITERATIONS REACHED LIMIT.\n",
      "\n",
      "Increase the number of iterations (max_iter) or scale the data as shown in:\n",
      "    https://scikit-learn.org/stable/modules/preprocessing.html\n",
      "Please also refer to the documentation for alternative solver options:\n",
      "    https://scikit-learn.org/stable/modules/linear_model.html#logistic-regression\n",
      "  n_iter_i = _check_optimize_result(\n"
     ]
    },
    {
     "name": "stdout",
     "output_type": "stream",
     "text": [
      "LogisticRegression has been trained on part-00037-363d1ba3-8ab5-4f96-bc25-4d5862db7cb9-c000.csv\n",
      "Perceptron has been trained on part-00037-363d1ba3-8ab5-4f96-bc25-4d5862db7cb9-c000.csv\n",
      "AdaBoost has been trained on part-00037-363d1ba3-8ab5-4f96-bc25-4d5862db7cb9-c000.csv\n",
      "RandomForest has been trained on part-00037-363d1ba3-8ab5-4f96-bc25-4d5862db7cb9-c000.csv\n"
     ]
    },
    {
     "name": "stderr",
     "output_type": "stream",
     "text": [
      "\r",
      " 28%|████████████████████████████████████▊                                                                                              | 38/135 [1:08:57<3:14:18, 120.19s/it]"
     ]
    },
    {
     "name": "stdout",
     "output_type": "stream",
     "text": [
      "DecisionTree has been trained on part-00037-363d1ba3-8ab5-4f96-bc25-4d5862db7cb9-c000.csv\n"
     ]
    },
    {
     "name": "stderr",
     "output_type": "stream",
     "text": [
      "/home/sc/0.DCU/00.Project/ML_based_IDS_for_IoT/project/env/lib/python3.10/site-packages/sklearn/linear_model/_logistic.py:460: ConvergenceWarning: lbfgs failed to converge (status=1):\n",
      "STOP: TOTAL NO. of ITERATIONS REACHED LIMIT.\n",
      "\n",
      "Increase the number of iterations (max_iter) or scale the data as shown in:\n",
      "    https://scikit-learn.org/stable/modules/preprocessing.html\n",
      "Please also refer to the documentation for alternative solver options:\n",
      "    https://scikit-learn.org/stable/modules/linear_model.html#logistic-regression\n",
      "  n_iter_i = _check_optimize_result(\n"
     ]
    },
    {
     "name": "stdout",
     "output_type": "stream",
     "text": [
      "LogisticRegression has been trained on part-00038-363d1ba3-8ab5-4f96-bc25-4d5862db7cb9-c000.csv\n",
      "Perceptron has been trained on part-00038-363d1ba3-8ab5-4f96-bc25-4d5862db7cb9-c000.csv\n",
      "AdaBoost has been trained on part-00038-363d1ba3-8ab5-4f96-bc25-4d5862db7cb9-c000.csv\n",
      "RandomForest has been trained on part-00038-363d1ba3-8ab5-4f96-bc25-4d5862db7cb9-c000.csv\n"
     ]
    },
    {
     "name": "stderr",
     "output_type": "stream",
     "text": [
      "\r",
      " 29%|█████████████████████████████████████▊                                                                                             | 39/135 [1:10:23<2:56:05, 110.06s/it]"
     ]
    },
    {
     "name": "stdout",
     "output_type": "stream",
     "text": [
      "DecisionTree has been trained on part-00038-363d1ba3-8ab5-4f96-bc25-4d5862db7cb9-c000.csv\n"
     ]
    },
    {
     "name": "stderr",
     "output_type": "stream",
     "text": [
      "/home/sc/0.DCU/00.Project/ML_based_IDS_for_IoT/project/env/lib/python3.10/site-packages/sklearn/linear_model/_logistic.py:460: ConvergenceWarning: lbfgs failed to converge (status=1):\n",
      "STOP: TOTAL NO. of ITERATIONS REACHED LIMIT.\n",
      "\n",
      "Increase the number of iterations (max_iter) or scale the data as shown in:\n",
      "    https://scikit-learn.org/stable/modules/preprocessing.html\n",
      "Please also refer to the documentation for alternative solver options:\n",
      "    https://scikit-learn.org/stable/modules/linear_model.html#logistic-regression\n",
      "  n_iter_i = _check_optimize_result(\n"
     ]
    },
    {
     "name": "stdout",
     "output_type": "stream",
     "text": [
      "LogisticRegression has been trained on part-00039-363d1ba3-8ab5-4f96-bc25-4d5862db7cb9-c000.csv\n",
      "Perceptron has been trained on part-00039-363d1ba3-8ab5-4f96-bc25-4d5862db7cb9-c000.csv\n",
      "AdaBoost has been trained on part-00039-363d1ba3-8ab5-4f96-bc25-4d5862db7cb9-c000.csv\n",
      "RandomForest has been trained on part-00039-363d1ba3-8ab5-4f96-bc25-4d5862db7cb9-c000.csv\n"
     ]
    },
    {
     "name": "stderr",
     "output_type": "stream",
     "text": [
      "\r",
      " 30%|██████████████████████████████████████▊                                                                                            | 40/135 [1:13:06<3:19:04, 125.73s/it]"
     ]
    },
    {
     "name": "stdout",
     "output_type": "stream",
     "text": [
      "DecisionTree has been trained on part-00039-363d1ba3-8ab5-4f96-bc25-4d5862db7cb9-c000.csv\n"
     ]
    },
    {
     "name": "stderr",
     "output_type": "stream",
     "text": [
      "/home/sc/0.DCU/00.Project/ML_based_IDS_for_IoT/project/env/lib/python3.10/site-packages/sklearn/linear_model/_logistic.py:460: ConvergenceWarning: lbfgs failed to converge (status=1):\n",
      "STOP: TOTAL NO. of ITERATIONS REACHED LIMIT.\n",
      "\n",
      "Increase the number of iterations (max_iter) or scale the data as shown in:\n",
      "    https://scikit-learn.org/stable/modules/preprocessing.html\n",
      "Please also refer to the documentation for alternative solver options:\n",
      "    https://scikit-learn.org/stable/modules/linear_model.html#logistic-regression\n",
      "  n_iter_i = _check_optimize_result(\n"
     ]
    },
    {
     "name": "stdout",
     "output_type": "stream",
     "text": [
      "LogisticRegression has been trained on part-00040-363d1ba3-8ab5-4f96-bc25-4d5862db7cb9-c000.csv\n",
      "Perceptron has been trained on part-00040-363d1ba3-8ab5-4f96-bc25-4d5862db7cb9-c000.csv\n",
      "AdaBoost has been trained on part-00040-363d1ba3-8ab5-4f96-bc25-4d5862db7cb9-c000.csv\n",
      "RandomForest has been trained on part-00040-363d1ba3-8ab5-4f96-bc25-4d5862db7cb9-c000.csv\n"
     ]
    },
    {
     "name": "stderr",
     "output_type": "stream",
     "text": [
      "\r",
      " 30%|███████████████████████████████████████▊                                                                                           | 41/135 [1:14:28<2:56:28, 112.64s/it]"
     ]
    },
    {
     "name": "stdout",
     "output_type": "stream",
     "text": [
      "DecisionTree has been trained on part-00040-363d1ba3-8ab5-4f96-bc25-4d5862db7cb9-c000.csv\n"
     ]
    },
    {
     "name": "stderr",
     "output_type": "stream",
     "text": [
      "/home/sc/0.DCU/00.Project/ML_based_IDS_for_IoT/project/env/lib/python3.10/site-packages/sklearn/linear_model/_logistic.py:460: ConvergenceWarning: lbfgs failed to converge (status=1):\n",
      "STOP: TOTAL NO. of ITERATIONS REACHED LIMIT.\n",
      "\n",
      "Increase the number of iterations (max_iter) or scale the data as shown in:\n",
      "    https://scikit-learn.org/stable/modules/preprocessing.html\n",
      "Please also refer to the documentation for alternative solver options:\n",
      "    https://scikit-learn.org/stable/modules/linear_model.html#logistic-regression\n",
      "  n_iter_i = _check_optimize_result(\n"
     ]
    },
    {
     "name": "stdout",
     "output_type": "stream",
     "text": [
      "LogisticRegression has been trained on part-00041-363d1ba3-8ab5-4f96-bc25-4d5862db7cb9-c000.csv\n",
      "Perceptron has been trained on part-00041-363d1ba3-8ab5-4f96-bc25-4d5862db7cb9-c000.csv\n",
      "AdaBoost has been trained on part-00041-363d1ba3-8ab5-4f96-bc25-4d5862db7cb9-c000.csv\n",
      "RandomForest has been trained on part-00041-363d1ba3-8ab5-4f96-bc25-4d5862db7cb9-c000.csv\n"
     ]
    },
    {
     "name": "stderr",
     "output_type": "stream",
     "text": [
      "\r",
      " 31%|████████████████████████████████████████▊                                                                                          | 42/135 [1:17:16<3:20:15, 129.19s/it]"
     ]
    },
    {
     "name": "stdout",
     "output_type": "stream",
     "text": [
      "DecisionTree has been trained on part-00041-363d1ba3-8ab5-4f96-bc25-4d5862db7cb9-c000.csv\n"
     ]
    },
    {
     "name": "stderr",
     "output_type": "stream",
     "text": [
      "/home/sc/0.DCU/00.Project/ML_based_IDS_for_IoT/project/env/lib/python3.10/site-packages/sklearn/linear_model/_logistic.py:460: ConvergenceWarning: lbfgs failed to converge (status=1):\n",
      "STOP: TOTAL NO. of ITERATIONS REACHED LIMIT.\n",
      "\n",
      "Increase the number of iterations (max_iter) or scale the data as shown in:\n",
      "    https://scikit-learn.org/stable/modules/preprocessing.html\n",
      "Please also refer to the documentation for alternative solver options:\n",
      "    https://scikit-learn.org/stable/modules/linear_model.html#logistic-regression\n",
      "  n_iter_i = _check_optimize_result(\n"
     ]
    },
    {
     "name": "stdout",
     "output_type": "stream",
     "text": [
      "LogisticRegression has been trained on part-00042-363d1ba3-8ab5-4f96-bc25-4d5862db7cb9-c000.csv\n",
      "Perceptron has been trained on part-00042-363d1ba3-8ab5-4f96-bc25-4d5862db7cb9-c000.csv\n",
      "AdaBoost has been trained on part-00042-363d1ba3-8ab5-4f96-bc25-4d5862db7cb9-c000.csv\n",
      "RandomForest has been trained on part-00042-363d1ba3-8ab5-4f96-bc25-4d5862db7cb9-c000.csv\n"
     ]
    },
    {
     "name": "stderr",
     "output_type": "stream",
     "text": [
      "\r",
      " 32%|█████████████████████████████████████████▋                                                                                         | 43/135 [1:18:35<2:55:09, 114.23s/it]"
     ]
    },
    {
     "name": "stdout",
     "output_type": "stream",
     "text": [
      "DecisionTree has been trained on part-00042-363d1ba3-8ab5-4f96-bc25-4d5862db7cb9-c000.csv\n"
     ]
    },
    {
     "name": "stderr",
     "output_type": "stream",
     "text": [
      "/home/sc/0.DCU/00.Project/ML_based_IDS_for_IoT/project/env/lib/python3.10/site-packages/sklearn/linear_model/_logistic.py:460: ConvergenceWarning: lbfgs failed to converge (status=1):\n",
      "STOP: TOTAL NO. of ITERATIONS REACHED LIMIT.\n",
      "\n",
      "Increase the number of iterations (max_iter) or scale the data as shown in:\n",
      "    https://scikit-learn.org/stable/modules/preprocessing.html\n",
      "Please also refer to the documentation for alternative solver options:\n",
      "    https://scikit-learn.org/stable/modules/linear_model.html#logistic-regression\n",
      "  n_iter_i = _check_optimize_result(\n"
     ]
    },
    {
     "name": "stdout",
     "output_type": "stream",
     "text": [
      "LogisticRegression has been trained on part-00043-363d1ba3-8ab5-4f96-bc25-4d5862db7cb9-c000.csv\n",
      "Perceptron has been trained on part-00043-363d1ba3-8ab5-4f96-bc25-4d5862db7cb9-c000.csv\n",
      "AdaBoost has been trained on part-00043-363d1ba3-8ab5-4f96-bc25-4d5862db7cb9-c000.csv\n",
      "RandomForest has been trained on part-00043-363d1ba3-8ab5-4f96-bc25-4d5862db7cb9-c000.csv\n"
     ]
    },
    {
     "name": "stderr",
     "output_type": "stream",
     "text": [
      "\r",
      " 33%|██████████████████████████████████████████▋                                                                                        | 44/135 [1:20:08<2:43:26, 107.77s/it]"
     ]
    },
    {
     "name": "stdout",
     "output_type": "stream",
     "text": [
      "DecisionTree has been trained on part-00043-363d1ba3-8ab5-4f96-bc25-4d5862db7cb9-c000.csv\n"
     ]
    },
    {
     "name": "stderr",
     "output_type": "stream",
     "text": [
      "/home/sc/0.DCU/00.Project/ML_based_IDS_for_IoT/project/env/lib/python3.10/site-packages/sklearn/linear_model/_logistic.py:460: ConvergenceWarning: lbfgs failed to converge (status=1):\n",
      "STOP: TOTAL NO. of ITERATIONS REACHED LIMIT.\n",
      "\n",
      "Increase the number of iterations (max_iter) or scale the data as shown in:\n",
      "    https://scikit-learn.org/stable/modules/preprocessing.html\n",
      "Please also refer to the documentation for alternative solver options:\n",
      "    https://scikit-learn.org/stable/modules/linear_model.html#logistic-regression\n",
      "  n_iter_i = _check_optimize_result(\n"
     ]
    },
    {
     "name": "stdout",
     "output_type": "stream",
     "text": [
      "LogisticRegression has been trained on part-00044-363d1ba3-8ab5-4f96-bc25-4d5862db7cb9-c000.csv\n",
      "Perceptron has been trained on part-00044-363d1ba3-8ab5-4f96-bc25-4d5862db7cb9-c000.csv\n",
      "AdaBoost has been trained on part-00044-363d1ba3-8ab5-4f96-bc25-4d5862db7cb9-c000.csv\n",
      "RandomForest has been trained on part-00044-363d1ba3-8ab5-4f96-bc25-4d5862db7cb9-c000.csv\n"
     ]
    },
    {
     "name": "stderr",
     "output_type": "stream",
     "text": [
      "\r",
      " 33%|███████████████████████████████████████████▋                                                                                       | 45/135 [1:21:30<2:30:01, 100.02s/it]"
     ]
    },
    {
     "name": "stdout",
     "output_type": "stream",
     "text": [
      "DecisionTree has been trained on part-00044-363d1ba3-8ab5-4f96-bc25-4d5862db7cb9-c000.csv\n"
     ]
    },
    {
     "name": "stderr",
     "output_type": "stream",
     "text": [
      "/home/sc/0.DCU/00.Project/ML_based_IDS_for_IoT/project/env/lib/python3.10/site-packages/sklearn/linear_model/_logistic.py:460: ConvergenceWarning: lbfgs failed to converge (status=1):\n",
      "STOP: TOTAL NO. of ITERATIONS REACHED LIMIT.\n",
      "\n",
      "Increase the number of iterations (max_iter) or scale the data as shown in:\n",
      "    https://scikit-learn.org/stable/modules/preprocessing.html\n",
      "Please also refer to the documentation for alternative solver options:\n",
      "    https://scikit-learn.org/stable/modules/linear_model.html#logistic-regression\n",
      "  n_iter_i = _check_optimize_result(\n"
     ]
    },
    {
     "name": "stdout",
     "output_type": "stream",
     "text": [
      "LogisticRegression has been trained on part-00045-363d1ba3-8ab5-4f96-bc25-4d5862db7cb9-c000.csv\n",
      "Perceptron has been trained on part-00045-363d1ba3-8ab5-4f96-bc25-4d5862db7cb9-c000.csv\n",
      "AdaBoost has been trained on part-00045-363d1ba3-8ab5-4f96-bc25-4d5862db7cb9-c000.csv\n",
      "RandomForest has been trained on part-00045-363d1ba3-8ab5-4f96-bc25-4d5862db7cb9-c000.csv\n"
     ]
    },
    {
     "name": "stderr",
     "output_type": "stream",
     "text": [
      "\r",
      " 34%|████████████████████████████████████████████▉                                                                                       | 46/135 [1:22:51<2:19:54, 94.32s/it]"
     ]
    },
    {
     "name": "stdout",
     "output_type": "stream",
     "text": [
      "DecisionTree has been trained on part-00045-363d1ba3-8ab5-4f96-bc25-4d5862db7cb9-c000.csv\n"
     ]
    },
    {
     "name": "stderr",
     "output_type": "stream",
     "text": [
      "/home/sc/0.DCU/00.Project/ML_based_IDS_for_IoT/project/env/lib/python3.10/site-packages/sklearn/linear_model/_logistic.py:460: ConvergenceWarning: lbfgs failed to converge (status=1):\n",
      "STOP: TOTAL NO. of ITERATIONS REACHED LIMIT.\n",
      "\n",
      "Increase the number of iterations (max_iter) or scale the data as shown in:\n",
      "    https://scikit-learn.org/stable/modules/preprocessing.html\n",
      "Please also refer to the documentation for alternative solver options:\n",
      "    https://scikit-learn.org/stable/modules/linear_model.html#logistic-regression\n",
      "  n_iter_i = _check_optimize_result(\n"
     ]
    },
    {
     "name": "stdout",
     "output_type": "stream",
     "text": [
      "LogisticRegression has been trained on part-00046-363d1ba3-8ab5-4f96-bc25-4d5862db7cb9-c000.csv\n",
      "Perceptron has been trained on part-00046-363d1ba3-8ab5-4f96-bc25-4d5862db7cb9-c000.csv\n",
      "AdaBoost has been trained on part-00046-363d1ba3-8ab5-4f96-bc25-4d5862db7cb9-c000.csv\n",
      "RandomForest has been trained on part-00046-363d1ba3-8ab5-4f96-bc25-4d5862db7cb9-c000.csv\n"
     ]
    },
    {
     "name": "stderr",
     "output_type": "stream",
     "text": [
      "\r",
      " 35%|█████████████████████████████████████████████▉                                                                                      | 47/135 [1:24:24<2:17:45, 93.92s/it]"
     ]
    },
    {
     "name": "stdout",
     "output_type": "stream",
     "text": [
      "DecisionTree has been trained on part-00046-363d1ba3-8ab5-4f96-bc25-4d5862db7cb9-c000.csv\n"
     ]
    },
    {
     "name": "stderr",
     "output_type": "stream",
     "text": [
      "/home/sc/0.DCU/00.Project/ML_based_IDS_for_IoT/project/env/lib/python3.10/site-packages/sklearn/linear_model/_logistic.py:460: ConvergenceWarning: lbfgs failed to converge (status=1):\n",
      "STOP: TOTAL NO. of ITERATIONS REACHED LIMIT.\n",
      "\n",
      "Increase the number of iterations (max_iter) or scale the data as shown in:\n",
      "    https://scikit-learn.org/stable/modules/preprocessing.html\n",
      "Please also refer to the documentation for alternative solver options:\n",
      "    https://scikit-learn.org/stable/modules/linear_model.html#logistic-regression\n",
      "  n_iter_i = _check_optimize_result(\n"
     ]
    },
    {
     "name": "stdout",
     "output_type": "stream",
     "text": [
      "LogisticRegression has been trained on part-00047-363d1ba3-8ab5-4f96-bc25-4d5862db7cb9-c000.csv\n",
      "Perceptron has been trained on part-00047-363d1ba3-8ab5-4f96-bc25-4d5862db7cb9-c000.csv\n",
      "AdaBoost has been trained on part-00047-363d1ba3-8ab5-4f96-bc25-4d5862db7cb9-c000.csv\n",
      "RandomForest has been trained on part-00047-363d1ba3-8ab5-4f96-bc25-4d5862db7cb9-c000.csv\n"
     ]
    },
    {
     "name": "stderr",
     "output_type": "stream",
     "text": [
      "\r",
      " 36%|██████████████████████████████████████████████▉                                                                                     | 48/135 [1:25:47<2:11:45, 90.86s/it]"
     ]
    },
    {
     "name": "stdout",
     "output_type": "stream",
     "text": [
      "DecisionTree has been trained on part-00047-363d1ba3-8ab5-4f96-bc25-4d5862db7cb9-c000.csv\n"
     ]
    },
    {
     "name": "stderr",
     "output_type": "stream",
     "text": [
      "/home/sc/0.DCU/00.Project/ML_based_IDS_for_IoT/project/env/lib/python3.10/site-packages/sklearn/linear_model/_logistic.py:460: ConvergenceWarning: lbfgs failed to converge (status=1):\n",
      "STOP: TOTAL NO. of ITERATIONS REACHED LIMIT.\n",
      "\n",
      "Increase the number of iterations (max_iter) or scale the data as shown in:\n",
      "    https://scikit-learn.org/stable/modules/preprocessing.html\n",
      "Please also refer to the documentation for alternative solver options:\n",
      "    https://scikit-learn.org/stable/modules/linear_model.html#logistic-regression\n",
      "  n_iter_i = _check_optimize_result(\n"
     ]
    },
    {
     "name": "stdout",
     "output_type": "stream",
     "text": [
      "LogisticRegression has been trained on part-00048-363d1ba3-8ab5-4f96-bc25-4d5862db7cb9-c000.csv\n",
      "Perceptron has been trained on part-00048-363d1ba3-8ab5-4f96-bc25-4d5862db7cb9-c000.csv\n",
      "AdaBoost has been trained on part-00048-363d1ba3-8ab5-4f96-bc25-4d5862db7cb9-c000.csv\n",
      "RandomForest has been trained on part-00048-363d1ba3-8ab5-4f96-bc25-4d5862db7cb9-c000.csv\n"
     ]
    },
    {
     "name": "stderr",
     "output_type": "stream",
     "text": [
      "\r",
      " 36%|███████████████████████████████████████████████▉                                                                                    | 49/135 [1:27:04<2:04:05, 86.58s/it]"
     ]
    },
    {
     "name": "stdout",
     "output_type": "stream",
     "text": [
      "DecisionTree has been trained on part-00048-363d1ba3-8ab5-4f96-bc25-4d5862db7cb9-c000.csv\n"
     ]
    },
    {
     "name": "stderr",
     "output_type": "stream",
     "text": [
      "/home/sc/0.DCU/00.Project/ML_based_IDS_for_IoT/project/env/lib/python3.10/site-packages/sklearn/linear_model/_logistic.py:460: ConvergenceWarning: lbfgs failed to converge (status=1):\n",
      "STOP: TOTAL NO. of ITERATIONS REACHED LIMIT.\n",
      "\n",
      "Increase the number of iterations (max_iter) or scale the data as shown in:\n",
      "    https://scikit-learn.org/stable/modules/preprocessing.html\n",
      "Please also refer to the documentation for alternative solver options:\n",
      "    https://scikit-learn.org/stable/modules/linear_model.html#logistic-regression\n",
      "  n_iter_i = _check_optimize_result(\n"
     ]
    },
    {
     "name": "stdout",
     "output_type": "stream",
     "text": [
      "LogisticRegression has been trained on part-00049-363d1ba3-8ab5-4f96-bc25-4d5862db7cb9-c000.csv\n",
      "Perceptron has been trained on part-00049-363d1ba3-8ab5-4f96-bc25-4d5862db7cb9-c000.csv\n",
      "AdaBoost has been trained on part-00049-363d1ba3-8ab5-4f96-bc25-4d5862db7cb9-c000.csv\n",
      "RandomForest has been trained on part-00049-363d1ba3-8ab5-4f96-bc25-4d5862db7cb9-c000.csv\n"
     ]
    },
    {
     "name": "stderr",
     "output_type": "stream",
     "text": [
      "\r",
      " 37%|████████████████████████████████████████████████▉                                                                                   | 50/135 [1:28:29<2:02:02, 86.15s/it]"
     ]
    },
    {
     "name": "stdout",
     "output_type": "stream",
     "text": [
      "DecisionTree has been trained on part-00049-363d1ba3-8ab5-4f96-bc25-4d5862db7cb9-c000.csv\n"
     ]
    },
    {
     "name": "stderr",
     "output_type": "stream",
     "text": [
      "/home/sc/0.DCU/00.Project/ML_based_IDS_for_IoT/project/env/lib/python3.10/site-packages/sklearn/linear_model/_logistic.py:460: ConvergenceWarning: lbfgs failed to converge (status=1):\n",
      "STOP: TOTAL NO. of ITERATIONS REACHED LIMIT.\n",
      "\n",
      "Increase the number of iterations (max_iter) or scale the data as shown in:\n",
      "    https://scikit-learn.org/stable/modules/preprocessing.html\n",
      "Please also refer to the documentation for alternative solver options:\n",
      "    https://scikit-learn.org/stable/modules/linear_model.html#logistic-regression\n",
      "  n_iter_i = _check_optimize_result(\n"
     ]
    },
    {
     "name": "stdout",
     "output_type": "stream",
     "text": [
      "LogisticRegression has been trained on part-00050-363d1ba3-8ab5-4f96-bc25-4d5862db7cb9-c000.csv\n",
      "Perceptron has been trained on part-00050-363d1ba3-8ab5-4f96-bc25-4d5862db7cb9-c000.csv\n",
      "AdaBoost has been trained on part-00050-363d1ba3-8ab5-4f96-bc25-4d5862db7cb9-c000.csv\n",
      "RandomForest has been trained on part-00050-363d1ba3-8ab5-4f96-bc25-4d5862db7cb9-c000.csv\n"
     ]
    },
    {
     "name": "stderr",
     "output_type": "stream",
     "text": [
      "\r",
      " 38%|█████████████████████████████████████████████████▊                                                                                  | 51/135 [1:29:55<2:00:22, 85.99s/it]"
     ]
    },
    {
     "name": "stdout",
     "output_type": "stream",
     "text": [
      "DecisionTree has been trained on part-00050-363d1ba3-8ab5-4f96-bc25-4d5862db7cb9-c000.csv\n"
     ]
    },
    {
     "name": "stderr",
     "output_type": "stream",
     "text": [
      "/home/sc/0.DCU/00.Project/ML_based_IDS_for_IoT/project/env/lib/python3.10/site-packages/sklearn/linear_model/_logistic.py:460: ConvergenceWarning: lbfgs failed to converge (status=1):\n",
      "STOP: TOTAL NO. of ITERATIONS REACHED LIMIT.\n",
      "\n",
      "Increase the number of iterations (max_iter) or scale the data as shown in:\n",
      "    https://scikit-learn.org/stable/modules/preprocessing.html\n",
      "Please also refer to the documentation for alternative solver options:\n",
      "    https://scikit-learn.org/stable/modules/linear_model.html#logistic-regression\n",
      "  n_iter_i = _check_optimize_result(\n"
     ]
    },
    {
     "name": "stdout",
     "output_type": "stream",
     "text": [
      "LogisticRegression has been trained on part-00051-363d1ba3-8ab5-4f96-bc25-4d5862db7cb9-c000.csv\n",
      "Perceptron has been trained on part-00051-363d1ba3-8ab5-4f96-bc25-4d5862db7cb9-c000.csv\n",
      "AdaBoost has been trained on part-00051-363d1ba3-8ab5-4f96-bc25-4d5862db7cb9-c000.csv\n",
      "RandomForest has been trained on part-00051-363d1ba3-8ab5-4f96-bc25-4d5862db7cb9-c000.csv\n"
     ]
    },
    {
     "name": "stderr",
     "output_type": "stream",
     "text": [
      "\r",
      " 39%|██████████████████████████████████████████████████▊                                                                                 | 52/135 [1:31:22<1:59:37, 86.47s/it]"
     ]
    },
    {
     "name": "stdout",
     "output_type": "stream",
     "text": [
      "DecisionTree has been trained on part-00051-363d1ba3-8ab5-4f96-bc25-4d5862db7cb9-c000.csv\n"
     ]
    },
    {
     "name": "stderr",
     "output_type": "stream",
     "text": [
      "/home/sc/0.DCU/00.Project/ML_based_IDS_for_IoT/project/env/lib/python3.10/site-packages/sklearn/linear_model/_logistic.py:460: ConvergenceWarning: lbfgs failed to converge (status=1):\n",
      "STOP: TOTAL NO. of ITERATIONS REACHED LIMIT.\n",
      "\n",
      "Increase the number of iterations (max_iter) or scale the data as shown in:\n",
      "    https://scikit-learn.org/stable/modules/preprocessing.html\n",
      "Please also refer to the documentation for alternative solver options:\n",
      "    https://scikit-learn.org/stable/modules/linear_model.html#logistic-regression\n",
      "  n_iter_i = _check_optimize_result(\n"
     ]
    },
    {
     "name": "stdout",
     "output_type": "stream",
     "text": [
      "LogisticRegression has been trained on part-00052-363d1ba3-8ab5-4f96-bc25-4d5862db7cb9-c000.csv\n",
      "Perceptron has been trained on part-00052-363d1ba3-8ab5-4f96-bc25-4d5862db7cb9-c000.csv\n",
      "AdaBoost has been trained on part-00052-363d1ba3-8ab5-4f96-bc25-4d5862db7cb9-c000.csv\n",
      "RandomForest has been trained on part-00052-363d1ba3-8ab5-4f96-bc25-4d5862db7cb9-c000.csv\n"
     ]
    },
    {
     "name": "stderr",
     "output_type": "stream",
     "text": [
      "\r",
      " 39%|███████████████████████████████████████████████████▍                                                                               | 53/135 [1:34:05<2:29:17, 109.24s/it]"
     ]
    },
    {
     "name": "stdout",
     "output_type": "stream",
     "text": [
      "DecisionTree has been trained on part-00052-363d1ba3-8ab5-4f96-bc25-4d5862db7cb9-c000.csv\n"
     ]
    },
    {
     "name": "stderr",
     "output_type": "stream",
     "text": [
      "/home/sc/0.DCU/00.Project/ML_based_IDS_for_IoT/project/env/lib/python3.10/site-packages/sklearn/linear_model/_logistic.py:460: ConvergenceWarning: lbfgs failed to converge (status=1):\n",
      "STOP: TOTAL NO. of ITERATIONS REACHED LIMIT.\n",
      "\n",
      "Increase the number of iterations (max_iter) or scale the data as shown in:\n",
      "    https://scikit-learn.org/stable/modules/preprocessing.html\n",
      "Please also refer to the documentation for alternative solver options:\n",
      "    https://scikit-learn.org/stable/modules/linear_model.html#logistic-regression\n",
      "  n_iter_i = _check_optimize_result(\n"
     ]
    },
    {
     "name": "stdout",
     "output_type": "stream",
     "text": [
      "LogisticRegression has been trained on part-00053-363d1ba3-8ab5-4f96-bc25-4d5862db7cb9-c000.csv\n",
      "Perceptron has been trained on part-00053-363d1ba3-8ab5-4f96-bc25-4d5862db7cb9-c000.csv\n",
      "AdaBoost has been trained on part-00053-363d1ba3-8ab5-4f96-bc25-4d5862db7cb9-c000.csv\n",
      "RandomForest has been trained on part-00053-363d1ba3-8ab5-4f96-bc25-4d5862db7cb9-c000.csv\n"
     ]
    },
    {
     "name": "stderr",
     "output_type": "stream",
     "text": [
      "\r",
      " 40%|████████████████████████████████████████████████████▍                                                                              | 54/135 [1:35:37<2:20:36, 104.16s/it]"
     ]
    },
    {
     "name": "stdout",
     "output_type": "stream",
     "text": [
      "DecisionTree has been trained on part-00053-363d1ba3-8ab5-4f96-bc25-4d5862db7cb9-c000.csv\n"
     ]
    },
    {
     "name": "stderr",
     "output_type": "stream",
     "text": [
      "/home/sc/0.DCU/00.Project/ML_based_IDS_for_IoT/project/env/lib/python3.10/site-packages/sklearn/linear_model/_logistic.py:460: ConvergenceWarning: lbfgs failed to converge (status=1):\n",
      "STOP: TOTAL NO. of ITERATIONS REACHED LIMIT.\n",
      "\n",
      "Increase the number of iterations (max_iter) or scale the data as shown in:\n",
      "    https://scikit-learn.org/stable/modules/preprocessing.html\n",
      "Please also refer to the documentation for alternative solver options:\n",
      "    https://scikit-learn.org/stable/modules/linear_model.html#logistic-regression\n",
      "  n_iter_i = _check_optimize_result(\n"
     ]
    },
    {
     "name": "stdout",
     "output_type": "stream",
     "text": [
      "LogisticRegression has been trained on part-00054-363d1ba3-8ab5-4f96-bc25-4d5862db7cb9-c000.csv\n",
      "Perceptron has been trained on part-00054-363d1ba3-8ab5-4f96-bc25-4d5862db7cb9-c000.csv\n",
      "AdaBoost has been trained on part-00054-363d1ba3-8ab5-4f96-bc25-4d5862db7cb9-c000.csv\n",
      "RandomForest has been trained on part-00054-363d1ba3-8ab5-4f96-bc25-4d5862db7cb9-c000.csv\n"
     ]
    },
    {
     "name": "stderr",
     "output_type": "stream",
     "text": [
      "\r",
      " 41%|█████████████████████████████████████████████████████▊                                                                              | 55/135 [1:36:57<2:09:11, 96.89s/it]"
     ]
    },
    {
     "name": "stdout",
     "output_type": "stream",
     "text": [
      "DecisionTree has been trained on part-00054-363d1ba3-8ab5-4f96-bc25-4d5862db7cb9-c000.csv\n"
     ]
    },
    {
     "name": "stderr",
     "output_type": "stream",
     "text": [
      "/home/sc/0.DCU/00.Project/ML_based_IDS_for_IoT/project/env/lib/python3.10/site-packages/sklearn/linear_model/_logistic.py:460: ConvergenceWarning: lbfgs failed to converge (status=1):\n",
      "STOP: TOTAL NO. of ITERATIONS REACHED LIMIT.\n",
      "\n",
      "Increase the number of iterations (max_iter) or scale the data as shown in:\n",
      "    https://scikit-learn.org/stable/modules/preprocessing.html\n",
      "Please also refer to the documentation for alternative solver options:\n",
      "    https://scikit-learn.org/stable/modules/linear_model.html#logistic-regression\n",
      "  n_iter_i = _check_optimize_result(\n"
     ]
    },
    {
     "name": "stdout",
     "output_type": "stream",
     "text": [
      "LogisticRegression has been trained on part-00055-363d1ba3-8ab5-4f96-bc25-4d5862db7cb9-c000.csv\n",
      "Perceptron has been trained on part-00055-363d1ba3-8ab5-4f96-bc25-4d5862db7cb9-c000.csv\n",
      "AdaBoost has been trained on part-00055-363d1ba3-8ab5-4f96-bc25-4d5862db7cb9-c000.csv\n",
      "RandomForest has been trained on part-00055-363d1ba3-8ab5-4f96-bc25-4d5862db7cb9-c000.csv\n"
     ]
    },
    {
     "name": "stderr",
     "output_type": "stream",
     "text": [
      "\r",
      " 41%|██████████████████████████████████████████████████████▊                                                                             | 56/135 [1:38:08<1:57:21, 89.13s/it]"
     ]
    },
    {
     "name": "stdout",
     "output_type": "stream",
     "text": [
      "DecisionTree has been trained on part-00055-363d1ba3-8ab5-4f96-bc25-4d5862db7cb9-c000.csv\n"
     ]
    },
    {
     "name": "stderr",
     "output_type": "stream",
     "text": [
      "/home/sc/0.DCU/00.Project/ML_based_IDS_for_IoT/project/env/lib/python3.10/site-packages/sklearn/linear_model/_logistic.py:460: ConvergenceWarning: lbfgs failed to converge (status=1):\n",
      "STOP: TOTAL NO. of ITERATIONS REACHED LIMIT.\n",
      "\n",
      "Increase the number of iterations (max_iter) or scale the data as shown in:\n",
      "    https://scikit-learn.org/stable/modules/preprocessing.html\n",
      "Please also refer to the documentation for alternative solver options:\n",
      "    https://scikit-learn.org/stable/modules/linear_model.html#logistic-regression\n",
      "  n_iter_i = _check_optimize_result(\n"
     ]
    },
    {
     "name": "stdout",
     "output_type": "stream",
     "text": [
      "LogisticRegression has been trained on part-00056-363d1ba3-8ab5-4f96-bc25-4d5862db7cb9-c000.csv\n",
      "Perceptron has been trained on part-00056-363d1ba3-8ab5-4f96-bc25-4d5862db7cb9-c000.csv\n",
      "AdaBoost has been trained on part-00056-363d1ba3-8ab5-4f96-bc25-4d5862db7cb9-c000.csv\n",
      "RandomForest has been trained on part-00056-363d1ba3-8ab5-4f96-bc25-4d5862db7cb9-c000.csv\n"
     ]
    },
    {
     "name": "stderr",
     "output_type": "stream",
     "text": [
      "\r",
      " 42%|███████████████████████████████████████████████████████▋                                                                            | 57/135 [1:39:36<1:55:23, 88.77s/it]"
     ]
    },
    {
     "name": "stdout",
     "output_type": "stream",
     "text": [
      "DecisionTree has been trained on part-00056-363d1ba3-8ab5-4f96-bc25-4d5862db7cb9-c000.csv\n"
     ]
    },
    {
     "name": "stderr",
     "output_type": "stream",
     "text": [
      "/home/sc/0.DCU/00.Project/ML_based_IDS_for_IoT/project/env/lib/python3.10/site-packages/sklearn/linear_model/_logistic.py:460: ConvergenceWarning: lbfgs failed to converge (status=1):\n",
      "STOP: TOTAL NO. of ITERATIONS REACHED LIMIT.\n",
      "\n",
      "Increase the number of iterations (max_iter) or scale the data as shown in:\n",
      "    https://scikit-learn.org/stable/modules/preprocessing.html\n",
      "Please also refer to the documentation for alternative solver options:\n",
      "    https://scikit-learn.org/stable/modules/linear_model.html#logistic-regression\n",
      "  n_iter_i = _check_optimize_result(\n"
     ]
    },
    {
     "name": "stdout",
     "output_type": "stream",
     "text": [
      "LogisticRegression has been trained on part-00057-363d1ba3-8ab5-4f96-bc25-4d5862db7cb9-c000.csv\n",
      "Perceptron has been trained on part-00057-363d1ba3-8ab5-4f96-bc25-4d5862db7cb9-c000.csv\n",
      "AdaBoost has been trained on part-00057-363d1ba3-8ab5-4f96-bc25-4d5862db7cb9-c000.csv\n",
      "RandomForest has been trained on part-00057-363d1ba3-8ab5-4f96-bc25-4d5862db7cb9-c000.csv\n"
     ]
    },
    {
     "name": "stderr",
     "output_type": "stream",
     "text": [
      "\r",
      " 43%|████████████████████████████████████████████████████████▎                                                                          | 58/135 [1:42:11<2:19:23, 108.62s/it]"
     ]
    },
    {
     "name": "stdout",
     "output_type": "stream",
     "text": [
      "DecisionTree has been trained on part-00057-363d1ba3-8ab5-4f96-bc25-4d5862db7cb9-c000.csv\n"
     ]
    },
    {
     "name": "stderr",
     "output_type": "stream",
     "text": [
      "/home/sc/0.DCU/00.Project/ML_based_IDS_for_IoT/project/env/lib/python3.10/site-packages/sklearn/linear_model/_logistic.py:460: ConvergenceWarning: lbfgs failed to converge (status=1):\n",
      "STOP: TOTAL NO. of ITERATIONS REACHED LIMIT.\n",
      "\n",
      "Increase the number of iterations (max_iter) or scale the data as shown in:\n",
      "    https://scikit-learn.org/stable/modules/preprocessing.html\n",
      "Please also refer to the documentation for alternative solver options:\n",
      "    https://scikit-learn.org/stable/modules/linear_model.html#logistic-regression\n",
      "  n_iter_i = _check_optimize_result(\n"
     ]
    },
    {
     "name": "stdout",
     "output_type": "stream",
     "text": [
      "LogisticRegression has been trained on part-00058-363d1ba3-8ab5-4f96-bc25-4d5862db7cb9-c000.csv\n",
      "Perceptron has been trained on part-00058-363d1ba3-8ab5-4f96-bc25-4d5862db7cb9-c000.csv\n",
      "AdaBoost has been trained on part-00058-363d1ba3-8ab5-4f96-bc25-4d5862db7cb9-c000.csv\n",
      "RandomForest has been trained on part-00058-363d1ba3-8ab5-4f96-bc25-4d5862db7cb9-c000.csv\n"
     ]
    },
    {
     "name": "stderr",
     "output_type": "stream",
     "text": [
      "\r",
      " 44%|█████████████████████████████████████████████████████████▎                                                                         | 59/135 [1:43:39<2:09:47, 102.47s/it]"
     ]
    },
    {
     "name": "stdout",
     "output_type": "stream",
     "text": [
      "DecisionTree has been trained on part-00058-363d1ba3-8ab5-4f96-bc25-4d5862db7cb9-c000.csv\n"
     ]
    },
    {
     "name": "stderr",
     "output_type": "stream",
     "text": [
      "/home/sc/0.DCU/00.Project/ML_based_IDS_for_IoT/project/env/lib/python3.10/site-packages/sklearn/linear_model/_logistic.py:460: ConvergenceWarning: lbfgs failed to converge (status=1):\n",
      "STOP: TOTAL NO. of ITERATIONS REACHED LIMIT.\n",
      "\n",
      "Increase the number of iterations (max_iter) or scale the data as shown in:\n",
      "    https://scikit-learn.org/stable/modules/preprocessing.html\n",
      "Please also refer to the documentation for alternative solver options:\n",
      "    https://scikit-learn.org/stable/modules/linear_model.html#logistic-regression\n",
      "  n_iter_i = _check_optimize_result(\n"
     ]
    },
    {
     "name": "stdout",
     "output_type": "stream",
     "text": [
      "LogisticRegression has been trained on part-00059-363d1ba3-8ab5-4f96-bc25-4d5862db7cb9-c000.csv\n",
      "Perceptron has been trained on part-00059-363d1ba3-8ab5-4f96-bc25-4d5862db7cb9-c000.csv\n",
      "AdaBoost has been trained on part-00059-363d1ba3-8ab5-4f96-bc25-4d5862db7cb9-c000.csv\n",
      "RandomForest has been trained on part-00059-363d1ba3-8ab5-4f96-bc25-4d5862db7cb9-c000.csv\n"
     ]
    },
    {
     "name": "stderr",
     "output_type": "stream",
     "text": [
      "\r",
      " 44%|██████████████████████████████████████████████████████████▋                                                                         | 60/135 [1:45:09<2:03:28, 98.78s/it]"
     ]
    },
    {
     "name": "stdout",
     "output_type": "stream",
     "text": [
      "DecisionTree has been trained on part-00059-363d1ba3-8ab5-4f96-bc25-4d5862db7cb9-c000.csv\n"
     ]
    },
    {
     "name": "stderr",
     "output_type": "stream",
     "text": [
      "/home/sc/0.DCU/00.Project/ML_based_IDS_for_IoT/project/env/lib/python3.10/site-packages/sklearn/linear_model/_logistic.py:460: ConvergenceWarning: lbfgs failed to converge (status=1):\n",
      "STOP: TOTAL NO. of ITERATIONS REACHED LIMIT.\n",
      "\n",
      "Increase the number of iterations (max_iter) or scale the data as shown in:\n",
      "    https://scikit-learn.org/stable/modules/preprocessing.html\n",
      "Please also refer to the documentation for alternative solver options:\n",
      "    https://scikit-learn.org/stable/modules/linear_model.html#logistic-regression\n",
      "  n_iter_i = _check_optimize_result(\n"
     ]
    },
    {
     "name": "stdout",
     "output_type": "stream",
     "text": [
      "LogisticRegression has been trained on part-00060-363d1ba3-8ab5-4f96-bc25-4d5862db7cb9-c000.csv\n",
      "Perceptron has been trained on part-00060-363d1ba3-8ab5-4f96-bc25-4d5862db7cb9-c000.csv\n",
      "AdaBoost has been trained on part-00060-363d1ba3-8ab5-4f96-bc25-4d5862db7cb9-c000.csv\n",
      "RandomForest has been trained on part-00060-363d1ba3-8ab5-4f96-bc25-4d5862db7cb9-c000.csv\n"
     ]
    },
    {
     "name": "stderr",
     "output_type": "stream",
     "text": [
      "\r",
      " 45%|███████████████████████████████████████████████████████████▋                                                                        | 61/135 [1:46:32<1:56:06, 94.14s/it]"
     ]
    },
    {
     "name": "stdout",
     "output_type": "stream",
     "text": [
      "DecisionTree has been trained on part-00060-363d1ba3-8ab5-4f96-bc25-4d5862db7cb9-c000.csv\n"
     ]
    },
    {
     "name": "stderr",
     "output_type": "stream",
     "text": [
      "/home/sc/0.DCU/00.Project/ML_based_IDS_for_IoT/project/env/lib/python3.10/site-packages/sklearn/linear_model/_logistic.py:460: ConvergenceWarning: lbfgs failed to converge (status=1):\n",
      "STOP: TOTAL NO. of ITERATIONS REACHED LIMIT.\n",
      "\n",
      "Increase the number of iterations (max_iter) or scale the data as shown in:\n",
      "    https://scikit-learn.org/stable/modules/preprocessing.html\n",
      "Please also refer to the documentation for alternative solver options:\n",
      "    https://scikit-learn.org/stable/modules/linear_model.html#logistic-regression\n",
      "  n_iter_i = _check_optimize_result(\n"
     ]
    },
    {
     "name": "stdout",
     "output_type": "stream",
     "text": [
      "LogisticRegression has been trained on part-00061-363d1ba3-8ab5-4f96-bc25-4d5862db7cb9-c000.csv\n",
      "Perceptron has been trained on part-00061-363d1ba3-8ab5-4f96-bc25-4d5862db7cb9-c000.csv\n",
      "AdaBoost has been trained on part-00061-363d1ba3-8ab5-4f96-bc25-4d5862db7cb9-c000.csv\n",
      "RandomForest has been trained on part-00061-363d1ba3-8ab5-4f96-bc25-4d5862db7cb9-c000.csv\n"
     ]
    },
    {
     "name": "stderr",
     "output_type": "stream",
     "text": [
      "\r",
      " 46%|████████████████████████████████████████████████████████████▌                                                                       | 62/135 [1:48:01<1:52:40, 92.61s/it]"
     ]
    },
    {
     "name": "stdout",
     "output_type": "stream",
     "text": [
      "DecisionTree has been trained on part-00061-363d1ba3-8ab5-4f96-bc25-4d5862db7cb9-c000.csv\n"
     ]
    },
    {
     "name": "stderr",
     "output_type": "stream",
     "text": [
      "/home/sc/0.DCU/00.Project/ML_based_IDS_for_IoT/project/env/lib/python3.10/site-packages/sklearn/linear_model/_logistic.py:460: ConvergenceWarning: lbfgs failed to converge (status=1):\n",
      "STOP: TOTAL NO. of ITERATIONS REACHED LIMIT.\n",
      "\n",
      "Increase the number of iterations (max_iter) or scale the data as shown in:\n",
      "    https://scikit-learn.org/stable/modules/preprocessing.html\n",
      "Please also refer to the documentation for alternative solver options:\n",
      "    https://scikit-learn.org/stable/modules/linear_model.html#logistic-regression\n",
      "  n_iter_i = _check_optimize_result(\n"
     ]
    },
    {
     "name": "stdout",
     "output_type": "stream",
     "text": [
      "LogisticRegression has been trained on part-00062-363d1ba3-8ab5-4f96-bc25-4d5862db7cb9-c000.csv\n",
      "Perceptron has been trained on part-00062-363d1ba3-8ab5-4f96-bc25-4d5862db7cb9-c000.csv\n",
      "AdaBoost has been trained on part-00062-363d1ba3-8ab5-4f96-bc25-4d5862db7cb9-c000.csv\n",
      "RandomForest has been trained on part-00062-363d1ba3-8ab5-4f96-bc25-4d5862db7cb9-c000.csv\n"
     ]
    },
    {
     "name": "stderr",
     "output_type": "stream",
     "text": [
      "\r",
      " 47%|█████████████████████████████████████████████████████████████▏                                                                     | 63/135 [1:50:48<2:17:37, 114.69s/it]"
     ]
    },
    {
     "name": "stdout",
     "output_type": "stream",
     "text": [
      "DecisionTree has been trained on part-00062-363d1ba3-8ab5-4f96-bc25-4d5862db7cb9-c000.csv\n"
     ]
    },
    {
     "name": "stderr",
     "output_type": "stream",
     "text": [
      "/home/sc/0.DCU/00.Project/ML_based_IDS_for_IoT/project/env/lib/python3.10/site-packages/sklearn/linear_model/_logistic.py:460: ConvergenceWarning: lbfgs failed to converge (status=1):\n",
      "STOP: TOTAL NO. of ITERATIONS REACHED LIMIT.\n",
      "\n",
      "Increase the number of iterations (max_iter) or scale the data as shown in:\n",
      "    https://scikit-learn.org/stable/modules/preprocessing.html\n",
      "Please also refer to the documentation for alternative solver options:\n",
      "    https://scikit-learn.org/stable/modules/linear_model.html#logistic-regression\n",
      "  n_iter_i = _check_optimize_result(\n"
     ]
    },
    {
     "name": "stdout",
     "output_type": "stream",
     "text": [
      "LogisticRegression has been trained on part-00063-363d1ba3-8ab5-4f96-bc25-4d5862db7cb9-c000.csv\n",
      "Perceptron has been trained on part-00063-363d1ba3-8ab5-4f96-bc25-4d5862db7cb9-c000.csv\n",
      "AdaBoost has been trained on part-00063-363d1ba3-8ab5-4f96-bc25-4d5862db7cb9-c000.csv\n",
      "RandomForest has been trained on part-00063-363d1ba3-8ab5-4f96-bc25-4d5862db7cb9-c000.csv\n"
     ]
    },
    {
     "name": "stderr",
     "output_type": "stream",
     "text": [
      "\r",
      " 47%|██████████████████████████████████████████████████████████████                                                                     | 64/135 [1:52:09<2:04:02, 104.83s/it]"
     ]
    },
    {
     "name": "stdout",
     "output_type": "stream",
     "text": [
      "DecisionTree has been trained on part-00063-363d1ba3-8ab5-4f96-bc25-4d5862db7cb9-c000.csv\n"
     ]
    },
    {
     "name": "stderr",
     "output_type": "stream",
     "text": [
      "/home/sc/0.DCU/00.Project/ML_based_IDS_for_IoT/project/env/lib/python3.10/site-packages/sklearn/linear_model/_logistic.py:460: ConvergenceWarning: lbfgs failed to converge (status=1):\n",
      "STOP: TOTAL NO. of ITERATIONS REACHED LIMIT.\n",
      "\n",
      "Increase the number of iterations (max_iter) or scale the data as shown in:\n",
      "    https://scikit-learn.org/stable/modules/preprocessing.html\n",
      "Please also refer to the documentation for alternative solver options:\n",
      "    https://scikit-learn.org/stable/modules/linear_model.html#logistic-regression\n",
      "  n_iter_i = _check_optimize_result(\n"
     ]
    },
    {
     "name": "stdout",
     "output_type": "stream",
     "text": [
      "LogisticRegression has been trained on part-00064-363d1ba3-8ab5-4f96-bc25-4d5862db7cb9-c000.csv\n",
      "Perceptron has been trained on part-00064-363d1ba3-8ab5-4f96-bc25-4d5862db7cb9-c000.csv\n",
      "AdaBoost has been trained on part-00064-363d1ba3-8ab5-4f96-bc25-4d5862db7cb9-c000.csv\n",
      "RandomForest has been trained on part-00064-363d1ba3-8ab5-4f96-bc25-4d5862db7cb9-c000.csv\n"
     ]
    },
    {
     "name": "stderr",
     "output_type": "stream",
     "text": [
      "\r",
      " 48%|███████████████████████████████████████████████████████████████                                                                    | 65/135 [1:53:45<1:59:08, 102.12s/it]"
     ]
    },
    {
     "name": "stdout",
     "output_type": "stream",
     "text": [
      "DecisionTree has been trained on part-00064-363d1ba3-8ab5-4f96-bc25-4d5862db7cb9-c000.csv\n"
     ]
    },
    {
     "name": "stderr",
     "output_type": "stream",
     "text": [
      "/home/sc/0.DCU/00.Project/ML_based_IDS_for_IoT/project/env/lib/python3.10/site-packages/sklearn/linear_model/_logistic.py:460: ConvergenceWarning: lbfgs failed to converge (status=1):\n",
      "STOP: TOTAL NO. of ITERATIONS REACHED LIMIT.\n",
      "\n",
      "Increase the number of iterations (max_iter) or scale the data as shown in:\n",
      "    https://scikit-learn.org/stable/modules/preprocessing.html\n",
      "Please also refer to the documentation for alternative solver options:\n",
      "    https://scikit-learn.org/stable/modules/linear_model.html#logistic-regression\n",
      "  n_iter_i = _check_optimize_result(\n"
     ]
    },
    {
     "name": "stdout",
     "output_type": "stream",
     "text": [
      "LogisticRegression has been trained on part-00065-363d1ba3-8ab5-4f96-bc25-4d5862db7cb9-c000.csv\n",
      "Perceptron has been trained on part-00065-363d1ba3-8ab5-4f96-bc25-4d5862db7cb9-c000.csv\n",
      "AdaBoost has been trained on part-00065-363d1ba3-8ab5-4f96-bc25-4d5862db7cb9-c000.csv\n",
      "RandomForest has been trained on part-00065-363d1ba3-8ab5-4f96-bc25-4d5862db7cb9-c000.csv\n"
     ]
    },
    {
     "name": "stderr",
     "output_type": "stream",
     "text": [
      "\r",
      " 49%|████████████████████████████████████████████████████████████████▌                                                                   | 66/135 [1:55:10<1:51:22, 96.85s/it]"
     ]
    },
    {
     "name": "stdout",
     "output_type": "stream",
     "text": [
      "DecisionTree has been trained on part-00065-363d1ba3-8ab5-4f96-bc25-4d5862db7cb9-c000.csv\n"
     ]
    },
    {
     "name": "stderr",
     "output_type": "stream",
     "text": [
      "/home/sc/0.DCU/00.Project/ML_based_IDS_for_IoT/project/env/lib/python3.10/site-packages/sklearn/linear_model/_logistic.py:460: ConvergenceWarning: lbfgs failed to converge (status=1):\n",
      "STOP: TOTAL NO. of ITERATIONS REACHED LIMIT.\n",
      "\n",
      "Increase the number of iterations (max_iter) or scale the data as shown in:\n",
      "    https://scikit-learn.org/stable/modules/preprocessing.html\n",
      "Please also refer to the documentation for alternative solver options:\n",
      "    https://scikit-learn.org/stable/modules/linear_model.html#logistic-regression\n",
      "  n_iter_i = _check_optimize_result(\n"
     ]
    },
    {
     "name": "stdout",
     "output_type": "stream",
     "text": [
      "LogisticRegression has been trained on part-00066-363d1ba3-8ab5-4f96-bc25-4d5862db7cb9-c000.csv\n",
      "Perceptron has been trained on part-00066-363d1ba3-8ab5-4f96-bc25-4d5862db7cb9-c000.csv\n",
      "AdaBoost has been trained on part-00066-363d1ba3-8ab5-4f96-bc25-4d5862db7cb9-c000.csv\n",
      "RandomForest has been trained on part-00066-363d1ba3-8ab5-4f96-bc25-4d5862db7cb9-c000.csv\n"
     ]
    },
    {
     "name": "stderr",
     "output_type": "stream",
     "text": [
      "\r",
      " 50%|█████████████████████████████████████████████████████████████████▌                                                                  | 67/135 [1:56:26<1:42:38, 90.57s/it]"
     ]
    },
    {
     "name": "stdout",
     "output_type": "stream",
     "text": [
      "DecisionTree has been trained on part-00066-363d1ba3-8ab5-4f96-bc25-4d5862db7cb9-c000.csv\n"
     ]
    },
    {
     "name": "stderr",
     "output_type": "stream",
     "text": [
      "/home/sc/0.DCU/00.Project/ML_based_IDS_for_IoT/project/env/lib/python3.10/site-packages/sklearn/linear_model/_logistic.py:460: ConvergenceWarning: lbfgs failed to converge (status=1):\n",
      "STOP: TOTAL NO. of ITERATIONS REACHED LIMIT.\n",
      "\n",
      "Increase the number of iterations (max_iter) or scale the data as shown in:\n",
      "    https://scikit-learn.org/stable/modules/preprocessing.html\n",
      "Please also refer to the documentation for alternative solver options:\n",
      "    https://scikit-learn.org/stable/modules/linear_model.html#logistic-regression\n",
      "  n_iter_i = _check_optimize_result(\n"
     ]
    },
    {
     "name": "stdout",
     "output_type": "stream",
     "text": [
      "LogisticRegression has been trained on part-00067-363d1ba3-8ab5-4f96-bc25-4d5862db7cb9-c000.csv\n",
      "Perceptron has been trained on part-00067-363d1ba3-8ab5-4f96-bc25-4d5862db7cb9-c000.csv\n",
      "AdaBoost has been trained on part-00067-363d1ba3-8ab5-4f96-bc25-4d5862db7cb9-c000.csv\n",
      "RandomForest has been trained on part-00067-363d1ba3-8ab5-4f96-bc25-4d5862db7cb9-c000.csv\n"
     ]
    },
    {
     "name": "stderr",
     "output_type": "stream",
     "text": [
      "\r",
      " 50%|██████████████████████████████████████████████████████████████████▍                                                                 | 68/135 [1:58:04<1:43:39, 92.82s/it]"
     ]
    },
    {
     "name": "stdout",
     "output_type": "stream",
     "text": [
      "DecisionTree has been trained on part-00067-363d1ba3-8ab5-4f96-bc25-4d5862db7cb9-c000.csv\n"
     ]
    },
    {
     "name": "stderr",
     "output_type": "stream",
     "text": [
      "/home/sc/0.DCU/00.Project/ML_based_IDS_for_IoT/project/env/lib/python3.10/site-packages/sklearn/linear_model/_logistic.py:460: ConvergenceWarning: lbfgs failed to converge (status=1):\n",
      "STOP: TOTAL NO. of ITERATIONS REACHED LIMIT.\n",
      "\n",
      "Increase the number of iterations (max_iter) or scale the data as shown in:\n",
      "    https://scikit-learn.org/stable/modules/preprocessing.html\n",
      "Please also refer to the documentation for alternative solver options:\n",
      "    https://scikit-learn.org/stable/modules/linear_model.html#logistic-regression\n",
      "  n_iter_i = _check_optimize_result(\n"
     ]
    },
    {
     "name": "stdout",
     "output_type": "stream",
     "text": [
      "LogisticRegression has been trained on part-00068-363d1ba3-8ab5-4f96-bc25-4d5862db7cb9-c000.csv\n",
      "Perceptron has been trained on part-00068-363d1ba3-8ab5-4f96-bc25-4d5862db7cb9-c000.csv\n",
      "AdaBoost has been trained on part-00068-363d1ba3-8ab5-4f96-bc25-4d5862db7cb9-c000.csv\n",
      "RandomForest has been trained on part-00068-363d1ba3-8ab5-4f96-bc25-4d5862db7cb9-c000.csv\n"
     ]
    },
    {
     "name": "stderr",
     "output_type": "stream",
     "text": [
      "\r",
      " 51%|███████████████████████████████████████████████████████████████████▍                                                                | 69/135 [1:59:21<1:36:56, 88.12s/it]"
     ]
    },
    {
     "name": "stdout",
     "output_type": "stream",
     "text": [
      "DecisionTree has been trained on part-00068-363d1ba3-8ab5-4f96-bc25-4d5862db7cb9-c000.csv\n"
     ]
    },
    {
     "name": "stderr",
     "output_type": "stream",
     "text": [
      "/home/sc/0.DCU/00.Project/ML_based_IDS_for_IoT/project/env/lib/python3.10/site-packages/sklearn/linear_model/_logistic.py:460: ConvergenceWarning: lbfgs failed to converge (status=1):\n",
      "STOP: TOTAL NO. of ITERATIONS REACHED LIMIT.\n",
      "\n",
      "Increase the number of iterations (max_iter) or scale the data as shown in:\n",
      "    https://scikit-learn.org/stable/modules/preprocessing.html\n",
      "Please also refer to the documentation for alternative solver options:\n",
      "    https://scikit-learn.org/stable/modules/linear_model.html#logistic-regression\n",
      "  n_iter_i = _check_optimize_result(\n"
     ]
    },
    {
     "name": "stdout",
     "output_type": "stream",
     "text": [
      "LogisticRegression has been trained on part-00069-363d1ba3-8ab5-4f96-bc25-4d5862db7cb9-c000.csv\n",
      "Perceptron has been trained on part-00069-363d1ba3-8ab5-4f96-bc25-4d5862db7cb9-c000.csv\n",
      "AdaBoost has been trained on part-00069-363d1ba3-8ab5-4f96-bc25-4d5862db7cb9-c000.csv\n",
      "RandomForest has been trained on part-00069-363d1ba3-8ab5-4f96-bc25-4d5862db7cb9-c000.csv\n"
     ]
    },
    {
     "name": "stderr",
     "output_type": "stream",
     "text": [
      "\r",
      " 52%|████████████████████████████████████████████████████████████████████▍                                                               | 70/135 [2:00:45<1:34:03, 86.82s/it]"
     ]
    },
    {
     "name": "stdout",
     "output_type": "stream",
     "text": [
      "DecisionTree has been trained on part-00069-363d1ba3-8ab5-4f96-bc25-4d5862db7cb9-c000.csv\n"
     ]
    },
    {
     "name": "stderr",
     "output_type": "stream",
     "text": [
      "/home/sc/0.DCU/00.Project/ML_based_IDS_for_IoT/project/env/lib/python3.10/site-packages/sklearn/linear_model/_logistic.py:460: ConvergenceWarning: lbfgs failed to converge (status=1):\n",
      "STOP: TOTAL NO. of ITERATIONS REACHED LIMIT.\n",
      "\n",
      "Increase the number of iterations (max_iter) or scale the data as shown in:\n",
      "    https://scikit-learn.org/stable/modules/preprocessing.html\n",
      "Please also refer to the documentation for alternative solver options:\n",
      "    https://scikit-learn.org/stable/modules/linear_model.html#logistic-regression\n",
      "  n_iter_i = _check_optimize_result(\n"
     ]
    },
    {
     "name": "stdout",
     "output_type": "stream",
     "text": [
      "LogisticRegression has been trained on part-00070-363d1ba3-8ab5-4f96-bc25-4d5862db7cb9-c000.csv\n",
      "Perceptron has been trained on part-00070-363d1ba3-8ab5-4f96-bc25-4d5862db7cb9-c000.csv\n",
      "AdaBoost has been trained on part-00070-363d1ba3-8ab5-4f96-bc25-4d5862db7cb9-c000.csv\n",
      "RandomForest has been trained on part-00070-363d1ba3-8ab5-4f96-bc25-4d5862db7cb9-c000.csv\n"
     ]
    },
    {
     "name": "stderr",
     "output_type": "stream",
     "text": [
      "\r",
      " 53%|█████████████████████████████████████████████████████████████████████▍                                                              | 71/135 [2:02:03<1:29:55, 84.31s/it]"
     ]
    },
    {
     "name": "stdout",
     "output_type": "stream",
     "text": [
      "DecisionTree has been trained on part-00070-363d1ba3-8ab5-4f96-bc25-4d5862db7cb9-c000.csv\n"
     ]
    },
    {
     "name": "stderr",
     "output_type": "stream",
     "text": [
      "/home/sc/0.DCU/00.Project/ML_based_IDS_for_IoT/project/env/lib/python3.10/site-packages/sklearn/linear_model/_logistic.py:460: ConvergenceWarning: lbfgs failed to converge (status=1):\n",
      "STOP: TOTAL NO. of ITERATIONS REACHED LIMIT.\n",
      "\n",
      "Increase the number of iterations (max_iter) or scale the data as shown in:\n",
      "    https://scikit-learn.org/stable/modules/preprocessing.html\n",
      "Please also refer to the documentation for alternative solver options:\n",
      "    https://scikit-learn.org/stable/modules/linear_model.html#logistic-regression\n",
      "  n_iter_i = _check_optimize_result(\n"
     ]
    },
    {
     "name": "stdout",
     "output_type": "stream",
     "text": [
      "LogisticRegression has been trained on part-00071-363d1ba3-8ab5-4f96-bc25-4d5862db7cb9-c000.csv\n",
      "Perceptron has been trained on part-00071-363d1ba3-8ab5-4f96-bc25-4d5862db7cb9-c000.csv\n",
      "AdaBoost has been trained on part-00071-363d1ba3-8ab5-4f96-bc25-4d5862db7cb9-c000.csv\n",
      "RandomForest has been trained on part-00071-363d1ba3-8ab5-4f96-bc25-4d5862db7cb9-c000.csv\n"
     ]
    },
    {
     "name": "stderr",
     "output_type": "stream",
     "text": [
      "\r",
      " 53%|██████████████████████████████████████████████████████████████████████▍                                                             | 72/135 [2:03:40<1:32:30, 88.10s/it]"
     ]
    },
    {
     "name": "stdout",
     "output_type": "stream",
     "text": [
      "DecisionTree has been trained on part-00071-363d1ba3-8ab5-4f96-bc25-4d5862db7cb9-c000.csv\n"
     ]
    },
    {
     "name": "stderr",
     "output_type": "stream",
     "text": [
      "/home/sc/0.DCU/00.Project/ML_based_IDS_for_IoT/project/env/lib/python3.10/site-packages/sklearn/linear_model/_logistic.py:460: ConvergenceWarning: lbfgs failed to converge (status=1):\n",
      "STOP: TOTAL NO. of ITERATIONS REACHED LIMIT.\n",
      "\n",
      "Increase the number of iterations (max_iter) or scale the data as shown in:\n",
      "    https://scikit-learn.org/stable/modules/preprocessing.html\n",
      "Please also refer to the documentation for alternative solver options:\n",
      "    https://scikit-learn.org/stable/modules/linear_model.html#logistic-regression\n",
      "  n_iter_i = _check_optimize_result(\n"
     ]
    },
    {
     "name": "stdout",
     "output_type": "stream",
     "text": [
      "LogisticRegression has been trained on part-00072-363d1ba3-8ab5-4f96-bc25-4d5862db7cb9-c000.csv\n",
      "Perceptron has been trained on part-00072-363d1ba3-8ab5-4f96-bc25-4d5862db7cb9-c000.csv\n",
      "AdaBoost has been trained on part-00072-363d1ba3-8ab5-4f96-bc25-4d5862db7cb9-c000.csv\n",
      "RandomForest has been trained on part-00072-363d1ba3-8ab5-4f96-bc25-4d5862db7cb9-c000.csv\n"
     ]
    },
    {
     "name": "stderr",
     "output_type": "stream",
     "text": [
      "\r",
      " 54%|███████████████████████████████████████████████████████████████████████▍                                                            | 73/135 [2:05:14<1:32:47, 89.80s/it]"
     ]
    },
    {
     "name": "stdout",
     "output_type": "stream",
     "text": [
      "DecisionTree has been trained on part-00072-363d1ba3-8ab5-4f96-bc25-4d5862db7cb9-c000.csv\n"
     ]
    },
    {
     "name": "stderr",
     "output_type": "stream",
     "text": [
      "/home/sc/0.DCU/00.Project/ML_based_IDS_for_IoT/project/env/lib/python3.10/site-packages/sklearn/linear_model/_logistic.py:460: ConvergenceWarning: lbfgs failed to converge (status=1):\n",
      "STOP: TOTAL NO. of ITERATIONS REACHED LIMIT.\n",
      "\n",
      "Increase the number of iterations (max_iter) or scale the data as shown in:\n",
      "    https://scikit-learn.org/stable/modules/preprocessing.html\n",
      "Please also refer to the documentation for alternative solver options:\n",
      "    https://scikit-learn.org/stable/modules/linear_model.html#logistic-regression\n",
      "  n_iter_i = _check_optimize_result(\n"
     ]
    },
    {
     "name": "stdout",
     "output_type": "stream",
     "text": [
      "LogisticRegression has been trained on part-00073-363d1ba3-8ab5-4f96-bc25-4d5862db7cb9-c000.csv\n",
      "Perceptron has been trained on part-00073-363d1ba3-8ab5-4f96-bc25-4d5862db7cb9-c000.csv\n",
      "AdaBoost has been trained on part-00073-363d1ba3-8ab5-4f96-bc25-4d5862db7cb9-c000.csv\n",
      "RandomForest has been trained on part-00073-363d1ba3-8ab5-4f96-bc25-4d5862db7cb9-c000.csv\n"
     ]
    },
    {
     "name": "stderr",
     "output_type": "stream",
     "text": [
      "\r",
      " 55%|████████████████████████████████████████████████████████████████████████▎                                                           | 74/135 [2:06:42<1:30:51, 89.37s/it]"
     ]
    },
    {
     "name": "stdout",
     "output_type": "stream",
     "text": [
      "DecisionTree has been trained on part-00073-363d1ba3-8ab5-4f96-bc25-4d5862db7cb9-c000.csv\n"
     ]
    },
    {
     "name": "stderr",
     "output_type": "stream",
     "text": [
      "/home/sc/0.DCU/00.Project/ML_based_IDS_for_IoT/project/env/lib/python3.10/site-packages/sklearn/linear_model/_logistic.py:460: ConvergenceWarning: lbfgs failed to converge (status=1):\n",
      "STOP: TOTAL NO. of ITERATIONS REACHED LIMIT.\n",
      "\n",
      "Increase the number of iterations (max_iter) or scale the data as shown in:\n",
      "    https://scikit-learn.org/stable/modules/preprocessing.html\n",
      "Please also refer to the documentation for alternative solver options:\n",
      "    https://scikit-learn.org/stable/modules/linear_model.html#logistic-regression\n",
      "  n_iter_i = _check_optimize_result(\n"
     ]
    },
    {
     "name": "stdout",
     "output_type": "stream",
     "text": [
      "LogisticRegression has been trained on part-00074-363d1ba3-8ab5-4f96-bc25-4d5862db7cb9-c000.csv\n",
      "Perceptron has been trained on part-00074-363d1ba3-8ab5-4f96-bc25-4d5862db7cb9-c000.csv\n",
      "AdaBoost has been trained on part-00074-363d1ba3-8ab5-4f96-bc25-4d5862db7cb9-c000.csv\n",
      "RandomForest has been trained on part-00074-363d1ba3-8ab5-4f96-bc25-4d5862db7cb9-c000.csv\n"
     ]
    },
    {
     "name": "stderr",
     "output_type": "stream",
     "text": [
      "\r",
      " 56%|█████████████████████████████████████████████████████████████████████████▎                                                          | 75/135 [2:08:07<1:28:07, 88.12s/it]"
     ]
    },
    {
     "name": "stdout",
     "output_type": "stream",
     "text": [
      "DecisionTree has been trained on part-00074-363d1ba3-8ab5-4f96-bc25-4d5862db7cb9-c000.csv\n"
     ]
    },
    {
     "name": "stderr",
     "output_type": "stream",
     "text": [
      "/home/sc/0.DCU/00.Project/ML_based_IDS_for_IoT/project/env/lib/python3.10/site-packages/sklearn/linear_model/_logistic.py:460: ConvergenceWarning: lbfgs failed to converge (status=1):\n",
      "STOP: TOTAL NO. of ITERATIONS REACHED LIMIT.\n",
      "\n",
      "Increase the number of iterations (max_iter) or scale the data as shown in:\n",
      "    https://scikit-learn.org/stable/modules/preprocessing.html\n",
      "Please also refer to the documentation for alternative solver options:\n",
      "    https://scikit-learn.org/stable/modules/linear_model.html#logistic-regression\n",
      "  n_iter_i = _check_optimize_result(\n"
     ]
    },
    {
     "name": "stdout",
     "output_type": "stream",
     "text": [
      "LogisticRegression has been trained on part-00075-363d1ba3-8ab5-4f96-bc25-4d5862db7cb9-c000.csv\n",
      "Perceptron has been trained on part-00075-363d1ba3-8ab5-4f96-bc25-4d5862db7cb9-c000.csv\n",
      "AdaBoost has been trained on part-00075-363d1ba3-8ab5-4f96-bc25-4d5862db7cb9-c000.csv\n",
      "RandomForest has been trained on part-00075-363d1ba3-8ab5-4f96-bc25-4d5862db7cb9-c000.csv\n"
     ]
    },
    {
     "name": "stderr",
     "output_type": "stream",
     "text": [
      "\r",
      " 56%|█████████████████████████████████████████████████████████████████████████▋                                                         | 76/135 [2:10:45<1:47:04, 108.89s/it]"
     ]
    },
    {
     "name": "stdout",
     "output_type": "stream",
     "text": [
      "DecisionTree has been trained on part-00075-363d1ba3-8ab5-4f96-bc25-4d5862db7cb9-c000.csv\n"
     ]
    },
    {
     "name": "stderr",
     "output_type": "stream",
     "text": [
      "/home/sc/0.DCU/00.Project/ML_based_IDS_for_IoT/project/env/lib/python3.10/site-packages/sklearn/linear_model/_logistic.py:460: ConvergenceWarning: lbfgs failed to converge (status=1):\n",
      "STOP: TOTAL NO. of ITERATIONS REACHED LIMIT.\n",
      "\n",
      "Increase the number of iterations (max_iter) or scale the data as shown in:\n",
      "    https://scikit-learn.org/stable/modules/preprocessing.html\n",
      "Please also refer to the documentation for alternative solver options:\n",
      "    https://scikit-learn.org/stable/modules/linear_model.html#logistic-regression\n",
      "  n_iter_i = _check_optimize_result(\n"
     ]
    },
    {
     "name": "stdout",
     "output_type": "stream",
     "text": [
      "LogisticRegression has been trained on part-00076-363d1ba3-8ab5-4f96-bc25-4d5862db7cb9-c000.csv\n",
      "Perceptron has been trained on part-00076-363d1ba3-8ab5-4f96-bc25-4d5862db7cb9-c000.csv\n",
      "AdaBoost has been trained on part-00076-363d1ba3-8ab5-4f96-bc25-4d5862db7cb9-c000.csv\n",
      "RandomForest has been trained on part-00076-363d1ba3-8ab5-4f96-bc25-4d5862db7cb9-c000.csv\n"
     ]
    },
    {
     "name": "stderr",
     "output_type": "stream",
     "text": [
      "\r",
      " 57%|██████████████████████████████████████████████████████████████████████████▋                                                        | 77/135 [2:13:34<2:02:47, 127.03s/it]"
     ]
    },
    {
     "name": "stdout",
     "output_type": "stream",
     "text": [
      "DecisionTree has been trained on part-00076-363d1ba3-8ab5-4f96-bc25-4d5862db7cb9-c000.csv\n"
     ]
    },
    {
     "name": "stderr",
     "output_type": "stream",
     "text": [
      "/home/sc/0.DCU/00.Project/ML_based_IDS_for_IoT/project/env/lib/python3.10/site-packages/sklearn/linear_model/_logistic.py:460: ConvergenceWarning: lbfgs failed to converge (status=1):\n",
      "STOP: TOTAL NO. of ITERATIONS REACHED LIMIT.\n",
      "\n",
      "Increase the number of iterations (max_iter) or scale the data as shown in:\n",
      "    https://scikit-learn.org/stable/modules/preprocessing.html\n",
      "Please also refer to the documentation for alternative solver options:\n",
      "    https://scikit-learn.org/stable/modules/linear_model.html#logistic-regression\n",
      "  n_iter_i = _check_optimize_result(\n"
     ]
    },
    {
     "name": "stdout",
     "output_type": "stream",
     "text": [
      "LogisticRegression has been trained on part-00077-363d1ba3-8ab5-4f96-bc25-4d5862db7cb9-c000.csv\n",
      "Perceptron has been trained on part-00077-363d1ba3-8ab5-4f96-bc25-4d5862db7cb9-c000.csv\n",
      "AdaBoost has been trained on part-00077-363d1ba3-8ab5-4f96-bc25-4d5862db7cb9-c000.csv\n",
      "RandomForest has been trained on part-00077-363d1ba3-8ab5-4f96-bc25-4d5862db7cb9-c000.csv\n"
     ]
    },
    {
     "name": "stderr",
     "output_type": "stream",
     "text": [
      "\r",
      " 58%|███████████████████████████████████████████████████████████████████████████▋                                                       | 78/135 [2:16:13<2:09:50, 136.67s/it]"
     ]
    },
    {
     "name": "stdout",
     "output_type": "stream",
     "text": [
      "DecisionTree has been trained on part-00077-363d1ba3-8ab5-4f96-bc25-4d5862db7cb9-c000.csv\n"
     ]
    },
    {
     "name": "stderr",
     "output_type": "stream",
     "text": [
      "/home/sc/0.DCU/00.Project/ML_based_IDS_for_IoT/project/env/lib/python3.10/site-packages/sklearn/linear_model/_logistic.py:460: ConvergenceWarning: lbfgs failed to converge (status=1):\n",
      "STOP: TOTAL NO. of ITERATIONS REACHED LIMIT.\n",
      "\n",
      "Increase the number of iterations (max_iter) or scale the data as shown in:\n",
      "    https://scikit-learn.org/stable/modules/preprocessing.html\n",
      "Please also refer to the documentation for alternative solver options:\n",
      "    https://scikit-learn.org/stable/modules/linear_model.html#logistic-regression\n",
      "  n_iter_i = _check_optimize_result(\n"
     ]
    },
    {
     "name": "stdout",
     "output_type": "stream",
     "text": [
      "LogisticRegression has been trained on part-00078-363d1ba3-8ab5-4f96-bc25-4d5862db7cb9-c000.csv\n",
      "Perceptron has been trained on part-00078-363d1ba3-8ab5-4f96-bc25-4d5862db7cb9-c000.csv\n",
      "AdaBoost has been trained on part-00078-363d1ba3-8ab5-4f96-bc25-4d5862db7cb9-c000.csv\n",
      "RandomForest has been trained on part-00078-363d1ba3-8ab5-4f96-bc25-4d5862db7cb9-c000.csv\n"
     ]
    },
    {
     "name": "stderr",
     "output_type": "stream",
     "text": [
      "\r",
      " 59%|████████████████████████████████████████████████████████████████████████████▋                                                      | 79/135 [2:18:53<2:14:06, 143.69s/it]"
     ]
    },
    {
     "name": "stdout",
     "output_type": "stream",
     "text": [
      "DecisionTree has been trained on part-00078-363d1ba3-8ab5-4f96-bc25-4d5862db7cb9-c000.csv\n"
     ]
    },
    {
     "name": "stderr",
     "output_type": "stream",
     "text": [
      "/home/sc/0.DCU/00.Project/ML_based_IDS_for_IoT/project/env/lib/python3.10/site-packages/sklearn/linear_model/_logistic.py:460: ConvergenceWarning: lbfgs failed to converge (status=1):\n",
      "STOP: TOTAL NO. of ITERATIONS REACHED LIMIT.\n",
      "\n",
      "Increase the number of iterations (max_iter) or scale the data as shown in:\n",
      "    https://scikit-learn.org/stable/modules/preprocessing.html\n",
      "Please also refer to the documentation for alternative solver options:\n",
      "    https://scikit-learn.org/stable/modules/linear_model.html#logistic-regression\n",
      "  n_iter_i = _check_optimize_result(\n"
     ]
    },
    {
     "name": "stdout",
     "output_type": "stream",
     "text": [
      "LogisticRegression has been trained on part-00079-363d1ba3-8ab5-4f96-bc25-4d5862db7cb9-c000.csv\n",
      "Perceptron has been trained on part-00079-363d1ba3-8ab5-4f96-bc25-4d5862db7cb9-c000.csv\n",
      "AdaBoost has been trained on part-00079-363d1ba3-8ab5-4f96-bc25-4d5862db7cb9-c000.csv\n",
      "RandomForest has been trained on part-00079-363d1ba3-8ab5-4f96-bc25-4d5862db7cb9-c000.csv\n"
     ]
    },
    {
     "name": "stderr",
     "output_type": "stream",
     "text": [
      "\r",
      " 59%|█████████████████████████████████████████████████████████████████████████████▋                                                     | 80/135 [2:21:37<2:17:09, 149.63s/it]"
     ]
    },
    {
     "name": "stdout",
     "output_type": "stream",
     "text": [
      "DecisionTree has been trained on part-00079-363d1ba3-8ab5-4f96-bc25-4d5862db7cb9-c000.csv\n"
     ]
    },
    {
     "name": "stderr",
     "output_type": "stream",
     "text": [
      "/home/sc/0.DCU/00.Project/ML_based_IDS_for_IoT/project/env/lib/python3.10/site-packages/sklearn/linear_model/_logistic.py:460: ConvergenceWarning: lbfgs failed to converge (status=1):\n",
      "STOP: TOTAL NO. of ITERATIONS REACHED LIMIT.\n",
      "\n",
      "Increase the number of iterations (max_iter) or scale the data as shown in:\n",
      "    https://scikit-learn.org/stable/modules/preprocessing.html\n",
      "Please also refer to the documentation for alternative solver options:\n",
      "    https://scikit-learn.org/stable/modules/linear_model.html#logistic-regression\n",
      "  n_iter_i = _check_optimize_result(\n"
     ]
    },
    {
     "name": "stdout",
     "output_type": "stream",
     "text": [
      "LogisticRegression has been trained on part-00080-363d1ba3-8ab5-4f96-bc25-4d5862db7cb9-c000.csv\n",
      "Perceptron has been trained on part-00080-363d1ba3-8ab5-4f96-bc25-4d5862db7cb9-c000.csv\n",
      "AdaBoost has been trained on part-00080-363d1ba3-8ab5-4f96-bc25-4d5862db7cb9-c000.csv\n",
      "RandomForest has been trained on part-00080-363d1ba3-8ab5-4f96-bc25-4d5862db7cb9-c000.csv\n"
     ]
    },
    {
     "name": "stderr",
     "output_type": "stream",
     "text": [
      "\r",
      " 60%|██████████████████████████████████████████████████████████████████████████████▌                                                    | 81/135 [2:23:05<1:58:02, 131.15s/it]"
     ]
    },
    {
     "name": "stdout",
     "output_type": "stream",
     "text": [
      "DecisionTree has been trained on part-00080-363d1ba3-8ab5-4f96-bc25-4d5862db7cb9-c000.csv\n"
     ]
    },
    {
     "name": "stderr",
     "output_type": "stream",
     "text": [
      "/home/sc/0.DCU/00.Project/ML_based_IDS_for_IoT/project/env/lib/python3.10/site-packages/sklearn/linear_model/_logistic.py:460: ConvergenceWarning: lbfgs failed to converge (status=1):\n",
      "STOP: TOTAL NO. of ITERATIONS REACHED LIMIT.\n",
      "\n",
      "Increase the number of iterations (max_iter) or scale the data as shown in:\n",
      "    https://scikit-learn.org/stable/modules/preprocessing.html\n",
      "Please also refer to the documentation for alternative solver options:\n",
      "    https://scikit-learn.org/stable/modules/linear_model.html#logistic-regression\n",
      "  n_iter_i = _check_optimize_result(\n"
     ]
    },
    {
     "name": "stdout",
     "output_type": "stream",
     "text": [
      "LogisticRegression has been trained on part-00081-363d1ba3-8ab5-4f96-bc25-4d5862db7cb9-c000.csv\n",
      "Perceptron has been trained on part-00081-363d1ba3-8ab5-4f96-bc25-4d5862db7cb9-c000.csv\n",
      "AdaBoost has been trained on part-00081-363d1ba3-8ab5-4f96-bc25-4d5862db7cb9-c000.csv\n",
      "RandomForest has been trained on part-00081-363d1ba3-8ab5-4f96-bc25-4d5862db7cb9-c000.csv\n"
     ]
    },
    {
     "name": "stderr",
     "output_type": "stream",
     "text": [
      "\r",
      " 61%|███████████████████████████████████████████████████████████████████████████████▌                                                   | 82/135 [2:24:26<1:42:30, 116.04s/it]"
     ]
    },
    {
     "name": "stdout",
     "output_type": "stream",
     "text": [
      "DecisionTree has been trained on part-00081-363d1ba3-8ab5-4f96-bc25-4d5862db7cb9-c000.csv\n"
     ]
    },
    {
     "name": "stderr",
     "output_type": "stream",
     "text": [
      "/home/sc/0.DCU/00.Project/ML_based_IDS_for_IoT/project/env/lib/python3.10/site-packages/sklearn/linear_model/_logistic.py:460: ConvergenceWarning: lbfgs failed to converge (status=1):\n",
      "STOP: TOTAL NO. of ITERATIONS REACHED LIMIT.\n",
      "\n",
      "Increase the number of iterations (max_iter) or scale the data as shown in:\n",
      "    https://scikit-learn.org/stable/modules/preprocessing.html\n",
      "Please also refer to the documentation for alternative solver options:\n",
      "    https://scikit-learn.org/stable/modules/linear_model.html#logistic-regression\n",
      "  n_iter_i = _check_optimize_result(\n"
     ]
    },
    {
     "name": "stdout",
     "output_type": "stream",
     "text": [
      "LogisticRegression has been trained on part-00082-363d1ba3-8ab5-4f96-bc25-4d5862db7cb9-c000.csv\n",
      "Perceptron has been trained on part-00082-363d1ba3-8ab5-4f96-bc25-4d5862db7cb9-c000.csv\n",
      "AdaBoost has been trained on part-00082-363d1ba3-8ab5-4f96-bc25-4d5862db7cb9-c000.csv\n",
      "RandomForest has been trained on part-00082-363d1ba3-8ab5-4f96-bc25-4d5862db7cb9-c000.csv\n"
     ]
    },
    {
     "name": "stderr",
     "output_type": "stream",
     "text": [
      "\r",
      " 61%|████████████████████████████████████████████████████████████████████████████████▌                                                  | 83/135 [2:25:46<1:31:15, 105.31s/it]"
     ]
    },
    {
     "name": "stdout",
     "output_type": "stream",
     "text": [
      "DecisionTree has been trained on part-00082-363d1ba3-8ab5-4f96-bc25-4d5862db7cb9-c000.csv\n"
     ]
    },
    {
     "name": "stderr",
     "output_type": "stream",
     "text": [
      "/home/sc/0.DCU/00.Project/ML_based_IDS_for_IoT/project/env/lib/python3.10/site-packages/sklearn/linear_model/_logistic.py:460: ConvergenceWarning: lbfgs failed to converge (status=1):\n",
      "STOP: TOTAL NO. of ITERATIONS REACHED LIMIT.\n",
      "\n",
      "Increase the number of iterations (max_iter) or scale the data as shown in:\n",
      "    https://scikit-learn.org/stable/modules/preprocessing.html\n",
      "Please also refer to the documentation for alternative solver options:\n",
      "    https://scikit-learn.org/stable/modules/linear_model.html#logistic-regression\n",
      "  n_iter_i = _check_optimize_result(\n"
     ]
    },
    {
     "name": "stdout",
     "output_type": "stream",
     "text": [
      "LogisticRegression has been trained on part-00083-363d1ba3-8ab5-4f96-bc25-4d5862db7cb9-c000.csv\n",
      "Perceptron has been trained on part-00083-363d1ba3-8ab5-4f96-bc25-4d5862db7cb9-c000.csv\n",
      "AdaBoost has been trained on part-00083-363d1ba3-8ab5-4f96-bc25-4d5862db7cb9-c000.csv\n",
      "RandomForest has been trained on part-00083-363d1ba3-8ab5-4f96-bc25-4d5862db7cb9-c000.csv\n"
     ]
    },
    {
     "name": "stderr",
     "output_type": "stream",
     "text": [
      "\r",
      " 62%|██████████████████████████████████████████████████████████████████████████████████▏                                                 | 84/135 [2:27:06<1:22:59, 97.64s/it]"
     ]
    },
    {
     "name": "stdout",
     "output_type": "stream",
     "text": [
      "DecisionTree has been trained on part-00083-363d1ba3-8ab5-4f96-bc25-4d5862db7cb9-c000.csv\n"
     ]
    },
    {
     "name": "stderr",
     "output_type": "stream",
     "text": [
      "/home/sc/0.DCU/00.Project/ML_based_IDS_for_IoT/project/env/lib/python3.10/site-packages/sklearn/linear_model/_logistic.py:460: ConvergenceWarning: lbfgs failed to converge (status=1):\n",
      "STOP: TOTAL NO. of ITERATIONS REACHED LIMIT.\n",
      "\n",
      "Increase the number of iterations (max_iter) or scale the data as shown in:\n",
      "    https://scikit-learn.org/stable/modules/preprocessing.html\n",
      "Please also refer to the documentation for alternative solver options:\n",
      "    https://scikit-learn.org/stable/modules/linear_model.html#logistic-regression\n",
      "  n_iter_i = _check_optimize_result(\n"
     ]
    },
    {
     "name": "stdout",
     "output_type": "stream",
     "text": [
      "LogisticRegression has been trained on part-00084-363d1ba3-8ab5-4f96-bc25-4d5862db7cb9-c000.csv\n",
      "Perceptron has been trained on part-00084-363d1ba3-8ab5-4f96-bc25-4d5862db7cb9-c000.csv\n",
      "AdaBoost has been trained on part-00084-363d1ba3-8ab5-4f96-bc25-4d5862db7cb9-c000.csv\n",
      "RandomForest has been trained on part-00084-363d1ba3-8ab5-4f96-bc25-4d5862db7cb9-c000.csv\n"
     ]
    },
    {
     "name": "stderr",
     "output_type": "stream",
     "text": [
      "\r",
      " 63%|███████████████████████████████████████████████████████████████████████████████████                                                 | 85/135 [2:28:19<1:15:13, 90.26s/it]"
     ]
    },
    {
     "name": "stdout",
     "output_type": "stream",
     "text": [
      "DecisionTree has been trained on part-00084-363d1ba3-8ab5-4f96-bc25-4d5862db7cb9-c000.csv\n"
     ]
    },
    {
     "name": "stderr",
     "output_type": "stream",
     "text": [
      "/home/sc/0.DCU/00.Project/ML_based_IDS_for_IoT/project/env/lib/python3.10/site-packages/sklearn/linear_model/_logistic.py:460: ConvergenceWarning: lbfgs failed to converge (status=1):\n",
      "STOP: TOTAL NO. of ITERATIONS REACHED LIMIT.\n",
      "\n",
      "Increase the number of iterations (max_iter) or scale the data as shown in:\n",
      "    https://scikit-learn.org/stable/modules/preprocessing.html\n",
      "Please also refer to the documentation for alternative solver options:\n",
      "    https://scikit-learn.org/stable/modules/linear_model.html#logistic-regression\n",
      "  n_iter_i = _check_optimize_result(\n"
     ]
    },
    {
     "name": "stdout",
     "output_type": "stream",
     "text": [
      "LogisticRegression has been trained on part-00085-363d1ba3-8ab5-4f96-bc25-4d5862db7cb9-c000.csv\n",
      "Perceptron has been trained on part-00085-363d1ba3-8ab5-4f96-bc25-4d5862db7cb9-c000.csv\n",
      "AdaBoost has been trained on part-00085-363d1ba3-8ab5-4f96-bc25-4d5862db7cb9-c000.csv\n",
      "RandomForest has been trained on part-00085-363d1ba3-8ab5-4f96-bc25-4d5862db7cb9-c000.csv\n"
     ]
    },
    {
     "name": "stderr",
     "output_type": "stream",
     "text": [
      "\r",
      " 64%|████████████████████████████████████████████████████████████████████████████████████                                                | 86/135 [2:29:52<1:14:28, 91.19s/it]"
     ]
    },
    {
     "name": "stdout",
     "output_type": "stream",
     "text": [
      "DecisionTree has been trained on part-00085-363d1ba3-8ab5-4f96-bc25-4d5862db7cb9-c000.csv\n"
     ]
    },
    {
     "name": "stderr",
     "output_type": "stream",
     "text": [
      "/home/sc/0.DCU/00.Project/ML_based_IDS_for_IoT/project/env/lib/python3.10/site-packages/sklearn/linear_model/_logistic.py:460: ConvergenceWarning: lbfgs failed to converge (status=1):\n",
      "STOP: TOTAL NO. of ITERATIONS REACHED LIMIT.\n",
      "\n",
      "Increase the number of iterations (max_iter) or scale the data as shown in:\n",
      "    https://scikit-learn.org/stable/modules/preprocessing.html\n",
      "Please also refer to the documentation for alternative solver options:\n",
      "    https://scikit-learn.org/stable/modules/linear_model.html#logistic-regression\n",
      "  n_iter_i = _check_optimize_result(\n"
     ]
    },
    {
     "name": "stdout",
     "output_type": "stream",
     "text": [
      "LogisticRegression has been trained on part-00086-363d1ba3-8ab5-4f96-bc25-4d5862db7cb9-c000.csv\n",
      "Perceptron has been trained on part-00086-363d1ba3-8ab5-4f96-bc25-4d5862db7cb9-c000.csv\n",
      "AdaBoost has been trained on part-00086-363d1ba3-8ab5-4f96-bc25-4d5862db7cb9-c000.csv\n",
      "RandomForest has been trained on part-00086-363d1ba3-8ab5-4f96-bc25-4d5862db7cb9-c000.csv\n"
     ]
    },
    {
     "name": "stderr",
     "output_type": "stream",
     "text": [
      "\r",
      " 64%|█████████████████████████████████████████████████████████████████████████████████████                                               | 87/135 [2:31:16<1:11:20, 89.17s/it]"
     ]
    },
    {
     "name": "stdout",
     "output_type": "stream",
     "text": [
      "DecisionTree has been trained on part-00086-363d1ba3-8ab5-4f96-bc25-4d5862db7cb9-c000.csv\n"
     ]
    },
    {
     "name": "stderr",
     "output_type": "stream",
     "text": [
      "/home/sc/0.DCU/00.Project/ML_based_IDS_for_IoT/project/env/lib/python3.10/site-packages/sklearn/linear_model/_logistic.py:460: ConvergenceWarning: lbfgs failed to converge (status=1):\n",
      "STOP: TOTAL NO. of ITERATIONS REACHED LIMIT.\n",
      "\n",
      "Increase the number of iterations (max_iter) or scale the data as shown in:\n",
      "    https://scikit-learn.org/stable/modules/preprocessing.html\n",
      "Please also refer to the documentation for alternative solver options:\n",
      "    https://scikit-learn.org/stable/modules/linear_model.html#logistic-regression\n",
      "  n_iter_i = _check_optimize_result(\n"
     ]
    },
    {
     "name": "stdout",
     "output_type": "stream",
     "text": [
      "LogisticRegression has been trained on part-00087-363d1ba3-8ab5-4f96-bc25-4d5862db7cb9-c000.csv\n",
      "Perceptron has been trained on part-00087-363d1ba3-8ab5-4f96-bc25-4d5862db7cb9-c000.csv\n",
      "AdaBoost has been trained on part-00087-363d1ba3-8ab5-4f96-bc25-4d5862db7cb9-c000.csv\n",
      "RandomForest has been trained on part-00087-363d1ba3-8ab5-4f96-bc25-4d5862db7cb9-c000.csv\n"
     ]
    },
    {
     "name": "stderr",
     "output_type": "stream",
     "text": [
      "\r",
      " 65%|██████████████████████████████████████████████████████████████████████████████████████                                              | 88/135 [2:32:41<1:08:47, 87.82s/it]"
     ]
    },
    {
     "name": "stdout",
     "output_type": "stream",
     "text": [
      "DecisionTree has been trained on part-00087-363d1ba3-8ab5-4f96-bc25-4d5862db7cb9-c000.csv\n"
     ]
    },
    {
     "name": "stderr",
     "output_type": "stream",
     "text": [
      "/home/sc/0.DCU/00.Project/ML_based_IDS_for_IoT/project/env/lib/python3.10/site-packages/sklearn/linear_model/_logistic.py:460: ConvergenceWarning: lbfgs failed to converge (status=1):\n",
      "STOP: TOTAL NO. of ITERATIONS REACHED LIMIT.\n",
      "\n",
      "Increase the number of iterations (max_iter) or scale the data as shown in:\n",
      "    https://scikit-learn.org/stable/modules/preprocessing.html\n",
      "Please also refer to the documentation for alternative solver options:\n",
      "    https://scikit-learn.org/stable/modules/linear_model.html#logistic-regression\n",
      "  n_iter_i = _check_optimize_result(\n"
     ]
    },
    {
     "name": "stdout",
     "output_type": "stream",
     "text": [
      "LogisticRegression has been trained on part-00088-363d1ba3-8ab5-4f96-bc25-4d5862db7cb9-c000.csv\n",
      "Perceptron has been trained on part-00088-363d1ba3-8ab5-4f96-bc25-4d5862db7cb9-c000.csv\n",
      "AdaBoost has been trained on part-00088-363d1ba3-8ab5-4f96-bc25-4d5862db7cb9-c000.csv\n",
      "RandomForest has been trained on part-00088-363d1ba3-8ab5-4f96-bc25-4d5862db7cb9-c000.csv\n"
     ]
    },
    {
     "name": "stderr",
     "output_type": "stream",
     "text": [
      "\r",
      " 66%|███████████████████████████████████████████████████████████████████████████████████████                                             | 89/135 [2:34:02<1:05:46, 85.80s/it]"
     ]
    },
    {
     "name": "stdout",
     "output_type": "stream",
     "text": [
      "DecisionTree has been trained on part-00088-363d1ba3-8ab5-4f96-bc25-4d5862db7cb9-c000.csv\n"
     ]
    },
    {
     "name": "stderr",
     "output_type": "stream",
     "text": [
      "/home/sc/0.DCU/00.Project/ML_based_IDS_for_IoT/project/env/lib/python3.10/site-packages/sklearn/linear_model/_logistic.py:460: ConvergenceWarning: lbfgs failed to converge (status=1):\n",
      "STOP: TOTAL NO. of ITERATIONS REACHED LIMIT.\n",
      "\n",
      "Increase the number of iterations (max_iter) or scale the data as shown in:\n",
      "    https://scikit-learn.org/stable/modules/preprocessing.html\n",
      "Please also refer to the documentation for alternative solver options:\n",
      "    https://scikit-learn.org/stable/modules/linear_model.html#logistic-regression\n",
      "  n_iter_i = _check_optimize_result(\n"
     ]
    },
    {
     "name": "stdout",
     "output_type": "stream",
     "text": [
      "LogisticRegression has been trained on part-00089-363d1ba3-8ab5-4f96-bc25-4d5862db7cb9-c000.csv\n",
      "Perceptron has been trained on part-00089-363d1ba3-8ab5-4f96-bc25-4d5862db7cb9-c000.csv\n",
      "AdaBoost has been trained on part-00089-363d1ba3-8ab5-4f96-bc25-4d5862db7cb9-c000.csv\n",
      "RandomForest has been trained on part-00089-363d1ba3-8ab5-4f96-bc25-4d5862db7cb9-c000.csv\n"
     ]
    },
    {
     "name": "stderr",
     "output_type": "stream",
     "text": [
      "\r",
      " 67%|████████████████████████████████████████████████████████████████████████████████████████                                            | 90/135 [2:35:28<1:04:21, 85.80s/it]"
     ]
    },
    {
     "name": "stdout",
     "output_type": "stream",
     "text": [
      "DecisionTree has been trained on part-00089-363d1ba3-8ab5-4f96-bc25-4d5862db7cb9-c000.csv\n"
     ]
    },
    {
     "name": "stderr",
     "output_type": "stream",
     "text": [
      "/home/sc/0.DCU/00.Project/ML_based_IDS_for_IoT/project/env/lib/python3.10/site-packages/sklearn/linear_model/_logistic.py:460: ConvergenceWarning: lbfgs failed to converge (status=1):\n",
      "STOP: TOTAL NO. of ITERATIONS REACHED LIMIT.\n",
      "\n",
      "Increase the number of iterations (max_iter) or scale the data as shown in:\n",
      "    https://scikit-learn.org/stable/modules/preprocessing.html\n",
      "Please also refer to the documentation for alternative solver options:\n",
      "    https://scikit-learn.org/stable/modules/linear_model.html#logistic-regression\n",
      "  n_iter_i = _check_optimize_result(\n"
     ]
    },
    {
     "name": "stdout",
     "output_type": "stream",
     "text": [
      "LogisticRegression has been trained on part-00090-363d1ba3-8ab5-4f96-bc25-4d5862db7cb9-c000.csv\n",
      "Perceptron has been trained on part-00090-363d1ba3-8ab5-4f96-bc25-4d5862db7cb9-c000.csv\n",
      "AdaBoost has been trained on part-00090-363d1ba3-8ab5-4f96-bc25-4d5862db7cb9-c000.csv\n",
      "RandomForest has been trained on part-00090-363d1ba3-8ab5-4f96-bc25-4d5862db7cb9-c000.csv\n"
     ]
    },
    {
     "name": "stderr",
     "output_type": "stream",
     "text": [
      "\r",
      " 67%|████████████████████████████████████████████████████████████████████████████████████████▉                                           | 91/135 [2:36:50<1:02:02, 84.59s/it]"
     ]
    },
    {
     "name": "stdout",
     "output_type": "stream",
     "text": [
      "DecisionTree has been trained on part-00090-363d1ba3-8ab5-4f96-bc25-4d5862db7cb9-c000.csv\n"
     ]
    },
    {
     "name": "stderr",
     "output_type": "stream",
     "text": [
      "/home/sc/0.DCU/00.Project/ML_based_IDS_for_IoT/project/env/lib/python3.10/site-packages/sklearn/linear_model/_logistic.py:460: ConvergenceWarning: lbfgs failed to converge (status=1):\n",
      "STOP: TOTAL NO. of ITERATIONS REACHED LIMIT.\n",
      "\n",
      "Increase the number of iterations (max_iter) or scale the data as shown in:\n",
      "    https://scikit-learn.org/stable/modules/preprocessing.html\n",
      "Please also refer to the documentation for alternative solver options:\n",
      "    https://scikit-learn.org/stable/modules/linear_model.html#logistic-regression\n",
      "  n_iter_i = _check_optimize_result(\n"
     ]
    },
    {
     "name": "stdout",
     "output_type": "stream",
     "text": [
      "LogisticRegression has been trained on part-00091-363d1ba3-8ab5-4f96-bc25-4d5862db7cb9-c000.csv\n",
      "Perceptron has been trained on part-00091-363d1ba3-8ab5-4f96-bc25-4d5862db7cb9-c000.csv\n",
      "AdaBoost has been trained on part-00091-363d1ba3-8ab5-4f96-bc25-4d5862db7cb9-c000.csv\n",
      "RandomForest has been trained on part-00091-363d1ba3-8ab5-4f96-bc25-4d5862db7cb9-c000.csv\n"
     ]
    },
    {
     "name": "stderr",
     "output_type": "stream",
     "text": [
      "\r",
      " 68%|█████████████████████████████████████████████████████████████████████████████████████████▉                                          | 92/135 [2:38:30<1:04:03, 89.38s/it]"
     ]
    },
    {
     "name": "stdout",
     "output_type": "stream",
     "text": [
      "DecisionTree has been trained on part-00091-363d1ba3-8ab5-4f96-bc25-4d5862db7cb9-c000.csv\n"
     ]
    },
    {
     "name": "stderr",
     "output_type": "stream",
     "text": [
      "/home/sc/0.DCU/00.Project/ML_based_IDS_for_IoT/project/env/lib/python3.10/site-packages/sklearn/linear_model/_logistic.py:460: ConvergenceWarning: lbfgs failed to converge (status=1):\n",
      "STOP: TOTAL NO. of ITERATIONS REACHED LIMIT.\n",
      "\n",
      "Increase the number of iterations (max_iter) or scale the data as shown in:\n",
      "    https://scikit-learn.org/stable/modules/preprocessing.html\n",
      "Please also refer to the documentation for alternative solver options:\n",
      "    https://scikit-learn.org/stable/modules/linear_model.html#logistic-regression\n",
      "  n_iter_i = _check_optimize_result(\n"
     ]
    },
    {
     "name": "stdout",
     "output_type": "stream",
     "text": [
      "LogisticRegression has been trained on part-00092-363d1ba3-8ab5-4f96-bc25-4d5862db7cb9-c000.csv\n",
      "Perceptron has been trained on part-00092-363d1ba3-8ab5-4f96-bc25-4d5862db7cb9-c000.csv\n",
      "AdaBoost has been trained on part-00092-363d1ba3-8ab5-4f96-bc25-4d5862db7cb9-c000.csv\n",
      "RandomForest has been trained on part-00092-363d1ba3-8ab5-4f96-bc25-4d5862db7cb9-c000.csv\n"
     ]
    },
    {
     "name": "stderr",
     "output_type": "stream",
     "text": [
      "\r",
      " 69%|██████████████████████████████████████████████████████████████████████████████████████████▉                                         | 93/135 [2:39:49<1:00:13, 86.04s/it]"
     ]
    },
    {
     "name": "stdout",
     "output_type": "stream",
     "text": [
      "DecisionTree has been trained on part-00092-363d1ba3-8ab5-4f96-bc25-4d5862db7cb9-c000.csv\n"
     ]
    },
    {
     "name": "stderr",
     "output_type": "stream",
     "text": [
      "/home/sc/0.DCU/00.Project/ML_based_IDS_for_IoT/project/env/lib/python3.10/site-packages/sklearn/linear_model/_logistic.py:460: ConvergenceWarning: lbfgs failed to converge (status=1):\n",
      "STOP: TOTAL NO. of ITERATIONS REACHED LIMIT.\n",
      "\n",
      "Increase the number of iterations (max_iter) or scale the data as shown in:\n",
      "    https://scikit-learn.org/stable/modules/preprocessing.html\n",
      "Please also refer to the documentation for alternative solver options:\n",
      "    https://scikit-learn.org/stable/modules/linear_model.html#logistic-regression\n",
      "  n_iter_i = _check_optimize_result(\n"
     ]
    },
    {
     "name": "stdout",
     "output_type": "stream",
     "text": [
      "LogisticRegression has been trained on part-00093-363d1ba3-8ab5-4f96-bc25-4d5862db7cb9-c000.csv\n",
      "Perceptron has been trained on part-00093-363d1ba3-8ab5-4f96-bc25-4d5862db7cb9-c000.csv\n",
      "AdaBoost has been trained on part-00093-363d1ba3-8ab5-4f96-bc25-4d5862db7cb9-c000.csv\n",
      "RandomForest has been trained on part-00093-363d1ba3-8ab5-4f96-bc25-4d5862db7cb9-c000.csv\n"
     ]
    },
    {
     "name": "stderr",
     "output_type": "stream",
     "text": [
      "\r",
      " 70%|█████████████████████████████████████████████████████████████████████████████████████████████▎                                        | 94/135 [2:41:17<59:11, 86.63s/it]"
     ]
    },
    {
     "name": "stdout",
     "output_type": "stream",
     "text": [
      "DecisionTree has been trained on part-00093-363d1ba3-8ab5-4f96-bc25-4d5862db7cb9-c000.csv\n"
     ]
    },
    {
     "name": "stderr",
     "output_type": "stream",
     "text": [
      "/home/sc/0.DCU/00.Project/ML_based_IDS_for_IoT/project/env/lib/python3.10/site-packages/sklearn/linear_model/_logistic.py:460: ConvergenceWarning: lbfgs failed to converge (status=1):\n",
      "STOP: TOTAL NO. of ITERATIONS REACHED LIMIT.\n",
      "\n",
      "Increase the number of iterations (max_iter) or scale the data as shown in:\n",
      "    https://scikit-learn.org/stable/modules/preprocessing.html\n",
      "Please also refer to the documentation for alternative solver options:\n",
      "    https://scikit-learn.org/stable/modules/linear_model.html#logistic-regression\n",
      "  n_iter_i = _check_optimize_result(\n"
     ]
    },
    {
     "name": "stdout",
     "output_type": "stream",
     "text": [
      "LogisticRegression has been trained on part-00094-363d1ba3-8ab5-4f96-bc25-4d5862db7cb9-c000.csv\n",
      "Perceptron has been trained on part-00094-363d1ba3-8ab5-4f96-bc25-4d5862db7cb9-c000.csv\n",
      "AdaBoost has been trained on part-00094-363d1ba3-8ab5-4f96-bc25-4d5862db7cb9-c000.csv\n",
      "RandomForest has been trained on part-00094-363d1ba3-8ab5-4f96-bc25-4d5862db7cb9-c000.csv\n"
     ]
    },
    {
     "name": "stderr",
     "output_type": "stream",
     "text": [
      "\r",
      " 70%|████████████████████████████████████████████████████████████████████████████████████████████▏                                      | 95/135 [2:43:52<1:11:25, 107.14s/it]"
     ]
    },
    {
     "name": "stdout",
     "output_type": "stream",
     "text": [
      "DecisionTree has been trained on part-00094-363d1ba3-8ab5-4f96-bc25-4d5862db7cb9-c000.csv\n"
     ]
    },
    {
     "name": "stderr",
     "output_type": "stream",
     "text": [
      "/home/sc/0.DCU/00.Project/ML_based_IDS_for_IoT/project/env/lib/python3.10/site-packages/sklearn/linear_model/_logistic.py:460: ConvergenceWarning: lbfgs failed to converge (status=1):\n",
      "STOP: TOTAL NO. of ITERATIONS REACHED LIMIT.\n",
      "\n",
      "Increase the number of iterations (max_iter) or scale the data as shown in:\n",
      "    https://scikit-learn.org/stable/modules/preprocessing.html\n",
      "Please also refer to the documentation for alternative solver options:\n",
      "    https://scikit-learn.org/stable/modules/linear_model.html#logistic-regression\n",
      "  n_iter_i = _check_optimize_result(\n"
     ]
    },
    {
     "name": "stdout",
     "output_type": "stream",
     "text": [
      "LogisticRegression has been trained on part-00095-363d1ba3-8ab5-4f96-bc25-4d5862db7cb9-c000.csv\n",
      "Perceptron has been trained on part-00095-363d1ba3-8ab5-4f96-bc25-4d5862db7cb9-c000.csv\n",
      "AdaBoost has been trained on part-00095-363d1ba3-8ab5-4f96-bc25-4d5862db7cb9-c000.csv\n",
      "RandomForest has been trained on part-00095-363d1ba3-8ab5-4f96-bc25-4d5862db7cb9-c000.csv\n"
     ]
    },
    {
     "name": "stderr",
     "output_type": "stream",
     "text": [
      "\r",
      " 71%|█████████████████████████████████████████████████████████████████████████████████████████████▏                                     | 96/135 [2:46:38<1:21:12, 124.94s/it]"
     ]
    },
    {
     "name": "stdout",
     "output_type": "stream",
     "text": [
      "DecisionTree has been trained on part-00095-363d1ba3-8ab5-4f96-bc25-4d5862db7cb9-c000.csv\n"
     ]
    },
    {
     "name": "stderr",
     "output_type": "stream",
     "text": [
      "/home/sc/0.DCU/00.Project/ML_based_IDS_for_IoT/project/env/lib/python3.10/site-packages/sklearn/linear_model/_logistic.py:460: ConvergenceWarning: lbfgs failed to converge (status=1):\n",
      "STOP: TOTAL NO. of ITERATIONS REACHED LIMIT.\n",
      "\n",
      "Increase the number of iterations (max_iter) or scale the data as shown in:\n",
      "    https://scikit-learn.org/stable/modules/preprocessing.html\n",
      "Please also refer to the documentation for alternative solver options:\n",
      "    https://scikit-learn.org/stable/modules/linear_model.html#logistic-regression\n",
      "  n_iter_i = _check_optimize_result(\n"
     ]
    },
    {
     "name": "stdout",
     "output_type": "stream",
     "text": [
      "LogisticRegression has been trained on part-00096-363d1ba3-8ab5-4f96-bc25-4d5862db7cb9-c000.csv\n",
      "Perceptron has been trained on part-00096-363d1ba3-8ab5-4f96-bc25-4d5862db7cb9-c000.csv\n",
      "AdaBoost has been trained on part-00096-363d1ba3-8ab5-4f96-bc25-4d5862db7cb9-c000.csv\n",
      "RandomForest has been trained on part-00096-363d1ba3-8ab5-4f96-bc25-4d5862db7cb9-c000.csv\n"
     ]
    },
    {
     "name": "stderr",
     "output_type": "stream",
     "text": [
      "\r",
      " 72%|██████████████████████████████████████████████████████████████████████████████████████████████▏                                    | 97/135 [2:48:07<1:12:19, 114.20s/it]"
     ]
    },
    {
     "name": "stdout",
     "output_type": "stream",
     "text": [
      "DecisionTree has been trained on part-00096-363d1ba3-8ab5-4f96-bc25-4d5862db7cb9-c000.csv\n"
     ]
    },
    {
     "name": "stderr",
     "output_type": "stream",
     "text": [
      "/home/sc/0.DCU/00.Project/ML_based_IDS_for_IoT/project/env/lib/python3.10/site-packages/sklearn/linear_model/_logistic.py:460: ConvergenceWarning: lbfgs failed to converge (status=1):\n",
      "STOP: TOTAL NO. of ITERATIONS REACHED LIMIT.\n",
      "\n",
      "Increase the number of iterations (max_iter) or scale the data as shown in:\n",
      "    https://scikit-learn.org/stable/modules/preprocessing.html\n",
      "Please also refer to the documentation for alternative solver options:\n",
      "    https://scikit-learn.org/stable/modules/linear_model.html#logistic-regression\n",
      "  n_iter_i = _check_optimize_result(\n"
     ]
    },
    {
     "name": "stdout",
     "output_type": "stream",
     "text": [
      "LogisticRegression has been trained on part-00097-363d1ba3-8ab5-4f96-bc25-4d5862db7cb9-c000.csv\n",
      "Perceptron has been trained on part-00097-363d1ba3-8ab5-4f96-bc25-4d5862db7cb9-c000.csv\n",
      "AdaBoost has been trained on part-00097-363d1ba3-8ab5-4f96-bc25-4d5862db7cb9-c000.csv\n",
      "RandomForest has been trained on part-00097-363d1ba3-8ab5-4f96-bc25-4d5862db7cb9-c000.csv\n"
     ]
    },
    {
     "name": "stderr",
     "output_type": "stream",
     "text": [
      "\r",
      " 73%|███████████████████████████████████████████████████████████████████████████████████████████████                                    | 98/135 [2:49:39<1:06:13, 107.39s/it]"
     ]
    },
    {
     "name": "stdout",
     "output_type": "stream",
     "text": [
      "DecisionTree has been trained on part-00097-363d1ba3-8ab5-4f96-bc25-4d5862db7cb9-c000.csv\n"
     ]
    },
    {
     "name": "stderr",
     "output_type": "stream",
     "text": [
      "/home/sc/0.DCU/00.Project/ML_based_IDS_for_IoT/project/env/lib/python3.10/site-packages/sklearn/linear_model/_logistic.py:460: ConvergenceWarning: lbfgs failed to converge (status=1):\n",
      "STOP: TOTAL NO. of ITERATIONS REACHED LIMIT.\n",
      "\n",
      "Increase the number of iterations (max_iter) or scale the data as shown in:\n",
      "    https://scikit-learn.org/stable/modules/preprocessing.html\n",
      "Please also refer to the documentation for alternative solver options:\n",
      "    https://scikit-learn.org/stable/modules/linear_model.html#logistic-regression\n",
      "  n_iter_i = _check_optimize_result(\n"
     ]
    },
    {
     "name": "stdout",
     "output_type": "stream",
     "text": [
      "LogisticRegression has been trained on part-00098-363d1ba3-8ab5-4f96-bc25-4d5862db7cb9-c000.csv\n",
      "Perceptron has been trained on part-00098-363d1ba3-8ab5-4f96-bc25-4d5862db7cb9-c000.csv\n",
      "AdaBoost has been trained on part-00098-363d1ba3-8ab5-4f96-bc25-4d5862db7cb9-c000.csv\n",
      "RandomForest has been trained on part-00098-363d1ba3-8ab5-4f96-bc25-4d5862db7cb9-c000.csv\n"
     ]
    },
    {
     "name": "stderr",
     "output_type": "stream",
     "text": [
      "\r",
      " 73%|████████████████████████████████████████████████████████████████████████████████████████████████                                   | 99/135 [2:52:23<1:14:40, 124.45s/it]"
     ]
    },
    {
     "name": "stdout",
     "output_type": "stream",
     "text": [
      "DecisionTree has been trained on part-00098-363d1ba3-8ab5-4f96-bc25-4d5862db7cb9-c000.csv\n"
     ]
    },
    {
     "name": "stderr",
     "output_type": "stream",
     "text": [
      "/home/sc/0.DCU/00.Project/ML_based_IDS_for_IoT/project/env/lib/python3.10/site-packages/sklearn/linear_model/_logistic.py:460: ConvergenceWarning: lbfgs failed to converge (status=1):\n",
      "STOP: TOTAL NO. of ITERATIONS REACHED LIMIT.\n",
      "\n",
      "Increase the number of iterations (max_iter) or scale the data as shown in:\n",
      "    https://scikit-learn.org/stable/modules/preprocessing.html\n",
      "Please also refer to the documentation for alternative solver options:\n",
      "    https://scikit-learn.org/stable/modules/linear_model.html#logistic-regression\n",
      "  n_iter_i = _check_optimize_result(\n"
     ]
    },
    {
     "name": "stdout",
     "output_type": "stream",
     "text": [
      "LogisticRegression has been trained on part-00099-363d1ba3-8ab5-4f96-bc25-4d5862db7cb9-c000.csv\n",
      "Perceptron has been trained on part-00099-363d1ba3-8ab5-4f96-bc25-4d5862db7cb9-c000.csv\n",
      "AdaBoost has been trained on part-00099-363d1ba3-8ab5-4f96-bc25-4d5862db7cb9-c000.csv\n",
      "RandomForest has been trained on part-00099-363d1ba3-8ab5-4f96-bc25-4d5862db7cb9-c000.csv\n"
     ]
    },
    {
     "name": "stderr",
     "output_type": "stream",
     "text": [
      "\r",
      " 74%|████████████████████████████████████████████████████████████████████████████████████████████████▎                                 | 100/135 [2:53:47<1:05:29, 112.27s/it]"
     ]
    },
    {
     "name": "stdout",
     "output_type": "stream",
     "text": [
      "DecisionTree has been trained on part-00099-363d1ba3-8ab5-4f96-bc25-4d5862db7cb9-c000.csv\n"
     ]
    },
    {
     "name": "stderr",
     "output_type": "stream",
     "text": [
      "/home/sc/0.DCU/00.Project/ML_based_IDS_for_IoT/project/env/lib/python3.10/site-packages/sklearn/linear_model/_logistic.py:460: ConvergenceWarning: lbfgs failed to converge (status=1):\n",
      "STOP: TOTAL NO. of ITERATIONS REACHED LIMIT.\n",
      "\n",
      "Increase the number of iterations (max_iter) or scale the data as shown in:\n",
      "    https://scikit-learn.org/stable/modules/preprocessing.html\n",
      "Please also refer to the documentation for alternative solver options:\n",
      "    https://scikit-learn.org/stable/modules/linear_model.html#logistic-regression\n",
      "  n_iter_i = _check_optimize_result(\n"
     ]
    },
    {
     "name": "stdout",
     "output_type": "stream",
     "text": [
      "LogisticRegression has been trained on part-00100-363d1ba3-8ab5-4f96-bc25-4d5862db7cb9-c000.csv\n",
      "Perceptron has been trained on part-00100-363d1ba3-8ab5-4f96-bc25-4d5862db7cb9-c000.csv\n",
      "AdaBoost has been trained on part-00100-363d1ba3-8ab5-4f96-bc25-4d5862db7cb9-c000.csv\n",
      "RandomForest has been trained on part-00100-363d1ba3-8ab5-4f96-bc25-4d5862db7cb9-c000.csv\n"
     ]
    },
    {
     "name": "stderr",
     "output_type": "stream",
     "text": [
      "\r",
      " 75%|██████████████████████████████████████████████████████████████████████████████████████████████████▊                                 | 101/135 [2:55:11<58:48, 103.78s/it]"
     ]
    },
    {
     "name": "stdout",
     "output_type": "stream",
     "text": [
      "DecisionTree has been trained on part-00100-363d1ba3-8ab5-4f96-bc25-4d5862db7cb9-c000.csv\n"
     ]
    },
    {
     "name": "stderr",
     "output_type": "stream",
     "text": [
      "/home/sc/0.DCU/00.Project/ML_based_IDS_for_IoT/project/env/lib/python3.10/site-packages/sklearn/linear_model/_logistic.py:460: ConvergenceWarning: lbfgs failed to converge (status=1):\n",
      "STOP: TOTAL NO. of ITERATIONS REACHED LIMIT.\n",
      "\n",
      "Increase the number of iterations (max_iter) or scale the data as shown in:\n",
      "    https://scikit-learn.org/stable/modules/preprocessing.html\n",
      "Please also refer to the documentation for alternative solver options:\n",
      "    https://scikit-learn.org/stable/modules/linear_model.html#logistic-regression\n",
      "  n_iter_i = _check_optimize_result(\n"
     ]
    },
    {
     "name": "stdout",
     "output_type": "stream",
     "text": [
      "LogisticRegression has been trained on part-00101-363d1ba3-8ab5-4f96-bc25-4d5862db7cb9-c000.csv\n",
      "Perceptron has been trained on part-00101-363d1ba3-8ab5-4f96-bc25-4d5862db7cb9-c000.csv\n",
      "AdaBoost has been trained on part-00101-363d1ba3-8ab5-4f96-bc25-4d5862db7cb9-c000.csv\n",
      "RandomForest has been trained on part-00101-363d1ba3-8ab5-4f96-bc25-4d5862db7cb9-c000.csv\n"
     ]
    },
    {
     "name": "stderr",
     "output_type": "stream",
     "text": [
      "\r",
      " 76%|████████████████████████████████████████████████████████████████████████████████████████████████████▍                                | 102/135 [2:56:36<53:59, 98.15s/it]"
     ]
    },
    {
     "name": "stdout",
     "output_type": "stream",
     "text": [
      "DecisionTree has been trained on part-00101-363d1ba3-8ab5-4f96-bc25-4d5862db7cb9-c000.csv\n"
     ]
    },
    {
     "name": "stderr",
     "output_type": "stream",
     "text": [
      "/home/sc/0.DCU/00.Project/ML_based_IDS_for_IoT/project/env/lib/python3.10/site-packages/sklearn/linear_model/_logistic.py:460: ConvergenceWarning: lbfgs failed to converge (status=1):\n",
      "STOP: TOTAL NO. of ITERATIONS REACHED LIMIT.\n",
      "\n",
      "Increase the number of iterations (max_iter) or scale the data as shown in:\n",
      "    https://scikit-learn.org/stable/modules/preprocessing.html\n",
      "Please also refer to the documentation for alternative solver options:\n",
      "    https://scikit-learn.org/stable/modules/linear_model.html#logistic-regression\n",
      "  n_iter_i = _check_optimize_result(\n"
     ]
    },
    {
     "name": "stdout",
     "output_type": "stream",
     "text": [
      "LogisticRegression has been trained on part-00102-363d1ba3-8ab5-4f96-bc25-4d5862db7cb9-c000.csv\n",
      "Perceptron has been trained on part-00102-363d1ba3-8ab5-4f96-bc25-4d5862db7cb9-c000.csv\n",
      "AdaBoost has been trained on part-00102-363d1ba3-8ab5-4f96-bc25-4d5862db7cb9-c000.csv\n",
      "RandomForest has been trained on part-00102-363d1ba3-8ab5-4f96-bc25-4d5862db7cb9-c000.csv\n"
     ]
    },
    {
     "name": "stderr",
     "output_type": "stream",
     "text": [
      "\r",
      " 76%|█████████████████████████████████████████████████████████████████████████████████████████████████████▍                               | 103/135 [2:58:00<50:09, 94.04s/it]"
     ]
    },
    {
     "name": "stdout",
     "output_type": "stream",
     "text": [
      "DecisionTree has been trained on part-00102-363d1ba3-8ab5-4f96-bc25-4d5862db7cb9-c000.csv\n"
     ]
    },
    {
     "name": "stderr",
     "output_type": "stream",
     "text": [
      "/home/sc/0.DCU/00.Project/ML_based_IDS_for_IoT/project/env/lib/python3.10/site-packages/sklearn/linear_model/_logistic.py:460: ConvergenceWarning: lbfgs failed to converge (status=1):\n",
      "STOP: TOTAL NO. of ITERATIONS REACHED LIMIT.\n",
      "\n",
      "Increase the number of iterations (max_iter) or scale the data as shown in:\n",
      "    https://scikit-learn.org/stable/modules/preprocessing.html\n",
      "Please also refer to the documentation for alternative solver options:\n",
      "    https://scikit-learn.org/stable/modules/linear_model.html#logistic-regression\n",
      "  n_iter_i = _check_optimize_result(\n"
     ]
    },
    {
     "name": "stdout",
     "output_type": "stream",
     "text": [
      "LogisticRegression has been trained on part-00103-363d1ba3-8ab5-4f96-bc25-4d5862db7cb9-c000.csv\n",
      "Perceptron has been trained on part-00103-363d1ba3-8ab5-4f96-bc25-4d5862db7cb9-c000.csv\n",
      "AdaBoost has been trained on part-00103-363d1ba3-8ab5-4f96-bc25-4d5862db7cb9-c000.csv\n",
      "RandomForest has been trained on part-00103-363d1ba3-8ab5-4f96-bc25-4d5862db7cb9-c000.csv\n"
     ]
    },
    {
     "name": "stderr",
     "output_type": "stream",
     "text": [
      "\r",
      " 77%|██████████████████████████████████████████████████████████████████████████████████████████████████████▍                              | 104/135 [2:59:32<48:15, 93.42s/it]"
     ]
    },
    {
     "name": "stdout",
     "output_type": "stream",
     "text": [
      "DecisionTree has been trained on part-00103-363d1ba3-8ab5-4f96-bc25-4d5862db7cb9-c000.csv\n"
     ]
    },
    {
     "name": "stderr",
     "output_type": "stream",
     "text": [
      "/home/sc/0.DCU/00.Project/ML_based_IDS_for_IoT/project/env/lib/python3.10/site-packages/sklearn/linear_model/_logistic.py:460: ConvergenceWarning: lbfgs failed to converge (status=1):\n",
      "STOP: TOTAL NO. of ITERATIONS REACHED LIMIT.\n",
      "\n",
      "Increase the number of iterations (max_iter) or scale the data as shown in:\n",
      "    https://scikit-learn.org/stable/modules/preprocessing.html\n",
      "Please also refer to the documentation for alternative solver options:\n",
      "    https://scikit-learn.org/stable/modules/linear_model.html#logistic-regression\n",
      "  n_iter_i = _check_optimize_result(\n"
     ]
    },
    {
     "name": "stdout",
     "output_type": "stream",
     "text": [
      "LogisticRegression has been trained on part-00104-363d1ba3-8ab5-4f96-bc25-4d5862db7cb9-c000.csv\n",
      "Perceptron has been trained on part-00104-363d1ba3-8ab5-4f96-bc25-4d5862db7cb9-c000.csv\n",
      "AdaBoost has been trained on part-00104-363d1ba3-8ab5-4f96-bc25-4d5862db7cb9-c000.csv\n",
      "RandomForest has been trained on part-00104-363d1ba3-8ab5-4f96-bc25-4d5862db7cb9-c000.csv\n"
     ]
    },
    {
     "name": "stderr",
     "output_type": "stream",
     "text": [
      "\r",
      " 78%|███████████████████████████████████████████████████████████████████████████████████████████████████████▍                             | 105/135 [3:00:47<43:57, 87.92s/it]"
     ]
    },
    {
     "name": "stdout",
     "output_type": "stream",
     "text": [
      "DecisionTree has been trained on part-00104-363d1ba3-8ab5-4f96-bc25-4d5862db7cb9-c000.csv\n"
     ]
    },
    {
     "name": "stderr",
     "output_type": "stream",
     "text": [
      "/home/sc/0.DCU/00.Project/ML_based_IDS_for_IoT/project/env/lib/python3.10/site-packages/sklearn/linear_model/_logistic.py:460: ConvergenceWarning: lbfgs failed to converge (status=1):\n",
      "STOP: TOTAL NO. of ITERATIONS REACHED LIMIT.\n",
      "\n",
      "Increase the number of iterations (max_iter) or scale the data as shown in:\n",
      "    https://scikit-learn.org/stable/modules/preprocessing.html\n",
      "Please also refer to the documentation for alternative solver options:\n",
      "    https://scikit-learn.org/stable/modules/linear_model.html#logistic-regression\n",
      "  n_iter_i = _check_optimize_result(\n"
     ]
    },
    {
     "name": "stdout",
     "output_type": "stream",
     "text": [
      "LogisticRegression has been trained on part-00105-363d1ba3-8ab5-4f96-bc25-4d5862db7cb9-c000.csv\n",
      "Perceptron has been trained on part-00105-363d1ba3-8ab5-4f96-bc25-4d5862db7cb9-c000.csv\n",
      "AdaBoost has been trained on part-00105-363d1ba3-8ab5-4f96-bc25-4d5862db7cb9-c000.csv\n",
      "RandomForest has been trained on part-00105-363d1ba3-8ab5-4f96-bc25-4d5862db7cb9-c000.csv\n"
     ]
    },
    {
     "name": "stderr",
     "output_type": "stream",
     "text": [
      "\r",
      " 79%|████████████████████████████████████████████████████████████████████████████████████████████████████████▍                            | 106/135 [3:02:05<40:59, 84.80s/it]"
     ]
    },
    {
     "name": "stdout",
     "output_type": "stream",
     "text": [
      "DecisionTree has been trained on part-00105-363d1ba3-8ab5-4f96-bc25-4d5862db7cb9-c000.csv\n"
     ]
    },
    {
     "name": "stderr",
     "output_type": "stream",
     "text": [
      "/home/sc/0.DCU/00.Project/ML_based_IDS_for_IoT/project/env/lib/python3.10/site-packages/sklearn/linear_model/_logistic.py:460: ConvergenceWarning: lbfgs failed to converge (status=1):\n",
      "STOP: TOTAL NO. of ITERATIONS REACHED LIMIT.\n",
      "\n",
      "Increase the number of iterations (max_iter) or scale the data as shown in:\n",
      "    https://scikit-learn.org/stable/modules/preprocessing.html\n",
      "Please also refer to the documentation for alternative solver options:\n",
      "    https://scikit-learn.org/stable/modules/linear_model.html#logistic-regression\n",
      "  n_iter_i = _check_optimize_result(\n"
     ]
    },
    {
     "name": "stdout",
     "output_type": "stream",
     "text": [
      "LogisticRegression has been trained on part-00106-363d1ba3-8ab5-4f96-bc25-4d5862db7cb9-c000.csv\n",
      "Perceptron has been trained on part-00106-363d1ba3-8ab5-4f96-bc25-4d5862db7cb9-c000.csv\n",
      "AdaBoost has been trained on part-00106-363d1ba3-8ab5-4f96-bc25-4d5862db7cb9-c000.csv\n",
      "RandomForest has been trained on part-00106-363d1ba3-8ab5-4f96-bc25-4d5862db7cb9-c000.csv\n"
     ]
    },
    {
     "name": "stderr",
     "output_type": "stream",
     "text": [
      "\r",
      " 79%|█████████████████████████████████████████████████████████████████████████████████████████████████████████▍                           | 107/135 [3:03:32<39:53, 85.48s/it]"
     ]
    },
    {
     "name": "stdout",
     "output_type": "stream",
     "text": [
      "DecisionTree has been trained on part-00106-363d1ba3-8ab5-4f96-bc25-4d5862db7cb9-c000.csv\n"
     ]
    },
    {
     "name": "stderr",
     "output_type": "stream",
     "text": [
      "/home/sc/0.DCU/00.Project/ML_based_IDS_for_IoT/project/env/lib/python3.10/site-packages/sklearn/linear_model/_logistic.py:460: ConvergenceWarning: lbfgs failed to converge (status=1):\n",
      "STOP: TOTAL NO. of ITERATIONS REACHED LIMIT.\n",
      "\n",
      "Increase the number of iterations (max_iter) or scale the data as shown in:\n",
      "    https://scikit-learn.org/stable/modules/preprocessing.html\n",
      "Please also refer to the documentation for alternative solver options:\n",
      "    https://scikit-learn.org/stable/modules/linear_model.html#logistic-regression\n",
      "  n_iter_i = _check_optimize_result(\n"
     ]
    },
    {
     "name": "stdout",
     "output_type": "stream",
     "text": [
      "LogisticRegression has been trained on part-00107-363d1ba3-8ab5-4f96-bc25-4d5862db7cb9-c000.csv\n",
      "Perceptron has been trained on part-00107-363d1ba3-8ab5-4f96-bc25-4d5862db7cb9-c000.csv\n",
      "AdaBoost has been trained on part-00107-363d1ba3-8ab5-4f96-bc25-4d5862db7cb9-c000.csv\n",
      "RandomForest has been trained on part-00107-363d1ba3-8ab5-4f96-bc25-4d5862db7cb9-c000.csv\n"
     ]
    },
    {
     "name": "stderr",
     "output_type": "stream",
     "text": [
      "\r",
      " 80%|██████████████████████████████████████████████████████████████████████████████████████████████████████████▍                          | 108/135 [3:04:49<37:19, 82.96s/it]"
     ]
    },
    {
     "name": "stdout",
     "output_type": "stream",
     "text": [
      "DecisionTree has been trained on part-00107-363d1ba3-8ab5-4f96-bc25-4d5862db7cb9-c000.csv\n"
     ]
    },
    {
     "name": "stderr",
     "output_type": "stream",
     "text": [
      "/home/sc/0.DCU/00.Project/ML_based_IDS_for_IoT/project/env/lib/python3.10/site-packages/sklearn/linear_model/_logistic.py:460: ConvergenceWarning: lbfgs failed to converge (status=1):\n",
      "STOP: TOTAL NO. of ITERATIONS REACHED LIMIT.\n",
      "\n",
      "Increase the number of iterations (max_iter) or scale the data as shown in:\n",
      "    https://scikit-learn.org/stable/modules/preprocessing.html\n",
      "Please also refer to the documentation for alternative solver options:\n",
      "    https://scikit-learn.org/stable/modules/linear_model.html#logistic-regression\n",
      "  n_iter_i = _check_optimize_result(\n"
     ]
    },
    {
     "name": "stdout",
     "output_type": "stream",
     "text": [
      "LogisticRegression has been trained on part-00108-363d1ba3-8ab5-4f96-bc25-4d5862db7cb9-c000.csv\n",
      "Perceptron has been trained on part-00108-363d1ba3-8ab5-4f96-bc25-4d5862db7cb9-c000.csv\n",
      "AdaBoost has been trained on part-00108-363d1ba3-8ab5-4f96-bc25-4d5862db7cb9-c000.csv\n",
      "RandomForest has been trained on part-00108-363d1ba3-8ab5-4f96-bc25-4d5862db7cb9-c000.csv\n"
     ]
    },
    {
     "name": "stderr",
     "output_type": "stream",
     "text": [
      "\r",
      " 81%|███████████████████████████████████████████████████████████████████████████████████████████████████████████▍                         | 109/135 [3:06:09<35:35, 82.13s/it]"
     ]
    },
    {
     "name": "stdout",
     "output_type": "stream",
     "text": [
      "DecisionTree has been trained on part-00108-363d1ba3-8ab5-4f96-bc25-4d5862db7cb9-c000.csv\n"
     ]
    },
    {
     "name": "stderr",
     "output_type": "stream",
     "text": [
      "/home/sc/0.DCU/00.Project/ML_based_IDS_for_IoT/project/env/lib/python3.10/site-packages/sklearn/linear_model/_logistic.py:460: ConvergenceWarning: lbfgs failed to converge (status=1):\n",
      "STOP: TOTAL NO. of ITERATIONS REACHED LIMIT.\n",
      "\n",
      "Increase the number of iterations (max_iter) or scale the data as shown in:\n",
      "    https://scikit-learn.org/stable/modules/preprocessing.html\n",
      "Please also refer to the documentation for alternative solver options:\n",
      "    https://scikit-learn.org/stable/modules/linear_model.html#logistic-regression\n",
      "  n_iter_i = _check_optimize_result(\n"
     ]
    },
    {
     "name": "stdout",
     "output_type": "stream",
     "text": [
      "LogisticRegression has been trained on part-00109-363d1ba3-8ab5-4f96-bc25-4d5862db7cb9-c000.csv\n",
      "Perceptron has been trained on part-00109-363d1ba3-8ab5-4f96-bc25-4d5862db7cb9-c000.csv\n"
     ]
    }
   ],
   "source": [
    "# Define the models\n",
    "ML_models = [\n",
    "    LogisticRegression(n_jobs=-1),\n",
    "    Perceptron(),\n",
    "    AdaBoostClassifier(),\n",
    "    RandomForestClassifier(n_jobs=-1),\n",
    "    DecisionTreeClassifier()\n",
    "]\n",
    "\n",
    "# Define the model names\n",
    "ML_names = [\n",
    "    \"LogisticRegression\",\n",
    "    \"Perceptron\",\n",
    "    \"AdaBoost\",\n",
    "    \"RandomForest\",\n",
    "    \"DecisionTree\"\n",
    "]\n",
    "\n",
    "# Train each model on each dataset\n",
    "for train_set in tqdm(training_sets):\n",
    "    d = pd.read_csv(DATASET_DIRECTORY + train_set)\n",
    "    d[X_columns] = scaler.transform(d[X_columns])\n",
    "\n",
    "    # Convert the labels using the dictionary\n",
    "    new_y = [dict_7classes[k] for k in d[y_column]]\n",
    "    d[y_column] = new_y\n",
    "\n",
    "    # Train the models\n",
    "    for i, model in enumerate(ML_models):\n",
    "        model.fit(d[X_columns], d[y_column])\n",
    "        print(f\"{ML_names[i]} has been trained on {train_set}\")\n",
    "        # Save the trained model\n",
    "        filename = f\"model_7classes_{ML_names[i]}.sav\"\n",
    "        joblib.dump(model, filename)\n",
    "    del d\n"
   ]
  },
  {
   "cell_type": "code",
   "execution_count": null,
   "id": "6b69c509-7666-45bd-9e11-52ecec0df8a8",
   "metadata": {
    "id": "6b69c509-7666-45bd-9e11-52ecec0df8a8"
   },
   "outputs": [],
   "source": [
    "y_test = []\n",
    "preds = {i:[] for i in range(len(ML_models))}\n",
    "for test_set in tqdm(test_sets):\n",
    "    d_test = pd.read_csv(DATASET_DIRECTORY + test_set)\n",
    "    d_test[X_columns] = scaler.transform(d_test[X_columns])\n",
    "    new_y = [dict_7classes[k] for k in d_test[y_column]]\n",
    "    d_test[y_column] = new_y\n",
    "\n",
    "    y_test += list(d_test[y_column].values)\n",
    "\n",
    "    for i in range(len(ML_models)):\n",
    "        model = ML_models[i]\n",
    "        y_pred = list(model.predict(d_test[X_columns]))\n",
    "        preds[i] = preds[i] + y_pred\n",
    "    # Saving the predictions and y_test using joblib\n",
    "    joblib.dump(preds, \"predictions_data_7classes.sav\")\n",
    "    joblib.dump(y_test, \"y_test_7classes.sav\")"
   ]
  },
  {
   "cell_type": "code",
   "execution_count": null,
   "id": "40cef205",
   "metadata": {},
   "outputs": [],
   "source": [
    "# Initialize the metrics_store_7classes dictionary here\n",
    "metrics_store_7classes = {}\n",
    "\n",
    "for k, v in preds.items():\n",
    "    y_pred = v\n",
    "    accuracy = accuracy_score(y_test, y_pred)\n",
    "    recall = recall_score(y_test, y_pred, average='macro')\n",
    "    precision = precision_score(y_test, y_pred, average='macro')\n",
    "    f1 = f1_score(y_test, y_pred, average='macro')\n",
    "    \n",
    "    metrics_store_7classes[ML_names[k]] = {\n",
    "        \"accuracy\": accuracy,\n",
    "        \"recall\": recall,\n",
    "        \"precision\": precision,\n",
    "        \"f1\": f1\n",
    "    }\n",
    "    \n",
    "    print('accuracy_score: ', accuracy)\n",
    "    print('recall_score: ', recall)\n",
    "    print('precision_score: ', precision)\n",
    "    print('f1_score: ', f1)\n",
    "    print()\n",
    "    print()\n",
    "    print()\n",
    "    \n",
    "# Save the metrics_store using joblib\n",
    "joblib.dump(metrics_store_7classes, \"model_metrics_7_classes.sav\")"
   ]
  },
  {
   "cell_type": "code",
   "execution_count": null,
   "id": "CWPmWdJu80QF",
   "metadata": {
    "id": "CWPmWdJu80QF"
   },
   "outputs": [],
   "source": [
    "# Lists to store the evaluation metrics for each model\n",
    "accuracies = []\n",
    "recalls = []\n",
    "precisions = []\n",
    "f1_scores = []\n",
    "\n",
    "# Calculate and store metrics for each model\n",
    "for k, v in preds.items():\n",
    "    y_pred = v\n",
    "    accuracies.append(accuracy_score(y_test, y_pred))\n",
    "    recalls.append(recall_score(y_test, y_pred, average='macro'))\n",
    "    precisions.append(precision_score(y_test, y_pred, average='macro'))\n",
    "    f1_scores.append(f1_score(y_test, y_pred, average='macro'))\n",
    "\n",
    "# Set up the matplotlib figure\n",
    "plt.figure(figsize=(15, 12))\n",
    "\n",
    "# Define metrics and their names for plotting\n",
    "metrics = [accuracies, recalls, precisions, f1_scores]\n",
    "metric_names = ['Accuracy', 'Recall', 'Precision', 'F1-Score']\n",
    "\n",
    "# Plot each metric\n",
    "for i, (metric, metric_name) in enumerate(zip(metrics, metric_names)):\n",
    "    plt.subplot(2, 2, i+1)\n",
    "    sns.barplot(x=ML_names, y=metric, palette=\"viridis\")\n",
    "    plt.title(f'Model Comparison: {metric_name}')\n",
    "    plt.ylabel(metric_name)\n",
    "    plt.xticks(rotation=45)\n",
    "    plt.ylim(0, 1)  # Since all metrics are in the range [0, 1]\n",
    "\n",
    "plt.tight_layout()\n",
    "plt.show()\n"
   ]
  }
 ],
 "metadata": {
  "accelerator": "GPU",
  "colab": {
   "gpuType": "T4",
   "provenance": []
  },
  "kernelspec": {
   "display_name": "Python 3 (ipykernel)",
   "language": "python",
   "name": "python3"
  },
  "language_info": {
   "codemirror_mode": {
    "name": "ipython",
    "version": 3
   },
   "file_extension": ".py",
   "mimetype": "text/x-python",
   "name": "python",
   "nbconvert_exporter": "python",
   "pygments_lexer": "ipython3",
   "version": "3.10.12"
  }
 },
 "nbformat": 4,
 "nbformat_minor": 5
}
